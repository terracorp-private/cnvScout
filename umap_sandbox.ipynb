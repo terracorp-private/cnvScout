{
 "cells": [
  {
   "cell_type": "code",
   "execution_count": 401,
   "id": "e78795a5-9c86-4c63-b27b-fc8e2e0d0c5c",
   "metadata": {
    "tags": []
   },
   "outputs": [
    {
     "name": "stdout",
     "output_type": "stream",
     "text": [
      "                    ID       0       1       2       3       4       5  \\\n",
      "0  206054070144_R04C01 -0.0005 -0.2910 -0.3570 -0.2575 -0.2340 -0.2310   \n",
      "1  207343240049_R06C01 -0.2295 -0.6250 -0.5750 -0.7095 -0.5675 -0.5005   \n",
      "2  203273200231_R06C01 -0.0690 -0.1290 -0.1820 -0.1045 -0.0695 -0.3825   \n",
      "3  205041760139_R08C01  0.0270 -0.0515 -0.1315 -0.1105 -0.1370 -0.1645   \n",
      "4  205617070063_R08C01  0.0245 -0.0935 -0.1435 -0.0830 -0.1730 -0.0805   \n",
      "\n",
      "        6       7       8  ...    3872    3873    3874    3875   3876    3877  \\\n",
      "0 -0.3085 -0.3390 -0.2685  ... -0.4200 -0.3695 -0.2485 -0.2060 -0.098 -0.0920   \n",
      "1 -0.7450 -0.7650 -0.6125  ... -0.2540 -0.1175 -0.2230 -0.0920 -1.992 -5.8405   \n",
      "2 -0.3995 -0.4300 -0.3430  ... -0.1885 -0.2180 -0.0930 -0.2615 -0.203 -0.0620   \n",
      "3 -0.2510 -0.1075 -0.0395  ... -0.2740 -0.2605 -0.1490 -0.0820  0.127 -0.0175   \n",
      "4 -0.1280 -0.1295 -0.1435  ... -0.1870 -0.1040 -0.2045 -0.1000 -1.060  0.5380   \n",
      "\n",
      "     3878    3879    3880   entity  \n",
      "0 -0.4775 -0.1800 -0.3150  gbm_cnv  \n",
      "1 -5.3025 -5.6100 -5.0085  gbm_cnv  \n",
      "2 -0.4030 -0.1295 -0.4290  gbm_cnv  \n",
      "3 -0.2815 -0.1775 -0.4930  gbm_cnv  \n",
      "4 -2.1190 -2.8660 -2.7070  gbm_cnv  \n",
      "\n",
      "[5 rows x 3883 columns]\n",
      "                    ID       0       1       2       3       4       5  \\\n",
      "0  206054070144_R04C01 -0.0005 -0.2910 -0.3570 -0.2575 -0.2340 -0.2310   \n",
      "1  207343240049_R06C01 -0.2295 -0.6250 -0.5750 -0.7095 -0.5675 -0.5005   \n",
      "2  203273200231_R06C01 -0.0690 -0.1290 -0.1820 -0.1045 -0.0695 -0.3825   \n",
      "3  205041760139_R08C01  0.0270 -0.0515 -0.1315 -0.1105 -0.1370 -0.1645   \n",
      "4  205617070063_R08C01  0.0245 -0.0935 -0.1435 -0.0830 -0.1730 -0.0805   \n",
      "\n",
      "        6       7       8  ...    3872    3873    3874    3875   3876    3877  \\\n",
      "0 -0.3085 -0.3390 -0.2685  ... -0.4200 -0.3695 -0.2485 -0.2060 -0.098 -0.0920   \n",
      "1 -0.7450 -0.7650 -0.6125  ... -0.2540 -0.1175 -0.2230 -0.0920 -1.992 -5.8405   \n",
      "2 -0.3995 -0.4300 -0.3430  ... -0.1885 -0.2180 -0.0930 -0.2615 -0.203 -0.0620   \n",
      "3 -0.2510 -0.1075 -0.0395  ... -0.2740 -0.2605 -0.1490 -0.0820  0.127 -0.0175   \n",
      "4 -0.1280 -0.1295 -0.1435  ... -0.1870 -0.1040 -0.2045 -0.1000 -1.060  0.5380   \n",
      "\n",
      "     3878    3879    3880   entity  \n",
      "0 -0.4775 -0.1800 -0.3150  gbm_cnv  \n",
      "1 -5.3025 -5.6100 -5.0085  gbm_cnv  \n",
      "2 -0.4030 -0.1295 -0.4290  gbm_cnv  \n",
      "3 -0.2815 -0.1775 -0.4930  gbm_cnv  \n",
      "4 -2.1190 -2.8660 -2.7070  gbm_cnv  \n",
      "\n",
      "[5 rows x 3883 columns]\n"
     ]
    }
   ],
   "source": [
    "import pandas as pd\n",
    "import numpy as np\n",
    "\n",
    "\n",
    "# preprocessing and dimensionality reduction\n",
    "from sklearn.preprocessing import StandardScaler\n",
    "from sklearn.preprocessing import MinMaxScaler\n",
    "from sklearn.preprocessing import RobustScaler\n",
    "from sklearn.preprocessing import QuantileTransformer\n",
    "from sklearn.decomposition import PCA\n",
    "import pywt\n",
    "from umap import UMAP\n",
    "\n",
    "\n",
    "# visualization\n",
    "import matplotlib.pyplot as plt\n",
    "import plotly.express as px\n",
    "\n",
    "\n",
    "AMPLITUDE_THRESHOLD = 0.06\n",
    "\n",
    "\n",
    "df = pd.read_csv(\"/home/alpha/programs/python_files/datasets/cnv_and_mut/entities_transformed.csv\")\n",
    "\n",
    "# basic filtering. Rename Unnamded 0 with ID. Dropp chromosomes Y and X\n",
    "# df = df.dropna(axis=1)\n",
    "df = df.fillna(0)\n",
    "# df = df.rename(columns={\"Unnamed: 0\": \"ID\"})\n",
    "df = df[df.columns.drop(list(df.filter(regex='[YX]')))]\n",
    "\n",
    "print(df.head())\n",
    "# Make it amplitude agnostic (experimental) \n",
    "def stupid_custom_filter(df=df,AMPLITUDE_THRESHOLD=AMPLITUDE_THRESHOLD):\n",
    "    # temporary drop non digit columns\n",
    "    helper_df = df[[\"entity\",\"ID\"]]\n",
    "    df = df.drop(columns=[\"entity\",\"ID\"])\n",
    "    # standardize and normalize data\n",
    "    df = (df-df.mean())/df.std()\n",
    "    df = 2*((df-df.min())/(df.max()-df.min()))-1\n",
    "    # apply the filter\n",
    "    df[df < -AMPLITUDE_THRESHOLD] = -1\n",
    "    df[df > AMPLITUDE_THRESHOLD] = 1\n",
    "    df[(df <= AMPLITUDE_THRESHOLD) & (df >= -AMPLITUDE_THRESHOLD)] = 0\n",
    "    # append the dropped columns on the filtered dataframe\n",
    "    df[\"ID\"] = helper_df[\"ID\"]\n",
    "    df[\"entity\"] = helper_df[\"entity\"]\n",
    "    \n",
    "    return df\n",
    "\n",
    "# df = stupid_custom_filter()\n",
    "\n",
    "\n",
    "\n",
    "# Make features\n",
    "features = df.columns.tolist()\n",
    "features.remove(\"entity\")\n",
    "features.remove(\"ID\")\n",
    "\n",
    "print(df.head())"
   ]
  },
  {
   "cell_type": "markdown",
   "id": "b68accec-2346-4833-91b8-07986eb5eeb0",
   "metadata": {},
   "source": [
    "## Standardization and denoising using PCA"
   ]
  },
  {
   "cell_type": "code",
   "execution_count": 415,
   "id": "f0756a9e-b3a7-4521-a175-0b74999de9ff",
   "metadata": {},
   "outputs": [
    {
     "name": "stdin",
     "output_type": "stream",
     "text": [
      "Scaler to use (default StandardSclaer) : \n",
      " 1.StandardScaler \n",
      " 2.MinMaxScaler \n",
      " 3.RobustScaler \n",
      " 4.QuantileTransformer \n",
      " 2\n"
     ]
    },
    {
     "name": "stdout",
     "output_type": "stream",
     "text": [
      "[0.12349591 0.08921282 0.05243522 0.05020078 0.04072185 0.03262758] 0.04959214089809945\n"
     ]
    },
    {
     "data": {
      "text/plain": [
       "Text(0, 0.5, 'variance %')"
      ]
     },
     "execution_count": 415,
     "metadata": {},
     "output_type": "execute_result"
    },
    {
     "data": {
      "image/png": "[encoded data removed]",
      "text/plain": [
       "<Figure size 1008x432 with 1 Axes>"
      ]
     },
     "metadata": {
      "needs_background": "light"
     },
     "output_type": "display_data"
    }
   ],
   "source": [
    "PRINCIPAL_COMPONENTS = 6\n",
    "\n",
    "# make targets\n",
    "x = df.loc[:,features].values\n",
    "y_entity = df.loc[:,\"entity\"].values\n",
    "y_id = df.loc[:,\"ID\"].values\n",
    "x = 2*((x-x.min())/(x.max()-x.min()))-1\n",
    "\n",
    "# test transform and preprocessing methods\n",
    "def custom_preprocess(method=1,x=x):\n",
    "    if method == 2:\n",
    "        scaler = MinMaxScaler()\n",
    "    elif method == 3:\n",
    "        scaler = RobustScaler(quantile_range=(0.1,0.9))\n",
    "    elif method == 4:\n",
    "        scaler = QuantileTransformer(n_quantiles=10, random_state=0, output_distribution=\"normal\")\n",
    "    else:\n",
    "        print(\"using default StandardScaler\")\n",
    "        scaler = StandardScaler()\n",
    "    return scaler.fit_transform(x)\n",
    "    \n",
    "method = int(input(\"Scaler to use (default StandardSclaer) : \\n 1.StandardScaler \\n 2.MinMaxScaler \\n 3.RobustScaler \\n 4.QuantileTransformer \\n\"))\n",
    "x = custom_preprocess(method,x)\n",
    "\n",
    "\n",
    "# PCA\n",
    "pca_denoize = PCA(n_components=PRINCIPAL_COMPONENTS)\n",
    "denoize = pca_denoize.fit_transform(x)\n",
    "# print components which contribute to variance the most\n",
    "variance = pca_denoize.explained_variance_ratio_\n",
    "noise = pca_denoize.noise_variance_\n",
    "print(variance, noise)\n",
    "\n",
    "plt.figure(figsize=[14,6])\n",
    "plt.bar(range(variance.shape[0]),variance)\n",
    "plt.xlabel('PCA features')\n",
    "plt.ylabel('variance %')\n"
   ]
  },
  {
   "cell_type": "code",
   "execution_count": 418,
   "id": "75080adb-4ad3-4081-8ac9-f8aa124535db",
   "metadata": {},
   "outputs": [
    {
     "data": {
      "application/vnd.plotly.v1+json": {
       "config": {
        "plotlyServerURL": "https://plot.ly"
       },
       "data": [
        {
         "hovertemplate": "entity=gbm_cnv<br>0=%{x}<br>1=%{y}<extra></extra>",
         "legendgroup": "gbm_cnv",
         "marker": {
          "color": "#636efa",
          "opacity": 1,
          "symbol": "circle"
         },
         "mode": "markers",
         "name": "gbm_cnv",
         "orientation": "v",
         "showlegend": true,
         "type": "scatter",
         "x": [
          16.079526901245117,
          12.918641090393066,
          15.009661674499512,
          10.712035179138184,
          14.830355644226074,
          9.150983810424805,
          9.351265907287598,
          16.413808822631836,
          16.28951072692871,
          16.721202850341797,
          13.311479568481445,
          13.759061813354492,
          12.899699211120605,
          10.870492935180664,
          13.405076026916504,
          11.04035758972168,
          12.682408332824707,
          12.584280014038086,
          12.032501220703125,
          12.264355659484863,
          13.315940856933594,
          16.30084800720215,
          9.960519790649414,
          10.391632080078125,
          12.254982948303223,
          12.2377290725708,
          16.32103729248047,
          11.81295108795166,
          15.464756965637207,
          3.2994544506073,
          16.213300704956055,
          10.740117073059082,
          9.772068977355957,
          12.889594078063965,
          17.08820343017578,
          11.42803955078125,
          10.744503021240234,
          9.956888198852539,
          11.840271949768066,
          17.111318588256836,
          13.450540542602539,
          12.210898399353027,
          10.376837730407715,
          10.869009017944336,
          10.658843994140625,
          13.984896659851074,
          8.812018394470215,
          12.142644882202148,
          15.492777824401855,
          17.384611129760742,
          15.611218452453613,
          16.182077407836914,
          14.505565643310547,
          10.407671928405762,
          16.02913475036621,
          15.81432819366455,
          11.795330047607422,
          9.928815841674805,
          11.09852123260498,
          17.346900939941406,
          7.794266223907471,
          10.114048957824707,
          13.24176025390625,
          12.541619300842285,
          12.133256912231445,
          13.197988510131836,
          17.446414947509766,
          9.148083686828613,
          15.30101203918457,
          13.495173454284668,
          12.27241325378418,
          14.782302856445312,
          10.858967781066895,
          2.549454927444458,
          9.979573249816895,
          13.02983570098877,
          14.371468544006348,
          10.471630096435547,
          15.102770805358887,
          10.104549407958984,
          10.910749435424805,
          9.007120132446289,
          13.278124809265137,
          13.568982124328613,
          10.480554580688477,
          16.691425323486328,
          10.846940994262695,
          10.688874244689941,
          9.553690910339355,
          11.01693058013916,
          16.096424102783203,
          17.160926818847656,
          13.364054679870605,
          10.61408519744873,
          14.158632278442383,
          15.587692260742188,
          11.841885566711426,
          13.81416130065918,
          7.1367878913879395,
          14.867924690246582,
          11.827826499938965,
          13.76506233215332,
          10.603716850280762,
          10.974930763244629,
          10.220022201538086,
          11.165379524230957,
          13.010215759277344,
          8.91391372680664,
          15.350301742553711,
          11.051955223083496,
          12.924819946289062,
          10.566591262817383,
          9.633849143981934,
          11.710145950317383,
          9.398133277893066,
          10.444454193115234,
          11.175230026245117,
          16.284263610839844,
          9.373187065124512,
          12.113920211791992,
          14.680440902709961,
          10.960124015808105,
          16.03812599182129,
          10.603622436523438,
          13.964112281799316,
          10.523359298706055,
          10.55565357208252,
          14.690200805664062,
          10.982954025268555,
          9.21746826171875,
          12.095782279968262,
          11.436687469482422,
          12.73032283782959,
          10.212445259094238,
          15.664716720581055,
          12.167108535766602,
          10.003678321838379,
          9.644594192504883,
          10.241813659667969,
          16.132064819335938,
          16.694581985473633,
          13.292635917663574,
          16.048336029052734,
          10.815732955932617,
          10.819598197937012,
          10.71235466003418,
          10.74974536895752,
          9.122967720031738,
          9.539793014526367,
          11.062585830688477,
          13.332576751708984,
          10.803987503051758,
          16.270151138305664,
          11.898757934570312,
          10.662293434143066,
          10.603194236755371,
          13.8028564453125,
          8.876360893249512,
          10.406609535217285,
          12.265267372131348,
          8.893243789672852,
          9.46723461151123,
          12.136628150939941,
          11.862676620483398,
          17.27127456665039,
          12.026583671569824,
          17.458629608154297,
          12.77518081665039,
          10.554341316223145,
          15.210590362548828,
          14.882315635681152,
          12.180766105651855,
          11.741292953491211,
          12.29692554473877,
          9.348345756530762,
          11.825023651123047,
          13.554990768432617,
          15.108211517333984,
          8.278467178344727,
          13.433520317077637,
          11.150640487670898,
          10.575114250183105,
          3.1739933490753174,
          12.313837051391602,
          16.102622985839844,
          10.040201187133789,
          14.946207046508789,
          9.170172691345215,
          16.25377655029297,
          10.232004165649414,
          10.091981887817383,
          12.281338691711426,
          15.037938117980957,
          7.556248664855957,
          13.390239715576172,
          15.429498672485352,
          17.398937225341797,
          13.22396469116211,
          15.547673225402832,
          13.69268798828125,
          16.034381866455078,
          15.684272766113281,
          13.44105052947998,
          17.090909957885742
         ],
         "xaxis": "x",
         "y": [
          2.3465073108673096,
          0.8605783581733704,
          1.7571358680725098,
          5.714269161224365,
          1.6469944715499878,
          12.735998153686523,
          6.965160369873047,
          2.2246463298797607,
          3.478940725326538,
          2.738691806793213,
          1.4976648092269897,
          1.6654924154281616,
          1.691033124923706,
          2.2845895290374756,
          2.4665822982788086,
          1.7784913778305054,
          1.156107783317566,
          1.5278140306472778,
          3.161428928375244,
          3.296311855316162,
          2.3391671180725098,
          3.3840761184692383,
          5.923134803771973,
          3.0738372802734375,
          0.6840516328811646,
          1.1671721935272217,
          3.3430521488189697,
          3.0932652950286865,
          1.592674732208252,
          2.420612096786499,
          3.3031728267669678,
          2.1895174980163574,
          11.413864135742188,
          0.8820627331733704,
          2.582374334335327,
          1.6848078966140747,
          7.343122959136963,
          11.987196922302246,
          4.922837734222412,
          2.357215404510498,
          2.5366523265838623,
          0.7989172339439392,
          6.478635787963867,
          7.0100226402282715,
          6.671503067016602,
          2.077523946762085,
          12.33275318145752,
          0.7340542674064636,
          2.0721988677978516,
          2.4709646701812744,
          1.8205866813659668,
          2.0833966732025146,
          2.208097457885742,
          9.809877395629883,
          2.387390375137329,
          2.0354325771331787,
          4.952718257904053,
          12.023626327514648,
          1.7171355485916138,
          2.4689929485321045,
          7.7347731590271,
          3.2491586208343506,
          2.536188840866089,
          0.6889634132385254,
          0.7642347812652588,
          2.242238998413086,
          2.4561309814453125,
          7.883172035217285,
          1.603065013885498,
          1.7115367650985718,
          1.0705806016921997,
          2.0819644927978516,
          3.011735677719116,
          2.075740337371826,
          3.66743540763855,
          0.9166274666786194,
          2.320598840713501,
          2.1356253623962402,
          2.2038540840148926,
          7.467585563659668,
          2.46050763130188,
          3.993896961212158,
          1.4372529983520508,
          0.8707576394081116,
          2.1028060913085938,
          2.684133291244507,
          6.9762163162231445,
          2.932945489883423,
          6.689920425415039,
          5.656429290771484,
          2.749305486679077,
          2.565307855606079,
          1.9243906736373901,
          11.715930938720703,
          2.3708550930023193,
          1.6995527744293213,
          2.6419734954833984,
          1.7237181663513184,
          4.0044145584106445,
          1.775607943534851,
          4.930814266204834,
          2.005746603012085,
          5.127161502838135,
          5.327557563781738,
          5.582730293273926,
          1.7624437808990479,
          1.6577110290527344,
          12.679088592529297,
          1.7388180494308472,
          1.7881604433059692,
          0.8377765417098999,
          7.5193305015563965,
          6.619775295257568,
          2.8410208225250244,
          12.555096626281738,
          2.0823769569396973,
          2.9360837936401367,
          2.2786741256713867,
          7.476933002471924,
          0.6965100169181824,
          1.72626793384552,
          2.6182844638824463,
          2.3845956325531006,
          2.4297397136688232,
          1.7588627338409424,
          2.4903182983398438,
          2.3892316818237305,
          2.194915294647217,
          3.0252325534820557,
          3.8182144165039062,
          4.716048240661621,
          5.303287982940674,
          1.2342761754989624,
          6.0056047439575195,
          1.8171707391738892,
          1.2968686819076538,
          3.4843130111694336,
          4.793968200683594,
          7.817667484283447,
          3.407855987548828,
          2.242710590362549,
          2.6879665851593018,
          2.261899709701538,
          2.4695746898651123,
          5.903017997741699,
          6.85594367980957,
          7.561336994171143,
          12.728764533996582,
          6.7165141105651855,
          1.7713074684143066,
          1.4906189441680908,
          3.046454906463623,
          3.369189500808716,
          3.5846381187438965,
          2.832120656967163,
          9.937585830688477,
          1.9062217473983765,
          12.613268852233887,
          8.531105995178223,
          0.6904606223106384,
          12.495153427124023,
          8.008574485778809,
          0.8887909650802612,
          4.900790214538574,
          2.4436380863189697,
          4.778316020965576,
          2.4650514125823975,
          0.7965298891067505,
          9.963554382324219,
          1.499853491783142,
          2.077592134475708,
          1.3550206422805786,
          4.963407516479492,
          1.408271074295044,
          7.479033946990967,
          3.1248557567596436,
          2.4478495121002197,
          1.4547394514083862,
          7.275914669036865,
          2.533707857131958,
          2.990375280380249,
          6.684620380401611,
          2.380152702331543,
          1.1506668329238892,
          2.078794479370117,
          5.463347911834717,
          2.1111598014831543,
          6.861985206604004,
          2.287790298461914,
          3.2124106884002686,
          12.685295104980469,
          1.3733301162719727,
          1.7938239574432373,
          10.539142608642578,
          1.5584392547607422,
          1.9798192977905273,
          2.4505646228790283,
          2.3864355087280273,
          1.9503391981124878,
          2.3069844245910645,
          1.995004415512085,
          1.7366942167282104,
          1.9418668746948242,
          2.569568157196045
         ],
         "yaxis": "y"
        },
        {
         "hovertemplate": "entity=k27_cnv<br>0=%{x}<br>1=%{y}<extra></extra>",
         "legendgroup": "k27_cnv",
         "marker": {
          "color": "#EF553B",
          "opacity": 1,
          "symbol": "circle"
         },
         "mode": "markers",
         "name": "k27_cnv",
         "orientation": "v",
         "showlegend": true,
         "type": "scatter",
         "x": [
          7.572047710418701,
          10.563528060913086,
          7.240878582000732,
          9.072834014892578,
          7.7458648681640625,
          8.944555282592773,
          10.649845123291016,
          10.96982479095459,
          9.58604621887207,
          8.99094009399414,
          9.7879056930542,
          9.015584945678711,
          14.098710060119629,
          9.510732650756836,
          10.335284233093262,
          10.641505241394043,
          10.209342002868652,
          10.859376907348633,
          11.836030006408691,
          10.31616497039795,
          9.181288719177246,
          10.48466968536377,
          9.608511924743652,
          10.643320083618164,
          9.027752876281738,
          10.332464218139648,
          8.883742332458496,
          7.260313510894775,
          7.959445476531982,
          9.69467830657959,
          13.878876686096191,
          9.165149688720703,
          9.119454383850098,
          9.894241333007812
         ],
         "xaxis": "x",
         "y": [
          7.406305313110352,
          6.122917175292969,
          8.741634368896484,
          4.153334617614746,
          8.121057510375977,
          10.452506065368652,
          10.008096694946289,
          5.724582195281982,
          12.269649505615234,
          10.196012496948242,
          11.461160659790039,
          4.0422258377075195,
          2.4887802600860596,
          6.906618595123291,
          6.3127288818359375,
          6.1513671875,
          5.668125152587891,
          6.950536727905273,
          4.935169696807861,
          11.655765533447266,
          6.948610782623291,
          11.590237617492676,
          4.901993274688721,
          5.809825420379639,
          4.10218620300293,
          5.555632591247559,
          10.009015083312988,
          10.008440971374512,
          7.692893028259277,
          5.0002007484436035,
          2.4571073055267334,
          7.866044521331787,
          6.776116371154785,
          12.185067176818848
         ],
         "yaxis": "y"
        },
        {
         "hovertemplate": "entity=mng_cnv<br>0=%{x}<br>1=%{y}<extra></extra>",
         "legendgroup": "mng_cnv",
         "marker": {
          "color": "#00cc96",
          "opacity": 1,
          "symbol": "circle"
         },
         "mode": "markers",
         "name": "mng_cnv",
         "orientation": "v",
         "showlegend": true,
         "type": "scatter",
         "x": [
          3.156100273132324,
          5.3657917976379395,
          2.3987627029418945,
          7.040241241455078,
          10.209066390991211,
          2.321049690246582,
          11.339913368225098,
          2.4375784397125244,
          2.34146785736084,
          5.603716850280762,
          4.871382236480713,
          6.788670063018799,
          4.092007160186768,
          13.803338050842285,
          4.815983295440674,
          7.470757484436035,
          5.372003555297852,
          12.813960075378418,
          11.023075103759766,
          4.867288112640381,
          3.211200475692749,
          5.4291672706604,
          5.724350929260254,
          4.716220855712891,
          2.402688980102539,
          4.7815260887146,
          6.701077461242676,
          4.553248882293701,
          4.680894374847412,
          4.652371406555176,
          2.366615056991577,
          4.321545124053955,
          5.100608825683594,
          4.510396957397461,
          9.93791389465332,
          5.364245414733887,
          13.822070121765137,
          5.224169731140137,
          13.821048736572266,
          10.249956130981445,
          2.5847694873809814,
          11.237170219421387,
          5.872310638427734,
          2.671865701675415,
          13.815149307250977,
          4.485678195953369,
          4.632892608642578,
          7.236212730407715,
          11.210978507995605,
          13.113112449645996,
          7.00005578994751,
          4.60146951675415,
          11.587240219116211,
          3.4045069217681885,
          5.297976016998291,
          6.323116779327393,
          5.435042858123779,
          4.5335211753845215,
          2.125351667404175,
          11.669388771057129,
          11.67397403717041,
          2.3329265117645264,
          12.821632385253906,
          6.841987609863281,
          2.6535141468048096,
          4.878724575042725,
          11.198626518249512,
          4.789392948150635,
          10.173511505126953,
          2.753168821334839,
          5.727377414703369,
          2.493166446685791,
          3.847539186477661,
          4.696324348449707,
          4.606803894042969,
          13.91672134399414,
          5.571798324584961,
          5.356281757354736,
          6.611765384674072,
          2.4337661266326904,
          5.366339206695557,
          10.143815994262695,
          6.6830878257751465,
          6.742763996124268,
          4.071189880371094,
          7.53644323348999,
          10.253009796142578,
          4.171034812927246,
          10.65130615234375,
          4.685369968414307,
          10.250435829162598,
          4.400145530700684,
          4.645626544952393,
          12.823159217834473,
          10.874832153320312,
          13.803385734558105,
          2.428853750228882,
          6.541134834289551,
          11.608105659484863,
          2.629753828048706,
          2.498661518096924,
          5.413346767425537,
          2.381800413131714,
          5.413435935974121,
          12.895010948181152,
          3.374300241470337,
          2.175142526626587,
          6.556672096252441,
          7.256039619445801,
          10.18426513671875,
          6.827580451965332,
          2.2572522163391113,
          5.046896934509277,
          12.261289596557617,
          2.7321531772613525,
          3.4735488891601562,
          7.407144069671631,
          4.091427803039551,
          4.50585412979126,
          10.662103652954102,
          7.0735182762146,
          4.885117053985596,
          2.1273205280303955,
          5.352811336517334,
          6.8146514892578125,
          3.5365853309631348,
          4.991332530975342,
          4.2398505210876465,
          4.506832599639893,
          12.85504150390625,
          6.700026988983154,
          12.827664375305176,
          4.757247447967529,
          16.558889389038086,
          2.274976968765259,
          2.152055501937866,
          6.266437530517578,
          4.207457065582275,
          5.23305606842041,
          5.133914947509766,
          7.922056674957275,
          4.957726001739502,
          6.974258899688721,
          4.767429828643799,
          13.787585258483887,
          11.291708946228027,
          13.94807243347168,
          16.379228591918945,
          11.11661434173584,
          2.602334499359131,
          3.9214742183685303,
          7.150817394256592,
          4.8494133949279785,
          5.446434020996094,
          7.9332756996154785,
          4.972561359405518,
          13.576667785644531,
          7.2170000076293945,
          12.000290870666504,
          9.401082992553711,
          4.833089351654053,
          2.468240261077881,
          6.702819347381592,
          4.791474342346191,
          13.778182983398438,
          5.088317394256592,
          6.6649394035339355
         ],
         "xaxis": "x",
         "y": [
          2.098479747772217,
          3.040018320083618,
          2.1953907012939453,
          3.99269437789917,
          11.778615951538086,
          2.366217613220215,
          12.205018997192383,
          2.1817069053649902,
          2.541311025619507,
          11.435103416442871,
          4.982362747192383,
          10.777639389038086,
          4.3371663093566895,
          10.348210334777832,
          4.939298629760742,
          8.922647476196289,
          2.3573896884918213,
          10.19360065460205,
          10.05677318572998,
          4.943031311035156,
          2.246953248977661,
          11.496553421020508,
          11.2900972366333,
          2.638765335083008,
          1.4675054550170898,
          4.921458721160889,
          11.531007766723633,
          2.0259132385253906,
          4.824793338775635,
          4.890807151794434,
          1.4419687986373901,
          4.369782447814941,
          11.661230087280273,
          1.9632446765899658,
          11.87870979309082,
          4.017113208770752,
          10.386528015136719,
          2.893815040588379,
          10.39943790435791,
          12.872945785522461,
          1.990583062171936,
          12.247004508972168,
          4.020043849945068,
          1.6958460807800293,
          10.356496810913086,
          4.673691749572754,
          4.792379856109619,
          8.731245040893555,
          11.685452461242676,
          10.390681266784668,
          9.406352043151855,
          4.753015995025635,
          10.735382080078125,
          2.3054087162017822,
          3.9843931198120117,
          11.154078483581543,
          2.467489004135132,
          4.179000377655029,
          3.054969310760498,
          10.643197059631348,
          10.651354789733887,
          2.403984785079956,
          10.193180084228516,
          11.614877700805664,
          1.9395935535430908,
          2.1728298664093018,
          11.661853790283203,
          2.448800563812256,
          12.858926773071289,
          1.7372856140136719,
          11.300368309020996,
          2.4903197288513184,
          4.208512306213379,
          4.832151889801025,
          3.9127092361450195,
          10.496700286865234,
          3.99916410446167,
          3.051332950592041,
          11.565927505493164,
          1.4739269018173218,
          3.058828830718994,
          12.859983444213867,
          10.34743595123291,
          9.899140357971191,
          4.375414848327637,
          9.548120498657227,
          12.599969863891602,
          4.42852258682251,
          11.93511962890625,
          2.0129544734954834,
          10.7753267288208,
          4.686861991882324,
          4.789482116699219,
          10.227560043334961,
          10.81896686553955,
          10.374156951904297,
          2.4026153087615967,
          11.490384101867676,
          10.728466987609863,
          1.8266302347183228,
          1.5261356830596924,
          2.4081523418426514,
          1.4927061796188354,
          2.962876319885254,
          10.155468940734863,
          2.2429797649383545,
          3.1206393241882324,
          10.235836029052734,
          8.717090606689453,
          12.420101165771484,
          9.083878517150879,
          3.196923017501831,
          2.171100616455078,
          10.303215026855469,
          1.773783802986145,
          2.2589099407196045,
          9.856621742248535,
          4.398141860961914,
          1.956183671951294,
          9.364251136779785,
          9.878565788269043,
          2.0515358448028564,
          3.006674289703369,
          3.010258674621582,
          11.505111694335938,
          2.3138976097106934,
          2.821227788925171,
          4.187587261199951,
          1.9654695987701416,
          10.231817245483398,
          11.594999313354492,
          10.199727058410645,
          2.173794746398926,
          2.1710352897644043,
          3.192530393600464,
          3.0495331287384033,
          11.2816743850708,
          4.5297346115112305,
          4.064644813537598,
          11.630656242370605,
          6.974665641784668,
          3.2516770362854004,
          10.934629440307617,
          2.3015804290771484,
          10.325318336486816,
          12.253673553466797,
          10.546919822692871,
          2.254626989364624,
          10.641589164733887,
          1.9282774925231934,
          4.296200275421143,
          9.998730659484863,
          2.966837167739868,
          2.413116216659546,
          6.936086177825928,
          2.0995686054229736,
          10.351985931396484,
          8.861207008361816,
          10.374053955078125,
          12.362380027770996,
          2.177178144454956,
          2.42372989654541,
          11.581934928894043,
          4.874128341674805,
          10.3556489944458,
          11.665366172790527,
          10.014071464538574
         ],
         "yaxis": "y"
        },
        {
         "hovertemplate": "entity=oligo_cnv<br>0=%{x}<br>1=%{y}<extra></extra>",
         "legendgroup": "oligo_cnv",
         "marker": {
          "color": "#ab63fa",
          "opacity": 1,
          "symbol": "circle"
         },
         "mode": "markers",
         "name": "oligo_cnv",
         "orientation": "v",
         "showlegend": true,
         "type": "scatter",
         "x": [
          0.7176873683929443,
          0.1846805065870285,
          0.2684769928455353,
          0.2812223732471466,
          0.8942939043045044,
          0.44209277629852295,
          0.6791481375694275,
          1.2470263242721558,
          0.25666365027427673,
          0.6878625750541687,
          0.5862520933151245,
          0.11639038473367691,
          0.9071140885353088,
          0.4200475513935089,
          1.2811875343322754,
          0.2824564576148987,
          0.8420872092247009,
          0.35993435978889465,
          2.9690213203430176,
          0.7467284798622131,
          0.6896128058433533,
          0.8569793701171875,
          1.324500560760498,
          0.9505442380905151,
          0.254253089427948,
          0.5918157696723938,
          0.23565228283405304,
          0.6201131939888,
          0.6349799633026123,
          0.4714667499065399,
          0.39830079674720764,
          0.3246958553791046,
          0.7728226780891418,
          0.6809984445571899,
          0.17144636809825897,
          0.8487218022346497,
          1.304314136505127,
          0.5616592764854431,
          0.7587264776229858,
          0.38160985708236694,
          0.19128967821598053,
          0.9208561778068542,
          0.5574398040771484,
          0.4498497247695923,
          0.9073719382286072,
          0.4655267298221588,
          0.1878741830587387
         ],
         "xaxis": "x",
         "y": [
          11.21805191040039,
          9.45589828491211,
          9.07925796508789,
          9.307330131530762,
          11.389363288879395,
          9.950493812561035,
          11.007774353027344,
          10.34980583190918,
          9.532323837280273,
          11.22753620147705,
          10.449440956115723,
          9.540220260620117,
          11.418423652648926,
          8.797593116760254,
          10.339186668395996,
          9.678040504455566,
          10.316861152648926,
          8.841055870056152,
          2.3015596866607666,
          11.261091232299805,
          9.31734561920166,
          10.369887351989746,
          10.360843658447266,
          11.421703338623047,
          9.08677864074707,
          9.330748558044434,
          9.280111312866211,
          11.024152755737305,
          10.902969360351562,
          10.754415512084961,
          8.856542587280273,
          9.383284568786621,
          11.330860137939453,
          10.20785140991211,
          9.504485130310059,
          11.35466194152832,
          10.344903945922852,
          10.921245574951172,
          11.237519264221191,
          8.814936637878418,
          9.52607250213623,
          11.425065040588379,
          10.685052871704102,
          10.756335258483887,
          10.320433616638184,
          10.690853118896484,
          9.397297859191895
         ],
         "yaxis": "y"
        },
        {
         "hovertemplate": "entity=pxa_cnv<br>0=%{x}<br>1=%{y}<extra></extra>",
         "legendgroup": "pxa_cnv",
         "marker": {
          "color": "#FFA15A",
          "opacity": 1,
          "symbol": "circle"
         },
         "mode": "markers",
         "name": "pxa_cnv",
         "orientation": "v",
         "showlegend": true,
         "type": "scatter",
         "x": [
          15.991268157958984,
          10.679235458374023,
          13.051447868347168,
          7.8169450759887695,
          7.033374309539795,
          9.016026496887207,
          16.292348861694336,
          7.944350719451904,
          13.745654106140137,
          10.38554573059082,
          7.669069766998291,
          7.1188554763793945,
          10.003531455993652,
          6.7630815505981445,
          11.155485153198242,
          13.601634979248047,
          7.673863887786865,
          9.890097618103027,
          9.569137573242188,
          13.137070655822754,
          6.44592809677124,
          11.00786018371582,
          11.060300827026367,
          10.705522537231445,
          10.3954439163208,
          7.809772968292236,
          10.82876968383789,
          9.010315895080566,
          9.033805847167969,
          10.110274314880371,
          8.531115531921387,
          10.522597312927246,
          15.02139663696289,
          11.715974807739258,
          7.110136985778809,
          9.24863338470459,
          9.289473533630371,
          10.674641609191895,
          7.470879554748535,
          10.272546768188477,
          12.170477867126465,
          11.167165756225586,
          11.22111988067627,
          15.966156005859375,
          7.021508693695068
         ],
         "xaxis": "x",
         "y": [
          2.4284186363220215,
          11.603804588317871,
          2.835326910018921,
          12.028390884399414,
          9.23033618927002,
          10.333131790161133,
          3.3817737102508545,
          12.131091117858887,
          10.285581588745117,
          8.92052936553955,
          11.8489351272583,
          9.938394546508789,
          12.282075881958008,
          10.106210708618164,
          11.742578506469727,
          2.078552484512329,
          11.85849666595459,
          12.406689643859863,
          12.316130638122559,
          10.343148231506348,
          11.041213035583496,
          10.755072593688965,
          12.36769962310791,
          9.870055198669434,
          9.766439437866211,
          12.004733085632324,
          12.231241226196289,
          12.474750518798828,
          12.41844654083252,
          11.623416900634766,
          12.058038711547852,
          9.869058609008789,
          2.149752378463745,
          3.0896663665771484,
          10.767257690429688,
          12.409346580505371,
          12.399194717407227,
          9.903585433959961,
          11.535754203796387,
          9.482333183288574,
          3.0456786155700684,
          12.337237358093262,
          3.0264649391174316,
          2.416987895965576,
          9.70960807800293
         ],
         "yaxis": "y"
        },
        {
         "hovertemplate": "entity=astroLow_cnv<br>0=%{x}<br>1=%{y}<extra></extra>",
         "legendgroup": "astroLow_cnv",
         "marker": {
          "color": "#19d3f3",
          "opacity": 1,
          "symbol": "circle"
         },
         "mode": "markers",
         "name": "astroLow_cnv",
         "orientation": "v",
         "showlegend": true,
         "type": "scatter",
         "x": [
          12.954699516296387,
          7.275351047515869,
          9.933445930480957,
          7.323536396026611,
          7.829543590545654,
          9.426472663879395,
          7.634524345397949,
          10.103080749511719,
          6.617657661437988,
          8.527235984802246,
          6.854764461517334,
          8.624939918518066,
          10.454238891601562,
          7.748027324676514,
          6.59431266784668,
          9.11579418182373,
          7.334318161010742,
          10.526671409606934,
          9.309532165527344,
          7.338273048400879,
          9.591551780700684,
          10.380760192871094,
          10.274275779724121,
          8.977550506591797,
          7.195598602294922,
          9.031987190246582,
          9.130101203918457,
          7.998814105987549,
          6.912808418273926,
          10.262617111206055,
          7.982702255249023,
          7.805275917053223,
          10.634836196899414,
          10.395448684692383,
          7.780152797698975,
          10.615470886230469,
          8.999187469482422,
          10.937626838684082,
          10.592385292053223,
          7.261911869049072
         ],
         "xaxis": "x",
         "y": [
          10.23147201538086,
          10.676857948303223,
          5.399743556976318,
          10.658548355102539,
          12.03378677368164,
          4.578705787658691,
          8.197155952453613,
          8.629597663879395,
          10.303767204284668,
          9.796428680419922,
          10.872401237487793,
          9.762948036193848,
          7.657371997833252,
          11.935958862304688,
          10.241581916809082,
          4.244048118591309,
          10.6094388961792,
          7.61915397644043,
          7.902339458465576,
          8.799778938293457,
          12.40515422821045,
          9.011960983276367,
          8.727672576904297,
          9.932430267333984,
          8.693777084350586,
          7.736468315124512,
          7.8034772872924805,
          10.91472053527832,
          10.794865608215332,
          12.755590438842773,
          6.883823394775391,
          8.003751754760742,
          9.340638160705566,
          8.176855087280273,
          10.861029624938965,
          9.89599323272705,
          9.911458015441895,
          12.133853912353516,
          10.002206802368164,
          8.745871543884277
         ],
         "yaxis": "y"
        },
        {
         "hovertemplate": "entity=astroHigh_cnv<br>0=%{x}<br>1=%{y}<extra></extra>",
         "legendgroup": "astroHigh_cnv",
         "marker": {
          "color": "#FF6692",
          "opacity": 1,
          "symbol": "circle"
         },
         "mode": "markers",
         "name": "astroHigh_cnv",
         "orientation": "v",
         "showlegend": true,
         "type": "scatter",
         "x": [
          9.292316436767578,
          10.67093276977539,
          8.235337257385254,
          11.15868854522705,
          9.405537605285645,
          8.178290367126465,
          10.873438835144043,
          10.883970260620117,
          7.805413246154785,
          9.8217134475708,
          10.096465110778809,
          8.143500328063965,
          10.590578079223633,
          8.690972328186035,
          8.96756362915039,
          9.249977111816406,
          7.254493236541748,
          7.1838250160217285,
          11.547752380371094,
          9.627204895019531,
          10.066109657287598,
          10.116666793823242,
          9.238008499145508,
          9.034236907958984,
          13.42672348022461,
          13.168580055236816,
          10.755592346191406,
          10.822090148925781,
          9.784407615661621,
          6.820501804351807,
          8.257763862609863,
          9.011698722839355,
          10.030179977416992,
          9.137064933776855,
          7.877268314361572,
          10.611404418945312,
          10.008063316345215,
          10.656962394714355,
          7.164380073547363,
          10.836352348327637,
          9.11319351196289,
          10.571525573730469,
          0.37691470980644226,
          10.002264022827148
         ],
         "xaxis": "x",
         "y": [
          7.842141151428223,
          5.76953649520874,
          7.047659397125244,
          5.162205696105957,
          7.94124698638916,
          7.063636302947998,
          7.0290727615356445,
          7.083881855010986,
          7.786240100860596,
          5.254714012145996,
          5.7655487060546875,
          7.44624137878418,
          6.684677600860596,
          9.848413467407227,
          7.551694393157959,
          7.628185272216797,
          10.279993057250977,
          4.028102874755859,
          10.753031730651855,
          4.7188825607299805,
          5.866633892059326,
          8.577563285827637,
          4.426097393035889,
          7.675015926361084,
          2.4636595249176025,
          2.7644896507263184,
          5.917246341705322,
          7.237921237945557,
          8.32159423828125,
          9.91035270690918,
          7.1938605308532715,
          7.665946960449219,
          5.448121070861816,
          6.794611930847168,
          7.820603847503662,
          5.762058258056641,
          8.528870582580566,
          5.152842998504639,
          4.0100789070129395,
          5.889464378356934,
          4.213054656982422,
          6.745336532592773,
          8.71217155456543,
          11.857711791992188
         ],
         "yaxis": "y"
        },
        {
         "hovertemplate": "entity=pa_cnv<br>0=%{x}<br>1=%{y}<extra></extra>",
         "legendgroup": "pa_cnv",
         "marker": {
          "color": "#B6E880",
          "opacity": 1,
          "symbol": "circle"
         },
         "mode": "markers",
         "name": "pa_cnv",
         "orientation": "v",
         "showlegend": true,
         "type": "scatter",
         "x": [
          10.538369178771973,
          10.459931373596191,
          10.445806503295898,
          5.746361255645752,
          11.149123191833496,
          5.0536789894104,
          5.96617317199707,
          6.198739528656006,
          10.553229331970215,
          7.1533660888671875,
          10.106518745422363,
          7.0345458984375,
          10.331966400146484,
          10.326302528381348,
          10.5526762008667,
          5.767879009246826,
          5.814110279083252,
          15.66666030883789,
          6.721440315246582,
          7.147302627563477,
          10.014068603515625,
          10.226319313049316,
          10.650740623474121,
          11.148548126220703,
          7.806945323944092,
          7.0013251304626465,
          10.534943580627441,
          5.76193380355835,
          10.472966194152832
         ],
         "xaxis": "x",
         "y": [
          12.13084888458252,
          12.631291389465332,
          12.767414093017578,
          11.265179634094238,
          12.253689765930176,
          11.69858455657959,
          11.295721054077148,
          11.211421012878418,
          12.666482925415039,
          9.891203880310059,
          12.055315017700195,
          10.113016128540039,
          9.82891845703125,
          11.75540828704834,
          11.620637893676758,
          11.130328178405762,
          10.997042655944824,
          1.744096040725708,
          10.274726867675781,
          11.218087196350098,
          11.241378784179688,
          11.777200698852539,
          12.516201972961426,
          11.767606735229492,
          12.02248477935791,
          10.790419578552246,
          12.258131980895996,
          11.194767951965332,
          11.638825416564941
         ],
         "yaxis": "y"
        }
       ],
       "layout": {
        "height": 800,
        "legend": {
         "title": {
          "text": "entity"
         },
         "tracegroupgap": 0
        },
        "template": {
         "data": {
          "bar": [
           {
            "error_x": {
             "color": "#2a3f5f"
            },
            "error_y": {
             "color": "#2a3f5f"
            },
            "marker": {
             "line": {
              "color": "#E5ECF6",
              "width": 0.5
             },
             "pattern": {
              "fillmode": "overlay",
              "size": 10,
              "solidity": 0.2
             }
            },
            "type": "bar"
           }
          ],
          "barpolar": [
           {
            "marker": {
             "line": {
              "color": "#E5ECF6",
              "width": 0.5
             },
             "pattern": {
              "fillmode": "overlay",
              "size": 10,
              "solidity": 0.2
             }
            },
            "type": "barpolar"
           }
          ],
          "carpet": [
           {
            "aaxis": {
             "endlinecolor": "#2a3f5f",
             "gridcolor": "white",
             "linecolor": "white",
             "minorgridcolor": "white",
             "startlinecolor": "#2a3f5f"
            },
            "baxis": {
             "endlinecolor": "#2a3f5f",
             "gridcolor": "white",
             "linecolor": "white",
             "minorgridcolor": "white",
             "startlinecolor": "#2a3f5f"
            },
            "type": "carpet"
           }
          ],
          "choropleth": [
           {
            "colorbar": {
             "outlinewidth": 0,
             "ticks": ""
            },
            "type": "choropleth"
           }
          ],
          "contour": [
           {
            "colorbar": {
             "outlinewidth": 0,
             "ticks": ""
            },
            "colorscale": [
             [
              0,
              "#0d0887"
             ],
             [
              0.1111111111111111,
              "#46039f"
             ],
             [
              0.2222222222222222,
              "#7201a8"
             ],
             [
              0.3333333333333333,
              "#9c179e"
             ],
             [
              0.4444444444444444,
              "#bd3786"
             ],
             [
              0.5555555555555556,
              "#d8576b"
             ],
             [
              0.6666666666666666,
              "#ed7953"
             ],
             [
              0.7777777777777778,
              "#fb9f3a"
             ],
             [
              0.8888888888888888,
              "#fdca26"
             ],
             [
              1,
              "#f0f921"
             ]
            ],
            "type": "contour"
           }
          ],
          "contourcarpet": [
           {
            "colorbar": {
             "outlinewidth": 0,
             "ticks": ""
            },
            "type": "contourcarpet"
           }
          ],
          "heatmap": [
           {
            "colorbar": {
             "outlinewidth": 0,
             "ticks": ""
            },
            "colorscale": [
             [
              0,
              "#0d0887"
             ],
             [
              0.1111111111111111,
              "#46039f"
             ],
             [
              0.2222222222222222,
              "#7201a8"
             ],
             [
              0.3333333333333333,
              "#9c179e"
             ],
             [
              0.4444444444444444,
              "#bd3786"
             ],
             [
              0.5555555555555556,
              "#d8576b"
             ],
             [
              0.6666666666666666,
              "#ed7953"
             ],
             [
              0.7777777777777778,
              "#fb9f3a"
             ],
             [
              0.8888888888888888,
              "#fdca26"
             ],
             [
              1,
              "#f0f921"
             ]
            ],
            "type": "heatmap"
           }
          ],
          "heatmapgl": [
           {
            "colorbar": {
             "outlinewidth": 0,
             "ticks": ""
            },
            "colorscale": [
             [
              0,
              "#0d0887"
             ],
             [
              0.1111111111111111,
              "#46039f"
             ],
             [
              0.2222222222222222,
              "#7201a8"
             ],
             [
              0.3333333333333333,
              "#9c179e"
             ],
             [
              0.4444444444444444,
              "#bd3786"
             ],
             [
              0.5555555555555556,
              "#d8576b"
             ],
             [
              0.6666666666666666,
              "#ed7953"
             ],
             [
              0.7777777777777778,
              "#fb9f3a"
             ],
             [
              0.8888888888888888,
              "#fdca26"
             ],
             [
              1,
              "#f0f921"
             ]
            ],
            "type": "heatmapgl"
           }
          ],
          "histogram": [
           {
            "marker": {
             "pattern": {
              "fillmode": "overlay",
              "size": 10,
              "solidity": 0.2
             }
            },
            "type": "histogram"
           }
          ],
          "histogram2d": [
           {
            "colorbar": {
             "outlinewidth": 0,
             "ticks": ""
            },
            "colorscale": [
             [
              0,
              "#0d0887"
             ],
             [
              0.1111111111111111,
              "#46039f"
             ],
             [
              0.2222222222222222,
              "#7201a8"
             ],
             [
              0.3333333333333333,
              "#9c179e"
             ],
             [
              0.4444444444444444,
              "#bd3786"
             ],
             [
              0.5555555555555556,
              "#d8576b"
             ],
             [
              0.6666666666666666,
              "#ed7953"
             ],
             [
              0.7777777777777778,
              "#fb9f3a"
             ],
             [
              0.8888888888888888,
              "#fdca26"
             ],
             [
              1,
              "#f0f921"
             ]
            ],
            "type": "histogram2d"
           }
          ],
          "histogram2dcontour": [
           {
            "colorbar": {
             "outlinewidth": 0,
             "ticks": ""
            },
            "colorscale": [
             [
              0,
              "#0d0887"
             ],
             [
              0.1111111111111111,
              "#46039f"
             ],
             [
              0.2222222222222222,
              "#7201a8"
             ],
             [
              0.3333333333333333,
              "#9c179e"
             ],
             [
              0.4444444444444444,
              "#bd3786"
             ],
             [
              0.5555555555555556,
              "#d8576b"
             ],
             [
              0.6666666666666666,
              "#ed7953"
             ],
             [
              0.7777777777777778,
              "#fb9f3a"
             ],
             [
              0.8888888888888888,
              "#fdca26"
             ],
             [
              1,
              "#f0f921"
             ]
            ],
            "type": "histogram2dcontour"
           }
          ],
          "mesh3d": [
           {
            "colorbar": {
             "outlinewidth": 0,
             "ticks": ""
            },
            "type": "mesh3d"
           }
          ],
          "parcoords": [
           {
            "line": {
             "colorbar": {
              "outlinewidth": 0,
              "ticks": ""
             }
            },
            "type": "parcoords"
           }
          ],
          "pie": [
           {
            "automargin": true,
            "type": "pie"
           }
          ],
          "scatter": [
           {
            "fillpattern": {
             "fillmode": "overlay",
             "size": 10,
             "solidity": 0.2
            },
            "type": "scatter"
           }
          ],
          "scatter3d": [
           {
            "line": {
             "colorbar": {
              "outlinewidth": 0,
              "ticks": ""
             }
            },
            "marker": {
             "colorbar": {
              "outlinewidth": 0,
              "ticks": ""
             }
            },
            "type": "scatter3d"
           }
          ],
          "scattercarpet": [
           {
            "marker": {
             "colorbar": {
              "outlinewidth": 0,
              "ticks": ""
             }
            },
            "type": "scattercarpet"
           }
          ],
          "scattergeo": [
           {
            "marker": {
             "colorbar": {
              "outlinewidth": 0,
              "ticks": ""
             }
            },
            "type": "scattergeo"
           }
          ],
          "scattergl": [
           {
            "marker": {
             "colorbar": {
              "outlinewidth": 0,
              "ticks": ""
             }
            },
            "type": "scattergl"
           }
          ],
          "scattermapbox": [
           {
            "marker": {
             "colorbar": {
              "outlinewidth": 0,
              "ticks": ""
             }
            },
            "type": "scattermapbox"
           }
          ],
          "scatterpolar": [
           {
            "marker": {
             "colorbar": {
              "outlinewidth": 0,
              "ticks": ""
             }
            },
            "type": "scatterpolar"
           }
          ],
          "scatterpolargl": [
           {
            "marker": {
             "colorbar": {
              "outlinewidth": 0,
              "ticks": ""
             }
            },
            "type": "scatterpolargl"
           }
          ],
          "scatterternary": [
           {
            "marker": {
             "colorbar": {
              "outlinewidth": 0,
              "ticks": ""
             }
            },
            "type": "scatterternary"
           }
          ],
          "surface": [
           {
            "colorbar": {
             "outlinewidth": 0,
             "ticks": ""
            },
            "colorscale": [
             [
              0,
              "#0d0887"
             ],
             [
              0.1111111111111111,
              "#46039f"
             ],
             [
              0.2222222222222222,
              "#7201a8"
             ],
             [
              0.3333333333333333,
              "#9c179e"
             ],
             [
              0.4444444444444444,
              "#bd3786"
             ],
             [
              0.5555555555555556,
              "#d8576b"
             ],
             [
              0.6666666666666666,
              "#ed7953"
             ],
             [
              0.7777777777777778,
              "#fb9f3a"
             ],
             [
              0.8888888888888888,
              "#fdca26"
             ],
             [
              1,
              "#f0f921"
             ]
            ],
            "type": "surface"
           }
          ],
          "table": [
           {
            "cells": {
             "fill": {
              "color": "#EBF0F8"
             },
             "line": {
              "color": "white"
             }
            },
            "header": {
             "fill": {
              "color": "#C8D4E3"
             },
             "line": {
              "color": "white"
             }
            },
            "type": "table"
           }
          ]
         },
         "layout": {
          "annotationdefaults": {
           "arrowcolor": "#2a3f5f",
           "arrowhead": 0,
           "arrowwidth": 1
          },
          "autotypenumbers": "strict",
          "coloraxis": {
           "colorbar": {
            "outlinewidth": 0,
            "ticks": ""
           }
          },
          "colorscale": {
           "diverging": [
            [
             0,
             "#8e0152"
            ],
            [
             0.1,
             "#c51b7d"
            ],
            [
             0.2,
             "#de77ae"
            ],
            [
             0.3,
             "#f1b6da"
            ],
            [
             0.4,
             "#fde0ef"
            ],
            [
             0.5,
             "#f7f7f7"
            ],
            [
             0.6,
             "#e6f5d0"
            ],
            [
             0.7,
             "#b8e186"
            ],
            [
             0.8,
             "#7fbc41"
            ],
            [
             0.9,
             "#4d9221"
            ],
            [
             1,
             "#276419"
            ]
           ],
           "sequential": [
            [
             0,
             "#0d0887"
            ],
            [
             0.1111111111111111,
             "#46039f"
            ],
            [
             0.2222222222222222,
             "#7201a8"
            ],
            [
             0.3333333333333333,
             "#9c179e"
            ],
            [
             0.4444444444444444,
             "#bd3786"
            ],
            [
             0.5555555555555556,
             "#d8576b"
            ],
            [
             0.6666666666666666,
             "#ed7953"
            ],
            [
             0.7777777777777778,
             "#fb9f3a"
            ],
            [
             0.8888888888888888,
             "#fdca26"
            ],
            [
             1,
             "#f0f921"
            ]
           ],
           "sequentialminus": [
            [
             0,
             "#0d0887"
            ],
            [
             0.1111111111111111,
             "#46039f"
            ],
            [
             0.2222222222222222,
             "#7201a8"
            ],
            [
             0.3333333333333333,
             "#9c179e"
            ],
            [
             0.4444444444444444,
             "#bd3786"
            ],
            [
             0.5555555555555556,
             "#d8576b"
            ],
            [
             0.6666666666666666,
             "#ed7953"
            ],
            [
             0.7777777777777778,
             "#fb9f3a"
            ],
            [
             0.8888888888888888,
             "#fdca26"
            ],
            [
             1,
             "#f0f921"
            ]
           ]
          },
          "colorway": [
           "#636efa",
           "#EF553B",
           "#00cc96",
           "#ab63fa",
           "#FFA15A",
           "#19d3f3",
           "#FF6692",
           "#B6E880",
           "#FF97FF",
           "#FECB52"
          ],
          "font": {
           "color": "#2a3f5f"
          },
          "geo": {
           "bgcolor": "white",
           "lakecolor": "white",
           "landcolor": "#E5ECF6",
           "showlakes": true,
           "showland": true,
           "subunitcolor": "white"
          },
          "hoverlabel": {
           "align": "left"
          },
          "hovermode": "closest",
          "mapbox": {
           "style": "light"
          },
          "paper_bgcolor": "white",
          "plot_bgcolor": "#E5ECF6",
          "polar": {
           "angularaxis": {
            "gridcolor": "white",
            "linecolor": "white",
            "ticks": ""
           },
           "bgcolor": "#E5ECF6",
           "radialaxis": {
            "gridcolor": "white",
            "linecolor": "white",
            "ticks": ""
           }
          },
          "scene": {
           "xaxis": {
            "backgroundcolor": "#E5ECF6",
            "gridcolor": "white",
            "gridwidth": 2,
            "linecolor": "white",
            "showbackground": true,
            "ticks": "",
            "zerolinecolor": "white"
           },
           "yaxis": {
            "backgroundcolor": "#E5ECF6",
            "gridcolor": "white",
            "gridwidth": 2,
            "linecolor": "white",
            "showbackground": true,
            "ticks": "",
            "zerolinecolor": "white"
           },
           "zaxis": {
            "backgroundcolor": "#E5ECF6",
            "gridcolor": "white",
            "gridwidth": 2,
            "linecolor": "white",
            "showbackground": true,
            "ticks": "",
            "zerolinecolor": "white"
           }
          },
          "shapedefaults": {
           "line": {
            "color": "#2a3f5f"
           }
          },
          "ternary": {
           "aaxis": {
            "gridcolor": "white",
            "linecolor": "white",
            "ticks": ""
           },
           "baxis": {
            "gridcolor": "white",
            "linecolor": "white",
            "ticks": ""
           },
           "bgcolor": "#E5ECF6",
           "caxis": {
            "gridcolor": "white",
            "linecolor": "white",
            "ticks": ""
           }
          },
          "title": {
           "x": 0.05
          },
          "xaxis": {
           "automargin": true,
           "gridcolor": "white",
           "linecolor": "white",
           "ticks": "",
           "title": {
            "standoff": 15
           },
           "zerolinecolor": "white",
           "zerolinewidth": 2
          },
          "yaxis": {
           "automargin": true,
           "gridcolor": "white",
           "linecolor": "white",
           "ticks": "",
           "title": {
            "standoff": 15
           },
           "zerolinecolor": "white",
           "zerolinewidth": 2
          }
         }
        },
        "title": {
         "text": "PCA components = 6, n_neighbors = 4, n_cases = 610, fold_change_threshold = 0.06"
        },
        "width": 1200,
        "xaxis": {
         "anchor": "y",
         "autorange": true,
         "domain": [
          0,
          1
         ],
         "range": [
          -0.9310800578389324,
          18.506100050726907
         ],
         "title": {
          "text": "0"
         },
         "type": "linear"
        },
        "yaxis": {
         "anchor": "x",
         "autorange": true,
         "domain": [
          0,
          1
         ],
         "range": [
          -0.08536539128647402,
          13.6423628096901
         ],
         "title": {
          "text": "1"
         },
         "type": "linear"
        }
       }
      },
      "image/png": "[encoded data removed]",
      "text/html": [
       "<div>                            <div id=\"a4701c7d-53f7-4e85-95b1-003d4ff4cb74\" class=\"plotly-graph-div\" style=\"height:800px; width:1200px;\"></div>            <script type=\"text/javascript\">                require([\"plotly\"], function(Plotly) {                    window.PLOTLYENV=window.PLOTLYENV || {};                                    if (document.getElementById(\"a4701c7d-53f7-4e85-95b1-003d4ff4cb74\")) {                    Plotly.newPlot(                        \"a4701c7d-53f7-4e85-95b1-003d4ff4cb74\",                        [{\"hovertemplate\":\"entity=gbm_cnv\\u003cbr\\u003e0=%{x}\\u003cbr\\u003e1=%{y}\\u003cextra\\u003e\\u003c\\u002fextra\\u003e\",\"legendgroup\":\"gbm_cnv\",\"marker\":{\"color\":\"#636efa\",\"opacity\":1,\"symbol\":\"circle\"},\"mode\":\"markers\",\"name\":\"gbm_cnv\",\"orientation\":\"v\",\"showlegend\":true,\"x\":[16.079526901245117,12.918641090393066,15.009661674499512,10.712035179138184,14.830355644226074,9.150983810424805,9.351265907287598,16.413808822631836,16.28951072692871,16.721202850341797,13.311479568481445,13.759061813354492,12.899699211120605,10.870492935180664,13.405076026916504,11.04035758972168,12.682408332824707,12.584280014038086,12.032501220703125,12.264355659484863,13.315940856933594,16.30084800720215,9.960519790649414,10.391632080078125,12.254982948303223,12.2377290725708,16.32103729248047,11.81295108795166,15.464756965637207,3.2994544506073,16.213300704956055,10.740117073059082,9.772068977355957,12.889594078063965,17.08820343017578,11.42803955078125,10.744503021240234,9.956888198852539,11.840271949768066,17.111318588256836,13.450540542602539,12.210898399353027,10.376837730407715,10.869009017944336,10.658843994140625,13.984896659851074,8.812018394470215,12.142644882202148,15.492777824401855,17.384611129760742,15.611218452453613,16.182077407836914,14.505565643310547,10.407671928405762,16.02913475036621,15.81432819366455,11.795330047607422,9.928815841674805,11.09852123260498,17.346900939941406,7.794266223907471,10.114048957824707,13.24176025390625,12.541619300842285,12.133256912231445,13.197988510131836,17.446414947509766,9.148083686828613,15.30101203918457,13.495173454284668,12.27241325378418,14.782302856445312,10.858967781066895,2.549454927444458,9.979573249816895,13.02983570098877,14.371468544006348,10.471630096435547,15.102770805358887,10.104549407958984,10.910749435424805,9.007120132446289,13.278124809265137,13.568982124328613,10.480554580688477,16.691425323486328,10.846940994262695,10.688874244689941,9.553690910339355,11.01693058013916,16.096424102783203,17.160926818847656,13.364054679870605,10.61408519744873,14.158632278442383,15.587692260742188,11.841885566711426,13.81416130065918,7.1367878913879395,14.867924690246582,11.827826499938965,13.76506233215332,10.603716850280762,10.974930763244629,10.220022201538086,11.165379524230957,13.010215759277344,8.91391372680664,15.350301742553711,11.051955223083496,12.924819946289062,10.566591262817383,9.633849143981934,11.710145950317383,9.398133277893066,10.444454193115234,11.175230026245117,16.284263610839844,9.373187065124512,12.113920211791992,14.680440902709961,10.960124015808105,16.03812599182129,10.603622436523438,13.964112281799316,10.523359298706055,10.55565357208252,14.690200805664062,10.982954025268555,9.21746826171875,12.095782279968262,11.436687469482422,12.73032283782959,10.212445259094238,15.664716720581055,12.167108535766602,10.003678321838379,9.644594192504883,10.241813659667969,16.132064819335938,16.694581985473633,13.292635917663574,16.048336029052734,10.815732955932617,10.819598197937012,10.71235466003418,10.74974536895752,9.122967720031738,9.539793014526367,11.062585830688477,13.332576751708984,10.803987503051758,16.270151138305664,11.898757934570312,10.662293434143066,10.603194236755371,13.8028564453125,8.876360893249512,10.406609535217285,12.265267372131348,8.893243789672852,9.46723461151123,12.136628150939941,11.862676620483398,17.27127456665039,12.026583671569824,17.458629608154297,12.77518081665039,10.554341316223145,15.210590362548828,14.882315635681152,12.180766105651855,11.741292953491211,12.29692554473877,9.348345756530762,11.825023651123047,13.554990768432617,15.108211517333984,8.278467178344727,13.433520317077637,11.150640487670898,10.575114250183105,3.1739933490753174,12.313837051391602,16.102622985839844,10.040201187133789,14.946207046508789,9.170172691345215,16.25377655029297,10.232004165649414,10.091981887817383,12.281338691711426,15.037938117980957,7.556248664855957,13.390239715576172,15.429498672485352,17.398937225341797,13.22396469116211,15.547673225402832,13.69268798828125,16.034381866455078,15.684272766113281,13.44105052947998,17.090909957885742],\"xaxis\":\"x\",\"y\":[2.3465073108673096,0.8605783581733704,1.7571358680725098,5.714269161224365,1.6469944715499878,12.735998153686523,6.965160369873047,2.2246463298797607,3.478940725326538,2.738691806793213,1.4976648092269897,1.6654924154281616,1.691033124923706,2.2845895290374756,2.4665822982788086,1.7784913778305054,1.156107783317566,1.5278140306472778,3.161428928375244,3.296311855316162,2.3391671180725098,3.3840761184692383,5.923134803771973,3.0738372802734375,0.6840516328811646,1.1671721935272217,3.3430521488189697,3.0932652950286865,1.592674732208252,2.420612096786499,3.3031728267669678,2.1895174980163574,11.413864135742188,0.8820627331733704,2.582374334335327,1.6848078966140747,7.343122959136963,11.987196922302246,4.922837734222412,2.357215404510498,2.5366523265838623,0.7989172339439392,6.478635787963867,7.0100226402282715,6.671503067016602,2.077523946762085,12.33275318145752,0.7340542674064636,2.0721988677978516,2.4709646701812744,1.8205866813659668,2.0833966732025146,2.208097457885742,9.809877395629883,2.387390375137329,2.0354325771331787,4.952718257904053,12.023626327514648,1.7171355485916138,2.4689929485321045,7.7347731590271,3.2491586208343506,2.536188840866089,0.6889634132385254,0.7642347812652588,2.242238998413086,2.4561309814453125,7.883172035217285,1.603065013885498,1.7115367650985718,1.0705806016921997,2.0819644927978516,3.011735677719116,2.075740337371826,3.66743540763855,0.9166274666786194,2.320598840713501,2.1356253623962402,2.2038540840148926,7.467585563659668,2.46050763130188,3.993896961212158,1.4372529983520508,0.8707576394081116,2.1028060913085938,2.684133291244507,6.9762163162231445,2.932945489883423,6.689920425415039,5.656429290771484,2.749305486679077,2.565307855606079,1.9243906736373901,11.715930938720703,2.3708550930023193,1.6995527744293213,2.6419734954833984,1.7237181663513184,4.0044145584106445,1.775607943534851,4.930814266204834,2.005746603012085,5.127161502838135,5.327557563781738,5.582730293273926,1.7624437808990479,1.6577110290527344,12.679088592529297,1.7388180494308472,1.7881604433059692,0.8377765417098999,7.5193305015563965,6.619775295257568,2.8410208225250244,12.555096626281738,2.0823769569396973,2.9360837936401367,2.2786741256713867,7.476933002471924,0.6965100169181824,1.72626793384552,2.6182844638824463,2.3845956325531006,2.4297397136688232,1.7588627338409424,2.4903182983398438,2.3892316818237305,2.194915294647217,3.0252325534820557,3.8182144165039062,4.716048240661621,5.303287982940674,1.2342761754989624,6.0056047439575195,1.8171707391738892,1.2968686819076538,3.4843130111694336,4.793968200683594,7.817667484283447,3.407855987548828,2.242710590362549,2.6879665851593018,2.261899709701538,2.4695746898651123,5.903017997741699,6.85594367980957,7.561336994171143,12.728764533996582,6.7165141105651855,1.7713074684143066,1.4906189441680908,3.046454906463623,3.369189500808716,3.5846381187438965,2.832120656967163,9.937585830688477,1.9062217473983765,12.613268852233887,8.531105995178223,0.6904606223106384,12.495153427124023,8.008574485778809,0.8887909650802612,4.900790214538574,2.4436380863189697,4.778316020965576,2.4650514125823975,0.7965298891067505,9.963554382324219,1.499853491783142,2.077592134475708,1.3550206422805786,4.963407516479492,1.408271074295044,7.479033946990967,3.1248557567596436,2.4478495121002197,1.4547394514083862,7.275914669036865,2.533707857131958,2.990375280380249,6.684620380401611,2.380152702331543,1.1506668329238892,2.078794479370117,5.463347911834717,2.1111598014831543,6.861985206604004,2.287790298461914,3.2124106884002686,12.685295104980469,1.3733301162719727,1.7938239574432373,10.539142608642578,1.5584392547607422,1.9798192977905273,2.4505646228790283,2.3864355087280273,1.9503391981124878,2.3069844245910645,1.995004415512085,1.7366942167282104,1.9418668746948242,2.569568157196045],\"yaxis\":\"y\",\"type\":\"scatter\"},{\"hovertemplate\":\"entity=k27_cnv\\u003cbr\\u003e0=%{x}\\u003cbr\\u003e1=%{y}\\u003cextra\\u003e\\u003c\\u002fextra\\u003e\",\"legendgroup\":\"k27_cnv\",\"marker\":{\"color\":\"#EF553B\",\"opacity\":1,\"symbol\":\"circle\"},\"mode\":\"markers\",\"name\":\"k27_cnv\",\"orientation\":\"v\",\"showlegend\":true,\"x\":[7.572047710418701,10.563528060913086,7.240878582000732,9.072834014892578,7.7458648681640625,8.944555282592773,10.649845123291016,10.96982479095459,9.58604621887207,8.99094009399414,9.7879056930542,9.015584945678711,14.098710060119629,9.510732650756836,10.335284233093262,10.641505241394043,10.209342002868652,10.859376907348633,11.836030006408691,10.31616497039795,9.181288719177246,10.48466968536377,9.608511924743652,10.643320083618164,9.027752876281738,10.332464218139648,8.883742332458496,7.260313510894775,7.959445476531982,9.69467830657959,13.878876686096191,9.165149688720703,9.119454383850098,9.894241333007812],\"xaxis\":\"x\",\"y\":[7.406305313110352,6.122917175292969,8.741634368896484,4.153334617614746,8.121057510375977,10.452506065368652,10.008096694946289,5.724582195281982,12.269649505615234,10.196012496948242,11.461160659790039,4.0422258377075195,2.4887802600860596,6.906618595123291,6.3127288818359375,6.1513671875,5.668125152587891,6.950536727905273,4.935169696807861,11.655765533447266,6.948610782623291,11.590237617492676,4.901993274688721,5.809825420379639,4.10218620300293,5.555632591247559,10.009015083312988,10.008440971374512,7.692893028259277,5.0002007484436035,2.4571073055267334,7.866044521331787,6.776116371154785,12.185067176818848],\"yaxis\":\"y\",\"type\":\"scatter\"},{\"hovertemplate\":\"entity=mng_cnv\\u003cbr\\u003e0=%{x}\\u003cbr\\u003e1=%{y}\\u003cextra\\u003e\\u003c\\u002fextra\\u003e\",\"legendgroup\":\"mng_cnv\",\"marker\":{\"color\":\"#00cc96\",\"opacity\":1,\"symbol\":\"circle\"},\"mode\":\"markers\",\"name\":\"mng_cnv\",\"orientation\":\"v\",\"showlegend\":true,\"x\":[3.156100273132324,5.3657917976379395,2.3987627029418945,7.040241241455078,10.209066390991211,2.321049690246582,11.339913368225098,2.4375784397125244,2.34146785736084,5.603716850280762,4.871382236480713,6.788670063018799,4.092007160186768,13.803338050842285,4.815983295440674,7.470757484436035,5.372003555297852,12.813960075378418,11.023075103759766,4.867288112640381,3.211200475692749,5.4291672706604,5.724350929260254,4.716220855712891,2.402688980102539,4.7815260887146,6.701077461242676,4.553248882293701,4.680894374847412,4.652371406555176,2.366615056991577,4.321545124053955,5.100608825683594,4.510396957397461,9.93791389465332,5.364245414733887,13.822070121765137,5.224169731140137,13.821048736572266,10.249956130981445,2.5847694873809814,11.237170219421387,5.872310638427734,2.671865701675415,13.815149307250977,4.485678195953369,4.632892608642578,7.236212730407715,11.210978507995605,13.113112449645996,7.00005578994751,4.60146951675415,11.587240219116211,3.4045069217681885,5.297976016998291,6.323116779327393,5.435042858123779,4.5335211753845215,2.125351667404175,11.669388771057129,11.67397403717041,2.3329265117645264,12.821632385253906,6.841987609863281,2.6535141468048096,4.878724575042725,11.198626518249512,4.789392948150635,10.173511505126953,2.753168821334839,5.727377414703369,2.493166446685791,3.847539186477661,4.696324348449707,4.606803894042969,13.91672134399414,5.571798324584961,5.356281757354736,6.611765384674072,2.4337661266326904,5.366339206695557,10.143815994262695,6.6830878257751465,6.742763996124268,4.071189880371094,7.53644323348999,10.253009796142578,4.171034812927246,10.65130615234375,4.685369968414307,10.250435829162598,4.400145530700684,4.645626544952393,12.823159217834473,10.874832153320312,13.803385734558105,2.428853750228882,6.541134834289551,11.608105659484863,2.629753828048706,2.498661518096924,5.413346767425537,2.381800413131714,5.413435935974121,12.895010948181152,3.374300241470337,2.175142526626587,6.556672096252441,7.256039619445801,10.18426513671875,6.827580451965332,2.2572522163391113,5.046896934509277,12.261289596557617,2.7321531772613525,3.4735488891601562,7.407144069671631,4.091427803039551,4.50585412979126,10.662103652954102,7.0735182762146,4.885117053985596,2.1273205280303955,5.352811336517334,6.8146514892578125,3.5365853309631348,4.991332530975342,4.2398505210876465,4.506832599639893,12.85504150390625,6.700026988983154,12.827664375305176,4.757247447967529,16.558889389038086,2.274976968765259,2.152055501937866,6.266437530517578,4.207457065582275,5.23305606842041,5.133914947509766,7.922056674957275,4.957726001739502,6.974258899688721,4.767429828643799,13.787585258483887,11.291708946228027,13.94807243347168,16.379228591918945,11.11661434173584,2.602334499359131,3.9214742183685303,7.150817394256592,4.8494133949279785,5.446434020996094,7.9332756996154785,4.972561359405518,13.576667785644531,7.2170000076293945,12.000290870666504,9.401082992553711,4.833089351654053,2.468240261077881,6.702819347381592,4.791474342346191,13.778182983398438,5.088317394256592,6.6649394035339355],\"xaxis\":\"x\",\"y\":[2.098479747772217,3.040018320083618,2.1953907012939453,3.99269437789917,11.778615951538086,2.366217613220215,12.205018997192383,2.1817069053649902,2.541311025619507,11.435103416442871,4.982362747192383,10.777639389038086,4.3371663093566895,10.348210334777832,4.939298629760742,8.922647476196289,2.3573896884918213,10.19360065460205,10.05677318572998,4.943031311035156,2.246953248977661,11.496553421020508,11.2900972366333,2.638765335083008,1.4675054550170898,4.921458721160889,11.531007766723633,2.0259132385253906,4.824793338775635,4.890807151794434,1.4419687986373901,4.369782447814941,11.661230087280273,1.9632446765899658,11.87870979309082,4.017113208770752,10.386528015136719,2.893815040588379,10.39943790435791,12.872945785522461,1.990583062171936,12.247004508972168,4.020043849945068,1.6958460807800293,10.356496810913086,4.673691749572754,4.792379856109619,8.731245040893555,11.685452461242676,10.390681266784668,9.406352043151855,4.753015995025635,10.735382080078125,2.3054087162017822,3.9843931198120117,11.154078483581543,2.467489004135132,4.179000377655029,3.054969310760498,10.643197059631348,10.651354789733887,2.403984785079956,10.193180084228516,11.614877700805664,1.9395935535430908,2.1728298664093018,11.661853790283203,2.448800563812256,12.858926773071289,1.7372856140136719,11.300368309020996,2.4903197288513184,4.208512306213379,4.832151889801025,3.9127092361450195,10.496700286865234,3.99916410446167,3.051332950592041,11.565927505493164,1.4739269018173218,3.058828830718994,12.859983444213867,10.34743595123291,9.899140357971191,4.375414848327637,9.548120498657227,12.599969863891602,4.42852258682251,11.93511962890625,2.0129544734954834,10.7753267288208,4.686861991882324,4.789482116699219,10.227560043334961,10.81896686553955,10.374156951904297,2.4026153087615967,11.490384101867676,10.728466987609863,1.8266302347183228,1.5261356830596924,2.4081523418426514,1.4927061796188354,2.962876319885254,10.155468940734863,2.2429797649383545,3.1206393241882324,10.235836029052734,8.717090606689453,12.420101165771484,9.083878517150879,3.196923017501831,2.171100616455078,10.303215026855469,1.773783802986145,2.2589099407196045,9.856621742248535,4.398141860961914,1.956183671951294,9.364251136779785,9.878565788269043,2.0515358448028564,3.006674289703369,3.010258674621582,11.505111694335938,2.3138976097106934,2.821227788925171,4.187587261199951,1.9654695987701416,10.231817245483398,11.594999313354492,10.199727058410645,2.173794746398926,2.1710352897644043,3.192530393600464,3.0495331287384033,11.2816743850708,4.5297346115112305,4.064644813537598,11.630656242370605,6.974665641784668,3.2516770362854004,10.934629440307617,2.3015804290771484,10.325318336486816,12.253673553466797,10.546919822692871,2.254626989364624,10.641589164733887,1.9282774925231934,4.296200275421143,9.998730659484863,2.966837167739868,2.413116216659546,6.936086177825928,2.0995686054229736,10.351985931396484,8.861207008361816,10.374053955078125,12.362380027770996,2.177178144454956,2.42372989654541,11.581934928894043,4.874128341674805,10.3556489944458,11.665366172790527,10.014071464538574],\"yaxis\":\"y\",\"type\":\"scatter\"},{\"hovertemplate\":\"entity=oligo_cnv\\u003cbr\\u003e0=%{x}\\u003cbr\\u003e1=%{y}\\u003cextra\\u003e\\u003c\\u002fextra\\u003e\",\"legendgroup\":\"oligo_cnv\",\"marker\":{\"color\":\"#ab63fa\",\"opacity\":1,\"symbol\":\"circle\"},\"mode\":\"markers\",\"name\":\"oligo_cnv\",\"orientation\":\"v\",\"showlegend\":true,\"x\":[0.7176873683929443,0.1846805065870285,0.2684769928455353,0.2812223732471466,0.8942939043045044,0.44209277629852295,0.6791481375694275,1.2470263242721558,0.25666365027427673,0.6878625750541687,0.5862520933151245,0.11639038473367691,0.9071140885353088,0.4200475513935089,1.2811875343322754,0.2824564576148987,0.8420872092247009,0.35993435978889465,2.9690213203430176,0.7467284798622131,0.6896128058433533,0.8569793701171875,1.324500560760498,0.9505442380905151,0.254253089427948,0.5918157696723938,0.23565228283405304,0.6201131939888,0.6349799633026123,0.4714667499065399,0.39830079674720764,0.3246958553791046,0.7728226780891418,0.6809984445571899,0.17144636809825897,0.8487218022346497,1.304314136505127,0.5616592764854431,0.7587264776229858,0.38160985708236694,0.19128967821598053,0.9208561778068542,0.5574398040771484,0.4498497247695923,0.9073719382286072,0.4655267298221588,0.1878741830587387],\"xaxis\":\"x\",\"y\":[11.21805191040039,9.45589828491211,9.07925796508789,9.307330131530762,11.389363288879395,9.950493812561035,11.007774353027344,10.34980583190918,9.532323837280273,11.22753620147705,10.449440956115723,9.540220260620117,11.418423652648926,8.797593116760254,10.339186668395996,9.678040504455566,10.316861152648926,8.841055870056152,2.3015596866607666,11.261091232299805,9.31734561920166,10.369887351989746,10.360843658447266,11.421703338623047,9.08677864074707,9.330748558044434,9.280111312866211,11.024152755737305,10.902969360351562,10.754415512084961,8.856542587280273,9.383284568786621,11.330860137939453,10.20785140991211,9.504485130310059,11.35466194152832,10.344903945922852,10.921245574951172,11.237519264221191,8.814936637878418,9.52607250213623,11.425065040588379,10.685052871704102,10.756335258483887,10.320433616638184,10.690853118896484,9.397297859191895],\"yaxis\":\"y\",\"type\":\"scatter\"},{\"hovertemplate\":\"entity=pxa_cnv\\u003cbr\\u003e0=%{x}\\u003cbr\\u003e1=%{y}\\u003cextra\\u003e\\u003c\\u002fextra\\u003e\",\"legendgroup\":\"pxa_cnv\",\"marker\":{\"color\":\"#FFA15A\",\"opacity\":1,\"symbol\":\"circle\"},\"mode\":\"markers\",\"name\":\"pxa_cnv\",\"orientation\":\"v\",\"showlegend\":true,\"x\":[15.991268157958984,10.679235458374023,13.051447868347168,7.8169450759887695,7.033374309539795,9.016026496887207,16.292348861694336,7.944350719451904,13.745654106140137,10.38554573059082,7.669069766998291,7.1188554763793945,10.003531455993652,6.7630815505981445,11.155485153198242,13.601634979248047,7.673863887786865,9.890097618103027,9.569137573242188,13.137070655822754,6.44592809677124,11.00786018371582,11.060300827026367,10.705522537231445,10.3954439163208,7.809772968292236,10.82876968383789,9.010315895080566,9.033805847167969,10.110274314880371,8.531115531921387,10.522597312927246,15.02139663696289,11.715974807739258,7.110136985778809,9.24863338470459,9.289473533630371,10.674641609191895,7.470879554748535,10.272546768188477,12.170477867126465,11.167165756225586,11.22111988067627,15.966156005859375,7.021508693695068],\"xaxis\":\"x\",\"y\":[2.4284186363220215,11.603804588317871,2.835326910018921,12.028390884399414,9.23033618927002,10.333131790161133,3.3817737102508545,12.131091117858887,10.285581588745117,8.92052936553955,11.8489351272583,9.938394546508789,12.282075881958008,10.106210708618164,11.742578506469727,2.078552484512329,11.85849666595459,12.406689643859863,12.316130638122559,10.343148231506348,11.041213035583496,10.755072593688965,12.36769962310791,9.870055198669434,9.766439437866211,12.004733085632324,12.231241226196289,12.474750518798828,12.41844654083252,11.623416900634766,12.058038711547852,9.869058609008789,2.149752378463745,3.0896663665771484,10.767257690429688,12.409346580505371,12.399194717407227,9.903585433959961,11.535754203796387,9.482333183288574,3.0456786155700684,12.337237358093262,3.0264649391174316,2.416987895965576,9.70960807800293],\"yaxis\":\"y\",\"type\":\"scatter\"},{\"hovertemplate\":\"entity=astroLow_cnv\\u003cbr\\u003e0=%{x}\\u003cbr\\u003e1=%{y}\\u003cextra\\u003e\\u003c\\u002fextra\\u003e\",\"legendgroup\":\"astroLow_cnv\",\"marker\":{\"color\":\"#19d3f3\",\"opacity\":1,\"symbol\":\"circle\"},\"mode\":\"markers\",\"name\":\"astroLow_cnv\",\"orientation\":\"v\",\"showlegend\":true,\"x\":[12.954699516296387,7.275351047515869,9.933445930480957,7.323536396026611,7.829543590545654,9.426472663879395,7.634524345397949,10.103080749511719,6.617657661437988,8.527235984802246,6.854764461517334,8.624939918518066,10.454238891601562,7.748027324676514,6.59431266784668,9.11579418182373,7.334318161010742,10.526671409606934,9.309532165527344,7.338273048400879,9.591551780700684,10.380760192871094,10.274275779724121,8.977550506591797,7.195598602294922,9.031987190246582,9.130101203918457,7.998814105987549,6.912808418273926,10.262617111206055,7.982702255249023,7.805275917053223,10.634836196899414,10.395448684692383,7.780152797698975,10.615470886230469,8.999187469482422,10.937626838684082,10.592385292053223,7.261911869049072],\"xaxis\":\"x\",\"y\":[10.23147201538086,10.676857948303223,5.399743556976318,10.658548355102539,12.03378677368164,4.578705787658691,8.197155952453613,8.629597663879395,10.303767204284668,9.796428680419922,10.872401237487793,9.762948036193848,7.657371997833252,11.935958862304688,10.241581916809082,4.244048118591309,10.6094388961792,7.61915397644043,7.902339458465576,8.799778938293457,12.40515422821045,9.011960983276367,8.727672576904297,9.932430267333984,8.693777084350586,7.736468315124512,7.8034772872924805,10.91472053527832,10.794865608215332,12.755590438842773,6.883823394775391,8.003751754760742,9.340638160705566,8.176855087280273,10.861029624938965,9.89599323272705,9.911458015441895,12.133853912353516,10.002206802368164,8.745871543884277],\"yaxis\":\"y\",\"type\":\"scatter\"},{\"hovertemplate\":\"entity=astroHigh_cnv\\u003cbr\\u003e0=%{x}\\u003cbr\\u003e1=%{y}\\u003cextra\\u003e\\u003c\\u002fextra\\u003e\",\"legendgroup\":\"astroHigh_cnv\",\"marker\":{\"color\":\"#FF6692\",\"opacity\":1,\"symbol\":\"circle\"},\"mode\":\"markers\",\"name\":\"astroHigh_cnv\",\"orientation\":\"v\",\"showlegend\":true,\"x\":[9.292316436767578,10.67093276977539,8.235337257385254,11.15868854522705,9.405537605285645,8.178290367126465,10.873438835144043,10.883970260620117,7.805413246154785,9.8217134475708,10.096465110778809,8.143500328063965,10.590578079223633,8.690972328186035,8.96756362915039,9.249977111816406,7.254493236541748,7.1838250160217285,11.547752380371094,9.627204895019531,10.066109657287598,10.116666793823242,9.238008499145508,9.034236907958984,13.42672348022461,13.168580055236816,10.755592346191406,10.822090148925781,9.784407615661621,6.820501804351807,8.257763862609863,9.011698722839355,10.030179977416992,9.137064933776855,7.877268314361572,10.611404418945312,10.008063316345215,10.656962394714355,7.164380073547363,10.836352348327637,9.11319351196289,10.571525573730469,0.37691470980644226,10.002264022827148],\"xaxis\":\"x\",\"y\":[7.842141151428223,5.76953649520874,7.047659397125244,5.162205696105957,7.94124698638916,7.063636302947998,7.0290727615356445,7.083881855010986,7.786240100860596,5.254714012145996,5.7655487060546875,7.44624137878418,6.684677600860596,9.848413467407227,7.551694393157959,7.628185272216797,10.279993057250977,4.028102874755859,10.753031730651855,4.7188825607299805,5.866633892059326,8.577563285827637,4.426097393035889,7.675015926361084,2.4636595249176025,2.7644896507263184,5.917246341705322,7.237921237945557,8.32159423828125,9.91035270690918,7.1938605308532715,7.665946960449219,5.448121070861816,6.794611930847168,7.820603847503662,5.762058258056641,8.528870582580566,5.152842998504639,4.0100789070129395,5.889464378356934,4.213054656982422,6.745336532592773,8.71217155456543,11.857711791992188],\"yaxis\":\"y\",\"type\":\"scatter\"},{\"hovertemplate\":\"entity=pa_cnv\\u003cbr\\u003e0=%{x}\\u003cbr\\u003e1=%{y}\\u003cextra\\u003e\\u003c\\u002fextra\\u003e\",\"legendgroup\":\"pa_cnv\",\"marker\":{\"color\":\"#B6E880\",\"opacity\":1,\"symbol\":\"circle\"},\"mode\":\"markers\",\"name\":\"pa_cnv\",\"orientation\":\"v\",\"showlegend\":true,\"x\":[10.538369178771973,10.459931373596191,10.445806503295898,5.746361255645752,11.149123191833496,5.0536789894104,5.96617317199707,6.198739528656006,10.553229331970215,7.1533660888671875,10.106518745422363,7.0345458984375,10.331966400146484,10.326302528381348,10.5526762008667,5.767879009246826,5.814110279083252,15.66666030883789,6.721440315246582,7.147302627563477,10.014068603515625,10.226319313049316,10.650740623474121,11.148548126220703,7.806945323944092,7.0013251304626465,10.534943580627441,5.76193380355835,10.472966194152832],\"xaxis\":\"x\",\"y\":[12.13084888458252,12.631291389465332,12.767414093017578,11.265179634094238,12.253689765930176,11.69858455657959,11.295721054077148,11.211421012878418,12.666482925415039,9.891203880310059,12.055315017700195,10.113016128540039,9.82891845703125,11.75540828704834,11.620637893676758,11.130328178405762,10.997042655944824,1.744096040725708,10.274726867675781,11.218087196350098,11.241378784179688,11.777200698852539,12.516201972961426,11.767606735229492,12.02248477935791,10.790419578552246,12.258131980895996,11.194767951965332,11.638825416564941],\"yaxis\":\"y\",\"type\":\"scatter\"}],                        {\"template\":{\"data\":{\"histogram2dcontour\":[{\"type\":\"histogram2dcontour\",\"colorbar\":{\"outlinewidth\":0,\"ticks\":\"\"},\"colorscale\":[[0.0,\"#0d0887\"],[0.1111111111111111,\"#46039f\"],[0.2222222222222222,\"#7201a8\"],[0.3333333333333333,\"#9c179e\"],[0.4444444444444444,\"#bd3786\"],[0.5555555555555556,\"#d8576b\"],[0.6666666666666666,\"#ed7953\"],[0.7777777777777778,\"#fb9f3a\"],[0.8888888888888888,\"#fdca26\"],[1.0,\"#f0f921\"]]}],\"choropleth\":[{\"type\":\"choropleth\",\"colorbar\":{\"outlinewidth\":0,\"ticks\":\"\"}}],\"histogram2d\":[{\"type\":\"histogram2d\",\"colorbar\":{\"outlinewidth\":0,\"ticks\":\"\"},\"colorscale\":[[0.0,\"#0d0887\"],[0.1111111111111111,\"#46039f\"],[0.2222222222222222,\"#7201a8\"],[0.3333333333333333,\"#9c179e\"],[0.4444444444444444,\"#bd3786\"],[0.5555555555555556,\"#d8576b\"],[0.6666666666666666,\"#ed7953\"],[0.7777777777777778,\"#fb9f3a\"],[0.8888888888888888,\"#fdca26\"],[1.0,\"#f0f921\"]]}],\"heatmap\":[{\"type\":\"heatmap\",\"colorbar\":{\"outlinewidth\":0,\"ticks\":\"\"},\"colorscale\":[[0.0,\"#0d0887\"],[0.1111111111111111,\"#46039f\"],[0.2222222222222222,\"#7201a8\"],[0.3333333333333333,\"#9c179e\"],[0.4444444444444444,\"#bd3786\"],[0.5555555555555556,\"#d8576b\"],[0.6666666666666666,\"#ed7953\"],[0.7777777777777778,\"#fb9f3a\"],[0.8888888888888888,\"#fdca26\"],[1.0,\"#f0f921\"]]}],\"heatmapgl\":[{\"type\":\"heatmapgl\",\"colorbar\":{\"outlinewidth\":0,\"ticks\":\"\"},\"colorscale\":[[0.0,\"#0d0887\"],[0.1111111111111111,\"#46039f\"],[0.2222222222222222,\"#7201a8\"],[0.3333333333333333,\"#9c179e\"],[0.4444444444444444,\"#bd3786\"],[0.5555555555555556,\"#d8576b\"],[0.6666666666666666,\"#ed7953\"],[0.7777777777777778,\"#fb9f3a\"],[0.8888888888888888,\"#fdca26\"],[1.0,\"#f0f921\"]]}],\"contourcarpet\":[{\"type\":\"contourcarpet\",\"colorbar\":{\"outlinewidth\":0,\"ticks\":\"\"}}],\"contour\":[{\"type\":\"contour\",\"colorbar\":{\"outlinewidth\":0,\"ticks\":\"\"},\"colorscale\":[[0.0,\"#0d0887\"],[0.1111111111111111,\"#46039f\"],[0.2222222222222222,\"#7201a8\"],[0.3333333333333333,\"#9c179e\"],[0.4444444444444444,\"#bd3786\"],[0.5555555555555556,\"#d8576b\"],[0.6666666666666666,\"#ed7953\"],[0.7777777777777778,\"#fb9f3a\"],[0.8888888888888888,\"#fdca26\"],[1.0,\"#f0f921\"]]}],\"surface\":[{\"type\":\"surface\",\"colorbar\":{\"outlinewidth\":0,\"ticks\":\"\"},\"colorscale\":[[0.0,\"#0d0887\"],[0.1111111111111111,\"#46039f\"],[0.2222222222222222,\"#7201a8\"],[0.3333333333333333,\"#9c179e\"],[0.4444444444444444,\"#bd3786\"],[0.5555555555555556,\"#d8576b\"],[0.6666666666666666,\"#ed7953\"],[0.7777777777777778,\"#fb9f3a\"],[0.8888888888888888,\"#fdca26\"],[1.0,\"#f0f921\"]]}],\"mesh3d\":[{\"type\":\"mesh3d\",\"colorbar\":{\"outlinewidth\":0,\"ticks\":\"\"}}],\"scatter\":[{\"fillpattern\":{\"fillmode\":\"overlay\",\"size\":10,\"solidity\":0.2},\"type\":\"scatter\"}],\"parcoords\":[{\"type\":\"parcoords\",\"line\":{\"colorbar\":{\"outlinewidth\":0,\"ticks\":\"\"}}}],\"scatterpolargl\":[{\"type\":\"scatterpolargl\",\"marker\":{\"colorbar\":{\"outlinewidth\":0,\"ticks\":\"\"}}}],\"bar\":[{\"error_x\":{\"color\":\"#2a3f5f\"},\"error_y\":{\"color\":\"#2a3f5f\"},\"marker\":{\"line\":{\"color\":\"#E5ECF6\",\"width\":0.5},\"pattern\":{\"fillmode\":\"overlay\",\"size\":10,\"solidity\":0.2}},\"type\":\"bar\"}],\"scattergeo\":[{\"type\":\"scattergeo\",\"marker\":{\"colorbar\":{\"outlinewidth\":0,\"ticks\":\"\"}}}],\"scatterpolar\":[{\"type\":\"scatterpolar\",\"marker\":{\"colorbar\":{\"outlinewidth\":0,\"ticks\":\"\"}}}],\"histogram\":[{\"marker\":{\"pattern\":{\"fillmode\":\"overlay\",\"size\":10,\"solidity\":0.2}},\"type\":\"histogram\"}],\"scattergl\":[{\"type\":\"scattergl\",\"marker\":{\"colorbar\":{\"outlinewidth\":0,\"ticks\":\"\"}}}],\"scatter3d\":[{\"type\":\"scatter3d\",\"line\":{\"colorbar\":{\"outlinewidth\":0,\"ticks\":\"\"}},\"marker\":{\"colorbar\":{\"outlinewidth\":0,\"ticks\":\"\"}}}],\"scattermapbox\":[{\"type\":\"scattermapbox\",\"marker\":{\"colorbar\":{\"outlinewidth\":0,\"ticks\":\"\"}}}],\"scatterternary\":[{\"type\":\"scatterternary\",\"marker\":{\"colorbar\":{\"outlinewidth\":0,\"ticks\":\"\"}}}],\"scattercarpet\":[{\"type\":\"scattercarpet\",\"marker\":{\"colorbar\":{\"outlinewidth\":0,\"ticks\":\"\"}}}],\"carpet\":[{\"aaxis\":{\"endlinecolor\":\"#2a3f5f\",\"gridcolor\":\"white\",\"linecolor\":\"white\",\"minorgridcolor\":\"white\",\"startlinecolor\":\"#2a3f5f\"},\"baxis\":{\"endlinecolor\":\"#2a3f5f\",\"gridcolor\":\"white\",\"linecolor\":\"white\",\"minorgridcolor\":\"white\",\"startlinecolor\":\"#2a3f5f\"},\"type\":\"carpet\"}],\"table\":[{\"cells\":{\"fill\":{\"color\":\"#EBF0F8\"},\"line\":{\"color\":\"white\"}},\"header\":{\"fill\":{\"color\":\"#C8D4E3\"},\"line\":{\"color\":\"white\"}},\"type\":\"table\"}],\"barpolar\":[{\"marker\":{\"line\":{\"color\":\"#E5ECF6\",\"width\":0.5},\"pattern\":{\"fillmode\":\"overlay\",\"size\":10,\"solidity\":0.2}},\"type\":\"barpolar\"}],\"pie\":[{\"automargin\":true,\"type\":\"pie\"}]},\"layout\":{\"autotypenumbers\":\"strict\",\"colorway\":[\"#636efa\",\"#EF553B\",\"#00cc96\",\"#ab63fa\",\"#FFA15A\",\"#19d3f3\",\"#FF6692\",\"#B6E880\",\"#FF97FF\",\"#FECB52\"],\"font\":{\"color\":\"#2a3f5f\"},\"hovermode\":\"closest\",\"hoverlabel\":{\"align\":\"left\"},\"paper_bgcolor\":\"white\",\"plot_bgcolor\":\"#E5ECF6\",\"polar\":{\"bgcolor\":\"#E5ECF6\",\"angularaxis\":{\"gridcolor\":\"white\",\"linecolor\":\"white\",\"ticks\":\"\"},\"radialaxis\":{\"gridcolor\":\"white\",\"linecolor\":\"white\",\"ticks\":\"\"}},\"ternary\":{\"bgcolor\":\"#E5ECF6\",\"aaxis\":{\"gridcolor\":\"white\",\"linecolor\":\"white\",\"ticks\":\"\"},\"baxis\":{\"gridcolor\":\"white\",\"linecolor\":\"white\",\"ticks\":\"\"},\"caxis\":{\"gridcolor\":\"white\",\"linecolor\":\"white\",\"ticks\":\"\"}},\"coloraxis\":{\"colorbar\":{\"outlinewidth\":0,\"ticks\":\"\"}},\"colorscale\":{\"sequential\":[[0.0,\"#0d0887\"],[0.1111111111111111,\"#46039f\"],[0.2222222222222222,\"#7201a8\"],[0.3333333333333333,\"#9c179e\"],[0.4444444444444444,\"#bd3786\"],[0.5555555555555556,\"#d8576b\"],[0.6666666666666666,\"#ed7953\"],[0.7777777777777778,\"#fb9f3a\"],[0.8888888888888888,\"#fdca26\"],[1.0,\"#f0f921\"]],\"sequentialminus\":[[0.0,\"#0d0887\"],[0.1111111111111111,\"#46039f\"],[0.2222222222222222,\"#7201a8\"],[0.3333333333333333,\"#9c179e\"],[0.4444444444444444,\"#bd3786\"],[0.5555555555555556,\"#d8576b\"],[0.6666666666666666,\"#ed7953\"],[0.7777777777777778,\"#fb9f3a\"],[0.8888888888888888,\"#fdca26\"],[1.0,\"#f0f921\"]],\"diverging\":[[0,\"#8e0152\"],[0.1,\"#c51b7d\"],[0.2,\"#de77ae\"],[0.3,\"#f1b6da\"],[0.4,\"#fde0ef\"],[0.5,\"#f7f7f7\"],[0.6,\"#e6f5d0\"],[0.7,\"#b8e186\"],[0.8,\"#7fbc41\"],[0.9,\"#4d9221\"],[1,\"#276419\"]]},\"xaxis\":{\"gridcolor\":\"white\",\"linecolor\":\"white\",\"ticks\":\"\",\"title\":{\"standoff\":15},\"zerolinecolor\":\"white\",\"automargin\":true,\"zerolinewidth\":2},\"yaxis\":{\"gridcolor\":\"white\",\"linecolor\":\"white\",\"ticks\":\"\",\"title\":{\"standoff\":15},\"zerolinecolor\":\"white\",\"automargin\":true,\"zerolinewidth\":2},\"scene\":{\"xaxis\":{\"backgroundcolor\":\"#E5ECF6\",\"gridcolor\":\"white\",\"linecolor\":\"white\",\"showbackground\":true,\"ticks\":\"\",\"zerolinecolor\":\"white\",\"gridwidth\":2},\"yaxis\":{\"backgroundcolor\":\"#E5ECF6\",\"gridcolor\":\"white\",\"linecolor\":\"white\",\"showbackground\":true,\"ticks\":\"\",\"zerolinecolor\":\"white\",\"gridwidth\":2},\"zaxis\":{\"backgroundcolor\":\"#E5ECF6\",\"gridcolor\":\"white\",\"linecolor\":\"white\",\"showbackground\":true,\"ticks\":\"\",\"zerolinecolor\":\"white\",\"gridwidth\":2}},\"shapedefaults\":{\"line\":{\"color\":\"#2a3f5f\"}},\"annotationdefaults\":{\"arrowcolor\":\"#2a3f5f\",\"arrowhead\":0,\"arrowwidth\":1},\"geo\":{\"bgcolor\":\"white\",\"landcolor\":\"#E5ECF6\",\"subunitcolor\":\"white\",\"showland\":true,\"showlakes\":true,\"lakecolor\":\"white\"},\"title\":{\"x\":0.05},\"mapbox\":{\"style\":\"light\"}}},\"xaxis\":{\"anchor\":\"y\",\"domain\":[0.0,1.0],\"title\":{\"text\":\"0\"}},\"yaxis\":{\"anchor\":\"x\",\"domain\":[0.0,1.0],\"title\":{\"text\":\"1\"}},\"legend\":{\"title\":{\"text\":\"entity\"},\"tracegroupgap\":0},\"title\":{\"text\":\"PCA components = 6, n_neighbors = 4, n_cases = 610, fold_change_threshold = 0.06\"},\"width\":1200,\"height\":800},                        {\"responsive\": true}                    ).then(function(){\n",
       "                            \n",
       "var gd = document.getElementById('a4701c7d-53f7-4e85-95b1-003d4ff4cb74');\n",
       "var x = new MutationObserver(function (mutations, observer) {{\n",
       "        var display = window.getComputedStyle(gd).display;\n",
       "        if (!display || display === 'none') {{\n",
       "            console.log([gd, 'removed!']);\n",
       "            Plotly.purge(gd);\n",
       "            observer.disconnect();\n",
       "        }}\n",
       "}});\n",
       "\n",
       "// Listen for the removal of the full notebook cells\n",
       "var notebookContainer = gd.closest('#notebook-container');\n",
       "if (notebookContainer) {{\n",
       "    x.observe(notebookContainer, {childList: true});\n",
       "}}\n",
       "\n",
       "// Listen for the clearing of the current output cell\n",
       "var outputEl = gd.closest('.output');\n",
       "if (outputEl) {{\n",
       "    x.observe(outputEl, {childList: true});\n",
       "}}\n",
       "\n",
       "                        })                };                });            </script>        </div>"
      ]
     },
     "metadata": {},
     "output_type": "display_data"
    }
   ],
   "source": [
    "N_NEIGHBORS = 4\n",
    "\n",
    "umap_2d = UMAP(n_neighbors=N_NEIGHBORS,n_epochs=200,random_state=1,spread=1,min_dist=0.1)\n",
    "umap_2d.fit(denoize)\n",
    "\n",
    "projections = umap_2d.transform(denoize)\n",
    "\n",
    "fig = px.scatter(\n",
    "    projections, x=0, y=1,\n",
    "    title= f'PCA components = {PRINCIPAL_COMPONENTS}, n_neighbors = {N_NEIGHBORS}, n_cases = {df.shape[0]}, fold_change_threshold = {AMPLITUDE_THRESHOLD}' ,\n",
    "    color=y_entity.astype(str), labels={'color': 'entity'},\n",
    "    opacity=1\n",
    ")\n",
    "\n",
    "fig.update_layout(width=1200, height=800)\n",
    "\n",
    "fig.show()"
   ]
  },
  {
   "cell_type": "code",
   "execution_count": null,
   "id": "7dfd8d6c-b398-4561-a362-bd23c550cb78",
   "metadata": {},
   "outputs": [],
   "source": []
  }
 ],
 "metadata": {
  "kernelspec": {
   "display_name": "Python 3 (ipykernel)",
   "language": "python",
   "name": "python3"
  },
  "language_info": {
   "codemirror_mode": {
    "name": "ipython",
    "version": 3
   },
   "file_extension": ".py",
   "mimetype": "text/x-python",
   "name": "python",
   "nbconvert_exporter": "python",
   "pygments_lexer": "ipython3",
   "version": "3.11.4"
  }
 },
 "nbformat": 4,
 "nbformat_minor": 5
}
