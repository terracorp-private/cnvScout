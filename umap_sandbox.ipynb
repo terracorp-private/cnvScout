{
 "cells": [
  {
   "cell_type": "code",
   "execution_count": 2,
   "id": "e78795a5-9c86-4c63-b27b-fc8e2e0d0c5c",
   "metadata": {
    "tags": []
   },
   "outputs": [
    {
     "name": "stderr",
     "output_type": "stream",
     "text": [
      "/home/alpha/miniconda3/envs/science/lib/python3.11/site-packages/umap/distances.py:1063: NumbaDeprecationWarning: \u001b[1mThe 'nopython' keyword argument was not supplied to the 'numba.jit' decorator. The implicit default value for this argument is currently False, but it will be changed to True in Numba 0.59.0. See https://numba.readthedocs.io/en/stable/reference/deprecation.html#deprecation-of-object-mode-fall-back-behaviour-when-using-jit for details.\u001b[0m\n",
      "  @numba.jit()\n",
      "/home/alpha/miniconda3/envs/science/lib/python3.11/site-packages/umap/distances.py:1071: NumbaDeprecationWarning: \u001b[1mThe 'nopython' keyword argument was not supplied to the 'numba.jit' decorator. The implicit default value for this argument is currently False, but it will be changed to True in Numba 0.59.0. See https://numba.readthedocs.io/en/stable/reference/deprecation.html#deprecation-of-object-mode-fall-back-behaviour-when-using-jit for details.\u001b[0m\n",
      "  @numba.jit()\n",
      "/home/alpha/miniconda3/envs/science/lib/python3.11/site-packages/umap/distances.py:1086: NumbaDeprecationWarning: \u001b[1mThe 'nopython' keyword argument was not supplied to the 'numba.jit' decorator. The implicit default value for this argument is currently False, but it will be changed to True in Numba 0.59.0. See https://numba.readthedocs.io/en/stable/reference/deprecation.html#deprecation-of-object-mode-fall-back-behaviour-when-using-jit for details.\u001b[0m\n",
      "  @numba.jit()\n",
      "/home/alpha/miniconda3/envs/science/lib/python3.11/site-packages/tqdm/auto.py:21: TqdmWarning: IProgress not found. Please update jupyter and ipywidgets. See https://ipywidgets.readthedocs.io/en/stable/user_install.html\n",
      "  from .autonotebook import tqdm as notebook_tqdm\n",
      "/home/alpha/miniconda3/envs/science/lib/python3.11/site-packages/umap/umap_.py:660: NumbaDeprecationWarning: \u001b[1mThe 'nopython' keyword argument was not supplied to the 'numba.jit' decorator. The implicit default value for this argument is currently False, but it will be changed to True in Numba 0.59.0. See https://numba.readthedocs.io/en/stable/reference/deprecation.html#deprecation-of-object-mode-fall-back-behaviour-when-using-jit for details.\u001b[0m\n",
      "  @numba.jit()\n"
     ]
    },
    {
     "name": "stdout",
     "output_type": "stream",
     "text": [
      "                    ID         0         1         2         3         4  \\\n",
      "0  206054070144_R04C01 -0.206122 -0.434517 -0.328805 -0.457852 -0.282843   \n",
      "1  207343240049_R06C01 -0.604223 -0.908279 -0.755190 -1.067731 -0.931967   \n",
      "2  203273200231_R06C01 -0.140007 -0.202586 -0.319612 -0.586545 -0.467044   \n",
      "3  205041760139_R08C01 -0.017324 -0.171120 -0.213193 -0.253498 -0.077428   \n",
      "4  205617070063_R08C01 -0.048790 -0.160160 -0.179252 -0.182080 -0.222032   \n",
      "\n",
      "          5         6         7         8  ...      1932      1933      1934  \\\n",
      "0 -0.318552 -0.300167 -0.214960 -0.096167  ... -0.174655 -0.310420 -0.245366   \n",
      "1 -0.969797 -0.803980 -0.971918 -0.383959  ... -0.166170 -0.325623 -0.171473   \n",
      "2 -0.475529 -0.409415 -0.569928 -0.432749  ... -0.216375 -0.247487 -0.075307   \n",
      "3  0.100056  0.076721 -0.083439 -0.088388  ...  0.050205 -0.041366 -0.004596   \n",
      "4 -0.259862 -0.058690 -0.283550 -0.268347  ... -0.551190 -0.308652 -0.318905   \n",
      "\n",
      "       1935      1936      1937      1938      1939      1940   entity  \n",
      "0 -0.290621 -0.558261 -0.321380 -0.134350 -0.464923 -0.445477  gbm_cnv  \n",
      "1 -0.114905 -0.262690 -0.222739 -5.538414 -7.716303 -7.083089  gbm_cnv  \n",
      "2 -0.088388 -0.287439 -0.250669 -0.187383 -0.376534 -0.606698  gbm_cnv  \n",
      "3 -0.079903 -0.377949 -0.163342  0.077428 -0.324562 -0.697207  gbm_cnv  \n",
      "4 -0.236881 -0.205768 -0.215314 -0.369110 -3.524927 -3.828276  gbm_cnv  \n",
      "\n",
      "[5 rows x 1943 columns]\n",
      "                    ID         0         1         2         3         4  \\\n",
      "0  206054070144_R04C01 -0.206122 -0.434517 -0.328805 -0.457852 -0.282843   \n",
      "1  207343240049_R06C01 -0.604223 -0.908279 -0.755190 -1.067731 -0.931967   \n",
      "2  203273200231_R06C01 -0.140007 -0.202586 -0.319612 -0.586545 -0.467044   \n",
      "3  205041760139_R08C01 -0.017324 -0.171120 -0.213193 -0.253498 -0.077428   \n",
      "4  205617070063_R08C01 -0.048790 -0.160160 -0.179252 -0.182080 -0.222032   \n",
      "\n",
      "          5         6         7         8  ...      1932      1933      1934  \\\n",
      "0 -0.318552 -0.300167 -0.214960 -0.096167  ... -0.174655 -0.310420 -0.245366   \n",
      "1 -0.969797 -0.803980 -0.971918 -0.383959  ... -0.166170 -0.325623 -0.171473   \n",
      "2 -0.475529 -0.409415 -0.569928 -0.432749  ... -0.216375 -0.247487 -0.075307   \n",
      "3  0.100056  0.076721 -0.083439 -0.088388  ...  0.050205 -0.041366 -0.004596   \n",
      "4 -0.259862 -0.058690 -0.283550 -0.268347  ... -0.551190 -0.308652 -0.318905   \n",
      "\n",
      "       1935      1936      1937      1938      1939      1940   entity  \n",
      "0 -0.290621 -0.558261 -0.321380 -0.134350 -0.464923 -0.445477  gbm_cnv  \n",
      "1 -0.114905 -0.262690 -0.222739 -5.538414 -7.716303 -7.083089  gbm_cnv  \n",
      "2 -0.088388 -0.287439 -0.250669 -0.187383 -0.376534 -0.606698  gbm_cnv  \n",
      "3 -0.079903 -0.377949 -0.163342  0.077428 -0.324562 -0.697207  gbm_cnv  \n",
      "4 -0.236881 -0.205768 -0.215314 -0.369110 -3.524927 -3.828276  gbm_cnv  \n",
      "\n",
      "[5 rows x 1943 columns]\n"
     ]
    }
   ],
   "source": [
    "import pandas as pd\n",
    "import numpy as np\n",
    "\n",
    "\n",
    "# preprocessing and dimensionality reduction\n",
    "from sklearn.preprocessing import StandardScaler\n",
    "from sklearn.preprocessing import MinMaxScaler\n",
    "from sklearn.preprocessing import RobustScaler\n",
    "from sklearn.preprocessing import QuantileTransformer\n",
    "from sklearn.preprocessing import Normalizer\n",
    "from sklearn.decomposition import PCA\n",
    "import pywt\n",
    "from umap import UMAP\n",
    "\n",
    "\n",
    "# visualization\n",
    "import matplotlib.pyplot as plt\n",
    "import plotly.express as px\n",
    "\n",
    "\n",
    "AMPLITUDE_THRESHOLD = 0.06\n",
    "\n",
    "\n",
    "df = pd.read_csv(\"/home/alpha/programs/python_files/datasets/cnv_and_mut/entities_transformed.csv\")\n",
    "\n",
    "# basic filtering. Rename Unnamded 0 with ID. Dropp chromosomes Y and X\n",
    "# df = df.dropna(axis=1)\n",
    "# df = df.fillna(0)\n",
    "# df = df.rename(columns={\"Unnamed: 0\": \"ID\"})\n",
    "df = df[df.columns.drop(list(df.filter(regex='[YX]')))]\n",
    "\n",
    "print(df.head())\n",
    "# Make it amplitude agnostic (experimental) \n",
    "def stupid_custom_filter(df=df,AMPLITUDE_THRESHOLD=AMPLITUDE_THRESHOLD):\n",
    "    # temporary drop non digit columns\n",
    "    helper_df = df[[\"entity\",\"ID\"]]\n",
    "    df = df.drop(columns=[\"entity\",\"ID\"])\n",
    "    # standardize and normalize data\n",
    "    df = (df-df.mean())/df.std()\n",
    "    df = 2*((df-df.min())/(df.max()-df.min()))-1\n",
    "    # apply the filter\n",
    "    df[df < -AMPLITUDE_THRESHOLD] = -1\n",
    "    df[df > AMPLITUDE_THRESHOLD] = 1\n",
    "    df[(df <= AMPLITUDE_THRESHOLD) & (df >= -AMPLITUDE_THRESHOLD)] = 0\n",
    "    # append the dropped columns on the filtered dataframe\n",
    "    df[\"ID\"] = helper_df[\"ID\"]\n",
    "    df[\"entity\"] = helper_df[\"entity\"]\n",
    "    \n",
    "    return df\n",
    "\n",
    "# df = stupid_custom_filter()\n",
    "\n",
    "\n",
    "\n",
    "# Make features\n",
    "features = df.columns.tolist()\n",
    "features.remove(\"entity\")\n",
    "features.remove(\"ID\")\n",
    "\n",
    "print(df.head())"
   ]
  },
  {
   "cell_type": "markdown",
   "id": "b68accec-2346-4833-91b8-07986eb5eeb0",
   "metadata": {},
   "source": [
    "## Standardization and denoising using PCA\n",
    "\n",
    "### Best settings so far\n",
    "\n",
    "*Master file builder*\n",
    "\n",
    "file[\"value\"] = 2*((file[\"value\"]-file[\"value\"].min())/(file[\"value\"].max()-file[\"value\"].min()))-1\n",
    "\n",
    "file[\"value\"] = (file[\"value\"]-file[\"value\"].mean())/file[\"value\"].std()\n",
    "\n",
    "*Preprocessing*\n",
    "\n",
    "PRINCIPAL_COMPONENTS = 5\n",
    "StandardScaler\n",
    "N_NEIGHBORS = 10\n"
   ]
  },
  {
   "cell_type": "code",
   "execution_count": 3,
   "id": "f0756a9e-b3a7-4521-a175-0b74999de9ff",
   "metadata": {},
   "outputs": [
    {
     "name": "stdin",
     "output_type": "stream",
     "text": [
      "Scaler to use (default StandardSclaer) : \n",
      " 1.StandardScaler \n",
      " 2.MinMaxScaler \n",
      " 3.RobustScaler \n",
      " 4.QuantileTransformer \n",
      " 5. Normalizer \n",
      " 3\n"
     ]
    },
    {
     "name": "stdout",
     "output_type": "stream",
     "text": [
      "[0.15194407 0.1220048  0.0698077  0.05956985 0.04701756 0.04549002\n",
      " 0.03412264 0.03196018 0.03071748 0.02545634 0.02266527 0.01919677\n",
      " 0.01585631 0.01443147 0.01393399] 4.068704263953084\n"
     ]
    },
    {
     "data": {
      "text/plain": [
       "Text(0, 0.5, 'variance %')"
      ]
     },
     "execution_count": 3,
     "metadata": {},
     "output_type": "execute_result"
    },
    {
     "data": {
      "image/png": "[encoded data removed]",
      "text/plain": [
       "<Figure size 1008x432 with 1 Axes>"
      ]
     },
     "metadata": {
      "needs_background": "light"
     },
     "output_type": "display_data"
    }
   ],
   "source": [
    "PRINCIPAL_COMPONENTS = 15\n",
    "\n",
    "# make targets\n",
    "x = df.loc[:,features].values\n",
    "y_entity = df.loc[:,\"entity\"].values\n",
    "y_id = df.loc[:,\"ID\"].values\n",
    "\n",
    "\n",
    "# test transform and preprocessing methods\n",
    "def custom_preprocess(method=1,x=x):\n",
    "    if method == 2:\n",
    "        scaler = MinMaxScaler()\n",
    "    elif method == 3:\n",
    "        scaler = RobustScaler(quantile_range=(0.2,0.8))\n",
    "    elif method == 4:\n",
    "        scaler = QuantileTransformer(n_quantiles=10, random_state=0, output_distribution=\"normal\")\n",
    "    elif method == 5:\n",
    "        scaler = Normalizer()\n",
    "    else:\n",
    "        print(\"using default StandardScaler\")\n",
    "        scaler = StandardScaler()\n",
    "    \n",
    "    x = scaler.fit_transform(x)\n",
    "    # x = Normalizer(norm=\"max\").fit_transform(x)\n",
    "    return x\n",
    "    \n",
    "method = int(input(\"Scaler to use (default StandardSclaer) : \\n 1.StandardScaler \\n 2.MinMaxScaler \\n 3.RobustScaler \\n 4.QuantileTransformer \\n 5. Normalizer \\n\"))\n",
    "x = custom_preprocess(method,x)\n",
    "\n",
    "\n",
    "# PCA\n",
    "pca_denoize = PCA(n_components=PRINCIPAL_COMPONENTS)\n",
    "denoize = pca_denoize.fit_transform(x)\n",
    "# print components which contribute to variance the most\n",
    "variance = pca_denoize.explained_variance_ratio_\n",
    "noise = pca_denoize.noise_variance_\n",
    "print(variance, noise)\n",
    "\n",
    "plt.figure(figsize=[14,6])\n",
    "plt.bar(range(variance.shape[0]),variance)\n",
    "plt.xlabel('PCA features')\n",
    "plt.ylabel('variance %')\n"
   ]
  },
  {
   "cell_type": "code",
   "execution_count": 157,
   "id": "75080adb-4ad3-4081-8ac9-f8aa124535db",
   "metadata": {},
   "outputs": [
    {
     "data": {
      "application/vnd.plotly.v1+json": {
       "config": {
        "plotlyServerURL": "https://plot.ly"
       },
       "data": [
        {
         "hovertemplate": "entity=gbm_cnv<br>0=%{x}<br>1=%{y}<extra></extra>",
         "legendgroup": "gbm_cnv",
         "marker": {
          "color": "#636efa",
          "opacity": 1,
          "symbol": "circle"
         },
         "mode": "markers",
         "name": "gbm_cnv",
         "orientation": "v",
         "showlegend": true,
         "type": "scatter",
         "x": [
          21.045665740966797,
          18.048810958862305,
          20.16400146484375,
          6.147335052490234,
          20.32579803466797,
          18.347558975219727,
          7.811897277832031,
          21.367921829223633,
          22.713157653808594,
          19.82105827331543,
          19.737030029296875,
          19.76817512512207,
          19.204973220825195,
          14.29317855834961,
          19.992467880249023,
          13.771677017211914,
          16.000410079956055,
          19.371196746826172,
          22.55760383605957,
          20.947219848632812,
          19.096920013427734,
          22.08207893371582,
          15.912199974060059,
          10.187383651733398,
          19.528789520263672,
          17.70625114440918,
          21.65436553955078,
          13.869741439819336,
          20.843637466430664,
          -5.689265251159668,
          22.6312255859375,
          16.240585327148438,
          16.654403686523438,
          17.331562042236328,
          20.95086097717285,
          15.284025192260742,
          7.393499851226807,
          19.440959930419922,
          8.931286811828613,
          20.173912048339844,
          17.35902976989746,
          19.261276245117188,
          0.88591068983078,
          5.6397857666015625,
          2.055645704269409,
          20.699506759643555,
          20.14496612548828,
          18.29288673400879,
          20.676982879638672,
          21.191709518432617,
          22.005136489868164,
          20.713157653808594,
          21.922391891479492,
          8.128683090209961,
          20.34947967529297,
          22.285860061645508,
          1.4092211723327637,
          7.242411136627197,
          17.184682846069336,
          19.938091278076172,
          7.364819526672363,
          20.572721481323242,
          14.720200538635254,
          19.746747970581055,
          18.8159122467041,
          18.710954666137695,
          17.583242416381836,
          15.141571998596191,
          21.15329933166504,
          20.61033821105957,
          17.88675880432129,
          22.629610061645508,
          13.519721984863281,
          0.0001740901352604851,
          5.964836120605469,
          17.658939361572266,
          20.947467803955078,
          13.421414375305176,
          17.45829200744629,
          8.924779891967773,
          15.870497703552246,
          5.875273704528809,
          17.15328598022461,
          13.107791900634766,
          14.671730041503906,
          20.867952346801758,
          5.421276092529297,
          14.178215980529785,
          7.963887691497803,
          7.758462905883789,
          22.742216110229492,
          20.305133819580078,
          15.928434371948242,
          6.094939708709717,
          20.21991539001465,
          21.5919132232666,
          18.060741424560547,
          20.567615509033203,
          11.740971565246582,
          20.283172607421875,
          8.05618953704834,
          19.12040138244629,
          16.025217056274414,
          0.9711475968360901,
          8.836344718933105,
          16.519771575927734,
          19.923534393310547,
          19.86446189880371,
          21.285850524902344,
          14.157784461975098,
          16.194801330566406,
          5.6191816329956055,
          8.196742057800293,
          17.317598342895508,
          7.278149604797363,
          14.909143447875977,
          16.42530632019043,
          19.17534065246582,
          8.4681396484375,
          19.015634536743164,
          18.731094360351562,
          13.920294761657715,
          19.487184524536133,
          15.256805419921875,
          19.115964889526367,
          16.713356018066406,
          15.913187026977539,
          22.581621170043945,
          14.427279472351074,
          8.324461936950684,
          5.831040859222412,
          0.2080964297056198,
          18.50322151184082,
          10.09935188293457,
          22.218908309936523,
          17.802597045898438,
          7.506053924560547,
          7.509382247924805,
          10.392539024353027,
          22.281492233276367,
          20.468231201171875,
          16.782943725585938,
          22.366662979125977,
          15.210773468017578,
          1.4607337713241577,
          8.441693305969238,
          6.497574329376221,
          19.197093963623047,
          9.106200218200684,
          15.507004737854004,
          19.121335983276367,
          8.010407447814941,
          22.34042739868164,
          7.208080291748047,
          10.34431266784668,
          6.032010078430176,
          20.678634643554688,
          19.856216430664062,
          6.683549880981445,
          19.224502563476562,
          18.740131378173828,
          12.960583686828613,
          18.676822662353516,
          7.564605712890625,
          20.618181228637695,
          5.081058979034424,
          17.79961585998535,
          16.638399124145508,
          8.011054992675781,
          20.747209548950195,
          19.49139404296875,
          17.46688461303711,
          8.303653717041016,
          18.7958927154541,
          10.054673194885254,
          12.652541160583496,
          19.308185577392578,
          19.85698890686035,
          7.679451942443848,
          16.70704460144043,
          14.321402549743652,
          5.759359359741211,
          -12.070778846740723,
          17.862886428833008,
          22.121593475341797,
          14.890188217163086,
          19.440692901611328,
          8.604138374328613,
          21.450857162475586,
          1.032936453819275,
          16.965898513793945,
          19.642881393432617,
          18.423969268798828,
          7.494587421417236,
          19.503629684448242,
          22.791845321655273,
          20.57889175415039,
          14.418366432189941,
          21.667980194091797,
          19.416147232055664,
          21.024917602539062,
          21.197355270385742,
          16.75864028930664,
          21.575973510742188
         ],
         "xaxis": "x",
         "y": [
          1.4267796277999878,
          -5.17866325378418,
          1.1941486597061157,
          12.268720626831055,
          -0.7708622813224792,
          13.696050643920898,
          5.058230400085449,
          4.0236592292785645,
          4.559238433837891,
          4.842426776885986,
          -8.16662311553955,
          -7.644962310791016,
          -9.12115478515625,
          -7.183202266693115,
          -5.034031391143799,
          -5.185086250305176,
          1.2065865993499756,
          -9.917694091796875,
          3.345179796218872,
          7.576747894287109,
          -9.789523124694824,
          4.9469099044799805,
          -1.2702460289001465,
          -0.36642155051231384,
          -8.294565200805664,
          -9.018444061279297,
          4.7422380447387695,
          -5.488368034362793,
          -2.9969427585601807,
          -2.4299676418304443,
          4.176215171813965,
          -4.978144645690918,
          21.343027114868164,
          -9.526761054992676,
          -0.20455223321914673,
          0.9006631970405579,
          17.48345375061035,
          17.7965030670166,
          6.117238521575928,
          5.389992713928223,
          -0.0748053714632988,
          -7.645954132080078,
          6.48758602142334,
          8.886099815368652,
          8.847545623779297,
          -2.3667075634002686,
          17.484912872314453,
          -8.092679977416992,
          1.670569896697998,
          -0.8207777142524719,
          -0.814738392829895,
          3.705037832260132,
          -1.9387081861495972,
          17.92186164855957,
          3.1566035747528076,
          1.3323127031326294,
          6.211441993713379,
          20.56392478942871,
          -3.8673954010009766,
          1.090197205543518,
          6.982450008392334,
          6.189620494842529,
          0.733356773853302,
          -5.589975833892822,
          -8.82825756072998,
          -9.430112838745117,
          0.6169106364250183,
          8.699662208557129,
          -1.5558500289916992,
          -4.515762805938721,
          -10.346684455871582,
          -0.7778660655021667,
          -2.624598741531372,
          7.6604509353637695,
          8.994915962219238,
          -5.305971145629883,
          6.931931018829346,
          -2.8109145164489746,
          1.6014410257339478,
          6.197644233703613,
          -3.683521032333374,
          6.914256572723389,
          -4.850494861602783,
          -4.880207061767578,
          -2.119452714920044,
          6.038026332855225,
          8.261574745178223,
          -1.753867506980896,
          5.232595443725586,
          7.067113399505615,
          3.559159517288208,
          1.4396165609359741,
          1.358878493309021,
          19.75920867919922,
          -2.51938796043396,
          -1.415828824043274,
          -9.694097518920898,
          -3.876871109008789,
          -4.382850646972656,
          -1.574587106704712,
          1.658143401145935,
          -0.6504626274108887,
          -8.796725273132324,
          6.078215599060059,
          1.5224870443344116,
          -9.076949119567871,
          -9.53084945678711,
          17.467113494873047,
          -0.5552947521209717,
          -7.402811050415039,
          1.5391829013824463,
          19.399837493896484,
          2.9504234790802,
          -9.935556411743164,
          18.714262008666992,
          0.3426239490509033,
          -4.158565998077393,
          4.037415504455566,
          3.756265878677368,
          -7.813422679901123,
          -2.0545413494110107,
          -7.004181861877441,
          2.4178824424743652,
          -1.6623872518539429,
          -5.595067024230957,
          -0.23038214445114136,
          -1.5121370553970337,
          -1.2094043493270874,
          -2.605264186859131,
          6.758917808532715,
          8.074348449707031,
          8.57382583618164,
          -7.869401454925537,
          -0.49974524974823,
          -0.2221914529800415,
          -10.196005821228027,
          8.290619850158691,
          15.846583366394043,
          22.22418212890625,
          5.425873279571533,
          4.922546863555908,
          0.8118426203727722,
          4.028349876403809,
          -2.890580415725708,
          6.683010578155518,
          6.2758049964904785,
          19.983356475830078,
          5.288052558898926,
          5.102123260498047,
          -5.207347869873047,
          -8.162013053894043,
          -5.845035076141357,
          5.647147178649902,
          10.105205535888672,
          -1.0733639001846313,
          17.0937442779541,
          -4.4059224128723145,
          17.416656494140625,
          20.326642990112305,
          -7.188856601715088,
          13.536112785339355,
          19.8255558013916,
          -8.542563438415527,
          2.7011759281158447,
          5.811266899108887,
          7.677558422088623,
          0.6305986046791077,
          -9.19738483428955,
          16.992311477661133,
          -3.3961615562438965,
          -1.8158893585205078,
          -10.245919227600098,
          1.8291531801223755,
          -9.842266082763672,
          3.6069324016571045,
          -1.65287446975708,
          -2.467158079147339,
          -4.291887283325195,
          5.4540605545043945,
          -4.868748188018799,
          -5.263421058654785,
          18.377193450927734,
          13.816904067993164,
          -9.961557388305664,
          -0.5278258919715881,
          5.910380840301514,
          -2.5073020458221436,
          4.602790832519531,
          2.336860418319702,
          6.576369762420654,
          20.62594985961914,
          -9.145242691040039,
          -0.06189582124352455,
          16.24159812927246,
          -8.653236389160156,
          -0.04357931762933731,
          4.722990036010742,
          0.5868062973022461,
          -0.3365340828895569,
          -1.0060319900512695,
          1.1689420938491821,
          -2.9572818279266357,
          1.6782917976379395,
          1.8942846059799194
         ],
         "yaxis": "y"
        },
        {
         "hovertemplate": "entity=k27_cnv<br>0=%{x}<br>1=%{y}<extra></extra>",
         "legendgroup": "k27_cnv",
         "marker": {
          "color": "#EF553B",
          "opacity": 1,
          "symbol": "circle"
         },
         "mode": "markers",
         "name": "k27_cnv",
         "orientation": "v",
         "showlegend": true,
         "type": "scatter",
         "x": [
          17.145160675048828,
          6.963189601898193,
          13.740751266479492,
          5.165925979614258,
          10.827981948852539,
          10.347029685974121,
          6.039301872253418,
          0.9870282411575317,
          5.663009166717529,
          15.150796890258789,
          5.592772960662842,
          6.81474494934082,
          13.909843444824219,
          8.385302543640137,
          9.142894744873047,
          6.7920002937316895,
          4.553812503814697,
          0.11226774752140045,
          7.56097412109375,
          11.325498580932617,
          7.999655246734619,
          8.435315132141113,
          6.171789169311523,
          4.510821342468262,
          5.595803260803223,
          1.4922488927841187,
          3.4751782417297363,
          12.85478401184082,
          6.484575271606445,
          6.333827972412109,
          21.284767150878906,
          0.9220587611198425,
          6.902848243713379,
          15.098677635192871
         ],
         "xaxis": "x",
         "y": [
          13.721022605895996,
          8.744535446166992,
          17.07825469970703,
          7.4061055183410645,
          23.27163314819336,
          22.81001853942871,
          15.33747386932373,
          9.429433822631836,
          19.89414405822754,
          21.53802490234375,
          18.50996208190918,
          10.094783782958984,
          -6.643457889556885,
          6.003006458282471,
          5.706496238708496,
          7.042786598205566,
          5.707749366760254,
          8.499686241149902,
          8.848337173461914,
          19.188600540161133,
          6.16878604888916,
          19.00281524658203,
          20.17995834350586,
          6.742382049560547,
          14.983904838562012,
          5.547435283660889,
          17.034730911254883,
          17.037015914916992,
          6.71028470993042,
          18.570676803588867,
          -2.3756515979766846,
          10.127734184265137,
          5.655930519104004,
          22.734668731689453
         ],
         "yaxis": "y"
        },
        {
         "hovertemplate": "entity=mng_cnv<br>0=%{x}<br>1=%{y}<extra></extra>",
         "legendgroup": "mng_cnv",
         "marker": {
          "color": "#00cc96",
          "opacity": 1,
          "symbol": "circle"
         },
         "mode": "markers",
         "name": "mng_cnv",
         "orientation": "v",
         "showlegend": true,
         "type": "scatter",
         "x": [
          -1.0873453617095947,
          3.520869255065918,
          9.865804672241211,
          11.666109085083008,
          15.076603889465332,
          -3.7403554916381836,
          14.017663955688477,
          10.682907104492188,
          -5.893404006958008,
          18.676502227783203,
          -3.327244997024536,
          19.387577056884766,
          -3.2892799377441406,
          15.63519287109375,
          17.13593864440918,
          10.270750045776367,
          3.302765369415283,
          14.401082038879395,
          11.510727882385254,
          -4.015196800231934,
          -3.6546900272369385,
          20.9163761138916,
          16.324853897094727,
          -2.863623857498169,
          1.2458525896072388,
          12.586477279663086,
          16.776399612426758,
          -1.1214423179626465,
          -4.206060409545898,
          -0.2901565134525299,
          0.9492738842964172,
          -3.707066059112549,
          18.468576431274414,
          1.2215728759765625,
          16.015174865722656,
          -4.2169928550720215,
          13.894447326660156,
          2.723708391189575,
          15.685979843139648,
          17.499378204345703,
          -2.585188627243042,
          11.451689720153809,
          11.017900466918945,
          -1.990654706954956,
          13.862113952636719,
          -5.091121196746826,
          -5.002546787261963,
          11.4773588180542,
          14.142748832702637,
          14.544282913208008,
          16.102529525756836,
          -4.631264686584473,
          14.015584945678711,
          -1.7859387397766113,
          -3.7073113918304443,
          13.13238525390625,
          1.5541738271713257,
          -3.6352031230926514,
          -9.2808256149292,
          15.3460111618042,
          13.482837677001953,
          1.1982299089431763,
          14.841011047363281,
          18.525192260742188,
          1.2309377193450928,
          -1.9088799953460693,
          10.308467864990234,
          -2.0172204971313477,
          17.221044540405273,
          -1.468861699104309,
          17.454967498779297,
          -4.098910331726074,
          -4.5861992835998535,
          12.304515838623047,
          8.68493366241455,
          14.359477996826172,
          -10.467486381530762,
          8.335204124450684,
          17.311843872070312,
          1.154759407043457,
          8.983234405517578,
          17.54311180114746,
          14.494349479675293,
          18.878753662109375,
          0.7916468381881714,
          7.148391246795654,
          15.756129264831543,
          -9.737792015075684,
          17.166906356811523,
          -0.6647082567214966,
          7.913997650146484,
          -4.462491989135742,
          -4.519530773162842,
          14.587569236755371,
          18.603778839111328,
          15.660624504089355,
          -3.2987964153289795,
          17.838733673095703,
          13.813985824584961,
          -2.5389909744262695,
          -1.9921432733535767,
          3.3883209228515625,
          0.8937832713127136,
          7.56404972076416,
          15.564420700073242,
          -1.8041552305221558,
          -9.21657657623291,
          13.727399826049805,
          13.954949378967285,
          16.212783813476562,
          12.319306373596191,
          -5.385387897491455,
          0.33212825655937195,
          11.1653413772583,
          -1.5846773386001587,
          -1.6903458833694458,
          13.341178894042969,
          -4.68348503112793,
          0.9712657332420349,
          0.31808963418006897,
          18.426467895507812,
          -1.0584062337875366,
          -9.464152336120605,
          3.5950920581817627,
          16.027856826782227,
          -2.449596405029297,
          1.6815550327301025,
          -3.8263800144195557,
          1.1605511903762817,
          14.97117805480957,
          17.791593551635742,
          15.81090259552002,
          -1.9839637279510498,
          18.64727020263672,
          -5.709506511688232,
          -9.506176948547363,
          17.909652709960938,
          -4.857165813446045,
          -3.7096328735351562,
          18.11920738220215,
          14.887468338012695,
          -2.182401657104492,
          15.646568298339844,
          -1.8274192810058594,
          13.041961669921875,
          12.141669273376465,
          15.699885368347168,
          18.774477005004883,
          12.608373641967773,
          -2.3540656566619873,
          -5.650780200958252,
          12.800546646118164,
          -2.5735485553741455,
          7.693019390106201,
          14.925509452819824,
          -0.27201637625694275,
          15.772394180297852,
          13.242664337158203,
          9.832144737243652,
          16.296245574951172,
          -1.21632981300354,
          -4.462799072265625,
          14.700724601745605,
          12.172859191894531,
          13.040547370910645,
          17.643999099731445,
          15.110200881958008
         ],
         "xaxis": "x",
         "y": [
          -3.3132431507110596,
          -5.182762145996094,
          -4.710217475891113,
          -3.7439844608306885,
          19.58917236328125,
          -7.0589165687561035,
          21.21778678894043,
          -4.401556968688965,
          -4.5181169509887695,
          6.023510456085205,
          0.047703951597213745,
          22.726411819458008,
          -3.0726099014282227,
          9.998895645141602,
          13.84296989440918,
          13.640973091125488,
          -5.16213321685791,
          7.555081367492676,
          14.480607032775879,
          -0.7422870397567749,
          -4.529269218444824,
          17.027774810791016,
          18.85280418395996,
          -6.979474067687988,
          -5.555201530456543,
          11.394935607910156,
          23.152467727661133,
          -6.6503987312316895,
          -1.612931728363037,
          16.00091552734375,
          -8.20748519897461,
          -2.767012119293213,
          19.068918228149414,
          -8.896659851074219,
          24.14828872680664,
          -1.1922545433044434,
          12.383428573608398,
          -5.2117743492126465,
          9.654428482055664,
          23.59708023071289,
          -5.23453950881958,
          21.1439151763916,
          -4.2190351486206055,
          -8.006214141845703,
          12.23054027557373,
          -4.896110534667969,
          -4.2490315437316895,
          20.637537002563477,
          16.509641647338867,
          7.587735652923584,
          19.277935028076172,
          -2.225477457046509,
          12.68335247039795,
          -3.5793893337249756,
          -1.158265233039856,
          12.690779685974121,
          -8.556516647338867,
          -2.2655651569366455,
          14.477174758911133,
          9.279950141906738,
          12.632389068603516,
          -5.119787216186523,
          7.753789901733398,
          21.392597198486328,
          -5.016994476318359,
          -7.6401214599609375,
          19.407066345214844,
          -6.327568054199219,
          20.97113800048828,
          -2.9967615604400635,
          17.94076156616211,
          -6.585838794708252,
          -5.756003379821777,
          11.652779579162598,
          -4.965834617614746,
          7.77562141418457,
          14.252644538879395,
          -5.361939907073975,
          21.544553756713867,
          -5.547779560089111,
          -5.114823341369629,
          22.40904998779297,
          18.590484619140625,
          21.589637756347656,
          -4.493136405944824,
          17.802654266357422,
          22.419151306152344,
          14.728080749511719,
          21.879613876342773,
          -7.042969226837158,
          17.535547256469727,
          -1.608312964439392,
          -2.367292642593384,
          9.82691478729248,
          22.6500186920166,
          9.444889068603516,
          -7.290945529937744,
          23.508079528808594,
          12.43864631652832,
          -7.695813179016113,
          -7.968343257904053,
          -5.261143684387207,
          -8.103647232055664,
          -6.026618480682373,
          8.656925201416016,
          -3.3032262325286865,
          14.89072322845459,
          15.084299087524414,
          16.62716293334961,
          23.162063598632812,
          12.117518424987793,
          -3.787611722946167,
          -8.62010669708252,
          14.277189254760742,
          -3.100598096847534,
          -3.320298910140991,
          14.162447929382324,
          -5.39042329788208,
          -8.867453575134277,
          9.111095428466797,
          21.914316177368164,
          -8.162247657775879,
          14.744640350341797,
          -5.1166486740112305,
          23.896787643432617,
          -4.007646560668945,
          -5.422021389007568,
          -3.580775499343872,
          -8.244024276733398,
          9.068471908569336,
          22.808509826660156,
          9.160238265991211,
          -5.744617938995361,
          5.68062686920166,
          -4.2414374351501465,
          14.302358627319336,
          23.47127342224121,
          -3.142346143722534,
          -0.5772051215171814,
          18.53117561340332,
          5.3227009773254395,
          -5.569409370422363,
          19.393539428710938,
          -5.822791576385498,
          13.113609313964844,
          19.196861267089844,
          9.493680953979492,
          5.703868865966797,
          14.05489730834961,
          -7.928262710571289,
          -3.3707709312438965,
          22.058744430541992,
          -5.773751258850098,
          -5.881843090057373,
          5.019964218139648,
          -8.158479690551758,
          8.097780227661133,
          17.15362548828125,
          14.462891578674316,
          20.81940269470215,
          -7.750837326049805,
          -4.715795993804932,
          20.29949188232422,
          11.797991752624512,
          13.596579551696777,
          18.301645278930664,
          18.941518783569336
         ],
         "yaxis": "y"
        },
        {
         "hovertemplate": "entity=oligo_cnv<br>0=%{x}<br>1=%{y}<extra></extra>",
         "legendgroup": "oligo_cnv",
         "marker": {
          "color": "#ab63fa",
          "opacity": 1,
          "symbol": "circle"
         },
         "mode": "markers",
         "name": "oligo_cnv",
         "orientation": "v",
         "showlegend": true,
         "type": "scatter",
         "x": [
          -12.327096939086914,
          -9.517327308654785,
          -7.849845886230469,
          -8.261253356933594,
          -13.345645904541016,
          -9.132075309753418,
          -12.845120429992676,
          -13.699584007263184,
          -9.906353950500488,
          -12.935084342956543,
          -12.575121879577637,
          -10.714082717895508,
          -13.88053035736084,
          -6.042814254760742,
          -14.133398056030273,
          -9.546358108520508,
          -13.390379905700684,
          -6.844995021820068,
          0.15148521959781647,
          -13.207058906555176,
          -14.558762550354004,
          -13.116260528564453,
          -14.524782180786133,
          -13.993701934814453,
          -8.504159927368164,
          -12.335058212280273,
          -8.830756187438965,
          -11.507041931152344,
          -11.721163749694824,
          -12.347990989685059,
          -7.230532169342041,
          -7.62838077545166,
          -12.938724517822266,
          -13.861096382141113,
          -9.951064109802246,
          -13.448799133300781,
          -14.402105331420898,
          -12.245355606079102,
          -12.891146659851074,
          -6.582947731018066,
          -10.347556114196777,
          -13.804332733154297,
          -10.854710578918457,
          -12.230945587158203,
          -14.220976829528809,
          -11.111949920654297,
          -10.198899269104004
         ],
         "xaxis": "x",
         "y": [
          13.069242477416992,
          12.907912254333496,
          14.263554573059082,
          14.045624732971191,
          9.345641136169434,
          13.604599952697754,
          10.056689262390137,
          13.766874313354492,
          13.430397987365723,
          9.22121810913086,
          13.664175033569336,
          12.043951988220215,
          10.649827003479004,
          14.711301803588867,
          13.80339527130127,
          13.423221588134766,
          13.623710632324219,
          14.265910148620605,
          7.1994099617004395,
          9.485055923461914,
          13.358362197875977,
          13.373943328857422,
          13.200836181640625,
          10.521284103393555,
          14.199119567871094,
          13.61808967590332,
          13.81450366973877,
          12.114442825317383,
          10.997330665588379,
          10.117466926574707,
          14.601417541503906,
          13.833823204040527,
          9.245354652404785,
          13.451026916503906,
          12.543054580688477,
          9.096956253051758,
          13.21631908416748,
          10.09960651397705,
          10.152769088745117,
          14.569417953491211,
          12.340386390686035,
          9.956366539001465,
          12.287590026855469,
          10.355921745300293,
          13.694437026977539,
          11.85555648803711,
          12.089411735534668
         ],
         "yaxis": "y"
        },
        {
         "hovertemplate": "entity=pxa_cnv<br>0=%{x}<br>1=%{y}<extra></extra>",
         "legendgroup": "pxa_cnv",
         "marker": {
          "color": "#FFA15A",
          "opacity": 1,
          "symbol": "circle"
         },
         "mode": "markers",
         "name": "pxa_cnv",
         "orientation": "v",
         "showlegend": true,
         "type": "scatter",
         "x": [
          10.903429985046387,
          15.17354965209961,
          15.282196044921875,
          18.24814796447754,
          13.742988586425781,
          18.110931396484375,
          22.00711441040039,
          15.04613208770752,
          14.085831642150879,
          9.918172836303711,
          18.85465431213379,
          12.435348510742188,
          15.56997013092041,
          12.673213005065918,
          9.979716300964355,
          17.533998489379883,
          18.280101776123047,
          8.727890968322754,
          18.6870059967041,
          0.9865192770957947,
          19.610000610351562,
          14.214651107788086,
          15.059342384338379,
          4.865668773651123,
          5.268192291259766,
          11.95681381225586,
          14.962328910827637,
          16.368267059326172,
          19.106595993041992,
          17.80068588256836,
          18.93734359741211,
          5.31711483001709,
          17.019060134887695,
          19.124494552612305,
          15.408469200134277,
          11.760762214660645,
          18.466934204101562,
          5.597217082977295,
          13.801423072814941,
          6.770308494567871,
          9.433382987976074,
          15.369648933410645,
          13.200935363769531,
          18.637008666992188,
          11.100851058959961
         ],
         "xaxis": "x",
         "y": [
          3.190775156021118,
          16.369657516479492,
          2.328388214111328,
          15.974937438964844,
          15.79153823852539,
          13.633801460266113,
          2.458390712738037,
          14.89776611328125,
          15.74736213684082,
          21.350290298461914,
          14.260167121887207,
          20.883447647094727,
          24.121143341064453,
          19.35886001586914,
          22.15583038330078,
          2.228374719619751,
          17.089784622192383,
          18.24049186706543,
          17.783016204833984,
          10.104349136352539,
          22.260583877563477,
          21.906967163085938,
          20.54336929321289,
          17.594764709472656,
          18.748157501220703,
          22.83744239807129,
          18.106657028198242,
          14.164920806884766,
          17.213865280151367,
          16.74840545654297,
          16.957130432128906,
          18.637096405029297,
          1.1171990633010864,
          0.3472120761871338,
          19.918437957763672,
          18.914018630981445,
          16.43804168701172,
          16.251708984375,
          16.432981491088867,
          15.466772079467773,
          4.039977073669434,
          20.98479461669922,
          -4.981304168701172,
          0.9599218368530273,
          23.323835372924805
         ],
         "yaxis": "y"
        },
        {
         "hovertemplate": "entity=astroLow_cnv<br>0=%{x}<br>1=%{y}<extra></extra>",
         "legendgroup": "astroLow_cnv",
         "marker": {
          "color": "#19d3f3",
          "opacity": 1,
          "symbol": "circle"
         },
         "mode": "markers",
         "name": "astroLow_cnv",
         "orientation": "v",
         "showlegend": true,
         "type": "scatter",
         "x": [
          14.745887756347656,
          10.926460266113281,
          14.850618362426758,
          13.00710391998291,
          11.546566009521484,
          6.135249137878418,
          11.70028018951416,
          4.505072116851807,
          17.01913833618164,
          4.301787376403809,
          16.16275978088379,
          -1.55613374710083,
          9.761394500732422,
          14.070510864257812,
          19.390579223632812,
          6.041998863220215,
          6.207507610321045,
          2.6070430278778076,
          10.646819114685059,
          11.503683090209961,
          19.495622634887695,
          8.336944580078125,
          8.607933044433594,
          3.905179262161255,
          11.575873374938965,
          14.729269027709961,
          1.3135716915130615,
          13.874211311340332,
          16.548540115356445,
          11.564830780029297,
          2.142972230911255,
          0.3694813549518585,
          1.89859139919281,
          19.02229118347168,
          12.511455535888672,
          4.660777568817139,
          4.354178428649902,
          13.402783393859863,
          10.136959075927734,
          11.388934135437012
         ],
         "xaxis": "x",
         "y": [
          7.277904987335205,
          21.11301040649414,
          6.120988845825195,
          21.92711067199707,
          16.9695987701416,
          14.683979988098145,
          23.29082679748535,
          17.9307918548584,
          20.830345153808594,
          17.23397445678711,
          20.25669288635254,
          15.872157096862793,
          22.058425903320312,
          18.165756225585938,
          22.0398006439209,
          14.218106269836426,
          19.274513244628906,
          9.372236251831055,
          13.015925407409668,
          18.1806697845459,
          18.278451919555664,
          20.46153450012207,
          20.406597137451172,
          16.957565307617188,
          23.730159759521484,
          6.601511478424072,
          9.91207218170166,
          22.075950622558594,
          20.0159854888916,
          21.90169334411621,
          10.470708847045898,
          8.847294807434082,
          9.623615264892578,
          18.387744903564453,
          22.93735694885254,
          18.004737854003906,
          16.50493812561035,
          19.627490997314453,
          22.05270767211914,
          23.80745506286621
         ],
         "yaxis": "y"
        },
        {
         "hovertemplate": "entity=astroHigh_cnv<br>0=%{x}<br>1=%{y}<extra></extra>",
         "legendgroup": "astroHigh_cnv",
         "marker": {
          "color": "#FF6692",
          "opacity": 1,
          "symbol": "circle"
         },
         "mode": "markers",
         "name": "astroHigh_cnv",
         "orientation": "v",
         "showlegend": true,
         "type": "scatter",
         "x": [
          2.399303913116455,
          2.3281004428863525,
          0.6171637773513794,
          7.754917144775391,
          0.6854591369628906,
          4.874344825744629,
          6.1021528244018555,
          5.582343578338623,
          6.7470574378967285,
          7.3898138999938965,
          9.67155647277832,
          7.635260105133057,
          6.608078956604004,
          3.8809914588928223,
          15.653077125549316,
          3.341735601425171,
          0.052231479436159134,
          6.242691993713379,
          11.6932954788208,
          5.510540008544922,
          14.943422317504883,
          6.321850776672363,
          2.0949714183807373,
          14.91313648223877,
          15.660245895385742,
          13.58359432220459,
          6.116232395172119,
          4.119853496551514,
          2.2237043380737305,
          14.294597625732422,
          15.012560844421387,
          15.005850791931152,
          3.9460229873657227,
          6.011621952056885,
          5.471371173858643,
          1.5856934785842896,
          6.839241981506348,
          1.3729225397109985,
          5.936138153076172,
          6.599140644073486,
          5.949335098266602,
          5.8839640617370605,
          -1.9842045307159424,
          7.392367362976074
         ],
         "xaxis": "x",
         "y": [
          9.957250595092773,
          5.899611949920654,
          6.3233184814453125,
          2.2847506999969482,
          9.637572288513184,
          5.56553316116333,
          13.377057075500488,
          15.601189613342285,
          10.580304145812988,
          17.159353256225586,
          0.03118688054382801,
          6.610272407531738,
          8.234333038330078,
          16.9285945892334,
          7.633564472198486,
          10.58549976348877,
          16.281455993652344,
          4.650684833526611,
          13.497295379638672,
          14.622644424438477,
          4.124109268188477,
          18.411258697509766,
          9.944168090820312,
          4.722926139831543,
          -4.980260372161865,
          -2.069852828979492,
          9.085162162780762,
          8.576451301574707,
          9.61591911315918,
          14.156198501586914,
          4.0805463790893555,
          5.984086990356445,
          5.831995010375977,
          6.06024694442749,
          16.962181091308594,
          5.661177158355713,
          16.71997833251953,
          5.660508155822754,
          5.51047945022583,
          17.996379852294922,
          14.318778038024902,
          6.615262031555176,
          15.756534576416016,
          18.429513931274414
         ],
         "yaxis": "y"
        },
        {
         "hovertemplate": "entity=pa_cnv<br>0=%{x}<br>1=%{y}<extra></extra>",
         "legendgroup": "pa_cnv",
         "marker": {
          "color": "#B6E880",
          "opacity": 1,
          "symbol": "circle"
         },
         "mode": "markers",
         "name": "pa_cnv",
         "orientation": "v",
         "showlegend": true,
         "type": "scatter",
         "x": [
          13.768082618713379,
          13.160228729248047,
          16.6137638092041,
          17.899019241333008,
          9.17073917388916,
          21.235885620117188,
          18.77134895324707,
          18.97088623046875,
          15.633265495300293,
          14.236003875732422,
          11.222579956054688,
          11.737855911254883,
          6.996938228607178,
          6.711704730987549,
          5.907756328582764,
          13.66663646697998,
          -0.7129449844360352,
          21.501436233520508,
          19.178571701049805,
          14.283926010131836,
          17.207834243774414,
          15.930601119995117,
          10.706467628479004,
          9.937636375427246,
          18.828697204589844,
          17.807811737060547,
          11.729914665222168,
          20.38500213623047,
          11.7627534866333
         ],
         "xaxis": "x",
         "y": [
          20.205312728881836,
          21.11005210876465,
          23.934099197387695,
          17.664295196533203,
          19.916271209716797,
          16.72188377380371,
          14.758121490478516,
          23.072879791259766,
          22.0416202545166,
          19.134014129638672,
          21.53923225402832,
          18.73872947692871,
          20.142486572265625,
          19.316204071044922,
          17.76017189025879,
          22.304128646850586,
          16.06109046936035,
          16.137535095214844,
          21.978425979614258,
          18.627174377441406,
          23.436084747314453,
          23.22366714477539,
          19.858339309692383,
          20.1456298828125,
          13.97197437286377,
          21.939693450927734,
          21.4747371673584,
          17.774404525756836,
          19.04924201965332
         ],
         "yaxis": "y"
        }
       ],
       "layout": {
        "height": 600,
        "legend": {
         "title": {
          "text": "entity"
         },
         "tracegroupgap": 0
        },
        "template": {
         "data": {
          "bar": [
           {
            "error_x": {
             "color": "#2a3f5f"
            },
            "error_y": {
             "color": "#2a3f5f"
            },
            "marker": {
             "line": {
              "color": "#E5ECF6",
              "width": 0.5
             },
             "pattern": {
              "fillmode": "overlay",
              "size": 10,
              "solidity": 0.2
             }
            },
            "type": "bar"
           }
          ],
          "barpolar": [
           {
            "marker": {
             "line": {
              "color": "#E5ECF6",
              "width": 0.5
             },
             "pattern": {
              "fillmode": "overlay",
              "size": 10,
              "solidity": 0.2
             }
            },
            "type": "barpolar"
           }
          ],
          "carpet": [
           {
            "aaxis": {
             "endlinecolor": "#2a3f5f",
             "gridcolor": "white",
             "linecolor": "white",
             "minorgridcolor": "white",
             "startlinecolor": "#2a3f5f"
            },
            "baxis": {
             "endlinecolor": "#2a3f5f",
             "gridcolor": "white",
             "linecolor": "white",
             "minorgridcolor": "white",
             "startlinecolor": "#2a3f5f"
            },
            "type": "carpet"
           }
          ],
          "choropleth": [
           {
            "colorbar": {
             "outlinewidth": 0,
             "ticks": ""
            },
            "type": "choropleth"
           }
          ],
          "contour": [
           {
            "colorbar": {
             "outlinewidth": 0,
             "ticks": ""
            },
            "colorscale": [
             [
              0,
              "#0d0887"
             ],
             [
              0.1111111111111111,
              "#46039f"
             ],
             [
              0.2222222222222222,
              "#7201a8"
             ],
             [
              0.3333333333333333,
              "#9c179e"
             ],
             [
              0.4444444444444444,
              "#bd3786"
             ],
             [
              0.5555555555555556,
              "#d8576b"
             ],
             [
              0.6666666666666666,
              "#ed7953"
             ],
             [
              0.7777777777777778,
              "#fb9f3a"
             ],
             [
              0.8888888888888888,
              "#fdca26"
             ],
             [
              1,
              "#f0f921"
             ]
            ],
            "type": "contour"
           }
          ],
          "contourcarpet": [
           {
            "colorbar": {
             "outlinewidth": 0,
             "ticks": ""
            },
            "type": "contourcarpet"
           }
          ],
          "heatmap": [
           {
            "colorbar": {
             "outlinewidth": 0,
             "ticks": ""
            },
            "colorscale": [
             [
              0,
              "#0d0887"
             ],
             [
              0.1111111111111111,
              "#46039f"
             ],
             [
              0.2222222222222222,
              "#7201a8"
             ],
             [
              0.3333333333333333,
              "#9c179e"
             ],
             [
              0.4444444444444444,
              "#bd3786"
             ],
             [
              0.5555555555555556,
              "#d8576b"
             ],
             [
              0.6666666666666666,
              "#ed7953"
             ],
             [
              0.7777777777777778,
              "#fb9f3a"
             ],
             [
              0.8888888888888888,
              "#fdca26"
             ],
             [
              1,
              "#f0f921"
             ]
            ],
            "type": "heatmap"
           }
          ],
          "heatmapgl": [
           {
            "colorbar": {
             "outlinewidth": 0,
             "ticks": ""
            },
            "colorscale": [
             [
              0,
              "#0d0887"
             ],
             [
              0.1111111111111111,
              "#46039f"
             ],
             [
              0.2222222222222222,
              "#7201a8"
             ],
             [
              0.3333333333333333,
              "#9c179e"
             ],
             [
              0.4444444444444444,
              "#bd3786"
             ],
             [
              0.5555555555555556,
              "#d8576b"
             ],
             [
              0.6666666666666666,
              "#ed7953"
             ],
             [
              0.7777777777777778,
              "#fb9f3a"
             ],
             [
              0.8888888888888888,
              "#fdca26"
             ],
             [
              1,
              "#f0f921"
             ]
            ],
            "type": "heatmapgl"
           }
          ],
          "histogram": [
           {
            "marker": {
             "pattern": {
              "fillmode": "overlay",
              "size": 10,
              "solidity": 0.2
             }
            },
            "type": "histogram"
           }
          ],
          "histogram2d": [
           {
            "colorbar": {
             "outlinewidth": 0,
             "ticks": ""
            },
            "colorscale": [
             [
              0,
              "#0d0887"
             ],
             [
              0.1111111111111111,
              "#46039f"
             ],
             [
              0.2222222222222222,
              "#7201a8"
             ],
             [
              0.3333333333333333,
              "#9c179e"
             ],
             [
              0.4444444444444444,
              "#bd3786"
             ],
             [
              0.5555555555555556,
              "#d8576b"
             ],
             [
              0.6666666666666666,
              "#ed7953"
             ],
             [
              0.7777777777777778,
              "#fb9f3a"
             ],
             [
              0.8888888888888888,
              "#fdca26"
             ],
             [
              1,
              "#f0f921"
             ]
            ],
            "type": "histogram2d"
           }
          ],
          "histogram2dcontour": [
           {
            "colorbar": {
             "outlinewidth": 0,
             "ticks": ""
            },
            "colorscale": [
             [
              0,
              "#0d0887"
             ],
             [
              0.1111111111111111,
              "#46039f"
             ],
             [
              0.2222222222222222,
              "#7201a8"
             ],
             [
              0.3333333333333333,
              "#9c179e"
             ],
             [
              0.4444444444444444,
              "#bd3786"
             ],
             [
              0.5555555555555556,
              "#d8576b"
             ],
             [
              0.6666666666666666,
              "#ed7953"
             ],
             [
              0.7777777777777778,
              "#fb9f3a"
             ],
             [
              0.8888888888888888,
              "#fdca26"
             ],
             [
              1,
              "#f0f921"
             ]
            ],
            "type": "histogram2dcontour"
           }
          ],
          "mesh3d": [
           {
            "colorbar": {
             "outlinewidth": 0,
             "ticks": ""
            },
            "type": "mesh3d"
           }
          ],
          "parcoords": [
           {
            "line": {
             "colorbar": {
              "outlinewidth": 0,
              "ticks": ""
             }
            },
            "type": "parcoords"
           }
          ],
          "pie": [
           {
            "automargin": true,
            "type": "pie"
           }
          ],
          "scatter": [
           {
            "fillpattern": {
             "fillmode": "overlay",
             "size": 10,
             "solidity": 0.2
            },
            "type": "scatter"
           }
          ],
          "scatter3d": [
           {
            "line": {
             "colorbar": {
              "outlinewidth": 0,
              "ticks": ""
             }
            },
            "marker": {
             "colorbar": {
              "outlinewidth": 0,
              "ticks": ""
             }
            },
            "type": "scatter3d"
           }
          ],
          "scattercarpet": [
           {
            "marker": {
             "colorbar": {
              "outlinewidth": 0,
              "ticks": ""
             }
            },
            "type": "scattercarpet"
           }
          ],
          "scattergeo": [
           {
            "marker": {
             "colorbar": {
              "outlinewidth": 0,
              "ticks": ""
             }
            },
            "type": "scattergeo"
           }
          ],
          "scattergl": [
           {
            "marker": {
             "colorbar": {
              "outlinewidth": 0,
              "ticks": ""
             }
            },
            "type": "scattergl"
           }
          ],
          "scattermapbox": [
           {
            "marker": {
             "colorbar": {
              "outlinewidth": 0,
              "ticks": ""
             }
            },
            "type": "scattermapbox"
           }
          ],
          "scatterpolar": [
           {
            "marker": {
             "colorbar": {
              "outlinewidth": 0,
              "ticks": ""
             }
            },
            "type": "scatterpolar"
           }
          ],
          "scatterpolargl": [
           {
            "marker": {
             "colorbar": {
              "outlinewidth": 0,
              "ticks": ""
             }
            },
            "type": "scatterpolargl"
           }
          ],
          "scatterternary": [
           {
            "marker": {
             "colorbar": {
              "outlinewidth": 0,
              "ticks": ""
             }
            },
            "type": "scatterternary"
           }
          ],
          "surface": [
           {
            "colorbar": {
             "outlinewidth": 0,
             "ticks": ""
            },
            "colorscale": [
             [
              0,
              "#0d0887"
             ],
             [
              0.1111111111111111,
              "#46039f"
             ],
             [
              0.2222222222222222,
              "#7201a8"
             ],
             [
              0.3333333333333333,
              "#9c179e"
             ],
             [
              0.4444444444444444,
              "#bd3786"
             ],
             [
              0.5555555555555556,
              "#d8576b"
             ],
             [
              0.6666666666666666,
              "#ed7953"
             ],
             [
              0.7777777777777778,
              "#fb9f3a"
             ],
             [
              0.8888888888888888,
              "#fdca26"
             ],
             [
              1,
              "#f0f921"
             ]
            ],
            "type": "surface"
           }
          ],
          "table": [
           {
            "cells": {
             "fill": {
              "color": "#EBF0F8"
             },
             "line": {
              "color": "white"
             }
            },
            "header": {
             "fill": {
              "color": "#C8D4E3"
             },
             "line": {
              "color": "white"
             }
            },
            "type": "table"
           }
          ]
         },
         "layout": {
          "annotationdefaults": {
           "arrowcolor": "#2a3f5f",
           "arrowhead": 0,
           "arrowwidth": 1
          },
          "autotypenumbers": "strict",
          "coloraxis": {
           "colorbar": {
            "outlinewidth": 0,
            "ticks": ""
           }
          },
          "colorscale": {
           "diverging": [
            [
             0,
             "#8e0152"
            ],
            [
             0.1,
             "#c51b7d"
            ],
            [
             0.2,
             "#de77ae"
            ],
            [
             0.3,
             "#f1b6da"
            ],
            [
             0.4,
             "#fde0ef"
            ],
            [
             0.5,
             "#f7f7f7"
            ],
            [
             0.6,
             "#e6f5d0"
            ],
            [
             0.7,
             "#b8e186"
            ],
            [
             0.8,
             "#7fbc41"
            ],
            [
             0.9,
             "#4d9221"
            ],
            [
             1,
             "#276419"
            ]
           ],
           "sequential": [
            [
             0,
             "#0d0887"
            ],
            [
             0.1111111111111111,
             "#46039f"
            ],
            [
             0.2222222222222222,
             "#7201a8"
            ],
            [
             0.3333333333333333,
             "#9c179e"
            ],
            [
             0.4444444444444444,
             "#bd3786"
            ],
            [
             0.5555555555555556,
             "#d8576b"
            ],
            [
             0.6666666666666666,
             "#ed7953"
            ],
            [
             0.7777777777777778,
             "#fb9f3a"
            ],
            [
             0.8888888888888888,
             "#fdca26"
            ],
            [
             1,
             "#f0f921"
            ]
           ],
           "sequentialminus": [
            [
             0,
             "#0d0887"
            ],
            [
             0.1111111111111111,
             "#46039f"
            ],
            [
             0.2222222222222222,
             "#7201a8"
            ],
            [
             0.3333333333333333,
             "#9c179e"
            ],
            [
             0.4444444444444444,
             "#bd3786"
            ],
            [
             0.5555555555555556,
             "#d8576b"
            ],
            [
             0.6666666666666666,
             "#ed7953"
            ],
            [
             0.7777777777777778,
             "#fb9f3a"
            ],
            [
             0.8888888888888888,
             "#fdca26"
            ],
            [
             1,
             "#f0f921"
            ]
           ]
          },
          "colorway": [
           "#636efa",
           "#EF553B",
           "#00cc96",
           "#ab63fa",
           "#FFA15A",
           "#19d3f3",
           "#FF6692",
           "#B6E880",
           "#FF97FF",
           "#FECB52"
          ],
          "font": {
           "color": "#2a3f5f"
          },
          "geo": {
           "bgcolor": "white",
           "lakecolor": "white",
           "landcolor": "#E5ECF6",
           "showlakes": true,
           "showland": true,
           "subunitcolor": "white"
          },
          "hoverlabel": {
           "align": "left"
          },
          "hovermode": "closest",
          "mapbox": {
           "style": "light"
          },
          "paper_bgcolor": "white",
          "plot_bgcolor": "#E5ECF6",
          "polar": {
           "angularaxis": {
            "gridcolor": "white",
            "linecolor": "white",
            "ticks": ""
           },
           "bgcolor": "#E5ECF6",
           "radialaxis": {
            "gridcolor": "white",
            "linecolor": "white",
            "ticks": ""
           }
          },
          "scene": {
           "xaxis": {
            "backgroundcolor": "#E5ECF6",
            "gridcolor": "white",
            "gridwidth": 2,
            "linecolor": "white",
            "showbackground": true,
            "ticks": "",
            "zerolinecolor": "white"
           },
           "yaxis": {
            "backgroundcolor": "#E5ECF6",
            "gridcolor": "white",
            "gridwidth": 2,
            "linecolor": "white",
            "showbackground": true,
            "ticks": "",
            "zerolinecolor": "white"
           },
           "zaxis": {
            "backgroundcolor": "#E5ECF6",
            "gridcolor": "white",
            "gridwidth": 2,
            "linecolor": "white",
            "showbackground": true,
            "ticks": "",
            "zerolinecolor": "white"
           }
          },
          "shapedefaults": {
           "line": {
            "color": "#2a3f5f"
           }
          },
          "ternary": {
           "aaxis": {
            "gridcolor": "white",
            "linecolor": "white",
            "ticks": ""
           },
           "baxis": {
            "gridcolor": "white",
            "linecolor": "white",
            "ticks": ""
           },
           "bgcolor": "#E5ECF6",
           "caxis": {
            "gridcolor": "white",
            "linecolor": "white",
            "ticks": ""
           }
          },
          "title": {
           "x": 0.05
          },
          "xaxis": {
           "automargin": true,
           "gridcolor": "white",
           "linecolor": "white",
           "ticks": "",
           "title": {
            "standoff": 15
           },
           "zerolinecolor": "white",
           "zerolinewidth": 2
          },
          "yaxis": {
           "automargin": true,
           "gridcolor": "white",
           "linecolor": "white",
           "ticks": "",
           "title": {
            "standoff": 15
           },
           "zerolinecolor": "white",
           "zerolinewidth": 2
          }
         }
        },
        "title": {
         "text": "PCA components = 5, n_neighbors = 6, n_cases = 610, fold_change_threshold = 0.06"
        },
        "width": 1000,
        "xaxis": {
         "anchor": "y",
         "autorange": true,
         "domain": [
          0,
          1
         ],
         "range": [
          -16.86142178950157,
          25.09450456080284
         ],
         "title": {
          "text": "0"
         },
         "type": "linear"
        },
        "yaxis": {
         "anchor": "x",
         "autorange": true,
         "domain": [
          0,
          1
         ],
         "range": [
          -12.651004526779236,
          26.452608797714294
         ],
         "title": {
          "text": "1"
         },
         "type": "linear"
        }
       }
      },
      "image/png": "[encoded data removed]",
      "text/html": [
       "<div>                            <div id=\"91309120-6d9c-467b-ae24-109f56bdd990\" class=\"plotly-graph-div\" style=\"height:600px; width:1000px;\"></div>            <script type=\"text/javascript\">                require([\"plotly\"], function(Plotly) {                    window.PLOTLYENV=window.PLOTLYENV || {};                                    if (document.getElementById(\"91309120-6d9c-467b-ae24-109f56bdd990\")) {                    Plotly.newPlot(                        \"91309120-6d9c-467b-ae24-109f56bdd990\",                        [{\"hovertemplate\":\"entity=gbm_cnv\\u003cbr\\u003e0=%{x}\\u003cbr\\u003e1=%{y}\\u003cextra\\u003e\\u003c\\u002fextra\\u003e\",\"legendgroup\":\"gbm_cnv\",\"marker\":{\"color\":\"#636efa\",\"opacity\":1,\"symbol\":\"circle\"},\"mode\":\"markers\",\"name\":\"gbm_cnv\",\"orientation\":\"v\",\"showlegend\":true,\"x\":[21.045665740966797,18.048810958862305,20.16400146484375,6.147335052490234,20.32579803466797,18.347558975219727,7.811897277832031,21.367921829223633,22.713157653808594,19.82105827331543,19.737030029296875,19.76817512512207,19.204973220825195,14.29317855834961,19.992467880249023,13.771677017211914,16.000410079956055,19.371196746826172,22.55760383605957,20.947219848632812,19.096920013427734,22.08207893371582,15.912199974060059,10.187383651733398,19.528789520263672,17.70625114440918,21.65436553955078,13.869741439819336,20.843637466430664,-5.689265251159668,22.6312255859375,16.240585327148438,16.654403686523438,17.331562042236328,20.95086097717285,15.284025192260742,7.393499851226807,19.440959930419922,8.931286811828613,20.173912048339844,17.35902976989746,19.261276245117188,0.88591068983078,5.6397857666015625,2.055645704269409,20.699506759643555,20.14496612548828,18.29288673400879,20.676982879638672,21.191709518432617,22.005136489868164,20.713157653808594,21.922391891479492,8.128683090209961,20.34947967529297,22.285860061645508,1.4092211723327637,7.242411136627197,17.184682846069336,19.938091278076172,7.364819526672363,20.572721481323242,14.720200538635254,19.746747970581055,18.8159122467041,18.710954666137695,17.583242416381836,15.141571998596191,21.15329933166504,20.61033821105957,17.88675880432129,22.629610061645508,13.519721984863281,0.0001740901352604851,5.964836120605469,17.658939361572266,20.947467803955078,13.421414375305176,17.45829200744629,8.924779891967773,15.870497703552246,5.875273704528809,17.15328598022461,13.107791900634766,14.671730041503906,20.867952346801758,5.421276092529297,14.178215980529785,7.963887691497803,7.758462905883789,22.742216110229492,20.305133819580078,15.928434371948242,6.094939708709717,20.21991539001465,21.5919132232666,18.060741424560547,20.567615509033203,11.740971565246582,20.283172607421875,8.05618953704834,19.12040138244629,16.025217056274414,0.9711475968360901,8.836344718933105,16.519771575927734,19.923534393310547,19.86446189880371,21.285850524902344,14.157784461975098,16.194801330566406,5.6191816329956055,8.196742057800293,17.317598342895508,7.278149604797363,14.909143447875977,16.42530632019043,19.17534065246582,8.4681396484375,19.015634536743164,18.731094360351562,13.920294761657715,19.487184524536133,15.256805419921875,19.115964889526367,16.713356018066406,15.913187026977539,22.581621170043945,14.427279472351074,8.324461936950684,5.831040859222412,0.2080964297056198,18.50322151184082,10.09935188293457,22.218908309936523,17.802597045898438,7.506053924560547,7.509382247924805,10.392539024353027,22.281492233276367,20.468231201171875,16.782943725585938,22.366662979125977,15.210773468017578,1.4607337713241577,8.441693305969238,6.497574329376221,19.197093963623047,9.106200218200684,15.507004737854004,19.121335983276367,8.010407447814941,22.34042739868164,7.208080291748047,10.34431266784668,6.032010078430176,20.678634643554688,19.856216430664062,6.683549880981445,19.224502563476562,18.740131378173828,12.960583686828613,18.676822662353516,7.564605712890625,20.618181228637695,5.081058979034424,17.79961585998535,16.638399124145508,8.011054992675781,20.747209548950195,19.49139404296875,17.46688461303711,8.303653717041016,18.7958927154541,10.054673194885254,12.652541160583496,19.308185577392578,19.85698890686035,7.679451942443848,16.70704460144043,14.321402549743652,5.759359359741211,-12.070778846740723,17.862886428833008,22.121593475341797,14.890188217163086,19.440692901611328,8.604138374328613,21.450857162475586,1.032936453819275,16.965898513793945,19.642881393432617,18.423969268798828,7.494587421417236,19.503629684448242,22.791845321655273,20.57889175415039,14.418366432189941,21.667980194091797,19.416147232055664,21.024917602539062,21.197355270385742,16.75864028930664,21.575973510742188],\"xaxis\":\"x\",\"y\":[1.4267796277999878,-5.17866325378418,1.1941486597061157,12.268720626831055,-0.7708622813224792,13.696050643920898,5.058230400085449,4.0236592292785645,4.559238433837891,4.842426776885986,-8.16662311553955,-7.644962310791016,-9.12115478515625,-7.183202266693115,-5.034031391143799,-5.185086250305176,1.2065865993499756,-9.917694091796875,3.345179796218872,7.576747894287109,-9.789523124694824,4.9469099044799805,-1.2702460289001465,-0.36642155051231384,-8.294565200805664,-9.018444061279297,4.7422380447387695,-5.488368034362793,-2.9969427585601807,-2.4299676418304443,4.176215171813965,-4.978144645690918,21.343027114868164,-9.526761054992676,-0.20455223321914673,0.9006631970405579,17.48345375061035,17.7965030670166,6.117238521575928,5.389992713928223,-0.0748053714632988,-7.645954132080078,6.48758602142334,8.886099815368652,8.847545623779297,-2.3667075634002686,17.484912872314453,-8.092679977416992,1.670569896697998,-0.8207777142524719,-0.814738392829895,3.705037832260132,-1.9387081861495972,17.92186164855957,3.1566035747528076,1.3323127031326294,6.211441993713379,20.56392478942871,-3.8673954010009766,1.090197205543518,6.982450008392334,6.189620494842529,0.733356773853302,-5.589975833892822,-8.82825756072998,-9.430112838745117,0.6169106364250183,8.699662208557129,-1.5558500289916992,-4.515762805938721,-10.346684455871582,-0.7778660655021667,-2.624598741531372,7.6604509353637695,8.994915962219238,-5.305971145629883,6.931931018829346,-2.8109145164489746,1.6014410257339478,6.197644233703613,-3.683521032333374,6.914256572723389,-4.850494861602783,-4.880207061767578,-2.119452714920044,6.038026332855225,8.261574745178223,-1.753867506980896,5.232595443725586,7.067113399505615,3.559159517288208,1.4396165609359741,1.358878493309021,19.75920867919922,-2.51938796043396,-1.415828824043274,-9.694097518920898,-3.876871109008789,-4.382850646972656,-1.574587106704712,1.658143401145935,-0.6504626274108887,-8.796725273132324,6.078215599060059,1.5224870443344116,-9.076949119567871,-9.53084945678711,17.467113494873047,-0.5552947521209717,-7.402811050415039,1.5391829013824463,19.399837493896484,2.9504234790802,-9.935556411743164,18.714262008666992,0.3426239490509033,-4.158565998077393,4.037415504455566,3.756265878677368,-7.813422679901123,-2.0545413494110107,-7.004181861877441,2.4178824424743652,-1.6623872518539429,-5.595067024230957,-0.23038214445114136,-1.5121370553970337,-1.2094043493270874,-2.605264186859131,6.758917808532715,8.074348449707031,8.57382583618164,-7.869401454925537,-0.49974524974823,-0.2221914529800415,-10.196005821228027,8.290619850158691,15.846583366394043,22.22418212890625,5.425873279571533,4.922546863555908,0.8118426203727722,4.028349876403809,-2.890580415725708,6.683010578155518,6.2758049964904785,19.983356475830078,5.288052558898926,5.102123260498047,-5.207347869873047,-8.162013053894043,-5.845035076141357,5.647147178649902,10.105205535888672,-1.0733639001846313,17.0937442779541,-4.4059224128723145,17.416656494140625,20.326642990112305,-7.188856601715088,13.536112785339355,19.8255558013916,-8.542563438415527,2.7011759281158447,5.811266899108887,7.677558422088623,0.6305986046791077,-9.19738483428955,16.992311477661133,-3.3961615562438965,-1.8158893585205078,-10.245919227600098,1.8291531801223755,-9.842266082763672,3.6069324016571045,-1.65287446975708,-2.467158079147339,-4.291887283325195,5.4540605545043945,-4.868748188018799,-5.263421058654785,18.377193450927734,13.816904067993164,-9.961557388305664,-0.5278258919715881,5.910380840301514,-2.5073020458221436,4.602790832519531,2.336860418319702,6.576369762420654,20.62594985961914,-9.145242691040039,-0.06189582124352455,16.24159812927246,-8.653236389160156,-0.04357931762933731,4.722990036010742,0.5868062973022461,-0.3365340828895569,-1.0060319900512695,1.1689420938491821,-2.9572818279266357,1.6782917976379395,1.8942846059799194],\"yaxis\":\"y\",\"type\":\"scatter\"},{\"hovertemplate\":\"entity=k27_cnv\\u003cbr\\u003e0=%{x}\\u003cbr\\u003e1=%{y}\\u003cextra\\u003e\\u003c\\u002fextra\\u003e\",\"legendgroup\":\"k27_cnv\",\"marker\":{\"color\":\"#EF553B\",\"opacity\":1,\"symbol\":\"circle\"},\"mode\":\"markers\",\"name\":\"k27_cnv\",\"orientation\":\"v\",\"showlegend\":true,\"x\":[17.145160675048828,6.963189601898193,13.740751266479492,5.165925979614258,10.827981948852539,10.347029685974121,6.039301872253418,0.9870282411575317,5.663009166717529,15.150796890258789,5.592772960662842,6.81474494934082,13.909843444824219,8.385302543640137,9.142894744873047,6.7920002937316895,4.553812503814697,0.11226774752140045,7.56097412109375,11.325498580932617,7.999655246734619,8.435315132141113,6.171789169311523,4.510821342468262,5.595803260803223,1.4922488927841187,3.4751782417297363,12.85478401184082,6.484575271606445,6.333827972412109,21.284767150878906,0.9220587611198425,6.902848243713379,15.098677635192871],\"xaxis\":\"x\",\"y\":[13.721022605895996,8.744535446166992,17.07825469970703,7.4061055183410645,23.27163314819336,22.81001853942871,15.33747386932373,9.429433822631836,19.89414405822754,21.53802490234375,18.50996208190918,10.094783782958984,-6.643457889556885,6.003006458282471,5.706496238708496,7.042786598205566,5.707749366760254,8.499686241149902,8.848337173461914,19.188600540161133,6.16878604888916,19.00281524658203,20.17995834350586,6.742382049560547,14.983904838562012,5.547435283660889,17.034730911254883,17.037015914916992,6.71028470993042,18.570676803588867,-2.3756515979766846,10.127734184265137,5.655930519104004,22.734668731689453],\"yaxis\":\"y\",\"type\":\"scatter\"},{\"hovertemplate\":\"entity=mng_cnv\\u003cbr\\u003e0=%{x}\\u003cbr\\u003e1=%{y}\\u003cextra\\u003e\\u003c\\u002fextra\\u003e\",\"legendgroup\":\"mng_cnv\",\"marker\":{\"color\":\"#00cc96\",\"opacity\":1,\"symbol\":\"circle\"},\"mode\":\"markers\",\"name\":\"mng_cnv\",\"orientation\":\"v\",\"showlegend\":true,\"x\":[-1.0873453617095947,3.520869255065918,9.865804672241211,11.666109085083008,15.076603889465332,-3.7403554916381836,14.017663955688477,10.682907104492188,-5.893404006958008,18.676502227783203,-3.327244997024536,19.387577056884766,-3.2892799377441406,15.63519287109375,17.13593864440918,10.270750045776367,3.302765369415283,14.401082038879395,11.510727882385254,-4.015196800231934,-3.6546900272369385,20.9163761138916,16.324853897094727,-2.863623857498169,1.2458525896072388,12.586477279663086,16.776399612426758,-1.1214423179626465,-4.206060409545898,-0.2901565134525299,0.9492738842964172,-3.707066059112549,18.468576431274414,1.2215728759765625,16.015174865722656,-4.2169928550720215,13.894447326660156,2.723708391189575,15.685979843139648,17.499378204345703,-2.585188627243042,11.451689720153809,11.017900466918945,-1.990654706954956,13.862113952636719,-5.091121196746826,-5.002546787261963,11.4773588180542,14.142748832702637,14.544282913208008,16.102529525756836,-4.631264686584473,14.015584945678711,-1.7859387397766113,-3.7073113918304443,13.13238525390625,1.5541738271713257,-3.6352031230926514,-9.2808256149292,15.3460111618042,13.482837677001953,1.1982299089431763,14.841011047363281,18.525192260742188,1.2309377193450928,-1.9088799953460693,10.308467864990234,-2.0172204971313477,17.221044540405273,-1.468861699104309,17.454967498779297,-4.098910331726074,-4.5861992835998535,12.304515838623047,8.68493366241455,14.359477996826172,-10.467486381530762,8.335204124450684,17.311843872070312,1.154759407043457,8.983234405517578,17.54311180114746,14.494349479675293,18.878753662109375,0.7916468381881714,7.148391246795654,15.756129264831543,-9.737792015075684,17.166906356811523,-0.6647082567214966,7.913997650146484,-4.462491989135742,-4.519530773162842,14.587569236755371,18.603778839111328,15.660624504089355,-3.2987964153289795,17.838733673095703,13.813985824584961,-2.5389909744262695,-1.9921432733535767,3.3883209228515625,0.8937832713127136,7.56404972076416,15.564420700073242,-1.8041552305221558,-9.21657657623291,13.727399826049805,13.954949378967285,16.212783813476562,12.319306373596191,-5.385387897491455,0.33212825655937195,11.1653413772583,-1.5846773386001587,-1.6903458833694458,13.341178894042969,-4.68348503112793,0.9712657332420349,0.31808963418006897,18.426467895507812,-1.0584062337875366,-9.464152336120605,3.5950920581817627,16.027856826782227,-2.449596405029297,1.6815550327301025,-3.8263800144195557,1.1605511903762817,14.97117805480957,17.791593551635742,15.81090259552002,-1.9839637279510498,18.64727020263672,-5.709506511688232,-9.506176948547363,17.909652709960938,-4.857165813446045,-3.7096328735351562,18.11920738220215,14.887468338012695,-2.182401657104492,15.646568298339844,-1.8274192810058594,13.041961669921875,12.141669273376465,15.699885368347168,18.774477005004883,12.608373641967773,-2.3540656566619873,-5.650780200958252,12.800546646118164,-2.5735485553741455,7.693019390106201,14.925509452819824,-0.27201637625694275,15.772394180297852,13.242664337158203,9.832144737243652,16.296245574951172,-1.21632981300354,-4.462799072265625,14.700724601745605,12.172859191894531,13.040547370910645,17.643999099731445,15.110200881958008],\"xaxis\":\"x\",\"y\":[-3.3132431507110596,-5.182762145996094,-4.710217475891113,-3.7439844608306885,19.58917236328125,-7.0589165687561035,21.21778678894043,-4.401556968688965,-4.5181169509887695,6.023510456085205,0.047703951597213745,22.726411819458008,-3.0726099014282227,9.998895645141602,13.84296989440918,13.640973091125488,-5.16213321685791,7.555081367492676,14.480607032775879,-0.7422870397567749,-4.529269218444824,17.027774810791016,18.85280418395996,-6.979474067687988,-5.555201530456543,11.394935607910156,23.152467727661133,-6.6503987312316895,-1.612931728363037,16.00091552734375,-8.20748519897461,-2.767012119293213,19.068918228149414,-8.896659851074219,24.14828872680664,-1.1922545433044434,12.383428573608398,-5.2117743492126465,9.654428482055664,23.59708023071289,-5.23453950881958,21.1439151763916,-4.2190351486206055,-8.006214141845703,12.23054027557373,-4.896110534667969,-4.2490315437316895,20.637537002563477,16.509641647338867,7.587735652923584,19.277935028076172,-2.225477457046509,12.68335247039795,-3.5793893337249756,-1.158265233039856,12.690779685974121,-8.556516647338867,-2.2655651569366455,14.477174758911133,9.279950141906738,12.632389068603516,-5.119787216186523,7.753789901733398,21.392597198486328,-5.016994476318359,-7.6401214599609375,19.407066345214844,-6.327568054199219,20.97113800048828,-2.9967615604400635,17.94076156616211,-6.585838794708252,-5.756003379821777,11.652779579162598,-4.965834617614746,7.77562141418457,14.252644538879395,-5.361939907073975,21.544553756713867,-5.547779560089111,-5.114823341369629,22.40904998779297,18.590484619140625,21.589637756347656,-4.493136405944824,17.802654266357422,22.419151306152344,14.728080749511719,21.879613876342773,-7.042969226837158,17.535547256469727,-1.608312964439392,-2.367292642593384,9.82691478729248,22.6500186920166,9.444889068603516,-7.290945529937744,23.508079528808594,12.43864631652832,-7.695813179016113,-7.968343257904053,-5.261143684387207,-8.103647232055664,-6.026618480682373,8.656925201416016,-3.3032262325286865,14.89072322845459,15.084299087524414,16.62716293334961,23.162063598632812,12.117518424987793,-3.787611722946167,-8.62010669708252,14.277189254760742,-3.100598096847534,-3.320298910140991,14.162447929382324,-5.39042329788208,-8.867453575134277,9.111095428466797,21.914316177368164,-8.162247657775879,14.744640350341797,-5.1166486740112305,23.896787643432617,-4.007646560668945,-5.422021389007568,-3.580775499343872,-8.244024276733398,9.068471908569336,22.808509826660156,9.160238265991211,-5.744617938995361,5.68062686920166,-4.2414374351501465,14.302358627319336,23.47127342224121,-3.142346143722534,-0.5772051215171814,18.53117561340332,5.3227009773254395,-5.569409370422363,19.393539428710938,-5.822791576385498,13.113609313964844,19.196861267089844,9.493680953979492,5.703868865966797,14.05489730834961,-7.928262710571289,-3.3707709312438965,22.058744430541992,-5.773751258850098,-5.881843090057373,5.019964218139648,-8.158479690551758,8.097780227661133,17.15362548828125,14.462891578674316,20.81940269470215,-7.750837326049805,-4.715795993804932,20.29949188232422,11.797991752624512,13.596579551696777,18.301645278930664,18.941518783569336],\"yaxis\":\"y\",\"type\":\"scatter\"},{\"hovertemplate\":\"entity=oligo_cnv\\u003cbr\\u003e0=%{x}\\u003cbr\\u003e1=%{y}\\u003cextra\\u003e\\u003c\\u002fextra\\u003e\",\"legendgroup\":\"oligo_cnv\",\"marker\":{\"color\":\"#ab63fa\",\"opacity\":1,\"symbol\":\"circle\"},\"mode\":\"markers\",\"name\":\"oligo_cnv\",\"orientation\":\"v\",\"showlegend\":true,\"x\":[-12.327096939086914,-9.517327308654785,-7.849845886230469,-8.261253356933594,-13.345645904541016,-9.132075309753418,-12.845120429992676,-13.699584007263184,-9.906353950500488,-12.935084342956543,-12.575121879577637,-10.714082717895508,-13.88053035736084,-6.042814254760742,-14.133398056030273,-9.546358108520508,-13.390379905700684,-6.844995021820068,0.15148521959781647,-13.207058906555176,-14.558762550354004,-13.116260528564453,-14.524782180786133,-13.993701934814453,-8.504159927368164,-12.335058212280273,-8.830756187438965,-11.507041931152344,-11.721163749694824,-12.347990989685059,-7.230532169342041,-7.62838077545166,-12.938724517822266,-13.861096382141113,-9.951064109802246,-13.448799133300781,-14.402105331420898,-12.245355606079102,-12.891146659851074,-6.582947731018066,-10.347556114196777,-13.804332733154297,-10.854710578918457,-12.230945587158203,-14.220976829528809,-11.111949920654297,-10.198899269104004],\"xaxis\":\"x\",\"y\":[13.069242477416992,12.907912254333496,14.263554573059082,14.045624732971191,9.345641136169434,13.604599952697754,10.056689262390137,13.766874313354492,13.430397987365723,9.22121810913086,13.664175033569336,12.043951988220215,10.649827003479004,14.711301803588867,13.80339527130127,13.423221588134766,13.623710632324219,14.265910148620605,7.1994099617004395,9.485055923461914,13.358362197875977,13.373943328857422,13.200836181640625,10.521284103393555,14.199119567871094,13.61808967590332,13.81450366973877,12.114442825317383,10.997330665588379,10.117466926574707,14.601417541503906,13.833823204040527,9.245354652404785,13.451026916503906,12.543054580688477,9.096956253051758,13.21631908416748,10.09960651397705,10.152769088745117,14.569417953491211,12.340386390686035,9.956366539001465,12.287590026855469,10.355921745300293,13.694437026977539,11.85555648803711,12.089411735534668],\"yaxis\":\"y\",\"type\":\"scatter\"},{\"hovertemplate\":\"entity=pxa_cnv\\u003cbr\\u003e0=%{x}\\u003cbr\\u003e1=%{y}\\u003cextra\\u003e\\u003c\\u002fextra\\u003e\",\"legendgroup\":\"pxa_cnv\",\"marker\":{\"color\":\"#FFA15A\",\"opacity\":1,\"symbol\":\"circle\"},\"mode\":\"markers\",\"name\":\"pxa_cnv\",\"orientation\":\"v\",\"showlegend\":true,\"x\":[10.903429985046387,15.17354965209961,15.282196044921875,18.24814796447754,13.742988586425781,18.110931396484375,22.00711441040039,15.04613208770752,14.085831642150879,9.918172836303711,18.85465431213379,12.435348510742188,15.56997013092041,12.673213005065918,9.979716300964355,17.533998489379883,18.280101776123047,8.727890968322754,18.6870059967041,0.9865192770957947,19.610000610351562,14.214651107788086,15.059342384338379,4.865668773651123,5.268192291259766,11.95681381225586,14.962328910827637,16.368267059326172,19.106595993041992,17.80068588256836,18.93734359741211,5.31711483001709,17.019060134887695,19.124494552612305,15.408469200134277,11.760762214660645,18.466934204101562,5.597217082977295,13.801423072814941,6.770308494567871,9.433382987976074,15.369648933410645,13.200935363769531,18.637008666992188,11.100851058959961],\"xaxis\":\"x\",\"y\":[3.190775156021118,16.369657516479492,2.328388214111328,15.974937438964844,15.79153823852539,13.633801460266113,2.458390712738037,14.89776611328125,15.74736213684082,21.350290298461914,14.260167121887207,20.883447647094727,24.121143341064453,19.35886001586914,22.15583038330078,2.228374719619751,17.089784622192383,18.24049186706543,17.783016204833984,10.104349136352539,22.260583877563477,21.906967163085938,20.54336929321289,17.594764709472656,18.748157501220703,22.83744239807129,18.106657028198242,14.164920806884766,17.213865280151367,16.74840545654297,16.957130432128906,18.637096405029297,1.1171990633010864,0.3472120761871338,19.918437957763672,18.914018630981445,16.43804168701172,16.251708984375,16.432981491088867,15.466772079467773,4.039977073669434,20.98479461669922,-4.981304168701172,0.9599218368530273,23.323835372924805],\"yaxis\":\"y\",\"type\":\"scatter\"},{\"hovertemplate\":\"entity=astroLow_cnv\\u003cbr\\u003e0=%{x}\\u003cbr\\u003e1=%{y}\\u003cextra\\u003e\\u003c\\u002fextra\\u003e\",\"legendgroup\":\"astroLow_cnv\",\"marker\":{\"color\":\"#19d3f3\",\"opacity\":1,\"symbol\":\"circle\"},\"mode\":\"markers\",\"name\":\"astroLow_cnv\",\"orientation\":\"v\",\"showlegend\":true,\"x\":[14.745887756347656,10.926460266113281,14.850618362426758,13.00710391998291,11.546566009521484,6.135249137878418,11.70028018951416,4.505072116851807,17.01913833618164,4.301787376403809,16.16275978088379,-1.55613374710083,9.761394500732422,14.070510864257812,19.390579223632812,6.041998863220215,6.207507610321045,2.6070430278778076,10.646819114685059,11.503683090209961,19.495622634887695,8.336944580078125,8.607933044433594,3.905179262161255,11.575873374938965,14.729269027709961,1.3135716915130615,13.874211311340332,16.548540115356445,11.564830780029297,2.142972230911255,0.3694813549518585,1.89859139919281,19.02229118347168,12.511455535888672,4.660777568817139,4.354178428649902,13.402783393859863,10.136959075927734,11.388934135437012],\"xaxis\":\"x\",\"y\":[7.277904987335205,21.11301040649414,6.120988845825195,21.92711067199707,16.9695987701416,14.683979988098145,23.29082679748535,17.9307918548584,20.830345153808594,17.23397445678711,20.25669288635254,15.872157096862793,22.058425903320312,18.165756225585938,22.0398006439209,14.218106269836426,19.274513244628906,9.372236251831055,13.015925407409668,18.1806697845459,18.278451919555664,20.46153450012207,20.406597137451172,16.957565307617188,23.730159759521484,6.601511478424072,9.91207218170166,22.075950622558594,20.0159854888916,21.90169334411621,10.470708847045898,8.847294807434082,9.623615264892578,18.387744903564453,22.93735694885254,18.004737854003906,16.50493812561035,19.627490997314453,22.05270767211914,23.80745506286621],\"yaxis\":\"y\",\"type\":\"scatter\"},{\"hovertemplate\":\"entity=astroHigh_cnv\\u003cbr\\u003e0=%{x}\\u003cbr\\u003e1=%{y}\\u003cextra\\u003e\\u003c\\u002fextra\\u003e\",\"legendgroup\":\"astroHigh_cnv\",\"marker\":{\"color\":\"#FF6692\",\"opacity\":1,\"symbol\":\"circle\"},\"mode\":\"markers\",\"name\":\"astroHigh_cnv\",\"orientation\":\"v\",\"showlegend\":true,\"x\":[2.399303913116455,2.3281004428863525,0.6171637773513794,7.754917144775391,0.6854591369628906,4.874344825744629,6.1021528244018555,5.582343578338623,6.7470574378967285,7.3898138999938965,9.67155647277832,7.635260105133057,6.608078956604004,3.8809914588928223,15.653077125549316,3.341735601425171,0.052231479436159134,6.242691993713379,11.6932954788208,5.510540008544922,14.943422317504883,6.321850776672363,2.0949714183807373,14.91313648223877,15.660245895385742,13.58359432220459,6.116232395172119,4.119853496551514,2.2237043380737305,14.294597625732422,15.012560844421387,15.005850791931152,3.9460229873657227,6.011621952056885,5.471371173858643,1.5856934785842896,6.839241981506348,1.3729225397109985,5.936138153076172,6.599140644073486,5.949335098266602,5.8839640617370605,-1.9842045307159424,7.392367362976074],\"xaxis\":\"x\",\"y\":[9.957250595092773,5.899611949920654,6.3233184814453125,2.2847506999969482,9.637572288513184,5.56553316116333,13.377057075500488,15.601189613342285,10.580304145812988,17.159353256225586,0.03118688054382801,6.610272407531738,8.234333038330078,16.9285945892334,7.633564472198486,10.58549976348877,16.281455993652344,4.650684833526611,13.497295379638672,14.622644424438477,4.124109268188477,18.411258697509766,9.944168090820312,4.722926139831543,-4.980260372161865,-2.069852828979492,9.085162162780762,8.576451301574707,9.61591911315918,14.156198501586914,4.0805463790893555,5.984086990356445,5.831995010375977,6.06024694442749,16.962181091308594,5.661177158355713,16.71997833251953,5.660508155822754,5.51047945022583,17.996379852294922,14.318778038024902,6.615262031555176,15.756534576416016,18.429513931274414],\"yaxis\":\"y\",\"type\":\"scatter\"},{\"hovertemplate\":\"entity=pa_cnv\\u003cbr\\u003e0=%{x}\\u003cbr\\u003e1=%{y}\\u003cextra\\u003e\\u003c\\u002fextra\\u003e\",\"legendgroup\":\"pa_cnv\",\"marker\":{\"color\":\"#B6E880\",\"opacity\":1,\"symbol\":\"circle\"},\"mode\":\"markers\",\"name\":\"pa_cnv\",\"orientation\":\"v\",\"showlegend\":true,\"x\":[13.768082618713379,13.160228729248047,16.6137638092041,17.899019241333008,9.17073917388916,21.235885620117188,18.77134895324707,18.97088623046875,15.633265495300293,14.236003875732422,11.222579956054688,11.737855911254883,6.996938228607178,6.711704730987549,5.907756328582764,13.66663646697998,-0.7129449844360352,21.501436233520508,19.178571701049805,14.283926010131836,17.207834243774414,15.930601119995117,10.706467628479004,9.937636375427246,18.828697204589844,17.807811737060547,11.729914665222168,20.38500213623047,11.7627534866333],\"xaxis\":\"x\",\"y\":[20.205312728881836,21.11005210876465,23.934099197387695,17.664295196533203,19.916271209716797,16.72188377380371,14.758121490478516,23.072879791259766,22.0416202545166,19.134014129638672,21.53923225402832,18.73872947692871,20.142486572265625,19.316204071044922,17.76017189025879,22.304128646850586,16.06109046936035,16.137535095214844,21.978425979614258,18.627174377441406,23.436084747314453,23.22366714477539,19.858339309692383,20.1456298828125,13.97197437286377,21.939693450927734,21.4747371673584,17.774404525756836,19.04924201965332],\"yaxis\":\"y\",\"type\":\"scatter\"}],                        {\"template\":{\"data\":{\"histogram2dcontour\":[{\"type\":\"histogram2dcontour\",\"colorbar\":{\"outlinewidth\":0,\"ticks\":\"\"},\"colorscale\":[[0.0,\"#0d0887\"],[0.1111111111111111,\"#46039f\"],[0.2222222222222222,\"#7201a8\"],[0.3333333333333333,\"#9c179e\"],[0.4444444444444444,\"#bd3786\"],[0.5555555555555556,\"#d8576b\"],[0.6666666666666666,\"#ed7953\"],[0.7777777777777778,\"#fb9f3a\"],[0.8888888888888888,\"#fdca26\"],[1.0,\"#f0f921\"]]}],\"choropleth\":[{\"type\":\"choropleth\",\"colorbar\":{\"outlinewidth\":0,\"ticks\":\"\"}}],\"histogram2d\":[{\"type\":\"histogram2d\",\"colorbar\":{\"outlinewidth\":0,\"ticks\":\"\"},\"colorscale\":[[0.0,\"#0d0887\"],[0.1111111111111111,\"#46039f\"],[0.2222222222222222,\"#7201a8\"],[0.3333333333333333,\"#9c179e\"],[0.4444444444444444,\"#bd3786\"],[0.5555555555555556,\"#d8576b\"],[0.6666666666666666,\"#ed7953\"],[0.7777777777777778,\"#fb9f3a\"],[0.8888888888888888,\"#fdca26\"],[1.0,\"#f0f921\"]]}],\"heatmap\":[{\"type\":\"heatmap\",\"colorbar\":{\"outlinewidth\":0,\"ticks\":\"\"},\"colorscale\":[[0.0,\"#0d0887\"],[0.1111111111111111,\"#46039f\"],[0.2222222222222222,\"#7201a8\"],[0.3333333333333333,\"#9c179e\"],[0.4444444444444444,\"#bd3786\"],[0.5555555555555556,\"#d8576b\"],[0.6666666666666666,\"#ed7953\"],[0.7777777777777778,\"#fb9f3a\"],[0.8888888888888888,\"#fdca26\"],[1.0,\"#f0f921\"]]}],\"heatmapgl\":[{\"type\":\"heatmapgl\",\"colorbar\":{\"outlinewidth\":0,\"ticks\":\"\"},\"colorscale\":[[0.0,\"#0d0887\"],[0.1111111111111111,\"#46039f\"],[0.2222222222222222,\"#7201a8\"],[0.3333333333333333,\"#9c179e\"],[0.4444444444444444,\"#bd3786\"],[0.5555555555555556,\"#d8576b\"],[0.6666666666666666,\"#ed7953\"],[0.7777777777777778,\"#fb9f3a\"],[0.8888888888888888,\"#fdca26\"],[1.0,\"#f0f921\"]]}],\"contourcarpet\":[{\"type\":\"contourcarpet\",\"colorbar\":{\"outlinewidth\":0,\"ticks\":\"\"}}],\"contour\":[{\"type\":\"contour\",\"colorbar\":{\"outlinewidth\":0,\"ticks\":\"\"},\"colorscale\":[[0.0,\"#0d0887\"],[0.1111111111111111,\"#46039f\"],[0.2222222222222222,\"#7201a8\"],[0.3333333333333333,\"#9c179e\"],[0.4444444444444444,\"#bd3786\"],[0.5555555555555556,\"#d8576b\"],[0.6666666666666666,\"#ed7953\"],[0.7777777777777778,\"#fb9f3a\"],[0.8888888888888888,\"#fdca26\"],[1.0,\"#f0f921\"]]}],\"surface\":[{\"type\":\"surface\",\"colorbar\":{\"outlinewidth\":0,\"ticks\":\"\"},\"colorscale\":[[0.0,\"#0d0887\"],[0.1111111111111111,\"#46039f\"],[0.2222222222222222,\"#7201a8\"],[0.3333333333333333,\"#9c179e\"],[0.4444444444444444,\"#bd3786\"],[0.5555555555555556,\"#d8576b\"],[0.6666666666666666,\"#ed7953\"],[0.7777777777777778,\"#fb9f3a\"],[0.8888888888888888,\"#fdca26\"],[1.0,\"#f0f921\"]]}],\"mesh3d\":[{\"type\":\"mesh3d\",\"colorbar\":{\"outlinewidth\":0,\"ticks\":\"\"}}],\"scatter\":[{\"fillpattern\":{\"fillmode\":\"overlay\",\"size\":10,\"solidity\":0.2},\"type\":\"scatter\"}],\"parcoords\":[{\"type\":\"parcoords\",\"line\":{\"colorbar\":{\"outlinewidth\":0,\"ticks\":\"\"}}}],\"scatterpolargl\":[{\"type\":\"scatterpolargl\",\"marker\":{\"colorbar\":{\"outlinewidth\":0,\"ticks\":\"\"}}}],\"bar\":[{\"error_x\":{\"color\":\"#2a3f5f\"},\"error_y\":{\"color\":\"#2a3f5f\"},\"marker\":{\"line\":{\"color\":\"#E5ECF6\",\"width\":0.5},\"pattern\":{\"fillmode\":\"overlay\",\"size\":10,\"solidity\":0.2}},\"type\":\"bar\"}],\"scattergeo\":[{\"type\":\"scattergeo\",\"marker\":{\"colorbar\":{\"outlinewidth\":0,\"ticks\":\"\"}}}],\"scatterpolar\":[{\"type\":\"scatterpolar\",\"marker\":{\"colorbar\":{\"outlinewidth\":0,\"ticks\":\"\"}}}],\"histogram\":[{\"marker\":{\"pattern\":{\"fillmode\":\"overlay\",\"size\":10,\"solidity\":0.2}},\"type\":\"histogram\"}],\"scattergl\":[{\"type\":\"scattergl\",\"marker\":{\"colorbar\":{\"outlinewidth\":0,\"ticks\":\"\"}}}],\"scatter3d\":[{\"type\":\"scatter3d\",\"line\":{\"colorbar\":{\"outlinewidth\":0,\"ticks\":\"\"}},\"marker\":{\"colorbar\":{\"outlinewidth\":0,\"ticks\":\"\"}}}],\"scattermapbox\":[{\"type\":\"scattermapbox\",\"marker\":{\"colorbar\":{\"outlinewidth\":0,\"ticks\":\"\"}}}],\"scatterternary\":[{\"type\":\"scatterternary\",\"marker\":{\"colorbar\":{\"outlinewidth\":0,\"ticks\":\"\"}}}],\"scattercarpet\":[{\"type\":\"scattercarpet\",\"marker\":{\"colorbar\":{\"outlinewidth\":0,\"ticks\":\"\"}}}],\"carpet\":[{\"aaxis\":{\"endlinecolor\":\"#2a3f5f\",\"gridcolor\":\"white\",\"linecolor\":\"white\",\"minorgridcolor\":\"white\",\"startlinecolor\":\"#2a3f5f\"},\"baxis\":{\"endlinecolor\":\"#2a3f5f\",\"gridcolor\":\"white\",\"linecolor\":\"white\",\"minorgridcolor\":\"white\",\"startlinecolor\":\"#2a3f5f\"},\"type\":\"carpet\"}],\"table\":[{\"cells\":{\"fill\":{\"color\":\"#EBF0F8\"},\"line\":{\"color\":\"white\"}},\"header\":{\"fill\":{\"color\":\"#C8D4E3\"},\"line\":{\"color\":\"white\"}},\"type\":\"table\"}],\"barpolar\":[{\"marker\":{\"line\":{\"color\":\"#E5ECF6\",\"width\":0.5},\"pattern\":{\"fillmode\":\"overlay\",\"size\":10,\"solidity\":0.2}},\"type\":\"barpolar\"}],\"pie\":[{\"automargin\":true,\"type\":\"pie\"}]},\"layout\":{\"autotypenumbers\":\"strict\",\"colorway\":[\"#636efa\",\"#EF553B\",\"#00cc96\",\"#ab63fa\",\"#FFA15A\",\"#19d3f3\",\"#FF6692\",\"#B6E880\",\"#FF97FF\",\"#FECB52\"],\"font\":{\"color\":\"#2a3f5f\"},\"hovermode\":\"closest\",\"hoverlabel\":{\"align\":\"left\"},\"paper_bgcolor\":\"white\",\"plot_bgcolor\":\"#E5ECF6\",\"polar\":{\"bgcolor\":\"#E5ECF6\",\"angularaxis\":{\"gridcolor\":\"white\",\"linecolor\":\"white\",\"ticks\":\"\"},\"radialaxis\":{\"gridcolor\":\"white\",\"linecolor\":\"white\",\"ticks\":\"\"}},\"ternary\":{\"bgcolor\":\"#E5ECF6\",\"aaxis\":{\"gridcolor\":\"white\",\"linecolor\":\"white\",\"ticks\":\"\"},\"baxis\":{\"gridcolor\":\"white\",\"linecolor\":\"white\",\"ticks\":\"\"},\"caxis\":{\"gridcolor\":\"white\",\"linecolor\":\"white\",\"ticks\":\"\"}},\"coloraxis\":{\"colorbar\":{\"outlinewidth\":0,\"ticks\":\"\"}},\"colorscale\":{\"sequential\":[[0.0,\"#0d0887\"],[0.1111111111111111,\"#46039f\"],[0.2222222222222222,\"#7201a8\"],[0.3333333333333333,\"#9c179e\"],[0.4444444444444444,\"#bd3786\"],[0.5555555555555556,\"#d8576b\"],[0.6666666666666666,\"#ed7953\"],[0.7777777777777778,\"#fb9f3a\"],[0.8888888888888888,\"#fdca26\"],[1.0,\"#f0f921\"]],\"sequentialminus\":[[0.0,\"#0d0887\"],[0.1111111111111111,\"#46039f\"],[0.2222222222222222,\"#7201a8\"],[0.3333333333333333,\"#9c179e\"],[0.4444444444444444,\"#bd3786\"],[0.5555555555555556,\"#d8576b\"],[0.6666666666666666,\"#ed7953\"],[0.7777777777777778,\"#fb9f3a\"],[0.8888888888888888,\"#fdca26\"],[1.0,\"#f0f921\"]],\"diverging\":[[0,\"#8e0152\"],[0.1,\"#c51b7d\"],[0.2,\"#de77ae\"],[0.3,\"#f1b6da\"],[0.4,\"#fde0ef\"],[0.5,\"#f7f7f7\"],[0.6,\"#e6f5d0\"],[0.7,\"#b8e186\"],[0.8,\"#7fbc41\"],[0.9,\"#4d9221\"],[1,\"#276419\"]]},\"xaxis\":{\"gridcolor\":\"white\",\"linecolor\":\"white\",\"ticks\":\"\",\"title\":{\"standoff\":15},\"zerolinecolor\":\"white\",\"automargin\":true,\"zerolinewidth\":2},\"yaxis\":{\"gridcolor\":\"white\",\"linecolor\":\"white\",\"ticks\":\"\",\"title\":{\"standoff\":15},\"zerolinecolor\":\"white\",\"automargin\":true,\"zerolinewidth\":2},\"scene\":{\"xaxis\":{\"backgroundcolor\":\"#E5ECF6\",\"gridcolor\":\"white\",\"linecolor\":\"white\",\"showbackground\":true,\"ticks\":\"\",\"zerolinecolor\":\"white\",\"gridwidth\":2},\"yaxis\":{\"backgroundcolor\":\"#E5ECF6\",\"gridcolor\":\"white\",\"linecolor\":\"white\",\"showbackground\":true,\"ticks\":\"\",\"zerolinecolor\":\"white\",\"gridwidth\":2},\"zaxis\":{\"backgroundcolor\":\"#E5ECF6\",\"gridcolor\":\"white\",\"linecolor\":\"white\",\"showbackground\":true,\"ticks\":\"\",\"zerolinecolor\":\"white\",\"gridwidth\":2}},\"shapedefaults\":{\"line\":{\"color\":\"#2a3f5f\"}},\"annotationdefaults\":{\"arrowcolor\":\"#2a3f5f\",\"arrowhead\":0,\"arrowwidth\":1},\"geo\":{\"bgcolor\":\"white\",\"landcolor\":\"#E5ECF6\",\"subunitcolor\":\"white\",\"showland\":true,\"showlakes\":true,\"lakecolor\":\"white\"},\"title\":{\"x\":0.05},\"mapbox\":{\"style\":\"light\"}}},\"xaxis\":{\"anchor\":\"y\",\"domain\":[0.0,1.0],\"title\":{\"text\":\"0\"}},\"yaxis\":{\"anchor\":\"x\",\"domain\":[0.0,1.0],\"title\":{\"text\":\"1\"}},\"legend\":{\"title\":{\"text\":\"entity\"},\"tracegroupgap\":0},\"title\":{\"text\":\"PCA components = 5, n_neighbors = 6, n_cases = 610, fold_change_threshold = 0.06\"},\"width\":1000,\"height\":600},                        {\"responsive\": true}                    ).then(function(){\n",
       "                            \n",
       "var gd = document.getElementById('91309120-6d9c-467b-ae24-109f56bdd990');\n",
       "var x = new MutationObserver(function (mutations, observer) {{\n",
       "        var display = window.getComputedStyle(gd).display;\n",
       "        if (!display || display === 'none') {{\n",
       "            console.log([gd, 'removed!']);\n",
       "            Plotly.purge(gd);\n",
       "            observer.disconnect();\n",
       "        }}\n",
       "}});\n",
       "\n",
       "// Listen for the removal of the full notebook cells\n",
       "var notebookContainer = gd.closest('#notebook-container');\n",
       "if (notebookContainer) {{\n",
       "    x.observe(notebookContainer, {childList: true});\n",
       "}}\n",
       "\n",
       "// Listen for the clearing of the current output cell\n",
       "var outputEl = gd.closest('.output');\n",
       "if (outputEl) {{\n",
       "    x.observe(outputEl, {childList: true});\n",
       "}}\n",
       "\n",
       "                        })                };                });            </script>        </div>"
      ]
     },
     "metadata": {},
     "output_type": "display_data"
    }
   ],
   "source": [
    "N_NEIGHBORS = 6\n",
    "\n",
    "umap_2d = UMAP(n_neighbors=N_NEIGHBORS,n_epochs=500,random_state=1,spread=3,min_dist=0.5)\n",
    "umap_2d.fit(denoize)\n",
    "\n",
    "projections = umap_2d.transform(denoize)\n",
    "\n",
    "fig = px.scatter(\n",
    "    projections, x=0, y=1,\n",
    "    title= f'PCA components = {PRINCIPAL_COMPONENTS}, n_neighbors = {N_NEIGHBORS}, n_cases = {df.shape[0]}, fold_change_threshold = {AMPLITUDE_THRESHOLD}' ,\n",
    "    color=y_entity.astype(str), labels={'color': 'entity'},\n",
    "    opacity=1\n",
    ")\n",
    "\n",
    "fig.update_layout(width=1000, height=600)\n",
    "\n",
    "fig.show()"
   ]
  },
  {
   "cell_type": "code",
   "execution_count": null,
   "id": "7dfd8d6c-b398-4561-a362-bd23c550cb78",
   "metadata": {},
   "outputs": [],
   "source": []
  }
 ],
 "metadata": {
  "kernelspec": {
   "display_name": "Python 3 (ipykernel)",
   "language": "python",
   "name": "python3"
  },
  "language_info": {
   "codemirror_mode": {
    "name": "ipython",
    "version": 3
   },
   "file_extension": ".py",
   "mimetype": "text/x-python",
   "name": "python",
   "nbconvert_exporter": "python",
   "pygments_lexer": "ipython3",
   "version": "3.11.4"
  }
 },
 "nbformat": 4,
 "nbformat_minor": 5
}
