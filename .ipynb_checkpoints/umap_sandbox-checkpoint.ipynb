{
 "cells": [
  {
   "cell_type": "code",
   "execution_count": 79,
   "id": "e78795a5-9c86-4c63-b27b-fc8e2e0d0c5c",
   "metadata": {
    "tags": []
   },
   "outputs": [],
   "source": [
    "import pandas as pd\n",
    "import numpy as np\n",
    "\n",
    "\n",
    "# preprocessing and dimensionality reduction\n",
    "from sklearn.preprocessing import StandardScaler\n",
    "from sklearn.preprocessing import MinMaxScaler\n",
    "from sklearn.preprocessing import RobustScaler\n",
    "from sklearn.preprocessing import QuantileTransformer\n",
    "from sklearn.preprocessing import Normalizer\n",
    "from sklearn.decomposition import PCA\n",
    "import pywt\n",
    "from umap import UMAP\n",
    "\n",
    "\n",
    "# visualization\n",
    "import matplotlib.pyplot as plt\n",
    "import plotly.express as px\n",
    "\n",
    "\n",
    "AMPLITUDE_THRESHOLD = 0.06\n",
    "\n",
    "\n",
    "df = pd.read_csv(\"/home/alpha/programs/python_files/datasets/cnv_and_mut/entities_transformed.csv\")\n",
    "\n",
    "# basic filtering. Rename Unnamded 0 with ID. Dropp chromosomes Y and X\n",
    "# df = df.dropna(axis=1)\n",
    "# df = df.fillna(0)\n",
    "# df = df.rename(columns={\"Unnamed: 0\": \"ID\"})\n",
    "df = df[df.columns.drop(list(df.filter(regex='[YX]')))]\n",
    "\n",
    "# Make it amplitude agnostic (experimental) \n",
    "def stupid_custom_filter(df=df,AMPLITUDE_THRESHOLD=AMPLITUDE_THRESHOLD):\n",
    "    # temporary drop non digit columns\n",
    "    helper_df = df[[\"entity\",\"ID\"]]\n",
    "    df = df.drop(columns=[\"entity\",\"ID\"])\n",
    "    # standardize and normalize data\n",
    "    df = (df-df.mean())/df.std()\n",
    "    df = 2*((df-df.min())/(df.max()-df.min()))-1\n",
    "    # apply the filter\n",
    "    df[df < -AMPLITUDE_THRESHOLD] = -1\n",
    "    df[df > AMPLITUDE_THRESHOLD] = 1\n",
    "    df[(df <= AMPLITUDE_THRESHOLD) & (df >= -AMPLITUDE_THRESHOLD)] = 0\n",
    "    # append the dropped columns on the filtered dataframe\n",
    "    df[\"ID\"] = helper_df[\"ID\"]\n",
    "    df[\"entity\"] = helper_df[\"entity\"]\n",
    "    \n",
    "    return df\n",
    "\n",
    "# df = stupid_custom_filter()\n",
    "\n",
    "\n",
    "\n",
    "# Make features\n",
    "features = df.columns.tolist()\n",
    "features.remove(\"entity\")\n",
    "features.remove(\"ID\")"
   ]
  },
  {
   "cell_type": "markdown",
   "id": "b68accec-2346-4833-91b8-07986eb5eeb0",
   "metadata": {},
   "source": [
    "## Standardization and denoising using PCA\n",
    "\n",
    "### Best settings so far\n",
    "\n",
    "*Master file builder*\n",
    "\n",
    "file[\"value\"] = 2*((file[\"value\"]-file[\"value\"].min())/(file[\"value\"].max()-file[\"value\"].min()))-1\n",
    "\n",
    "file[\"value\"] = (file[\"value\"]-file[\"value\"].mean())/file[\"value\"].std()\n",
    "\n",
    "*Preprocessing*\n",
    "\n",
    "PRINCIPAL_COMPONENTS = 5\n",
    "StandardScaler\n",
    "N_NEIGHBORS = 10\n"
   ]
  },
  {
   "cell_type": "code",
   "execution_count": 107,
   "id": "596656b2-f9c2-4b18-afb0-8ba9204949c6",
   "metadata": {},
   "outputs": [
    {
     "name": "stdout",
     "output_type": "stream",
     "text": [
      "[[-0.181 -0.031 -0.09  ... -0.394 -0.221 -0.15 ]\n",
      " [-0.11   0.019 -0.033 ... -0.562 -0.276 -0.323]\n",
      " [-0.075  0.058 -0.006 ... -0.339 -0.271 -0.1  ]\n",
      " ...\n",
      " [-0.182  0.035 -0.025 ... -0.471 -0.367 -0.306]\n",
      " [-0.274  0.084 -0.047 ... -0.279 -0.349 -0.03 ]\n",
      " [-0.088 -0.037 -0.082 ... -0.035 -0.05  -0.007]]\n"
     ]
    },
    {
     "ename": "AttributeError",
     "evalue": "'LinearRegression' object has no attribute 'feature_importances_'",
     "output_type": "error",
     "traceback": [
      "\u001b[0;31m---------------------------------------------------------------------------\u001b[0m",
      "\u001b[0;31mAttributeError\u001b[0m                            Traceback (most recent call last)",
      "Cell \u001b[0;32mIn[107], line 13\u001b[0m\n\u001b[1;32m     11\u001b[0m model \u001b[38;5;241m=\u001b[39m LinearRegression()\n\u001b[1;32m     12\u001b[0m model\u001b[38;5;241m.\u001b[39mfit(x,y_entity)\n\u001b[0;32m---> 13\u001b[0m importance \u001b[38;5;241m=\u001b[39m model\u001b[38;5;241m.\u001b[39mfeature_importances_\n\u001b[1;32m     14\u001b[0m \u001b[38;5;28mprint\u001b[39m(importance)\n\u001b[1;32m     16\u001b[0m \u001b[38;5;66;03m# for i,v in enumerate(importance):\u001b[39;00m\n\u001b[1;32m     17\u001b[0m     \u001b[38;5;66;03m# print('Feature: %0d, Score: %.5f' % (i,v))\u001b[39;00m\n\u001b[1;32m     18\u001b[0m \u001b[38;5;66;03m# plot feature importance\u001b[39;00m\n",
      "\u001b[0;31mAttributeError\u001b[0m: 'LinearRegression' object has no attribute 'feature_importances_'"
     ]
    }
   ],
   "source": [
    "from sklearn.linear_model import LinearRegression\n",
    "import matplotlib.pyplot as plt\n",
    "\n",
    "# make targets\n",
    "x = df.loc[:,features].values\n",
    "df['entity'] = df['entity'].rank(method='dense', ascending=False).astype(int)\n",
    "y_entity = df.loc[:,\"entity\"].values\n",
    "y_id = df.loc[:,\"ID\"].values\n",
    "print(x)\n",
    "\n",
    "model = LinearRegression()\n",
    "model.fit(x,y_entity)\n",
    "importance = model.feature_importances_\n",
    "print(importance)\n",
    "\n",
    "# for i,v in enumerate(importance):\n",
    "    # print('Feature: %0d, Score: %.5f' % (i,v))\n",
    "# plot feature importance\n",
    "plt.bar([x for x in range(len(importance))], importance)\n",
    "plt.show()\n"
   ]
  },
  {
   "cell_type": "code",
   "execution_count": 93,
   "id": "f0756a9e-b3a7-4521-a175-0b74999de9ff",
   "metadata": {},
   "outputs": [
    {
     "name": "stdin",
     "output_type": "stream",
     "text": [
      "Scaler to use (default StandardSclaer) : \n",
      " 1.StandardScaler \n",
      " 2.MinMaxScaler \n",
      " 3.RobustScaler \n",
      " 4.QuantileTransformer \n",
      " 5. Normalizer \n",
      " 3\n"
     ]
    },
    {
     "name": "stdout",
     "output_type": "stream",
     "text": [
      "[0.41031221 0.15972519] 0.007051377816014313\n"
     ]
    },
    {
     "data": {
      "text/plain": [
       "Text(0, 0.5, 'variance %')"
      ]
     },
     "execution_count": 93,
     "metadata": {},
     "output_type": "execute_result"
    },
    {
     "data": {
      "image/png": "[encoded data removed]",
      "text/plain": [
       "<Figure size 1008x432 with 1 Axes>"
      ]
     },
     "metadata": {
      "needs_background": "light"
     },
     "output_type": "display_data"
    }
   ],
   "source": [
    "PRINCIPAL_COMPONENTS = 2\n",
    "\n",
    "# test transform and preprocessing methods\n",
    "def custom_preprocess(method=1,x=x):\n",
    "    if method == 2:\n",
    "        scaler = MinMaxScaler()\n",
    "    elif method == 3:\n",
    "        scaler = RobustScaler(quantile_range=(0.2,0.8))\n",
    "    elif method == 4:\n",
    "        scaler = QuantileTransformer(n_quantiles=10, random_state=0, output_distribution=\"normal\")\n",
    "    elif method == 5:\n",
    "        scaler = Normalizer()\n",
    "    else:\n",
    "        print(\"using default StandardScaler\")\n",
    "        scaler = StandardScaler()\n",
    "    \n",
    "    x = scaler.fit_transform(x)\n",
    "    x = Normalizer(norm=\"max\").fit_transform(x)\n",
    "    return x\n",
    "    \n",
    "method = int(input(\"Scaler to use (default StandardSclaer) : \\n 1.StandardScaler \\n 2.MinMaxScaler \\n 3.RobustScaler \\n 4.QuantileTransformer \\n 5. Normalizer \\n\"))\n",
    "x = custom_preprocess(method,x)\n",
    "\n",
    "\n",
    "# PCA\n",
    "pca_denoize = PCA(n_components=PRINCIPAL_COMPONENTS)\n",
    "denoize = pca_denoize.fit_transform(x)\n",
    "# print components which contribute to variance the most\n",
    "variance = pca_denoize.explained_variance_ratio_\n",
    "noise = pca_denoize.noise_variance_\n",
    "print(variance, noise)\n",
    "\n",
    "plt.figure(figsize=[14,6])\n",
    "plt.bar(range(variance.shape[0]),variance)\n",
    "plt.xlabel('PCA features')\n",
    "plt.ylabel('variance %')\n"
   ]
  },
  {
   "cell_type": "code",
   "execution_count": 97,
   "id": "75080adb-4ad3-4081-8ac9-f8aa124535db",
   "metadata": {},
   "outputs": [
    {
     "data": {
      "application/vnd.plotly.v1+json": {
       "config": {
        "plotlyServerURL": "https://plot.ly"
       },
       "data": [
        {
         "hovertemplate": "entity=gbm_cnv<br>0=%{x}<br>1=%{y}<extra></extra>",
         "legendgroup": "gbm_cnv",
         "marker": {
          "color": "#636efa",
          "opacity": 1,
          "symbol": "circle"
         },
         "mode": "markers",
         "name": "gbm_cnv",
         "orientation": "v",
         "showlegend": true,
         "type": "scatter",
         "x": [
          8.80308723449707,
          12.863338470458984,
          7.559582233428955,
          3.4182753562927246,
          12.464398384094238,
          5.0176825523376465,
          5.462643146514893,
          4.826196670532227,
          2.5400826930999756,
          7.807019233703613,
          12.560914039611816,
          12.709269523620605,
          11.158489227294922,
          12.610645294189453,
          12.135908126831055,
          12.55362319946289,
          10.684657096862793,
          12.57618522644043,
          8.7120361328125,
          7.095366477966309,
          12.460935592651367,
          6.431981086730957,
          6.021210193634033,
          6.140181541442871,
          11.07949447631836,
          12.871452331542969,
          4.7212371826171875,
          12.357747077941895,
          12.363909721374512,
          3.618403911590576,
          4.541663646697998,
          12.863008499145508,
          3.3656764030456543,
          11.99764347076416,
          7.177422523498535,
          12.672686576843262,
          5.421574115753174,
          4.811492919921875,
          7.807050704956055,
          9.14074420928955,
          10.181023597717285,
          12.796133995056152,
          5.921589374542236,
          2.843019962310791,
          4.804267406463623,
          12.224114418029785,
          7.215420246124268,
          12.7389497756958,
          9.378061294555664,
          9.030415534973145,
          8.287474632263184,
          5.262236595153809,
          11.348010063171387,
          2.129458427429199,
          8.41244888305664,
          8.234904289245605,
          12.147461891174316,
          3.82087779045105,
          12.563040733337402,
          7.261452674865723,
          7.409592151641846,
          7.5094757080078125,
          9.675711631774902,
          12.927217483520508,
          12.41535472869873,
          12.738466262817383,
          10.126112937927246,
          2.179993152618408,
          12.424623489379883,
          11.332230567932129,
          12.704297065734863,
          8.737223625183105,
          5.417444229125977,
          7.200140953063965,
          3.6278133392333984,
          10.873497009277344,
          8.597349166870117,
          9.551682472229004,
          10.058795928955078,
          7.601742744445801,
          12.296088218688965,
          4.208736896514893,
          11.328357696533203,
          10.739376068115234,
          8.869872093200684,
          4.494350910186768,
          2.4099960327148438,
          12.91304874420166,
          6.031663417816162,
          5.561117172241211,
          4.6571221351623535,
          6.4368181228637695,
          12.497013092041016,
          1.8367058038711548,
          10.889178276062012,
          8.614727020263672,
          10.581302642822266,
          12.52010440826416,
          6.246789455413818,
          12.65432357788086,
          7.845678806304932,
          9.805902481079102,
          10.523178100585938,
          7.775637149810791,
          5.840246200561523,
          12.874947547912598,
          12.64675521850586,
          8.602023124694824,
          9.51921558380127,
          12.763283729553223,
          12.788790702819824,
          2.2643930912017822,
          5.449024200439453,
          10.671205520629883,
          5.712698936462402,
          12.268202781677246,
          10.666569709777832,
          9.601776123046875,
          5.720407962799072,
          12.393038749694824,
          7.201283931732178,
          12.23277759552002,
          10.155505180358887,
          11.414594650268555,
          11.994294166564941,
          8.603906631469727,
          12.878979682922363,
          10.543798446655273,
          11.25559139251709,
          8.291756629943848,
          5.605224609375,
          3.98323392868042,
          12.699386596679688,
          5.872358322143555,
          12.641605377197266,
          10.699047088623047,
          4.796069622039795,
          5.0747151374816895,
          3.71148943901062,
          4.285987854003906,
          7.246790409088135,
          12.776846885681152,
          7.7716217041015625,
          12.796365737915039,
          5.760225772857666,
          8.397323608398438,
          2.474707841873169,
          7.0391526222229,
          6.982184886932373,
          12.703927993774414,
          12.555347442626953,
          10.145520210266113,
          6.400420665740967,
          4.170298099517822,
          9.720991134643555,
          1.9660356044769287,
          12.340374946594238,
          7.760107040405273,
          2.200096368789673,
          12.396183013916016,
          6.706486225128174,
          3.2199313640594482,
          10.565258026123047,
          7.523507118225098,
          7.465592384338379,
          5.1183180809021,
          5.4575934410095215,
          10.919137001037598,
          2.4435150623321533,
          11.646915435791016,
          12.621160507202148,
          10.11888313293457,
          10.704912185668945,
          12.772001266479492,
          5.74282693862915,
          8.708288192749023,
          10.015955924987793,
          10.653166770935059,
          7.3055806159973145,
          11.470927238464355,
          10.678773880004883,
          4.315755367279053,
          5.480286598205566,
          12.054405212402344,
          7.9414262771606445,
          4.259759902954102,
          12.557490348815918,
          7.335758686065674,
          7.370702266693115,
          4.3623833656311035,
          4.899452209472656,
          12.942904472351074,
          12.910086631774902,
          2.4343602657318115,
          12.781123161315918,
          8.609530448913574,
          4.528496742248535,
          12.436511039733887,
          9.682998657226562,
          9.796218872070312,
          5.682901859283447,
          10.056020736694336,
          9.790908813476562,
          7.405004024505615
         ],
         "xaxis": "x",
         "y": [
          0.20375072956085205,
          6.633960723876953,
          9.082425117492676,
          7.028148651123047,
          5.386508941650391,
          -1.5804282426834106,
          10.155147552490234,
          7.503942012786865,
          6.592703819274902,
          -0.7471188902854919,
          3.306572198867798,
          4.465763092041016,
          8.919897079467773,
          3.405139684677124,
          9.107422828674316,
          3.428378105163574,
          9.170156478881836,
          3.7076046466827393,
          -0.6725084781646729,
          -1.110687017440796,
          5.610538959503174,
          -0.879435658454895,
          10.470101356506348,
          10.50943374633789,
          1.6646262407302856,
          6.483770847320557,
          8.180023193359375,
          9.209671974182129,
          8.799593925476074,
          6.479161739349365,
          6.82546854019165,
          6.671538352966309,
          5.561127662658691,
          8.516411781311035,
          9.871305465698242,
          3.4228076934814453,
          -1.322184681892395,
          -1.7313759326934814,
          9.215559959411621,
          0.8648610711097717,
          1.1324148178100586,
          4.378838062286377,
          10.202804565429688,
          6.3006110191345215,
          8.896931648254395,
          9.163651466369629,
          -1.0309574604034424,
          4.788206100463867,
          1.1387276649475098,
          0.07666801661252975,
          9.207858085632324,
          8.798445701599121,
          2.0121853351593018,
          7.6072001457214355,
          9.220534324645996,
          -0.4846796691417694,
          8.240565299987793,
          5.664602279663086,
          9.140239715576172,
          -0.07641206681728363,
          8.985760688781738,
          -0.7049320936203003,
          1.3852375745773315,
          5.728001594543457,
          8.427197456359863,
          6.915985584259033,
          9.411527633666992,
          8.01827621459961,
          8.686495780944824,
          1.9564683437347412,
          4.949759483337402,
          -0.40864917635917664,
          10.105670928955078,
          8.980876922607422,
          6.921829700469971,
          8.565265655517578,
          -0.8026317358016968,
          1.5459485054016113,
          9.312411308288574,
          9.085352897644043,
          8.32259464263916,
          5.578111171722412,
          1.924267292022705,
          8.736433029174805,
          9.232876777648926,
          7.013003826141357,
          8.157727241516113,
          5.339939117431641,
          10.220447540283203,
          8.969470977783203,
          7.527386665344238,
          -0.9459182024002075,
          3.6832473278045654,
          8.171792030334473,
          8.95494556427002,
          -0.5701498985290527,
          1.21404230594635,
          9.19536018371582,
          10.333159446716309,
          9.21696662902832,
          9.201839447021484,
          0.6287679076194763,
          1.153637409210205,
          9.3161039352417,
          10.383864402770996,
          6.504068374633789,
          7.101606369018555,
          -0.6704474091529846,
          1.1413859128952026,
          4.429286479949951,
          3.512173891067505,
          8.079427719116211,
          10.180282592773438,
          8.7190580368042,
          -1.174599051475525,
          3.0941996574401855,
          9.172049522399902,
          0.4553866386413574,
          10.301846504211426,
          7.80740213394165,
          9.820727348327637,
          8.787495613098145,
          9.398667335510254,
          8.220817565917969,
          9.116301536560059,
          -0.4616619348526001,
          6.718128681182861,
          1.1511911153793335,
          1.892238974571228,
          -0.6540015935897827,
          8.749885559082031,
          6.804984092712402,
          4.093165874481201,
          10.409573554992676,
          9.340109825134277,
          1.3089282512664795,
          -1.8548506498336792,
          -1.629815697669983,
          7.053926944732666,
          7.017640590667725,
          -0.5950544476509094,
          5.50400447845459,
          -0.7958688139915466,
          4.506702423095703,
          10.455015182495117,
          -0.6694203615188599,
          8.082175254821777,
          -1.1735128164291382,
          9.935794830322266,
          3.3995766639709473,
          4.625443935394287,
          9.382926940917969,
          -0.9578324556350708,
          5.697483539581299,
          1.1577836275100708,
          7.800185203552246,
          7.865244388580322,
          -0.8750138878822327,
          7.484231472015381,
          3.213594436645508,
          -1.0674751996994019,
          5.56630802154541,
          9.204216957092285,
          8.970443725585938,
          -0.4778028726577759,
          8.82852840423584,
          8.381094932556152,
          9.052087783813477,
          8.190960884094238,
          9.190174102783203,
          5.099602699279785,
          1.2249643802642822,
          8.782649993896484,
          5.265528202056885,
          -1.2133452892303467,
          9.2188138961792,
          0.8818948864936829,
          8.663565635681152,
          8.899408340454102,
          2.1217336654663086,
          1.276672601699829,
          7.161118507385254,
          10.133431434631348,
          2.8592491149902344,
          9.214526176452637,
          8.575730323791504,
          5.282818794250488,
          8.986541748046875,
          -0.30121755599975586,
          5.669130325317383,
          -1.6835445165634155,
          6.26829195022583,
          6.175124168395996,
          8.229759216308594,
          6.766926288604736,
          -0.32611414790153503,
          7.364668846130371,
          8.602736473083496,
          1.3405338525772095,
          1.399263858795166,
          9.940058708190918,
          9.1175537109375,
          0.9009943008422852,
          -0.14803870022296906
         ],
         "yaxis": "y"
        },
        {
         "hovertemplate": "entity=pxa_cnv<br>0=%{x}<br>1=%{y}<extra></extra>",
         "legendgroup": "pxa_cnv",
         "marker": {
          "color": "#EF553B",
          "opacity": 1,
          "symbol": "circle"
         },
         "mode": "markers",
         "name": "pxa_cnv",
         "orientation": "v",
         "showlegend": true,
         "type": "scatter",
         "x": [
          5.102635383605957,
          2.5812489986419678,
          5.538516998291016,
          6.787132740020752,
          5.544507026672363,
          3.912012815475464,
          4.654024124145508,
          4.003455638885498,
          2.23526930809021,
          3.9185218811035156,
          3.2139968872070312,
          5.777528285980225,
          3.9325168132781982,
          3.1987502574920654,
          2.892650604248047,
          9.872021675109863,
          5.169180393218994,
          3.241112232208252,
          4.788193702697754,
          5.138167381286621,
          4.258058547973633,
          4.100247383117676,
          3.849795341491699,
          5.643333911895752,
          1.9133695363998413,
          2.576183557510376,
          2.2446792125701904,
          4.819750785827637,
          2.3195488452911377,
          1.8053938150405884,
          6.625932693481445,
          4.436249256134033,
          4.526483058929443,
          8.054420471191406,
          2.9392030239105225,
          3.033607006072998,
          5.785050392150879,
          6.469864368438721,
          3.173962116241455,
          2.768075466156006,
          7.437682151794434,
          2.418083906173706,
          11.031229019165039,
          7.274688720703125,
          3.9437246322631836
         ],
         "xaxis": "x",
         "y": [
          9.2073392868042,
          8.200515747070312,
          8.926460266113281,
          -1.1406956911087036,
          -1.0086133480072021,
          5.258606910705566,
          8.573904991149902,
          5.435821533203125,
          7.933924198150635,
          5.9859137535095215,
          6.577897071838379,
          -1.1097010374069214,
          5.333712577819824,
          5.606563568115234,
          6.439645290374756,
          0.5545898079872131,
          -1.5056053400039673,
          5.533241271972656,
          -1.7868555784225464,
          -1.4883850812911987,
          5.61046838760376,
          6.057290077209473,
          5.332889080047607,
          -1.2184611558914185,
          8.084979057312012,
          6.5059661865234375,
          7.608852863311768,
          8.411972999572754,
          6.969019412994385,
          8.177075386047363,
          -1.1019903421401978,
          7.523951053619385,
          6.67532205581665,
          9.18298053741455,
          6.385921001434326,
          6.648466110229492,
          -1.1271648406982422,
          -1.1984769105911255,
          5.6267571449279785,
          6.488199710845947,
          -0.2727298140525818,
          7.2709760665893555,
          8.450770378112793,
          -0.12967607378959656,
          5.2306952476501465
         ],
         "yaxis": "y"
        }
       ],
       "layout": {
        "height": 600,
        "legend": {
         "title": {
          "text": "entity"
         },
         "tracegroupgap": 0
        },
        "template": {
         "data": {
          "bar": [
           {
            "error_x": {
             "color": "#2a3f5f"
            },
            "error_y": {
             "color": "#2a3f5f"
            },
            "marker": {
             "line": {
              "color": "#E5ECF6",
              "width": 0.5
             },
             "pattern": {
              "fillmode": "overlay",
              "size": 10,
              "solidity": 0.2
             }
            },
            "type": "bar"
           }
          ],
          "barpolar": [
           {
            "marker": {
             "line": {
              "color": "#E5ECF6",
              "width": 0.5
             },
             "pattern": {
              "fillmode": "overlay",
              "size": 10,
              "solidity": 0.2
             }
            },
            "type": "barpolar"
           }
          ],
          "carpet": [
           {
            "aaxis": {
             "endlinecolor": "#2a3f5f",
             "gridcolor": "white",
             "linecolor": "white",
             "minorgridcolor": "white",
             "startlinecolor": "#2a3f5f"
            },
            "baxis": {
             "endlinecolor": "#2a3f5f",
             "gridcolor": "white",
             "linecolor": "white",
             "minorgridcolor": "white",
             "startlinecolor": "#2a3f5f"
            },
            "type": "carpet"
           }
          ],
          "choropleth": [
           {
            "colorbar": {
             "outlinewidth": 0,
             "ticks": ""
            },
            "type": "choropleth"
           }
          ],
          "contour": [
           {
            "colorbar": {
             "outlinewidth": 0,
             "ticks": ""
            },
            "colorscale": [
             [
              0,
              "#0d0887"
             ],
             [
              0.1111111111111111,
              "#46039f"
             ],
             [
              0.2222222222222222,
              "#7201a8"
             ],
             [
              0.3333333333333333,
              "#9c179e"
             ],
             [
              0.4444444444444444,
              "#bd3786"
             ],
             [
              0.5555555555555556,
              "#d8576b"
             ],
             [
              0.6666666666666666,
              "#ed7953"
             ],
             [
              0.7777777777777778,
              "#fb9f3a"
             ],
             [
              0.8888888888888888,
              "#fdca26"
             ],
             [
              1,
              "#f0f921"
             ]
            ],
            "type": "contour"
           }
          ],
          "contourcarpet": [
           {
            "colorbar": {
             "outlinewidth": 0,
             "ticks": ""
            },
            "type": "contourcarpet"
           }
          ],
          "heatmap": [
           {
            "colorbar": {
             "outlinewidth": 0,
             "ticks": ""
            },
            "colorscale": [
             [
              0,
              "#0d0887"
             ],
             [
              0.1111111111111111,
              "#46039f"
             ],
             [
              0.2222222222222222,
              "#7201a8"
             ],
             [
              0.3333333333333333,
              "#9c179e"
             ],
             [
              0.4444444444444444,
              "#bd3786"
             ],
             [
              0.5555555555555556,
              "#d8576b"
             ],
             [
              0.6666666666666666,
              "#ed7953"
             ],
             [
              0.7777777777777778,
              "#fb9f3a"
             ],
             [
              0.8888888888888888,
              "#fdca26"
             ],
             [
              1,
              "#f0f921"
             ]
            ],
            "type": "heatmap"
           }
          ],
          "heatmapgl": [
           {
            "colorbar": {
             "outlinewidth": 0,
             "ticks": ""
            },
            "colorscale": [
             [
              0,
              "#0d0887"
             ],
             [
              0.1111111111111111,
              "#46039f"
             ],
             [
              0.2222222222222222,
              "#7201a8"
             ],
             [
              0.3333333333333333,
              "#9c179e"
             ],
             [
              0.4444444444444444,
              "#bd3786"
             ],
             [
              0.5555555555555556,
              "#d8576b"
             ],
             [
              0.6666666666666666,
              "#ed7953"
             ],
             [
              0.7777777777777778,
              "#fb9f3a"
             ],
             [
              0.8888888888888888,
              "#fdca26"
             ],
             [
              1,
              "#f0f921"
             ]
            ],
            "type": "heatmapgl"
           }
          ],
          "histogram": [
           {
            "marker": {
             "pattern": {
              "fillmode": "overlay",
              "size": 10,
              "solidity": 0.2
             }
            },
            "type": "histogram"
           }
          ],
          "histogram2d": [
           {
            "colorbar": {
             "outlinewidth": 0,
             "ticks": ""
            },
            "colorscale": [
             [
              0,
              "#0d0887"
             ],
             [
              0.1111111111111111,
              "#46039f"
             ],
             [
              0.2222222222222222,
              "#7201a8"
             ],
             [
              0.3333333333333333,
              "#9c179e"
             ],
             [
              0.4444444444444444,
              "#bd3786"
             ],
             [
              0.5555555555555556,
              "#d8576b"
             ],
             [
              0.6666666666666666,
              "#ed7953"
             ],
             [
              0.7777777777777778,
              "#fb9f3a"
             ],
             [
              0.8888888888888888,
              "#fdca26"
             ],
             [
              1,
              "#f0f921"
             ]
            ],
            "type": "histogram2d"
           }
          ],
          "histogram2dcontour": [
           {
            "colorbar": {
             "outlinewidth": 0,
             "ticks": ""
            },
            "colorscale": [
             [
              0,
              "#0d0887"
             ],
             [
              0.1111111111111111,
              "#46039f"
             ],
             [
              0.2222222222222222,
              "#7201a8"
             ],
             [
              0.3333333333333333,
              "#9c179e"
             ],
             [
              0.4444444444444444,
              "#bd3786"
             ],
             [
              0.5555555555555556,
              "#d8576b"
             ],
             [
              0.6666666666666666,
              "#ed7953"
             ],
             [
              0.7777777777777778,
              "#fb9f3a"
             ],
             [
              0.8888888888888888,
              "#fdca26"
             ],
             [
              1,
              "#f0f921"
             ]
            ],
            "type": "histogram2dcontour"
           }
          ],
          "mesh3d": [
           {
            "colorbar": {
             "outlinewidth": 0,
             "ticks": ""
            },
            "type": "mesh3d"
           }
          ],
          "parcoords": [
           {
            "line": {
             "colorbar": {
              "outlinewidth": 0,
              "ticks": ""
             }
            },
            "type": "parcoords"
           }
          ],
          "pie": [
           {
            "automargin": true,
            "type": "pie"
           }
          ],
          "scatter": [
           {
            "fillpattern": {
             "fillmode": "overlay",
             "size": 10,
             "solidity": 0.2
            },
            "type": "scatter"
           }
          ],
          "scatter3d": [
           {
            "line": {
             "colorbar": {
              "outlinewidth": 0,
              "ticks": ""
             }
            },
            "marker": {
             "colorbar": {
              "outlinewidth": 0,
              "ticks": ""
             }
            },
            "type": "scatter3d"
           }
          ],
          "scattercarpet": [
           {
            "marker": {
             "colorbar": {
              "outlinewidth": 0,
              "ticks": ""
             }
            },
            "type": "scattercarpet"
           }
          ],
          "scattergeo": [
           {
            "marker": {
             "colorbar": {
              "outlinewidth": 0,
              "ticks": ""
             }
            },
            "type": "scattergeo"
           }
          ],
          "scattergl": [
           {
            "marker": {
             "colorbar": {
              "outlinewidth": 0,
              "ticks": ""
             }
            },
            "type": "scattergl"
           }
          ],
          "scattermapbox": [
           {
            "marker": {
             "colorbar": {
              "outlinewidth": 0,
              "ticks": ""
             }
            },
            "type": "scattermapbox"
           }
          ],
          "scatterpolar": [
           {
            "marker": {
             "colorbar": {
              "outlinewidth": 0,
              "ticks": ""
             }
            },
            "type": "scatterpolar"
           }
          ],
          "scatterpolargl": [
           {
            "marker": {
             "colorbar": {
              "outlinewidth": 0,
              "ticks": ""
             }
            },
            "type": "scatterpolargl"
           }
          ],
          "scatterternary": [
           {
            "marker": {
             "colorbar": {
              "outlinewidth": 0,
              "ticks": ""
             }
            },
            "type": "scatterternary"
           }
          ],
          "surface": [
           {
            "colorbar": {
             "outlinewidth": 0,
             "ticks": ""
            },
            "colorscale": [
             [
              0,
              "#0d0887"
             ],
             [
              0.1111111111111111,
              "#46039f"
             ],
             [
              0.2222222222222222,
              "#7201a8"
             ],
             [
              0.3333333333333333,
              "#9c179e"
             ],
             [
              0.4444444444444444,
              "#bd3786"
             ],
             [
              0.5555555555555556,
              "#d8576b"
             ],
             [
              0.6666666666666666,
              "#ed7953"
             ],
             [
              0.7777777777777778,
              "#fb9f3a"
             ],
             [
              0.8888888888888888,
              "#fdca26"
             ],
             [
              1,
              "#f0f921"
             ]
            ],
            "type": "surface"
           }
          ],
          "table": [
           {
            "cells": {
             "fill": {
              "color": "#EBF0F8"
             },
             "line": {
              "color": "white"
             }
            },
            "header": {
             "fill": {
              "color": "#C8D4E3"
             },
             "line": {
              "color": "white"
             }
            },
            "type": "table"
           }
          ]
         },
         "layout": {
          "annotationdefaults": {
           "arrowcolor": "#2a3f5f",
           "arrowhead": 0,
           "arrowwidth": 1
          },
          "autotypenumbers": "strict",
          "coloraxis": {
           "colorbar": {
            "outlinewidth": 0,
            "ticks": ""
           }
          },
          "colorscale": {
           "diverging": [
            [
             0,
             "#8e0152"
            ],
            [
             0.1,
             "#c51b7d"
            ],
            [
             0.2,
             "#de77ae"
            ],
            [
             0.3,
             "#f1b6da"
            ],
            [
             0.4,
             "#fde0ef"
            ],
            [
             0.5,
             "#f7f7f7"
            ],
            [
             0.6,
             "#e6f5d0"
            ],
            [
             0.7,
             "#b8e186"
            ],
            [
             0.8,
             "#7fbc41"
            ],
            [
             0.9,
             "#4d9221"
            ],
            [
             1,
             "#276419"
            ]
           ],
           "sequential": [
            [
             0,
             "#0d0887"
            ],
            [
             0.1111111111111111,
             "#46039f"
            ],
            [
             0.2222222222222222,
             "#7201a8"
            ],
            [
             0.3333333333333333,
             "#9c179e"
            ],
            [
             0.4444444444444444,
             "#bd3786"
            ],
            [
             0.5555555555555556,
             "#d8576b"
            ],
            [
             0.6666666666666666,
             "#ed7953"
            ],
            [
             0.7777777777777778,
             "#fb9f3a"
            ],
            [
             0.8888888888888888,
             "#fdca26"
            ],
            [
             1,
             "#f0f921"
            ]
           ],
           "sequentialminus": [
            [
             0,
             "#0d0887"
            ],
            [
             0.1111111111111111,
             "#46039f"
            ],
            [
             0.2222222222222222,
             "#7201a8"
            ],
            [
             0.3333333333333333,
             "#9c179e"
            ],
            [
             0.4444444444444444,
             "#bd3786"
            ],
            [
             0.5555555555555556,
             "#d8576b"
            ],
            [
             0.6666666666666666,
             "#ed7953"
            ],
            [
             0.7777777777777778,
             "#fb9f3a"
            ],
            [
             0.8888888888888888,
             "#fdca26"
            ],
            [
             1,
             "#f0f921"
            ]
           ]
          },
          "colorway": [
           "#636efa",
           "#EF553B",
           "#00cc96",
           "#ab63fa",
           "#FFA15A",
           "#19d3f3",
           "#FF6692",
           "#B6E880",
           "#FF97FF",
           "#FECB52"
          ],
          "font": {
           "color": "#2a3f5f"
          },
          "geo": {
           "bgcolor": "white",
           "lakecolor": "white",
           "landcolor": "#E5ECF6",
           "showlakes": true,
           "showland": true,
           "subunitcolor": "white"
          },
          "hoverlabel": {
           "align": "left"
          },
          "hovermode": "closest",
          "mapbox": {
           "style": "light"
          },
          "paper_bgcolor": "white",
          "plot_bgcolor": "#E5ECF6",
          "polar": {
           "angularaxis": {
            "gridcolor": "white",
            "linecolor": "white",
            "ticks": ""
           },
           "bgcolor": "#E5ECF6",
           "radialaxis": {
            "gridcolor": "white",
            "linecolor": "white",
            "ticks": ""
           }
          },
          "scene": {
           "xaxis": {
            "backgroundcolor": "#E5ECF6",
            "gridcolor": "white",
            "gridwidth": 2,
            "linecolor": "white",
            "showbackground": true,
            "ticks": "",
            "zerolinecolor": "white"
           },
           "yaxis": {
            "backgroundcolor": "#E5ECF6",
            "gridcolor": "white",
            "gridwidth": 2,
            "linecolor": "white",
            "showbackground": true,
            "ticks": "",
            "zerolinecolor": "white"
           },
           "zaxis": {
            "backgroundcolor": "#E5ECF6",
            "gridcolor": "white",
            "gridwidth": 2,
            "linecolor": "white",
            "showbackground": true,
            "ticks": "",
            "zerolinecolor": "white"
           }
          },
          "shapedefaults": {
           "line": {
            "color": "#2a3f5f"
           }
          },
          "ternary": {
           "aaxis": {
            "gridcolor": "white",
            "linecolor": "white",
            "ticks": ""
           },
           "baxis": {
            "gridcolor": "white",
            "linecolor": "white",
            "ticks": ""
           },
           "bgcolor": "#E5ECF6",
           "caxis": {
            "gridcolor": "white",
            "linecolor": "white",
            "ticks": ""
           }
          },
          "title": {
           "x": 0.05
          },
          "xaxis": {
           "automargin": true,
           "gridcolor": "white",
           "linecolor": "white",
           "ticks": "",
           "title": {
            "standoff": 15
           },
           "zerolinecolor": "white",
           "zerolinewidth": 2
          },
          "yaxis": {
           "automargin": true,
           "gridcolor": "white",
           "linecolor": "white",
           "ticks": "",
           "title": {
            "standoff": 15
           },
           "zerolinecolor": "white",
           "zerolinewidth": 2
          }
         }
        },
        "title": {
         "text": "PCA components = 2, n_neighbors = 10, n_cases = 249, fold_change_threshold = 0.06"
        },
        "width": 1000,
        "xaxis": {
         "anchor": "y",
         "autorange": true,
         "domain": [
          0,
          1
         ],
         "range": [
          1.1211808243142918,
          13.62711746307737
         ],
         "title": {
          "text": "0"
         },
         "type": "linear"
        },
        "yaxis": {
         "anchor": "x",
         "autorange": true,
         "domain": [
          0,
          1
         ],
         "range": [
          -2.680804870630565,
          11.335387967134777
         ],
         "title": {
          "text": "1"
         },
         "type": "linear"
        }
       }
      },
      "image/png": "[encoded data removed]",
      "text/html": [
       "<div>                            <div id=\"8697df24-6840-4e4f-bbb9-f229124ed3a6\" class=\"plotly-graph-div\" style=\"height:600px; width:1000px;\"></div>            <script type=\"text/javascript\">                require([\"plotly\"], function(Plotly) {                    window.PLOTLYENV=window.PLOTLYENV || {};                                    if (document.getElementById(\"8697df24-6840-4e4f-bbb9-f229124ed3a6\")) {                    Plotly.newPlot(                        \"8697df24-6840-4e4f-bbb9-f229124ed3a6\",                        [{\"hovertemplate\":\"entity=gbm_cnv\\u003cbr\\u003e0=%{x}\\u003cbr\\u003e1=%{y}\\u003cextra\\u003e\\u003c\\u002fextra\\u003e\",\"legendgroup\":\"gbm_cnv\",\"marker\":{\"color\":\"#636efa\",\"opacity\":1,\"symbol\":\"circle\"},\"mode\":\"markers\",\"name\":\"gbm_cnv\",\"orientation\":\"v\",\"showlegend\":true,\"x\":[8.80308723449707,12.863338470458984,7.559582233428955,3.4182753562927246,12.464398384094238,5.0176825523376465,5.462643146514893,4.826196670532227,2.5400826930999756,7.807019233703613,12.560914039611816,12.709269523620605,11.158489227294922,12.610645294189453,12.135908126831055,12.55362319946289,10.684657096862793,12.57618522644043,8.7120361328125,7.095366477966309,12.460935592651367,6.431981086730957,6.021210193634033,6.140181541442871,11.07949447631836,12.871452331542969,4.7212371826171875,12.357747077941895,12.363909721374512,3.618403911590576,4.541663646697998,12.863008499145508,3.3656764030456543,11.99764347076416,7.177422523498535,12.672686576843262,5.421574115753174,4.811492919921875,7.807050704956055,9.14074420928955,10.181023597717285,12.796133995056152,5.921589374542236,2.843019962310791,4.804267406463623,12.224114418029785,7.215420246124268,12.7389497756958,9.378061294555664,9.030415534973145,8.287474632263184,5.262236595153809,11.348010063171387,2.129458427429199,8.41244888305664,8.234904289245605,12.147461891174316,3.82087779045105,12.563040733337402,7.261452674865723,7.409592151641846,7.5094757080078125,9.675711631774902,12.927217483520508,12.41535472869873,12.738466262817383,10.126112937927246,2.179993152618408,12.424623489379883,11.332230567932129,12.704297065734863,8.737223625183105,5.417444229125977,7.200140953063965,3.6278133392333984,10.873497009277344,8.597349166870117,9.551682472229004,10.058795928955078,7.601742744445801,12.296088218688965,4.208736896514893,11.328357696533203,10.739376068115234,8.869872093200684,4.494350910186768,2.4099960327148438,12.91304874420166,6.031663417816162,5.561117172241211,4.6571221351623535,6.4368181228637695,12.497013092041016,1.8367058038711548,10.889178276062012,8.614727020263672,10.581302642822266,12.52010440826416,6.246789455413818,12.65432357788086,7.845678806304932,9.805902481079102,10.523178100585938,7.775637149810791,5.840246200561523,12.874947547912598,12.64675521850586,8.602023124694824,9.51921558380127,12.763283729553223,12.788790702819824,2.2643930912017822,5.449024200439453,10.671205520629883,5.712698936462402,12.268202781677246,10.666569709777832,9.601776123046875,5.720407962799072,12.393038749694824,7.201283931732178,12.23277759552002,10.155505180358887,11.414594650268555,11.994294166564941,8.603906631469727,12.878979682922363,10.543798446655273,11.25559139251709,8.291756629943848,5.605224609375,3.98323392868042,12.699386596679688,5.872358322143555,12.641605377197266,10.699047088623047,4.796069622039795,5.0747151374816895,3.71148943901062,4.285987854003906,7.246790409088135,12.776846885681152,7.7716217041015625,12.796365737915039,5.760225772857666,8.397323608398438,2.474707841873169,7.0391526222229,6.982184886932373,12.703927993774414,12.555347442626953,10.145520210266113,6.400420665740967,4.170298099517822,9.720991134643555,1.9660356044769287,12.340374946594238,7.760107040405273,2.200096368789673,12.396183013916016,6.706486225128174,3.2199313640594482,10.565258026123047,7.523507118225098,7.465592384338379,5.1183180809021,5.4575934410095215,10.919137001037598,2.4435150623321533,11.646915435791016,12.621160507202148,10.11888313293457,10.704912185668945,12.772001266479492,5.74282693862915,8.708288192749023,10.015955924987793,10.653166770935059,7.3055806159973145,11.470927238464355,10.678773880004883,4.315755367279053,5.480286598205566,12.054405212402344,7.9414262771606445,4.259759902954102,12.557490348815918,7.335758686065674,7.370702266693115,4.3623833656311035,4.899452209472656,12.942904472351074,12.910086631774902,2.4343602657318115,12.781123161315918,8.609530448913574,4.528496742248535,12.436511039733887,9.682998657226562,9.796218872070312,5.682901859283447,10.056020736694336,9.790908813476562,7.405004024505615],\"xaxis\":\"x\",\"y\":[0.20375072956085205,6.633960723876953,9.082425117492676,7.028148651123047,5.386508941650391,-1.5804282426834106,10.155147552490234,7.503942012786865,6.592703819274902,-0.7471188902854919,3.306572198867798,4.465763092041016,8.919897079467773,3.405139684677124,9.107422828674316,3.428378105163574,9.170156478881836,3.7076046466827393,-0.6725084781646729,-1.110687017440796,5.610538959503174,-0.879435658454895,10.470101356506348,10.50943374633789,1.6646262407302856,6.483770847320557,8.180023193359375,9.209671974182129,8.799593925476074,6.479161739349365,6.82546854019165,6.671538352966309,5.561127662658691,8.516411781311035,9.871305465698242,3.4228076934814453,-1.322184681892395,-1.7313759326934814,9.215559959411621,0.8648610711097717,1.1324148178100586,4.378838062286377,10.202804565429688,6.3006110191345215,8.896931648254395,9.163651466369629,-1.0309574604034424,4.788206100463867,1.1387276649475098,0.07666801661252975,9.207858085632324,8.798445701599121,2.0121853351593018,7.6072001457214355,9.220534324645996,-0.4846796691417694,8.240565299987793,5.664602279663086,9.140239715576172,-0.07641206681728363,8.985760688781738,-0.7049320936203003,1.3852375745773315,5.728001594543457,8.427197456359863,6.915985584259033,9.411527633666992,8.01827621459961,8.686495780944824,1.9564683437347412,4.949759483337402,-0.40864917635917664,10.105670928955078,8.980876922607422,6.921829700469971,8.565265655517578,-0.8026317358016968,1.5459485054016113,9.312411308288574,9.085352897644043,8.32259464263916,5.578111171722412,1.924267292022705,8.736433029174805,9.232876777648926,7.013003826141357,8.157727241516113,5.339939117431641,10.220447540283203,8.969470977783203,7.527386665344238,-0.9459182024002075,3.6832473278045654,8.171792030334473,8.95494556427002,-0.5701498985290527,1.21404230594635,9.19536018371582,10.333159446716309,9.21696662902832,9.201839447021484,0.6287679076194763,1.153637409210205,9.3161039352417,10.383864402770996,6.504068374633789,7.101606369018555,-0.6704474091529846,1.1413859128952026,4.429286479949951,3.512173891067505,8.079427719116211,10.180282592773438,8.7190580368042,-1.174599051475525,3.0941996574401855,9.172049522399902,0.4553866386413574,10.301846504211426,7.80740213394165,9.820727348327637,8.787495613098145,9.398667335510254,8.220817565917969,9.116301536560059,-0.4616619348526001,6.718128681182861,1.1511911153793335,1.892238974571228,-0.6540015935897827,8.749885559082031,6.804984092712402,4.093165874481201,10.409573554992676,9.340109825134277,1.3089282512664795,-1.8548506498336792,-1.629815697669983,7.053926944732666,7.017640590667725,-0.5950544476509094,5.50400447845459,-0.7958688139915466,4.506702423095703,10.455015182495117,-0.6694203615188599,8.082175254821777,-1.1735128164291382,9.935794830322266,3.3995766639709473,4.625443935394287,9.382926940917969,-0.9578324556350708,5.697483539581299,1.1577836275100708,7.800185203552246,7.865244388580322,-0.8750138878822327,7.484231472015381,3.213594436645508,-1.0674751996994019,5.56630802154541,9.204216957092285,8.970443725585938,-0.4778028726577759,8.82852840423584,8.381094932556152,9.052087783813477,8.190960884094238,9.190174102783203,5.099602699279785,1.2249643802642822,8.782649993896484,5.265528202056885,-1.2133452892303467,9.2188138961792,0.8818948864936829,8.663565635681152,8.899408340454102,2.1217336654663086,1.276672601699829,7.161118507385254,10.133431434631348,2.8592491149902344,9.214526176452637,8.575730323791504,5.282818794250488,8.986541748046875,-0.30121755599975586,5.669130325317383,-1.6835445165634155,6.26829195022583,6.175124168395996,8.229759216308594,6.766926288604736,-0.32611414790153503,7.364668846130371,8.602736473083496,1.3405338525772095,1.399263858795166,9.940058708190918,9.1175537109375,0.9009943008422852,-0.14803870022296906],\"yaxis\":\"y\",\"type\":\"scatter\"},{\"hovertemplate\":\"entity=pxa_cnv\\u003cbr\\u003e0=%{x}\\u003cbr\\u003e1=%{y}\\u003cextra\\u003e\\u003c\\u002fextra\\u003e\",\"legendgroup\":\"pxa_cnv\",\"marker\":{\"color\":\"#EF553B\",\"opacity\":1,\"symbol\":\"circle\"},\"mode\":\"markers\",\"name\":\"pxa_cnv\",\"orientation\":\"v\",\"showlegend\":true,\"x\":[5.102635383605957,2.5812489986419678,5.538516998291016,6.787132740020752,5.544507026672363,3.912012815475464,4.654024124145508,4.003455638885498,2.23526930809021,3.9185218811035156,3.2139968872070312,5.777528285980225,3.9325168132781982,3.1987502574920654,2.892650604248047,9.872021675109863,5.169180393218994,3.241112232208252,4.788193702697754,5.138167381286621,4.258058547973633,4.100247383117676,3.849795341491699,5.643333911895752,1.9133695363998413,2.576183557510376,2.2446792125701904,4.819750785827637,2.3195488452911377,1.8053938150405884,6.625932693481445,4.436249256134033,4.526483058929443,8.054420471191406,2.9392030239105225,3.033607006072998,5.785050392150879,6.469864368438721,3.173962116241455,2.768075466156006,7.437682151794434,2.418083906173706,11.031229019165039,7.274688720703125,3.9437246322631836],\"xaxis\":\"x\",\"y\":[9.2073392868042,8.200515747070312,8.926460266113281,-1.1406956911087036,-1.0086133480072021,5.258606910705566,8.573904991149902,5.435821533203125,7.933924198150635,5.9859137535095215,6.577897071838379,-1.1097010374069214,5.333712577819824,5.606563568115234,6.439645290374756,0.5545898079872131,-1.5056053400039673,5.533241271972656,-1.7868555784225464,-1.4883850812911987,5.61046838760376,6.057290077209473,5.332889080047607,-1.2184611558914185,8.084979057312012,6.5059661865234375,7.608852863311768,8.411972999572754,6.969019412994385,8.177075386047363,-1.1019903421401978,7.523951053619385,6.67532205581665,9.18298053741455,6.385921001434326,6.648466110229492,-1.1271648406982422,-1.1984769105911255,5.6267571449279785,6.488199710845947,-0.2727298140525818,7.2709760665893555,8.450770378112793,-0.12967607378959656,5.2306952476501465],\"yaxis\":\"y\",\"type\":\"scatter\"}],                        {\"template\":{\"data\":{\"histogram2dcontour\":[{\"type\":\"histogram2dcontour\",\"colorbar\":{\"outlinewidth\":0,\"ticks\":\"\"},\"colorscale\":[[0.0,\"#0d0887\"],[0.1111111111111111,\"#46039f\"],[0.2222222222222222,\"#7201a8\"],[0.3333333333333333,\"#9c179e\"],[0.4444444444444444,\"#bd3786\"],[0.5555555555555556,\"#d8576b\"],[0.6666666666666666,\"#ed7953\"],[0.7777777777777778,\"#fb9f3a\"],[0.8888888888888888,\"#fdca26\"],[1.0,\"#f0f921\"]]}],\"choropleth\":[{\"type\":\"choropleth\",\"colorbar\":{\"outlinewidth\":0,\"ticks\":\"\"}}],\"histogram2d\":[{\"type\":\"histogram2d\",\"colorbar\":{\"outlinewidth\":0,\"ticks\":\"\"},\"colorscale\":[[0.0,\"#0d0887\"],[0.1111111111111111,\"#46039f\"],[0.2222222222222222,\"#7201a8\"],[0.3333333333333333,\"#9c179e\"],[0.4444444444444444,\"#bd3786\"],[0.5555555555555556,\"#d8576b\"],[0.6666666666666666,\"#ed7953\"],[0.7777777777777778,\"#fb9f3a\"],[0.8888888888888888,\"#fdca26\"],[1.0,\"#f0f921\"]]}],\"heatmap\":[{\"type\":\"heatmap\",\"colorbar\":{\"outlinewidth\":0,\"ticks\":\"\"},\"colorscale\":[[0.0,\"#0d0887\"],[0.1111111111111111,\"#46039f\"],[0.2222222222222222,\"#7201a8\"],[0.3333333333333333,\"#9c179e\"],[0.4444444444444444,\"#bd3786\"],[0.5555555555555556,\"#d8576b\"],[0.6666666666666666,\"#ed7953\"],[0.7777777777777778,\"#fb9f3a\"],[0.8888888888888888,\"#fdca26\"],[1.0,\"#f0f921\"]]}],\"heatmapgl\":[{\"type\":\"heatmapgl\",\"colorbar\":{\"outlinewidth\":0,\"ticks\":\"\"},\"colorscale\":[[0.0,\"#0d0887\"],[0.1111111111111111,\"#46039f\"],[0.2222222222222222,\"#7201a8\"],[0.3333333333333333,\"#9c179e\"],[0.4444444444444444,\"#bd3786\"],[0.5555555555555556,\"#d8576b\"],[0.6666666666666666,\"#ed7953\"],[0.7777777777777778,\"#fb9f3a\"],[0.8888888888888888,\"#fdca26\"],[1.0,\"#f0f921\"]]}],\"contourcarpet\":[{\"type\":\"contourcarpet\",\"colorbar\":{\"outlinewidth\":0,\"ticks\":\"\"}}],\"contour\":[{\"type\":\"contour\",\"colorbar\":{\"outlinewidth\":0,\"ticks\":\"\"},\"colorscale\":[[0.0,\"#0d0887\"],[0.1111111111111111,\"#46039f\"],[0.2222222222222222,\"#7201a8\"],[0.3333333333333333,\"#9c179e\"],[0.4444444444444444,\"#bd3786\"],[0.5555555555555556,\"#d8576b\"],[0.6666666666666666,\"#ed7953\"],[0.7777777777777778,\"#fb9f3a\"],[0.8888888888888888,\"#fdca26\"],[1.0,\"#f0f921\"]]}],\"surface\":[{\"type\":\"surface\",\"colorbar\":{\"outlinewidth\":0,\"ticks\":\"\"},\"colorscale\":[[0.0,\"#0d0887\"],[0.1111111111111111,\"#46039f\"],[0.2222222222222222,\"#7201a8\"],[0.3333333333333333,\"#9c179e\"],[0.4444444444444444,\"#bd3786\"],[0.5555555555555556,\"#d8576b\"],[0.6666666666666666,\"#ed7953\"],[0.7777777777777778,\"#fb9f3a\"],[0.8888888888888888,\"#fdca26\"],[1.0,\"#f0f921\"]]}],\"mesh3d\":[{\"type\":\"mesh3d\",\"colorbar\":{\"outlinewidth\":0,\"ticks\":\"\"}}],\"scatter\":[{\"fillpattern\":{\"fillmode\":\"overlay\",\"size\":10,\"solidity\":0.2},\"type\":\"scatter\"}],\"parcoords\":[{\"type\":\"parcoords\",\"line\":{\"colorbar\":{\"outlinewidth\":0,\"ticks\":\"\"}}}],\"scatterpolargl\":[{\"type\":\"scatterpolargl\",\"marker\":{\"colorbar\":{\"outlinewidth\":0,\"ticks\":\"\"}}}],\"bar\":[{\"error_x\":{\"color\":\"#2a3f5f\"},\"error_y\":{\"color\":\"#2a3f5f\"},\"marker\":{\"line\":{\"color\":\"#E5ECF6\",\"width\":0.5},\"pattern\":{\"fillmode\":\"overlay\",\"size\":10,\"solidity\":0.2}},\"type\":\"bar\"}],\"scattergeo\":[{\"type\":\"scattergeo\",\"marker\":{\"colorbar\":{\"outlinewidth\":0,\"ticks\":\"\"}}}],\"scatterpolar\":[{\"type\":\"scatterpolar\",\"marker\":{\"colorbar\":{\"outlinewidth\":0,\"ticks\":\"\"}}}],\"histogram\":[{\"marker\":{\"pattern\":{\"fillmode\":\"overlay\",\"size\":10,\"solidity\":0.2}},\"type\":\"histogram\"}],\"scattergl\":[{\"type\":\"scattergl\",\"marker\":{\"colorbar\":{\"outlinewidth\":0,\"ticks\":\"\"}}}],\"scatter3d\":[{\"type\":\"scatter3d\",\"line\":{\"colorbar\":{\"outlinewidth\":0,\"ticks\":\"\"}},\"marker\":{\"colorbar\":{\"outlinewidth\":0,\"ticks\":\"\"}}}],\"scattermapbox\":[{\"type\":\"scattermapbox\",\"marker\":{\"colorbar\":{\"outlinewidth\":0,\"ticks\":\"\"}}}],\"scatterternary\":[{\"type\":\"scatterternary\",\"marker\":{\"colorbar\":{\"outlinewidth\":0,\"ticks\":\"\"}}}],\"scattercarpet\":[{\"type\":\"scattercarpet\",\"marker\":{\"colorbar\":{\"outlinewidth\":0,\"ticks\":\"\"}}}],\"carpet\":[{\"aaxis\":{\"endlinecolor\":\"#2a3f5f\",\"gridcolor\":\"white\",\"linecolor\":\"white\",\"minorgridcolor\":\"white\",\"startlinecolor\":\"#2a3f5f\"},\"baxis\":{\"endlinecolor\":\"#2a3f5f\",\"gridcolor\":\"white\",\"linecolor\":\"white\",\"minorgridcolor\":\"white\",\"startlinecolor\":\"#2a3f5f\"},\"type\":\"carpet\"}],\"table\":[{\"cells\":{\"fill\":{\"color\":\"#EBF0F8\"},\"line\":{\"color\":\"white\"}},\"header\":{\"fill\":{\"color\":\"#C8D4E3\"},\"line\":{\"color\":\"white\"}},\"type\":\"table\"}],\"barpolar\":[{\"marker\":{\"line\":{\"color\":\"#E5ECF6\",\"width\":0.5},\"pattern\":{\"fillmode\":\"overlay\",\"size\":10,\"solidity\":0.2}},\"type\":\"barpolar\"}],\"pie\":[{\"automargin\":true,\"type\":\"pie\"}]},\"layout\":{\"autotypenumbers\":\"strict\",\"colorway\":[\"#636efa\",\"#EF553B\",\"#00cc96\",\"#ab63fa\",\"#FFA15A\",\"#19d3f3\",\"#FF6692\",\"#B6E880\",\"#FF97FF\",\"#FECB52\"],\"font\":{\"color\":\"#2a3f5f\"},\"hovermode\":\"closest\",\"hoverlabel\":{\"align\":\"left\"},\"paper_bgcolor\":\"white\",\"plot_bgcolor\":\"#E5ECF6\",\"polar\":{\"bgcolor\":\"#E5ECF6\",\"angularaxis\":{\"gridcolor\":\"white\",\"linecolor\":\"white\",\"ticks\":\"\"},\"radialaxis\":{\"gridcolor\":\"white\",\"linecolor\":\"white\",\"ticks\":\"\"}},\"ternary\":{\"bgcolor\":\"#E5ECF6\",\"aaxis\":{\"gridcolor\":\"white\",\"linecolor\":\"white\",\"ticks\":\"\"},\"baxis\":{\"gridcolor\":\"white\",\"linecolor\":\"white\",\"ticks\":\"\"},\"caxis\":{\"gridcolor\":\"white\",\"linecolor\":\"white\",\"ticks\":\"\"}},\"coloraxis\":{\"colorbar\":{\"outlinewidth\":0,\"ticks\":\"\"}},\"colorscale\":{\"sequential\":[[0.0,\"#0d0887\"],[0.1111111111111111,\"#46039f\"],[0.2222222222222222,\"#7201a8\"],[0.3333333333333333,\"#9c179e\"],[0.4444444444444444,\"#bd3786\"],[0.5555555555555556,\"#d8576b\"],[0.6666666666666666,\"#ed7953\"],[0.7777777777777778,\"#fb9f3a\"],[0.8888888888888888,\"#fdca26\"],[1.0,\"#f0f921\"]],\"sequentialminus\":[[0.0,\"#0d0887\"],[0.1111111111111111,\"#46039f\"],[0.2222222222222222,\"#7201a8\"],[0.3333333333333333,\"#9c179e\"],[0.4444444444444444,\"#bd3786\"],[0.5555555555555556,\"#d8576b\"],[0.6666666666666666,\"#ed7953\"],[0.7777777777777778,\"#fb9f3a\"],[0.8888888888888888,\"#fdca26\"],[1.0,\"#f0f921\"]],\"diverging\":[[0,\"#8e0152\"],[0.1,\"#c51b7d\"],[0.2,\"#de77ae\"],[0.3,\"#f1b6da\"],[0.4,\"#fde0ef\"],[0.5,\"#f7f7f7\"],[0.6,\"#e6f5d0\"],[0.7,\"#b8e186\"],[0.8,\"#7fbc41\"],[0.9,\"#4d9221\"],[1,\"#276419\"]]},\"xaxis\":{\"gridcolor\":\"white\",\"linecolor\":\"white\",\"ticks\":\"\",\"title\":{\"standoff\":15},\"zerolinecolor\":\"white\",\"automargin\":true,\"zerolinewidth\":2},\"yaxis\":{\"gridcolor\":\"white\",\"linecolor\":\"white\",\"ticks\":\"\",\"title\":{\"standoff\":15},\"zerolinecolor\":\"white\",\"automargin\":true,\"zerolinewidth\":2},\"scene\":{\"xaxis\":{\"backgroundcolor\":\"#E5ECF6\",\"gridcolor\":\"white\",\"linecolor\":\"white\",\"showbackground\":true,\"ticks\":\"\",\"zerolinecolor\":\"white\",\"gridwidth\":2},\"yaxis\":{\"backgroundcolor\":\"#E5ECF6\",\"gridcolor\":\"white\",\"linecolor\":\"white\",\"showbackground\":true,\"ticks\":\"\",\"zerolinecolor\":\"white\",\"gridwidth\":2},\"zaxis\":{\"backgroundcolor\":\"#E5ECF6\",\"gridcolor\":\"white\",\"linecolor\":\"white\",\"showbackground\":true,\"ticks\":\"\",\"zerolinecolor\":\"white\",\"gridwidth\":2}},\"shapedefaults\":{\"line\":{\"color\":\"#2a3f5f\"}},\"annotationdefaults\":{\"arrowcolor\":\"#2a3f5f\",\"arrowhead\":0,\"arrowwidth\":1},\"geo\":{\"bgcolor\":\"white\",\"landcolor\":\"#E5ECF6\",\"subunitcolor\":\"white\",\"showland\":true,\"showlakes\":true,\"lakecolor\":\"white\"},\"title\":{\"x\":0.05},\"mapbox\":{\"style\":\"light\"}}},\"xaxis\":{\"anchor\":\"y\",\"domain\":[0.0,1.0],\"title\":{\"text\":\"0\"}},\"yaxis\":{\"anchor\":\"x\",\"domain\":[0.0,1.0],\"title\":{\"text\":\"1\"}},\"legend\":{\"title\":{\"text\":\"entity\"},\"tracegroupgap\":0},\"title\":{\"text\":\"PCA components = 2, n_neighbors = 10, n_cases = 249, fold_change_threshold = 0.06\"},\"width\":1000,\"height\":600},                        {\"responsive\": true}                    ).then(function(){\n",
       "                            \n",
       "var gd = document.getElementById('8697df24-6840-4e4f-bbb9-f229124ed3a6');\n",
       "var x = new MutationObserver(function (mutations, observer) {{\n",
       "        var display = window.getComputedStyle(gd).display;\n",
       "        if (!display || display === 'none') {{\n",
       "            console.log([gd, 'removed!']);\n",
       "            Plotly.purge(gd);\n",
       "            observer.disconnect();\n",
       "        }}\n",
       "}});\n",
       "\n",
       "// Listen for the removal of the full notebook cells\n",
       "var notebookContainer = gd.closest('#notebook-container');\n",
       "if (notebookContainer) {{\n",
       "    x.observe(notebookContainer, {childList: true});\n",
       "}}\n",
       "\n",
       "// Listen for the clearing of the current output cell\n",
       "var outputEl = gd.closest('.output');\n",
       "if (outputEl) {{\n",
       "    x.observe(outputEl, {childList: true});\n",
       "}}\n",
       "\n",
       "                        })                };                });            </script>        </div>"
      ]
     },
     "metadata": {},
     "output_type": "display_data"
    }
   ],
   "source": [
    "N_NEIGHBORS = 10\n",
    "\n",
    "umap_2d = UMAP(n_neighbors=N_NEIGHBORS,n_epochs=500,random_state=1,spread=1,min_dist=0.1)\n",
    "umap_2d.fit(denoize)\n",
    "\n",
    "projections = umap_2d.transform(denoize)\n",
    "\n",
    "fig = px.scatter(\n",
    "    projections, x=0, y=1,\n",
    "    title= f'PCA components = {PRINCIPAL_COMPONENTS}, n_neighbors = {N_NEIGHBORS}, n_cases = {df.shape[0]}, fold_change_threshold = {AMPLITUDE_THRESHOLD}' ,\n",
    "    color=y_entity.astype(str), labels={'color': 'entity'},\n",
    "    opacity=1\n",
    ")\n",
    "\n",
    "fig.update_layout(width=1000, height=600)\n",
    "\n",
    "fig.show()"
   ]
  },
  {
   "cell_type": "code",
   "execution_count": null,
   "id": "7dfd8d6c-b398-4561-a362-bd23c550cb78",
   "metadata": {},
   "outputs": [],
   "source": []
  }
 ],
 "metadata": {
  "kernelspec": {
   "display_name": "Python 3 (ipykernel)",
   "language": "python",
   "name": "python3"
  },
  "language_info": {
   "codemirror_mode": {
    "name": "ipython",
    "version": 3
   },
   "file_extension": ".py",
   "mimetype": "text/x-python",
   "name": "python",
   "nbconvert_exporter": "python",
   "pygments_lexer": "ipython3",
   "version": "3.11.5"
  }
 },
 "nbformat": 4,
 "nbformat_minor": 5
}
