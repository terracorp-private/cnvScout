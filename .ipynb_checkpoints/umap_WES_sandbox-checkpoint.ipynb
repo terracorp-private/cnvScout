{
 "cells": [
  {
   "cell_type": "code",
   "execution_count": 2,
   "id": "e78795a5-9c86-4c63-b27b-fc8e2e0d0c5c",
   "metadata": {
    "tags": []
   },
   "outputs": [
    {
     "data": {
      "text/html": [
       "<div>\n",
       "<style scoped>\n",
       "    .dataframe tbody tr th:only-of-type {\n",
       "        vertical-align: middle;\n",
       "    }\n",
       "\n",
       "    .dataframe tbody tr th {\n",
       "        vertical-align: top;\n",
       "    }\n",
       "\n",
       "    .dataframe thead th {\n",
       "        text-align: right;\n",
       "    }\n",
       "</style>\n",
       "<table border=\"1\" class=\"dataframe\">\n",
       "  <thead>\n",
       "    <tr style=\"text-align: right;\">\n",
       "      <th></th>\n",
       "      <th>1-0</th>\n",
       "      <th>1-100000</th>\n",
       "      <th>1-500000</th>\n",
       "      <th>1-700000</th>\n",
       "      <th>1-800000</th>\n",
       "      <th>1-900000</th>\n",
       "      <th>1-1000000</th>\n",
       "      <th>1-1100000</th>\n",
       "      <th>1-1200000</th>\n",
       "      <th>1-1300000</th>\n",
       "      <th>...</th>\n",
       "      <th>22-50500000</th>\n",
       "      <th>22-50600000</th>\n",
       "      <th>22-50700000</th>\n",
       "      <th>22-50800000</th>\n",
       "      <th>22-50900000</th>\n",
       "      <th>22-51000000</th>\n",
       "      <th>22-51100000</th>\n",
       "      <th>22-51200000</th>\n",
       "      <th>ID</th>\n",
       "      <th>entity</th>\n",
       "    </tr>\n",
       "  </thead>\n",
       "  <tbody>\n",
       "    <tr>\n",
       "      <th>0</th>\n",
       "      <td>1.0</td>\n",
       "      <td>1.0</td>\n",
       "      <td>1.0</td>\n",
       "      <td>1.0</td>\n",
       "      <td>1.0</td>\n",
       "      <td>1.0</td>\n",
       "      <td>1.0</td>\n",
       "      <td>1.0</td>\n",
       "      <td>1.0</td>\n",
       "      <td>1.0</td>\n",
       "      <td>...</td>\n",
       "      <td>1.0</td>\n",
       "      <td>1.0</td>\n",
       "      <td>1.0</td>\n",
       "      <td>1.0</td>\n",
       "      <td>1.0</td>\n",
       "      <td>1.0</td>\n",
       "      <td>1.0</td>\n",
       "      <td>1.0</td>\n",
       "      <td>266896</td>\n",
       "      <td>K27</td>\n",
       "    </tr>\n",
       "    <tr>\n",
       "      <th>1</th>\n",
       "      <td>1.0</td>\n",
       "      <td>1.0</td>\n",
       "      <td>1.0</td>\n",
       "      <td>1.0</td>\n",
       "      <td>1.0</td>\n",
       "      <td>1.0</td>\n",
       "      <td>1.0</td>\n",
       "      <td>1.0</td>\n",
       "      <td>1.0</td>\n",
       "      <td>1.0</td>\n",
       "      <td>...</td>\n",
       "      <td>1.0</td>\n",
       "      <td>1.0</td>\n",
       "      <td>1.0</td>\n",
       "      <td>1.0</td>\n",
       "      <td>1.0</td>\n",
       "      <td>1.0</td>\n",
       "      <td>1.0</td>\n",
       "      <td>1.0</td>\n",
       "      <td>334684</td>\n",
       "      <td>MEDULLO_SHH</td>\n",
       "    </tr>\n",
       "    <tr>\n",
       "      <th>2</th>\n",
       "      <td>1.0</td>\n",
       "      <td>1.0</td>\n",
       "      <td>1.0</td>\n",
       "      <td>1.0</td>\n",
       "      <td>1.0</td>\n",
       "      <td>1.0</td>\n",
       "      <td>1.0</td>\n",
       "      <td>1.0</td>\n",
       "      <td>1.0</td>\n",
       "      <td>1.0</td>\n",
       "      <td>...</td>\n",
       "      <td>1.0</td>\n",
       "      <td>1.0</td>\n",
       "      <td>1.0</td>\n",
       "      <td>1.0</td>\n",
       "      <td>1.0</td>\n",
       "      <td>1.0</td>\n",
       "      <td>1.0</td>\n",
       "      <td>1.0</td>\n",
       "      <td>334644</td>\n",
       "      <td>PITUIZYTOM</td>\n",
       "    </tr>\n",
       "    <tr>\n",
       "      <th>3</th>\n",
       "      <td>0.0</td>\n",
       "      <td>0.0</td>\n",
       "      <td>0.0</td>\n",
       "      <td>0.0</td>\n",
       "      <td>0.0</td>\n",
       "      <td>0.0</td>\n",
       "      <td>0.0</td>\n",
       "      <td>0.0</td>\n",
       "      <td>0.0</td>\n",
       "      <td>0.0</td>\n",
       "      <td>...</td>\n",
       "      <td>0.0</td>\n",
       "      <td>0.0</td>\n",
       "      <td>0.0</td>\n",
       "      <td>0.0</td>\n",
       "      <td>0.0</td>\n",
       "      <td>0.0</td>\n",
       "      <td>0.0</td>\n",
       "      <td>0.0</td>\n",
       "      <td>333386</td>\n",
       "      <td>DIFF_HOCH_GLIOM_PEDIATRISCH</td>\n",
       "    </tr>\n",
       "    <tr>\n",
       "      <th>4</th>\n",
       "      <td>1.0</td>\n",
       "      <td>1.0</td>\n",
       "      <td>1.0</td>\n",
       "      <td>1.0</td>\n",
       "      <td>1.0</td>\n",
       "      <td>1.0</td>\n",
       "      <td>1.0</td>\n",
       "      <td>1.0</td>\n",
       "      <td>1.0</td>\n",
       "      <td>1.0</td>\n",
       "      <td>...</td>\n",
       "      <td>1.0</td>\n",
       "      <td>1.0</td>\n",
       "      <td>1.0</td>\n",
       "      <td>1.0</td>\n",
       "      <td>1.0</td>\n",
       "      <td>1.0</td>\n",
       "      <td>1.0</td>\n",
       "      <td>1.0</td>\n",
       "      <td>334434</td>\n",
       "      <td>GBM</td>\n",
       "    </tr>\n",
       "  </tbody>\n",
       "</table>\n",
       "<p>5 rows × 26812 columns</p>\n",
       "</div>"
      ],
      "text/plain": [
       "   1-0  1-100000  1-500000  1-700000  1-800000  1-900000  1-1000000  \\\n",
       "0  1.0       1.0       1.0       1.0       1.0       1.0        1.0   \n",
       "1  1.0       1.0       1.0       1.0       1.0       1.0        1.0   \n",
       "2  1.0       1.0       1.0       1.0       1.0       1.0        1.0   \n",
       "3  0.0       0.0       0.0       0.0       0.0       0.0        0.0   \n",
       "4  1.0       1.0       1.0       1.0       1.0       1.0        1.0   \n",
       "\n",
       "   1-1100000  1-1200000  1-1300000  ...  22-50500000  22-50600000  \\\n",
       "0        1.0        1.0        1.0  ...          1.0          1.0   \n",
       "1        1.0        1.0        1.0  ...          1.0          1.0   \n",
       "2        1.0        1.0        1.0  ...          1.0          1.0   \n",
       "3        0.0        0.0        0.0  ...          0.0          0.0   \n",
       "4        1.0        1.0        1.0  ...          1.0          1.0   \n",
       "\n",
       "   22-50700000  22-50800000  22-50900000  22-51000000  22-51100000  \\\n",
       "0          1.0          1.0          1.0          1.0          1.0   \n",
       "1          1.0          1.0          1.0          1.0          1.0   \n",
       "2          1.0          1.0          1.0          1.0          1.0   \n",
       "3          0.0          0.0          0.0          0.0          0.0   \n",
       "4          1.0          1.0          1.0          1.0          1.0   \n",
       "\n",
       "   22-51200000      ID                       entity  \n",
       "0          1.0  266896                          K27  \n",
       "1          1.0  334684                  MEDULLO_SHH  \n",
       "2          1.0  334644                   PITUIZYTOM  \n",
       "3          0.0  333386  DIFF_HOCH_GLIOM_PEDIATRISCH  \n",
       "4          1.0  334434                          GBM  \n",
       "\n",
       "[5 rows x 26812 columns]"
      ]
     },
     "execution_count": 2,
     "metadata": {},
     "output_type": "execute_result"
    }
   ],
   "source": [
    "import pandas as pd\n",
    "import numpy as np\n",
    "\n",
    "import plotly.express as px\n",
    "from umap import UMAP\n",
    "from sklearn.preprocessing import StandardScaler\n",
    "from sklearn.decomposition import PCA\n",
    "\n",
    "AMPLITUDE_THRESHOLD = 0.2\n",
    "\n",
    "\n",
    "df = pd.read_csv(\"/home/alpha/programs/python_files/datasets/cnv_and_mut/entitiesWES.csv\")\n",
    "\n",
    "# some samples have more columns, filter them out and drop all samples from 450k. Usually theier ID begins with 9 or 3\n",
    "# df = df.dropna(axis=1)\n",
    "df = df.drop(columns=[\"Unnamed: 0\"])\n",
    "\n",
    "\n",
    "# Make it amplitude agnostic (experimental) \n",
    "# comment out the lines with AMPLITUDE_THRESHOLD\n",
    "y = df[[\"entity\",\"sample\"]]\n",
    "df = df.drop(columns=[\"entity\",\"sample\"])\n",
    "df = df.dropna(axis=1)\n",
    "\n",
    "## CUSTOM PREPROCESSING\n",
    "df = 2*((df-df.min())/(df.max()-df.min()))-1\n",
    "df = (df-df.mean())/df.std()\n",
    "df[df < -AMPLITUDE_THRESHOLD] = -1\n",
    "df[df > AMPLITUDE_THRESHOLD] = 1\n",
    "df[(df <= AMPLITUDE_THRESHOLD) & (df >= -AMPLITUDE_THRESHOLD)] = 0\n",
    "df.drop(columns=df.columns[(df == 0.0).all()])\n",
    "cols_with_zero = []\n",
    "\n",
    "\n",
    "# print(df)\n",
    "# for i in df.columns.to_list():\n",
    "#     print(i)\n",
    "#     if i.sum() == 0:\n",
    "#         df = df.drop(i)\n",
    "\n",
    "df[\"ID\"] = y[\"sample\"]\n",
    "df[\"entity\"] = y[\"entity\"]\n",
    "\n",
    "\n",
    "\n",
    "\n",
    "# make features\n",
    "features = df.columns.tolist()\n",
    "features.remove(\"entity\")\n",
    "features.remove(\"ID\")\n",
    "\n",
    "df.head()"
   ]
  },
  {
   "cell_type": "markdown",
   "id": "b68accec-2346-4833-91b8-07986eb5eeb0",
   "metadata": {},
   "source": [
    "## Make PCA and UMAP\n",
    "\n",
    "### Einstellungen, welche gut funktioniert haben\n",
    "\n",
    "- PRINCIPAL_COMPONENTS = 5 N_NEIGHBORS = 15 (standardScaler, no custom preprocessing) \n",
    "- \n"
   ]
  },
  {
   "cell_type": "code",
   "execution_count": 9,
   "id": "f0756a9e-b3a7-4521-a175-0b74999de9ff",
   "metadata": {},
   "outputs": [
    {
     "name": "stdout",
     "output_type": "stream",
     "text": [
      "(62, 5)\n"
     ]
    },
    {
     "data": {
      "application/vnd.plotly.v1+json": {
       "config": {
        "plotlyServerURL": "https://plot.ly"
       },
       "data": [
        {
         "hovertemplate": "entity=K27<br>0=%{x}<br>1=%{y}<extra></extra>",
         "legendgroup": "K27",
         "marker": {
          "color": "#636efa",
          "opacity": 1,
          "symbol": "circle"
         },
         "mode": "markers",
         "name": "K27",
         "orientation": "v",
         "showlegend": true,
         "type": "scatter",
         "x": [
          43.09763717651367
         ],
         "xaxis": "x",
         "y": [
          -11.248190879821777
         ],
         "yaxis": "y"
        },
        {
         "hovertemplate": "entity=MEDULLO_SHH<br>0=%{x}<br>1=%{y}<extra></extra>",
         "legendgroup": "MEDULLO_SHH",
         "marker": {
          "color": "#EF553B",
          "opacity": 1,
          "symbol": "circle"
         },
         "mode": "markers",
         "name": "MEDULLO_SHH",
         "orientation": "v",
         "showlegend": true,
         "type": "scatter",
         "x": [
          43.25188446044922
         ],
         "xaxis": "x",
         "y": [
          -11.403960227966309
         ],
         "yaxis": "y"
        },
        {
         "hovertemplate": "entity=PITUIZYTOM<br>0=%{x}<br>1=%{y}<extra></extra>",
         "legendgroup": "PITUIZYTOM",
         "marker": {
          "color": "#00cc96",
          "opacity": 1,
          "symbol": "circle"
         },
         "mode": "markers",
         "name": "PITUIZYTOM",
         "orientation": "v",
         "showlegend": true,
         "type": "scatter",
         "x": [
          -26.51974868774414
         ],
         "xaxis": "x",
         "y": [
          -6.786938667297363
         ],
         "yaxis": "y"
        },
        {
         "hovertemplate": "entity=DIFF_HOCH_GLIOM_PEDIATRISCH<br>0=%{x}<br>1=%{y}<extra></extra>",
         "legendgroup": "DIFF_HOCH_GLIOM_PEDIATRISCH",
         "marker": {
          "color": "#ab63fa",
          "opacity": 1,
          "symbol": "circle"
         },
         "mode": "markers",
         "name": "DIFF_HOCH_GLIOM_PEDIATRISCH",
         "orientation": "v",
         "showlegend": true,
         "type": "scatter",
         "x": [
          8.294618606567383
         ],
         "xaxis": "x",
         "y": [
          30.570913314819336
         ],
         "yaxis": "y"
        },
        {
         "hovertemplate": "entity=GBM<br>0=%{x}<br>1=%{y}<extra></extra>",
         "legendgroup": "GBM",
         "marker": {
          "color": "#FFA15A",
          "opacity": 1,
          "symbol": "circle"
         },
         "mode": "markers",
         "name": "GBM",
         "orientation": "v",
         "showlegend": true,
         "type": "scatter",
         "visible": true,
         "x": [
          -14.032402038574219,
          7.661370754241943
         ],
         "xaxis": "x",
         "y": [
          -23.34915542602539,
          29.577287673950195
         ],
         "yaxis": "y"
        },
        {
         "hovertemplate": "entity=ASTRO_HIGH<br>0=%{x}<br>1=%{y}<extra></extra>",
         "legendgroup": "ASTRO_HIGH",
         "marker": {
          "color": "#19d3f3",
          "opacity": 1,
          "symbol": "circle"
         },
         "mode": "markers",
         "name": "ASTRO_HIGH",
         "orientation": "v",
         "showlegend": true,
         "type": "scatter",
         "x": [
          -14.283649444580078,
          60.653709411621094
         ],
         "xaxis": "x",
         "y": [
          -23.497089385986328,
          -12.944714546203613
         ],
         "yaxis": "y"
        },
        {
         "hovertemplate": "entity=MEDULLO_SHH_TP53<br>0=%{x}<br>1=%{y}<extra></extra>",
         "legendgroup": "MEDULLO_SHH_TP53",
         "marker": {
          "color": "#FF6692",
          "opacity": 1,
          "symbol": "circle"
         },
         "mode": "markers",
         "name": "MEDULLO_SHH_TP53",
         "orientation": "v",
         "showlegend": true,
         "type": "scatter",
         "x": [
          -9.183165550231934,
          43.51689529418945
         ],
         "xaxis": "x",
         "y": [
          52.96855163574219,
          -11.66856575012207
         ],
         "yaxis": "y"
        },
        {
         "hovertemplate": "entity=HGAP<br>0=%{x}<br>1=%{y}<extra></extra>",
         "legendgroup": "HGAP",
         "marker": {
          "color": "#B6E880",
          "opacity": 1,
          "symbol": "circle"
         },
         "mode": "markers",
         "name": "HGAP",
         "orientation": "v",
         "showlegend": true,
         "type": "scatter",
         "x": [
          -28.25580406188965
         ],
         "xaxis": "x",
         "y": [
          -6.9528326988220215
         ],
         "yaxis": "y"
        },
        {
         "hovertemplate": "entity=PILOZYT<br>0=%{x}<br>1=%{y}<extra></extra>",
         "legendgroup": "PILOZYT",
         "marker": {
          "color": "#FF97FF",
          "opacity": 1,
          "symbol": "circle"
         },
         "mode": "markers",
         "name": "PILOZYT",
         "orientation": "v",
         "showlegend": true,
         "type": "scatter",
         "x": [
          57.678749084472656,
          -27.81361198425293,
          -1.311641812324524,
          -8.35290241241455,
          -26.974443435668945,
          -28.386165618896484,
          8.819073677062988,
          -1.252244234085083,
          -16.98113441467285,
          69.97769165039062,
          -27.719406127929688
         ],
         "xaxis": "x",
         "y": [
          -11.477355003356934,
          -6.416158676147461,
          0.8073776364326477,
          53.86200714111328,
          -6.986850261688232,
          -7.237237453460693,
          30.173969268798828,
          14.423543930053711,
          -0.28860121965408325,
          31.212627410888672,
          -5.416781902313232
         ],
         "yaxis": "y"
        },
        {
         "hovertemplate": "entity=MEDULLO_NON<br>0=%{x}<br>1=%{y}<extra></extra>",
         "legendgroup": "MEDULLO_NON",
         "marker": {
          "color": "#FECB52",
          "opacity": 1,
          "symbol": "circle"
         },
         "mode": "markers",
         "name": "MEDULLO_NON",
         "orientation": "v",
         "showlegend": true,
         "type": "scatter",
         "x": [
          8.33965015411377,
          -9.874184608459473
         ],
         "xaxis": "x",
         "y": [
          0.8889198899269104,
          40.08926773071289
         ],
         "yaxis": "y"
        },
        {
         "hovertemplate": "entity=MNG_HIGH<br>0=%{x}<br>1=%{y}<extra></extra>",
         "legendgroup": "MNG_HIGH",
         "marker": {
          "color": "#636efa",
          "opacity": 1,
          "symbol": "circle"
         },
         "mode": "markers",
         "name": "MNG_HIGH",
         "orientation": "v",
         "showlegend": true,
         "type": "scatter",
         "x": [
          -1.526930332183838
         ],
         "xaxis": "x",
         "y": [
          1.0215427875518799
         ],
         "yaxis": "y"
        },
        {
         "hovertemplate": "entity=LGG<br>0=%{x}<br>1=%{y}<extra></extra>",
         "legendgroup": "LGG",
         "marker": {
          "color": "#EF553B",
          "opacity": 1,
          "symbol": "circle"
         },
         "mode": "markers",
         "name": "LGG",
         "orientation": "v",
         "showlegend": true,
         "type": "scatter",
         "x": [
          -26.971721649169922,
          8.388285636901855,
          58.58220672607422,
          -14.515015602111816,
          22.943639755249023
         ],
         "xaxis": "x",
         "y": [
          -6.530074596405029,
          30.110980987548828,
          -11.957038879394531,
          -24.228588104248047,
          39.13546371459961
         ],
         "yaxis": "y"
        },
        {
         "hovertemplate": "entity=nan<br>0=%{x}<br>1=%{y}<extra></extra>",
         "legendgroup": "nan",
         "marker": {
          "color": "#00cc96",
          "opacity": 1,
          "symbol": "circle"
         },
         "mode": "markers",
         "name": "nan",
         "orientation": "v",
         "showlegend": true,
         "type": "scatter",
         "x": [
          8.549324035644531,
          58.041046142578125,
          -14.299448013305664,
          -1.7304153442382812
         ],
         "xaxis": "x",
         "y": [
          0.6741804480552673,
          -11.558000564575195,
          -23.90459442138672,
          14.899043083190918
         ],
         "yaxis": "y"
        },
        {
         "hovertemplate": "entity=ATRT<br>0=%{x}<br>1=%{y}<extra></extra>",
         "legendgroup": "ATRT",
         "marker": {
          "color": "#ab63fa",
          "opacity": 1,
          "symbol": "circle"
         },
         "mode": "markers",
         "name": "ATRT",
         "orientation": "v",
         "showlegend": true,
         "type": "scatter",
         "x": [
          -8.69546127319336
         ],
         "xaxis": "x",
         "y": [
          53.577667236328125
         ],
         "yaxis": "y"
        },
        {
         "hovertemplate": "entity=SEGA<br>0=%{x}<br>1=%{y}<extra></extra>",
         "legendgroup": "SEGA",
         "marker": {
          "color": "#FFA15A",
          "opacity": 1,
          "symbol": "circle"
         },
         "mode": "markers",
         "name": "SEGA",
         "orientation": "v",
         "showlegend": true,
         "type": "scatter",
         "x": [
          -8.927163124084473
         ],
         "xaxis": "x",
         "y": [
          53.26309585571289
         ],
         "yaxis": "y"
        },
        {
         "hovertemplate": "entity=RGNT<br>0=%{x}<br>1=%{y}<extra></extra>",
         "legendgroup": "RGNT",
         "marker": {
          "color": "#19d3f3",
          "opacity": 1,
          "symbol": "circle"
         },
         "mode": "markers",
         "name": "RGNT",
         "orientation": "v",
         "showlegend": true,
         "type": "scatter",
         "x": [
          41.135009765625
         ],
         "xaxis": "x",
         "y": [
          67.15098571777344
         ],
         "yaxis": "y"
        },
        {
         "hovertemplate": "entity=EPENDYMOM<br>0=%{x}<br>1=%{y}<extra></extra>",
         "legendgroup": "EPENDYMOM",
         "marker": {
          "color": "#FF6692",
          "opacity": 1,
          "symbol": "circle"
         },
         "mode": "markers",
         "name": "EPENDYMOM",
         "orientation": "v",
         "showlegend": true,
         "type": "scatter",
         "x": [
          39.37531661987305
         ],
         "xaxis": "x",
         "y": [
          9.06648063659668
         ],
         "yaxis": "y"
        },
        {
         "hovertemplate": "entity=DIGDIA<br>0=%{x}<br>1=%{y}<extra></extra>",
         "legendgroup": "DIGDIA",
         "marker": {
          "color": "#B6E880",
          "opacity": 1,
          "symbol": "circle"
         },
         "mode": "markers",
         "name": "DIGDIA",
         "orientation": "v",
         "showlegend": true,
         "type": "scatter",
         "x": [
          -27.86428451538086,
          8.137258529663086
         ],
         "xaxis": "x",
         "y": [
          -5.738028526306152,
          1.0917363166809082
         ],
         "yaxis": "y"
        },
        {
         "hovertemplate": "entity=LGG_NOS<br>0=%{x}<br>1=%{y}<extra></extra>",
         "legendgroup": "LGG_NOS",
         "marker": {
          "color": "#FF97FF",
          "opacity": 1,
          "symbol": "circle"
         },
         "mode": "markers",
         "name": "LGG_NOS",
         "orientation": "v",
         "showlegend": true,
         "type": "scatter",
         "x": [
          59.434146881103516,
          59.71862030029297,
          70.48731231689453,
          59.392635345458984,
          23.190641403198242,
          -17.23752212524414,
          39.93091583251953,
          39.63447570800781
         ],
         "xaxis": "x",
         "y": [
          -12.32059383392334,
          -11.648951530456543,
          30.702932357788086,
          -12.603498458862305,
          38.006900787353516,
          -0.5451969504356384,
          8.50039291381836,
          8.795588493347168
         ],
         "yaxis": "y"
        },
        {
         "hovertemplate": "entity=PLNTY<br>0=%{x}<br>1=%{y}<extra></extra>",
         "legendgroup": "PLNTY",
         "marker": {
          "color": "#FECB52",
          "opacity": 1,
          "symbol": "circle"
         },
         "mode": "markers",
         "name": "PLNTY",
         "orientation": "v",
         "showlegend": true,
         "type": "scatter",
         "x": [
          7.909496784210205
         ],
         "xaxis": "x",
         "y": [
          29.797454833984375
         ],
         "yaxis": "y"
        },
        {
         "hovertemplate": "entity=DLGNT<br>0=%{x}<br>1=%{y}<extra></extra>",
         "legendgroup": "DLGNT",
         "marker": {
          "color": "#636efa",
          "opacity": 1,
          "symbol": "circle"
         },
         "mode": "markers",
         "name": "DLGNT",
         "orientation": "v",
         "showlegend": true,
         "type": "scatter",
         "x": [
          59.89374923706055
         ],
         "xaxis": "x",
         "y": [
          -12.309798240661621
         ],
         "yaxis": "y"
        },
        {
         "hovertemplate": "entity=GG<br>0=%{x}<br>1=%{y}<extra></extra>",
         "legendgroup": "GG",
         "marker": {
          "color": "#EF553B",
          "opacity": 1,
          "symbol": "circle"
         },
         "mode": "markers",
         "name": "GG",
         "orientation": "v",
         "showlegend": true,
         "type": "scatter",
         "x": [
          60.23054885864258,
          70.27963256835938,
          -10.25328254699707,
          -1.7474652528762817,
          39.146766662597656
         ],
         "xaxis": "x",
         "y": [
          -13.021224975585938,
          30.910682678222656,
          40.4683837890625,
          1.241922378540039,
          9.306265830993652
         ],
         "yaxis": "y"
        },
        {
         "hovertemplate": "entity=MEDULLO_WNT<br>0=%{x}<br>1=%{y}<extra></extra>",
         "legendgroup": "MEDULLO_WNT",
         "marker": {
          "color": "#00cc96",
          "opacity": 1,
          "symbol": "circle"
         },
         "mode": "markers",
         "name": "MEDULLO_WNT",
         "orientation": "v",
         "showlegend": true,
         "type": "scatter",
         "x": [
          -1.4300251007080078
         ],
         "xaxis": "x",
         "y": [
          14.601672172546387
         ],
         "yaxis": "y"
        },
        {
         "hovertemplate": "entity=GLIOM_NOS<br>0=%{x}<br>1=%{y}<extra></extra>",
         "legendgroup": "GLIOM_NOS",
         "marker": {
          "color": "#ab63fa",
          "opacity": 1,
          "symbol": "circle"
         },
         "mode": "markers",
         "name": "GLIOM_NOS",
         "orientation": "v",
         "showlegend": true,
         "type": "scatter",
         "x": [
          22.880746841430664
         ],
         "xaxis": "x",
         "y": [
          38.36894226074219
         ],
         "yaxis": "y"
        },
        {
         "hovertemplate": "entity=G34<br>0=%{x}<br>1=%{y}<extra></extra>",
         "legendgroup": "G34",
         "marker": {
          "color": "#FFA15A",
          "opacity": 1,
          "symbol": "circle"
         },
         "mode": "markers",
         "name": "G34",
         "orientation": "v",
         "showlegend": true,
         "type": "scatter",
         "x": [
          -10.037251472473145
         ],
         "xaxis": "x",
         "y": [
          40.251739501953125
         ],
         "yaxis": "y"
        },
        {
         "hovertemplate": "entity=ETMR<br>0=%{x}<br>1=%{y}<extra></extra>",
         "legendgroup": "ETMR",
         "marker": {
          "color": "#19d3f3",
          "opacity": 1,
          "symbol": "circle"
         },
         "mode": "markers",
         "name": "ETMR",
         "orientation": "v",
         "showlegend": true,
         "type": "scatter",
         "x": [
          22.591358184814453
         ],
         "xaxis": "x",
         "y": [
          38.13050842285156
         ],
         "yaxis": "y"
        },
        {
         "hovertemplate": "entity=ASTRO_LOW<br>0=%{x}<br>1=%{y}<extra></extra>",
         "legendgroup": "ASTRO_LOW",
         "marker": {
          "color": "#FF6692",
          "opacity": 1,
          "symbol": "circle"
         },
         "mode": "markers",
         "name": "ASTRO_LOW",
         "orientation": "v",
         "showlegend": true,
         "type": "scatter",
         "x": [
          22.78879737854004
         ],
         "xaxis": "x",
         "y": [
          38.84382247924805
         ],
         "yaxis": "y"
        },
        {
         "hovertemplate": "entity=DNT<br>0=%{x}<br>1=%{y}<extra></extra>",
         "legendgroup": "DNT",
         "marker": {
          "color": "#B6E880",
          "opacity": 1,
          "symbol": "circle"
         },
         "mode": "markers",
         "name": "DNT",
         "orientation": "v",
         "showlegend": true,
         "type": "scatter",
         "x": [
          -16.816871643066406
         ],
         "xaxis": "x",
         "y": [
          -0.12423427402973175
         ],
         "yaxis": "y"
        },
        {
         "hovertemplate": "entity=DIFFUSES_ASTRO_MYB/MYBL1<br>0=%{x}<br>1=%{y}<extra></extra>",
         "legendgroup": "DIFFUSES_ASTRO_MYB/MYBL1",
         "marker": {
          "color": "#FF97FF",
          "opacity": 1,
          "symbol": "circle"
         },
         "mode": "markers",
         "name": "DIFFUSES_ASTRO_MYB/MYBL1",
         "orientation": "v",
         "showlegend": true,
         "type": "scatter",
         "x": [
          41.0095329284668
         ],
         "xaxis": "x",
         "y": [
          67.02548217773438
         ],
         "yaxis": "y"
        }
       ],
       "layout": {
        "height": 800,
        "legend": {
         "title": {
          "text": "entity"
         },
         "tracegroupgap": 0
        },
        "template": {
         "data": {
          "bar": [
           {
            "error_x": {
             "color": "#2a3f5f"
            },
            "error_y": {
             "color": "#2a3f5f"
            },
            "marker": {
             "line": {
              "color": "#E5ECF6",
              "width": 0.5
             },
             "pattern": {
              "fillmode": "overlay",
              "size": 10,
              "solidity": 0.2
             }
            },
            "type": "bar"
           }
          ],
          "barpolar": [
           {
            "marker": {
             "line": {
              "color": "#E5ECF6",
              "width": 0.5
             },
             "pattern": {
              "fillmode": "overlay",
              "size": 10,
              "solidity": 0.2
             }
            },
            "type": "barpolar"
           }
          ],
          "carpet": [
           {
            "aaxis": {
             "endlinecolor": "#2a3f5f",
             "gridcolor": "white",
             "linecolor": "white",
             "minorgridcolor": "white",
             "startlinecolor": "#2a3f5f"
            },
            "baxis": {
             "endlinecolor": "#2a3f5f",
             "gridcolor": "white",
             "linecolor": "white",
             "minorgridcolor": "white",
             "startlinecolor": "#2a3f5f"
            },
            "type": "carpet"
           }
          ],
          "choropleth": [
           {
            "colorbar": {
             "outlinewidth": 0,
             "ticks": ""
            },
            "type": "choropleth"
           }
          ],
          "contour": [
           {
            "colorbar": {
             "outlinewidth": 0,
             "ticks": ""
            },
            "colorscale": [
             [
              0,
              "#0d0887"
             ],
             [
              0.1111111111111111,
              "#46039f"
             ],
             [
              0.2222222222222222,
              "#7201a8"
             ],
             [
              0.3333333333333333,
              "#9c179e"
             ],
             [
              0.4444444444444444,
              "#bd3786"
             ],
             [
              0.5555555555555556,
              "#d8576b"
             ],
             [
              0.6666666666666666,
              "#ed7953"
             ],
             [
              0.7777777777777778,
              "#fb9f3a"
             ],
             [
              0.8888888888888888,
              "#fdca26"
             ],
             [
              1,
              "#f0f921"
             ]
            ],
            "type": "contour"
           }
          ],
          "contourcarpet": [
           {
            "colorbar": {
             "outlinewidth": 0,
             "ticks": ""
            },
            "type": "contourcarpet"
           }
          ],
          "heatmap": [
           {
            "colorbar": {
             "outlinewidth": 0,
             "ticks": ""
            },
            "colorscale": [
             [
              0,
              "#0d0887"
             ],
             [
              0.1111111111111111,
              "#46039f"
             ],
             [
              0.2222222222222222,
              "#7201a8"
             ],
             [
              0.3333333333333333,
              "#9c179e"
             ],
             [
              0.4444444444444444,
              "#bd3786"
             ],
             [
              0.5555555555555556,
              "#d8576b"
             ],
             [
              0.6666666666666666,
              "#ed7953"
             ],
             [
              0.7777777777777778,
              "#fb9f3a"
             ],
             [
              0.8888888888888888,
              "#fdca26"
             ],
             [
              1,
              "#f0f921"
             ]
            ],
            "type": "heatmap"
           }
          ],
          "heatmapgl": [
           {
            "colorbar": {
             "outlinewidth": 0,
             "ticks": ""
            },
            "colorscale": [
             [
              0,
              "#0d0887"
             ],
             [
              0.1111111111111111,
              "#46039f"
             ],
             [
              0.2222222222222222,
              "#7201a8"
             ],
             [
              0.3333333333333333,
              "#9c179e"
             ],
             [
              0.4444444444444444,
              "#bd3786"
             ],
             [
              0.5555555555555556,
              "#d8576b"
             ],
             [
              0.6666666666666666,
              "#ed7953"
             ],
             [
              0.7777777777777778,
              "#fb9f3a"
             ],
             [
              0.8888888888888888,
              "#fdca26"
             ],
             [
              1,
              "#f0f921"
             ]
            ],
            "type": "heatmapgl"
           }
          ],
          "histogram": [
           {
            "marker": {
             "pattern": {
              "fillmode": "overlay",
              "size": 10,
              "solidity": 0.2
             }
            },
            "type": "histogram"
           }
          ],
          "histogram2d": [
           {
            "colorbar": {
             "outlinewidth": 0,
             "ticks": ""
            },
            "colorscale": [
             [
              0,
              "#0d0887"
             ],
             [
              0.1111111111111111,
              "#46039f"
             ],
             [
              0.2222222222222222,
              "#7201a8"
             ],
             [
              0.3333333333333333,
              "#9c179e"
             ],
             [
              0.4444444444444444,
              "#bd3786"
             ],
             [
              0.5555555555555556,
              "#d8576b"
             ],
             [
              0.6666666666666666,
              "#ed7953"
             ],
             [
              0.7777777777777778,
              "#fb9f3a"
             ],
             [
              0.8888888888888888,
              "#fdca26"
             ],
             [
              1,
              "#f0f921"
             ]
            ],
            "type": "histogram2d"
           }
          ],
          "histogram2dcontour": [
           {
            "colorbar": {
             "outlinewidth": 0,
             "ticks": ""
            },
            "colorscale": [
             [
              0,
              "#0d0887"
             ],
             [
              0.1111111111111111,
              "#46039f"
             ],
             [
              0.2222222222222222,
              "#7201a8"
             ],
             [
              0.3333333333333333,
              "#9c179e"
             ],
             [
              0.4444444444444444,
              "#bd3786"
             ],
             [
              0.5555555555555556,
              "#d8576b"
             ],
             [
              0.6666666666666666,
              "#ed7953"
             ],
             [
              0.7777777777777778,
              "#fb9f3a"
             ],
             [
              0.8888888888888888,
              "#fdca26"
             ],
             [
              1,
              "#f0f921"
             ]
            ],
            "type": "histogram2dcontour"
           }
          ],
          "mesh3d": [
           {
            "colorbar": {
             "outlinewidth": 0,
             "ticks": ""
            },
            "type": "mesh3d"
           }
          ],
          "parcoords": [
           {
            "line": {
             "colorbar": {
              "outlinewidth": 0,
              "ticks": ""
             }
            },
            "type": "parcoords"
           }
          ],
          "pie": [
           {
            "automargin": true,
            "type": "pie"
           }
          ],
          "scatter": [
           {
            "fillpattern": {
             "fillmode": "overlay",
             "size": 10,
             "solidity": 0.2
            },
            "type": "scatter"
           }
          ],
          "scatter3d": [
           {
            "line": {
             "colorbar": {
              "outlinewidth": 0,
              "ticks": ""
             }
            },
            "marker": {
             "colorbar": {
              "outlinewidth": 0,
              "ticks": ""
             }
            },
            "type": "scatter3d"
           }
          ],
          "scattercarpet": [
           {
            "marker": {
             "colorbar": {
              "outlinewidth": 0,
              "ticks": ""
             }
            },
            "type": "scattercarpet"
           }
          ],
          "scattergeo": [
           {
            "marker": {
             "colorbar": {
              "outlinewidth": 0,
              "ticks": ""
             }
            },
            "type": "scattergeo"
           }
          ],
          "scattergl": [
           {
            "marker": {
             "colorbar": {
              "outlinewidth": 0,
              "ticks": ""
             }
            },
            "type": "scattergl"
           }
          ],
          "scattermapbox": [
           {
            "marker": {
             "colorbar": {
              "outlinewidth": 0,
              "ticks": ""
             }
            },
            "type": "scattermapbox"
           }
          ],
          "scatterpolar": [
           {
            "marker": {
             "colorbar": {
              "outlinewidth": 0,
              "ticks": ""
             }
            },
            "type": "scatterpolar"
           }
          ],
          "scatterpolargl": [
           {
            "marker": {
             "colorbar": {
              "outlinewidth": 0,
              "ticks": ""
             }
            },
            "type": "scatterpolargl"
           }
          ],
          "scatterternary": [
           {
            "marker": {
             "colorbar": {
              "outlinewidth": 0,
              "ticks": ""
             }
            },
            "type": "scatterternary"
           }
          ],
          "surface": [
           {
            "colorbar": {
             "outlinewidth": 0,
             "ticks": ""
            },
            "colorscale": [
             [
              0,
              "#0d0887"
             ],
             [
              0.1111111111111111,
              "#46039f"
             ],
             [
              0.2222222222222222,
              "#7201a8"
             ],
             [
              0.3333333333333333,
              "#9c179e"
             ],
             [
              0.4444444444444444,
              "#bd3786"
             ],
             [
              0.5555555555555556,
              "#d8576b"
             ],
             [
              0.6666666666666666,
              "#ed7953"
             ],
             [
              0.7777777777777778,
              "#fb9f3a"
             ],
             [
              0.8888888888888888,
              "#fdca26"
             ],
             [
              1,
              "#f0f921"
             ]
            ],
            "type": "surface"
           }
          ],
          "table": [
           {
            "cells": {
             "fill": {
              "color": "#EBF0F8"
             },
             "line": {
              "color": "white"
             }
            },
            "header": {
             "fill": {
              "color": "#C8D4E3"
             },
             "line": {
              "color": "white"
             }
            },
            "type": "table"
           }
          ]
         },
         "layout": {
          "annotationdefaults": {
           "arrowcolor": "#2a3f5f",
           "arrowhead": 0,
           "arrowwidth": 1
          },
          "autotypenumbers": "strict",
          "coloraxis": {
           "colorbar": {
            "outlinewidth": 0,
            "ticks": ""
           }
          },
          "colorscale": {
           "diverging": [
            [
             0,
             "#8e0152"
            ],
            [
             0.1,
             "#c51b7d"
            ],
            [
             0.2,
             "#de77ae"
            ],
            [
             0.3,
             "#f1b6da"
            ],
            [
             0.4,
             "#fde0ef"
            ],
            [
             0.5,
             "#f7f7f7"
            ],
            [
             0.6,
             "#e6f5d0"
            ],
            [
             0.7,
             "#b8e186"
            ],
            [
             0.8,
             "#7fbc41"
            ],
            [
             0.9,
             "#4d9221"
            ],
            [
             1,
             "#276419"
            ]
           ],
           "sequential": [
            [
             0,
             "#0d0887"
            ],
            [
             0.1111111111111111,
             "#46039f"
            ],
            [
             0.2222222222222222,
             "#7201a8"
            ],
            [
             0.3333333333333333,
             "#9c179e"
            ],
            [
             0.4444444444444444,
             "#bd3786"
            ],
            [
             0.5555555555555556,
             "#d8576b"
            ],
            [
             0.6666666666666666,
             "#ed7953"
            ],
            [
             0.7777777777777778,
             "#fb9f3a"
            ],
            [
             0.8888888888888888,
             "#fdca26"
            ],
            [
             1,
             "#f0f921"
            ]
           ],
           "sequentialminus": [
            [
             0,
             "#0d0887"
            ],
            [
             0.1111111111111111,
             "#46039f"
            ],
            [
             0.2222222222222222,
             "#7201a8"
            ],
            [
             0.3333333333333333,
             "#9c179e"
            ],
            [
             0.4444444444444444,
             "#bd3786"
            ],
            [
             0.5555555555555556,
             "#d8576b"
            ],
            [
             0.6666666666666666,
             "#ed7953"
            ],
            [
             0.7777777777777778,
             "#fb9f3a"
            ],
            [
             0.8888888888888888,
             "#fdca26"
            ],
            [
             1,
             "#f0f921"
            ]
           ]
          },
          "colorway": [
           "#636efa",
           "#EF553B",
           "#00cc96",
           "#ab63fa",
           "#FFA15A",
           "#19d3f3",
           "#FF6692",
           "#B6E880",
           "#FF97FF",
           "#FECB52"
          ],
          "font": {
           "color": "#2a3f5f"
          },
          "geo": {
           "bgcolor": "white",
           "lakecolor": "white",
           "landcolor": "#E5ECF6",
           "showlakes": true,
           "showland": true,
           "subunitcolor": "white"
          },
          "hoverlabel": {
           "align": "left"
          },
          "hovermode": "closest",
          "mapbox": {
           "style": "light"
          },
          "paper_bgcolor": "white",
          "plot_bgcolor": "#E5ECF6",
          "polar": {
           "angularaxis": {
            "gridcolor": "white",
            "linecolor": "white",
            "ticks": ""
           },
           "bgcolor": "#E5ECF6",
           "radialaxis": {
            "gridcolor": "white",
            "linecolor": "white",
            "ticks": ""
           }
          },
          "scene": {
           "xaxis": {
            "backgroundcolor": "#E5ECF6",
            "gridcolor": "white",
            "gridwidth": 2,
            "linecolor": "white",
            "showbackground": true,
            "ticks": "",
            "zerolinecolor": "white"
           },
           "yaxis": {
            "backgroundcolor": "#E5ECF6",
            "gridcolor": "white",
            "gridwidth": 2,
            "linecolor": "white",
            "showbackground": true,
            "ticks": "",
            "zerolinecolor": "white"
           },
           "zaxis": {
            "backgroundcolor": "#E5ECF6",
            "gridcolor": "white",
            "gridwidth": 2,
            "linecolor": "white",
            "showbackground": true,
            "ticks": "",
            "zerolinecolor": "white"
           }
          },
          "shapedefaults": {
           "line": {
            "color": "#2a3f5f"
           }
          },
          "ternary": {
           "aaxis": {
            "gridcolor": "white",
            "linecolor": "white",
            "ticks": ""
           },
           "baxis": {
            "gridcolor": "white",
            "linecolor": "white",
            "ticks": ""
           },
           "bgcolor": "#E5ECF6",
           "caxis": {
            "gridcolor": "white",
            "linecolor": "white",
            "ticks": ""
           }
          },
          "title": {
           "x": 0.05
          },
          "xaxis": {
           "automargin": true,
           "gridcolor": "white",
           "linecolor": "white",
           "ticks": "",
           "title": {
            "standoff": 15
           },
           "zerolinecolor": "white",
           "zerolinewidth": 2
          },
          "yaxis": {
           "automargin": true,
           "gridcolor": "white",
           "linecolor": "white",
           "ticks": "",
           "title": {
            "standoff": 15
           },
           "zerolinecolor": "white",
           "zerolinewidth": 2
          }
         }
        },
        "title": {
         "text": "PCA components = 5, n_neighbors = 2, n_cases = 62, fold_change_threshold = 0.2"
        },
        "width": 1200,
        "xaxis": {
         "anchor": "y",
         "autorange": true,
         "domain": [
          0,
          1
         ],
         "range": [
          -34.41724114084194,
          76.51838783883998
         ],
         "title": {
          "text": "0"
         },
         "type": "linear"
        },
        "yaxis": {
         "anchor": "x",
         "autorange": true,
         "domain": [
          0,
          1
         ],
         "range": [
          -29.996871828708077,
          72.91926944223347
         ],
         "title": {
          "text": "1"
         },
         "type": "linear"
        }
       }
      },
      "image/png": "[encoded data removed]",
      "text/html": [
       "<div>                            <div id=\"9c5a428a-fec8-471d-b44b-aa69800790b2\" class=\"plotly-graph-div\" style=\"height:800px; width:1200px;\"></div>            <script type=\"text/javascript\">                require([\"plotly\"], function(Plotly) {                    window.PLOTLYENV=window.PLOTLYENV || {};                                    if (document.getElementById(\"9c5a428a-fec8-471d-b44b-aa69800790b2\")) {                    Plotly.newPlot(                        \"9c5a428a-fec8-471d-b44b-aa69800790b2\",                        [{\"hovertemplate\":\"entity=K27\\u003cbr\\u003e0=%{x}\\u003cbr\\u003e1=%{y}\\u003cextra\\u003e\\u003c\\u002fextra\\u003e\",\"legendgroup\":\"K27\",\"marker\":{\"color\":\"#636efa\",\"opacity\":1,\"symbol\":\"circle\"},\"mode\":\"markers\",\"name\":\"K27\",\"orientation\":\"v\",\"showlegend\":true,\"x\":[43.09763717651367],\"xaxis\":\"x\",\"y\":[-11.248190879821777],\"yaxis\":\"y\",\"type\":\"scatter\"},{\"hovertemplate\":\"entity=MEDULLO_SHH\\u003cbr\\u003e0=%{x}\\u003cbr\\u003e1=%{y}\\u003cextra\\u003e\\u003c\\u002fextra\\u003e\",\"legendgroup\":\"MEDULLO_SHH\",\"marker\":{\"color\":\"#EF553B\",\"opacity\":1,\"symbol\":\"circle\"},\"mode\":\"markers\",\"name\":\"MEDULLO_SHH\",\"orientation\":\"v\",\"showlegend\":true,\"x\":[43.25188446044922],\"xaxis\":\"x\",\"y\":[-11.403960227966309],\"yaxis\":\"y\",\"type\":\"scatter\"},{\"hovertemplate\":\"entity=PITUIZYTOM\\u003cbr\\u003e0=%{x}\\u003cbr\\u003e1=%{y}\\u003cextra\\u003e\\u003c\\u002fextra\\u003e\",\"legendgroup\":\"PITUIZYTOM\",\"marker\":{\"color\":\"#00cc96\",\"opacity\":1,\"symbol\":\"circle\"},\"mode\":\"markers\",\"name\":\"PITUIZYTOM\",\"orientation\":\"v\",\"showlegend\":true,\"x\":[-26.51974868774414],\"xaxis\":\"x\",\"y\":[-6.786938667297363],\"yaxis\":\"y\",\"type\":\"scatter\"},{\"hovertemplate\":\"entity=DIFF_HOCH_GLIOM_PEDIATRISCH\\u003cbr\\u003e0=%{x}\\u003cbr\\u003e1=%{y}\\u003cextra\\u003e\\u003c\\u002fextra\\u003e\",\"legendgroup\":\"DIFF_HOCH_GLIOM_PEDIATRISCH\",\"marker\":{\"color\":\"#ab63fa\",\"opacity\":1,\"symbol\":\"circle\"},\"mode\":\"markers\",\"name\":\"DIFF_HOCH_GLIOM_PEDIATRISCH\",\"orientation\":\"v\",\"showlegend\":true,\"x\":[8.294618606567383],\"xaxis\":\"x\",\"y\":[30.570913314819336],\"yaxis\":\"y\",\"type\":\"scatter\"},{\"hovertemplate\":\"entity=GBM\\u003cbr\\u003e0=%{x}\\u003cbr\\u003e1=%{y}\\u003cextra\\u003e\\u003c\\u002fextra\\u003e\",\"legendgroup\":\"GBM\",\"marker\":{\"color\":\"#FFA15A\",\"opacity\":1,\"symbol\":\"circle\"},\"mode\":\"markers\",\"name\":\"GBM\",\"orientation\":\"v\",\"showlegend\":true,\"x\":[-14.032402038574219,7.661370754241943],\"xaxis\":\"x\",\"y\":[-23.34915542602539,29.577287673950195],\"yaxis\":\"y\",\"type\":\"scatter\"},{\"hovertemplate\":\"entity=ASTRO_HIGH\\u003cbr\\u003e0=%{x}\\u003cbr\\u003e1=%{y}\\u003cextra\\u003e\\u003c\\u002fextra\\u003e\",\"legendgroup\":\"ASTRO_HIGH\",\"marker\":{\"color\":\"#19d3f3\",\"opacity\":1,\"symbol\":\"circle\"},\"mode\":\"markers\",\"name\":\"ASTRO_HIGH\",\"orientation\":\"v\",\"showlegend\":true,\"x\":[-14.283649444580078,60.653709411621094],\"xaxis\":\"x\",\"y\":[-23.497089385986328,-12.944714546203613],\"yaxis\":\"y\",\"type\":\"scatter\"},{\"hovertemplate\":\"entity=MEDULLO_SHH_TP53\\u003cbr\\u003e0=%{x}\\u003cbr\\u003e1=%{y}\\u003cextra\\u003e\\u003c\\u002fextra\\u003e\",\"legendgroup\":\"MEDULLO_SHH_TP53\",\"marker\":{\"color\":\"#FF6692\",\"opacity\":1,\"symbol\":\"circle\"},\"mode\":\"markers\",\"name\":\"MEDULLO_SHH_TP53\",\"orientation\":\"v\",\"showlegend\":true,\"x\":[-9.183165550231934,43.51689529418945],\"xaxis\":\"x\",\"y\":[52.96855163574219,-11.66856575012207],\"yaxis\":\"y\",\"type\":\"scatter\"},{\"hovertemplate\":\"entity=HGAP\\u003cbr\\u003e0=%{x}\\u003cbr\\u003e1=%{y}\\u003cextra\\u003e\\u003c\\u002fextra\\u003e\",\"legendgroup\":\"HGAP\",\"marker\":{\"color\":\"#B6E880\",\"opacity\":1,\"symbol\":\"circle\"},\"mode\":\"markers\",\"name\":\"HGAP\",\"orientation\":\"v\",\"showlegend\":true,\"x\":[-28.25580406188965],\"xaxis\":\"x\",\"y\":[-6.9528326988220215],\"yaxis\":\"y\",\"type\":\"scatter\"},{\"hovertemplate\":\"entity=PILOZYT\\u003cbr\\u003e0=%{x}\\u003cbr\\u003e1=%{y}\\u003cextra\\u003e\\u003c\\u002fextra\\u003e\",\"legendgroup\":\"PILOZYT\",\"marker\":{\"color\":\"#FF97FF\",\"opacity\":1,\"symbol\":\"circle\"},\"mode\":\"markers\",\"name\":\"PILOZYT\",\"orientation\":\"v\",\"showlegend\":true,\"x\":[57.678749084472656,-27.81361198425293,-1.311641812324524,-8.35290241241455,-26.974443435668945,-28.386165618896484,8.819073677062988,-1.252244234085083,-16.98113441467285,69.97769165039062,-27.719406127929688],\"xaxis\":\"x\",\"y\":[-11.477355003356934,-6.416158676147461,0.8073776364326477,53.86200714111328,-6.986850261688232,-7.237237453460693,30.173969268798828,14.423543930053711,-0.28860121965408325,31.212627410888672,-5.416781902313232],\"yaxis\":\"y\",\"type\":\"scatter\"},{\"hovertemplate\":\"entity=MEDULLO_NON\\u003cbr\\u003e0=%{x}\\u003cbr\\u003e1=%{y}\\u003cextra\\u003e\\u003c\\u002fextra\\u003e\",\"legendgroup\":\"MEDULLO_NON\",\"marker\":{\"color\":\"#FECB52\",\"opacity\":1,\"symbol\":\"circle\"},\"mode\":\"markers\",\"name\":\"MEDULLO_NON\",\"orientation\":\"v\",\"showlegend\":true,\"x\":[8.33965015411377,-9.874184608459473],\"xaxis\":\"x\",\"y\":[0.8889198899269104,40.08926773071289],\"yaxis\":\"y\",\"type\":\"scatter\"},{\"hovertemplate\":\"entity=MNG_HIGH\\u003cbr\\u003e0=%{x}\\u003cbr\\u003e1=%{y}\\u003cextra\\u003e\\u003c\\u002fextra\\u003e\",\"legendgroup\":\"MNG_HIGH\",\"marker\":{\"color\":\"#636efa\",\"opacity\":1,\"symbol\":\"circle\"},\"mode\":\"markers\",\"name\":\"MNG_HIGH\",\"orientation\":\"v\",\"showlegend\":true,\"x\":[-1.526930332183838],\"xaxis\":\"x\",\"y\":[1.0215427875518799],\"yaxis\":\"y\",\"type\":\"scatter\"},{\"hovertemplate\":\"entity=LGG\\u003cbr\\u003e0=%{x}\\u003cbr\\u003e1=%{y}\\u003cextra\\u003e\\u003c\\u002fextra\\u003e\",\"legendgroup\":\"LGG\",\"marker\":{\"color\":\"#EF553B\",\"opacity\":1,\"symbol\":\"circle\"},\"mode\":\"markers\",\"name\":\"LGG\",\"orientation\":\"v\",\"showlegend\":true,\"x\":[-26.971721649169922,8.388285636901855,58.58220672607422,-14.515015602111816,22.943639755249023],\"xaxis\":\"x\",\"y\":[-6.530074596405029,30.110980987548828,-11.957038879394531,-24.228588104248047,39.13546371459961],\"yaxis\":\"y\",\"type\":\"scatter\"},{\"hovertemplate\":\"entity=nan\\u003cbr\\u003e0=%{x}\\u003cbr\\u003e1=%{y}\\u003cextra\\u003e\\u003c\\u002fextra\\u003e\",\"legendgroup\":\"nan\",\"marker\":{\"color\":\"#00cc96\",\"opacity\":1,\"symbol\":\"circle\"},\"mode\":\"markers\",\"name\":\"nan\",\"orientation\":\"v\",\"showlegend\":true,\"x\":[8.549324035644531,58.041046142578125,-14.299448013305664,-1.7304153442382812],\"xaxis\":\"x\",\"y\":[0.6741804480552673,-11.558000564575195,-23.90459442138672,14.899043083190918],\"yaxis\":\"y\",\"type\":\"scatter\"},{\"hovertemplate\":\"entity=ATRT\\u003cbr\\u003e0=%{x}\\u003cbr\\u003e1=%{y}\\u003cextra\\u003e\\u003c\\u002fextra\\u003e\",\"legendgroup\":\"ATRT\",\"marker\":{\"color\":\"#ab63fa\",\"opacity\":1,\"symbol\":\"circle\"},\"mode\":\"markers\",\"name\":\"ATRT\",\"orientation\":\"v\",\"showlegend\":true,\"x\":[-8.69546127319336],\"xaxis\":\"x\",\"y\":[53.577667236328125],\"yaxis\":\"y\",\"type\":\"scatter\"},{\"hovertemplate\":\"entity=SEGA\\u003cbr\\u003e0=%{x}\\u003cbr\\u003e1=%{y}\\u003cextra\\u003e\\u003c\\u002fextra\\u003e\",\"legendgroup\":\"SEGA\",\"marker\":{\"color\":\"#FFA15A\",\"opacity\":1,\"symbol\":\"circle\"},\"mode\":\"markers\",\"name\":\"SEGA\",\"orientation\":\"v\",\"showlegend\":true,\"x\":[-8.927163124084473],\"xaxis\":\"x\",\"y\":[53.26309585571289],\"yaxis\":\"y\",\"type\":\"scatter\"},{\"hovertemplate\":\"entity=RGNT\\u003cbr\\u003e0=%{x}\\u003cbr\\u003e1=%{y}\\u003cextra\\u003e\\u003c\\u002fextra\\u003e\",\"legendgroup\":\"RGNT\",\"marker\":{\"color\":\"#19d3f3\",\"opacity\":1,\"symbol\":\"circle\"},\"mode\":\"markers\",\"name\":\"RGNT\",\"orientation\":\"v\",\"showlegend\":true,\"x\":[41.135009765625],\"xaxis\":\"x\",\"y\":[67.15098571777344],\"yaxis\":\"y\",\"type\":\"scatter\"},{\"hovertemplate\":\"entity=EPENDYMOM\\u003cbr\\u003e0=%{x}\\u003cbr\\u003e1=%{y}\\u003cextra\\u003e\\u003c\\u002fextra\\u003e\",\"legendgroup\":\"EPENDYMOM\",\"marker\":{\"color\":\"#FF6692\",\"opacity\":1,\"symbol\":\"circle\"},\"mode\":\"markers\",\"name\":\"EPENDYMOM\",\"orientation\":\"v\",\"showlegend\":true,\"x\":[39.37531661987305],\"xaxis\":\"x\",\"y\":[9.06648063659668],\"yaxis\":\"y\",\"type\":\"scatter\"},{\"hovertemplate\":\"entity=DIGDIA\\u003cbr\\u003e0=%{x}\\u003cbr\\u003e1=%{y}\\u003cextra\\u003e\\u003c\\u002fextra\\u003e\",\"legendgroup\":\"DIGDIA\",\"marker\":{\"color\":\"#B6E880\",\"opacity\":1,\"symbol\":\"circle\"},\"mode\":\"markers\",\"name\":\"DIGDIA\",\"orientation\":\"v\",\"showlegend\":true,\"x\":[-27.86428451538086,8.137258529663086],\"xaxis\":\"x\",\"y\":[-5.738028526306152,1.0917363166809082],\"yaxis\":\"y\",\"type\":\"scatter\"},{\"hovertemplate\":\"entity=LGG_NOS\\u003cbr\\u003e0=%{x}\\u003cbr\\u003e1=%{y}\\u003cextra\\u003e\\u003c\\u002fextra\\u003e\",\"legendgroup\":\"LGG_NOS\",\"marker\":{\"color\":\"#FF97FF\",\"opacity\":1,\"symbol\":\"circle\"},\"mode\":\"markers\",\"name\":\"LGG_NOS\",\"orientation\":\"v\",\"showlegend\":true,\"x\":[59.434146881103516,59.71862030029297,70.48731231689453,59.392635345458984,23.190641403198242,-17.23752212524414,39.93091583251953,39.63447570800781],\"xaxis\":\"x\",\"y\":[-12.32059383392334,-11.648951530456543,30.702932357788086,-12.603498458862305,38.006900787353516,-0.5451969504356384,8.50039291381836,8.795588493347168],\"yaxis\":\"y\",\"type\":\"scatter\"},{\"hovertemplate\":\"entity=PLNTY\\u003cbr\\u003e0=%{x}\\u003cbr\\u003e1=%{y}\\u003cextra\\u003e\\u003c\\u002fextra\\u003e\",\"legendgroup\":\"PLNTY\",\"marker\":{\"color\":\"#FECB52\",\"opacity\":1,\"symbol\":\"circle\"},\"mode\":\"markers\",\"name\":\"PLNTY\",\"orientation\":\"v\",\"showlegend\":true,\"x\":[7.909496784210205],\"xaxis\":\"x\",\"y\":[29.797454833984375],\"yaxis\":\"y\",\"type\":\"scatter\"},{\"hovertemplate\":\"entity=DLGNT\\u003cbr\\u003e0=%{x}\\u003cbr\\u003e1=%{y}\\u003cextra\\u003e\\u003c\\u002fextra\\u003e\",\"legendgroup\":\"DLGNT\",\"marker\":{\"color\":\"#636efa\",\"opacity\":1,\"symbol\":\"circle\"},\"mode\":\"markers\",\"name\":\"DLGNT\",\"orientation\":\"v\",\"showlegend\":true,\"x\":[59.89374923706055],\"xaxis\":\"x\",\"y\":[-12.309798240661621],\"yaxis\":\"y\",\"type\":\"scatter\"},{\"hovertemplate\":\"entity=GG\\u003cbr\\u003e0=%{x}\\u003cbr\\u003e1=%{y}\\u003cextra\\u003e\\u003c\\u002fextra\\u003e\",\"legendgroup\":\"GG\",\"marker\":{\"color\":\"#EF553B\",\"opacity\":1,\"symbol\":\"circle\"},\"mode\":\"markers\",\"name\":\"GG\",\"orientation\":\"v\",\"showlegend\":true,\"x\":[60.23054885864258,70.27963256835938,-10.25328254699707,-1.7474652528762817,39.146766662597656],\"xaxis\":\"x\",\"y\":[-13.021224975585938,30.910682678222656,40.4683837890625,1.241922378540039,9.306265830993652],\"yaxis\":\"y\",\"type\":\"scatter\"},{\"hovertemplate\":\"entity=MEDULLO_WNT\\u003cbr\\u003e0=%{x}\\u003cbr\\u003e1=%{y}\\u003cextra\\u003e\\u003c\\u002fextra\\u003e\",\"legendgroup\":\"MEDULLO_WNT\",\"marker\":{\"color\":\"#00cc96\",\"opacity\":1,\"symbol\":\"circle\"},\"mode\":\"markers\",\"name\":\"MEDULLO_WNT\",\"orientation\":\"v\",\"showlegend\":true,\"x\":[-1.4300251007080078],\"xaxis\":\"x\",\"y\":[14.601672172546387],\"yaxis\":\"y\",\"type\":\"scatter\"},{\"hovertemplate\":\"entity=GLIOM_NOS\\u003cbr\\u003e0=%{x}\\u003cbr\\u003e1=%{y}\\u003cextra\\u003e\\u003c\\u002fextra\\u003e\",\"legendgroup\":\"GLIOM_NOS\",\"marker\":{\"color\":\"#ab63fa\",\"opacity\":1,\"symbol\":\"circle\"},\"mode\":\"markers\",\"name\":\"GLIOM_NOS\",\"orientation\":\"v\",\"showlegend\":true,\"x\":[22.880746841430664],\"xaxis\":\"x\",\"y\":[38.36894226074219],\"yaxis\":\"y\",\"type\":\"scatter\"},{\"hovertemplate\":\"entity=G34\\u003cbr\\u003e0=%{x}\\u003cbr\\u003e1=%{y}\\u003cextra\\u003e\\u003c\\u002fextra\\u003e\",\"legendgroup\":\"G34\",\"marker\":{\"color\":\"#FFA15A\",\"opacity\":1,\"symbol\":\"circle\"},\"mode\":\"markers\",\"name\":\"G34\",\"orientation\":\"v\",\"showlegend\":true,\"x\":[-10.037251472473145],\"xaxis\":\"x\",\"y\":[40.251739501953125],\"yaxis\":\"y\",\"type\":\"scatter\"},{\"hovertemplate\":\"entity=ETMR\\u003cbr\\u003e0=%{x}\\u003cbr\\u003e1=%{y}\\u003cextra\\u003e\\u003c\\u002fextra\\u003e\",\"legendgroup\":\"ETMR\",\"marker\":{\"color\":\"#19d3f3\",\"opacity\":1,\"symbol\":\"circle\"},\"mode\":\"markers\",\"name\":\"ETMR\",\"orientation\":\"v\",\"showlegend\":true,\"x\":[22.591358184814453],\"xaxis\":\"x\",\"y\":[38.13050842285156],\"yaxis\":\"y\",\"type\":\"scatter\"},{\"hovertemplate\":\"entity=ASTRO_LOW\\u003cbr\\u003e0=%{x}\\u003cbr\\u003e1=%{y}\\u003cextra\\u003e\\u003c\\u002fextra\\u003e\",\"legendgroup\":\"ASTRO_LOW\",\"marker\":{\"color\":\"#FF6692\",\"opacity\":1,\"symbol\":\"circle\"},\"mode\":\"markers\",\"name\":\"ASTRO_LOW\",\"orientation\":\"v\",\"showlegend\":true,\"x\":[22.78879737854004],\"xaxis\":\"x\",\"y\":[38.84382247924805],\"yaxis\":\"y\",\"type\":\"scatter\"},{\"hovertemplate\":\"entity=DNT\\u003cbr\\u003e0=%{x}\\u003cbr\\u003e1=%{y}\\u003cextra\\u003e\\u003c\\u002fextra\\u003e\",\"legendgroup\":\"DNT\",\"marker\":{\"color\":\"#B6E880\",\"opacity\":1,\"symbol\":\"circle\"},\"mode\":\"markers\",\"name\":\"DNT\",\"orientation\":\"v\",\"showlegend\":true,\"x\":[-16.816871643066406],\"xaxis\":\"x\",\"y\":[-0.12423427402973175],\"yaxis\":\"y\",\"type\":\"scatter\"},{\"hovertemplate\":\"entity=DIFFUSES_ASTRO_MYB\\u002fMYBL1\\u003cbr\\u003e0=%{x}\\u003cbr\\u003e1=%{y}\\u003cextra\\u003e\\u003c\\u002fextra\\u003e\",\"legendgroup\":\"DIFFUSES_ASTRO_MYB\\u002fMYBL1\",\"marker\":{\"color\":\"#FF97FF\",\"opacity\":1,\"symbol\":\"circle\"},\"mode\":\"markers\",\"name\":\"DIFFUSES_ASTRO_MYB\\u002fMYBL1\",\"orientation\":\"v\",\"showlegend\":true,\"x\":[41.0095329284668],\"xaxis\":\"x\",\"y\":[67.02548217773438],\"yaxis\":\"y\",\"type\":\"scatter\"}],                        {\"template\":{\"data\":{\"histogram2dcontour\":[{\"type\":\"histogram2dcontour\",\"colorbar\":{\"outlinewidth\":0,\"ticks\":\"\"},\"colorscale\":[[0.0,\"#0d0887\"],[0.1111111111111111,\"#46039f\"],[0.2222222222222222,\"#7201a8\"],[0.3333333333333333,\"#9c179e\"],[0.4444444444444444,\"#bd3786\"],[0.5555555555555556,\"#d8576b\"],[0.6666666666666666,\"#ed7953\"],[0.7777777777777778,\"#fb9f3a\"],[0.8888888888888888,\"#fdca26\"],[1.0,\"#f0f921\"]]}],\"choropleth\":[{\"type\":\"choropleth\",\"colorbar\":{\"outlinewidth\":0,\"ticks\":\"\"}}],\"histogram2d\":[{\"type\":\"histogram2d\",\"colorbar\":{\"outlinewidth\":0,\"ticks\":\"\"},\"colorscale\":[[0.0,\"#0d0887\"],[0.1111111111111111,\"#46039f\"],[0.2222222222222222,\"#7201a8\"],[0.3333333333333333,\"#9c179e\"],[0.4444444444444444,\"#bd3786\"],[0.5555555555555556,\"#d8576b\"],[0.6666666666666666,\"#ed7953\"],[0.7777777777777778,\"#fb9f3a\"],[0.8888888888888888,\"#fdca26\"],[1.0,\"#f0f921\"]]}],\"heatmap\":[{\"type\":\"heatmap\",\"colorbar\":{\"outlinewidth\":0,\"ticks\":\"\"},\"colorscale\":[[0.0,\"#0d0887\"],[0.1111111111111111,\"#46039f\"],[0.2222222222222222,\"#7201a8\"],[0.3333333333333333,\"#9c179e\"],[0.4444444444444444,\"#bd3786\"],[0.5555555555555556,\"#d8576b\"],[0.6666666666666666,\"#ed7953\"],[0.7777777777777778,\"#fb9f3a\"],[0.8888888888888888,\"#fdca26\"],[1.0,\"#f0f921\"]]}],\"heatmapgl\":[{\"type\":\"heatmapgl\",\"colorbar\":{\"outlinewidth\":0,\"ticks\":\"\"},\"colorscale\":[[0.0,\"#0d0887\"],[0.1111111111111111,\"#46039f\"],[0.2222222222222222,\"#7201a8\"],[0.3333333333333333,\"#9c179e\"],[0.4444444444444444,\"#bd3786\"],[0.5555555555555556,\"#d8576b\"],[0.6666666666666666,\"#ed7953\"],[0.7777777777777778,\"#fb9f3a\"],[0.8888888888888888,\"#fdca26\"],[1.0,\"#f0f921\"]]}],\"contourcarpet\":[{\"type\":\"contourcarpet\",\"colorbar\":{\"outlinewidth\":0,\"ticks\":\"\"}}],\"contour\":[{\"type\":\"contour\",\"colorbar\":{\"outlinewidth\":0,\"ticks\":\"\"},\"colorscale\":[[0.0,\"#0d0887\"],[0.1111111111111111,\"#46039f\"],[0.2222222222222222,\"#7201a8\"],[0.3333333333333333,\"#9c179e\"],[0.4444444444444444,\"#bd3786\"],[0.5555555555555556,\"#d8576b\"],[0.6666666666666666,\"#ed7953\"],[0.7777777777777778,\"#fb9f3a\"],[0.8888888888888888,\"#fdca26\"],[1.0,\"#f0f921\"]]}],\"surface\":[{\"type\":\"surface\",\"colorbar\":{\"outlinewidth\":0,\"ticks\":\"\"},\"colorscale\":[[0.0,\"#0d0887\"],[0.1111111111111111,\"#46039f\"],[0.2222222222222222,\"#7201a8\"],[0.3333333333333333,\"#9c179e\"],[0.4444444444444444,\"#bd3786\"],[0.5555555555555556,\"#d8576b\"],[0.6666666666666666,\"#ed7953\"],[0.7777777777777778,\"#fb9f3a\"],[0.8888888888888888,\"#fdca26\"],[1.0,\"#f0f921\"]]}],\"mesh3d\":[{\"type\":\"mesh3d\",\"colorbar\":{\"outlinewidth\":0,\"ticks\":\"\"}}],\"scatter\":[{\"fillpattern\":{\"fillmode\":\"overlay\",\"size\":10,\"solidity\":0.2},\"type\":\"scatter\"}],\"parcoords\":[{\"type\":\"parcoords\",\"line\":{\"colorbar\":{\"outlinewidth\":0,\"ticks\":\"\"}}}],\"scatterpolargl\":[{\"type\":\"scatterpolargl\",\"marker\":{\"colorbar\":{\"outlinewidth\":0,\"ticks\":\"\"}}}],\"bar\":[{\"error_x\":{\"color\":\"#2a3f5f\"},\"error_y\":{\"color\":\"#2a3f5f\"},\"marker\":{\"line\":{\"color\":\"#E5ECF6\",\"width\":0.5},\"pattern\":{\"fillmode\":\"overlay\",\"size\":10,\"solidity\":0.2}},\"type\":\"bar\"}],\"scattergeo\":[{\"type\":\"scattergeo\",\"marker\":{\"colorbar\":{\"outlinewidth\":0,\"ticks\":\"\"}}}],\"scatterpolar\":[{\"type\":\"scatterpolar\",\"marker\":{\"colorbar\":{\"outlinewidth\":0,\"ticks\":\"\"}}}],\"histogram\":[{\"marker\":{\"pattern\":{\"fillmode\":\"overlay\",\"size\":10,\"solidity\":0.2}},\"type\":\"histogram\"}],\"scattergl\":[{\"type\":\"scattergl\",\"marker\":{\"colorbar\":{\"outlinewidth\":0,\"ticks\":\"\"}}}],\"scatter3d\":[{\"type\":\"scatter3d\",\"line\":{\"colorbar\":{\"outlinewidth\":0,\"ticks\":\"\"}},\"marker\":{\"colorbar\":{\"outlinewidth\":0,\"ticks\":\"\"}}}],\"scattermapbox\":[{\"type\":\"scattermapbox\",\"marker\":{\"colorbar\":{\"outlinewidth\":0,\"ticks\":\"\"}}}],\"scatterternary\":[{\"type\":\"scatterternary\",\"marker\":{\"colorbar\":{\"outlinewidth\":0,\"ticks\":\"\"}}}],\"scattercarpet\":[{\"type\":\"scattercarpet\",\"marker\":{\"colorbar\":{\"outlinewidth\":0,\"ticks\":\"\"}}}],\"carpet\":[{\"aaxis\":{\"endlinecolor\":\"#2a3f5f\",\"gridcolor\":\"white\",\"linecolor\":\"white\",\"minorgridcolor\":\"white\",\"startlinecolor\":\"#2a3f5f\"},\"baxis\":{\"endlinecolor\":\"#2a3f5f\",\"gridcolor\":\"white\",\"linecolor\":\"white\",\"minorgridcolor\":\"white\",\"startlinecolor\":\"#2a3f5f\"},\"type\":\"carpet\"}],\"table\":[{\"cells\":{\"fill\":{\"color\":\"#EBF0F8\"},\"line\":{\"color\":\"white\"}},\"header\":{\"fill\":{\"color\":\"#C8D4E3\"},\"line\":{\"color\":\"white\"}},\"type\":\"table\"}],\"barpolar\":[{\"marker\":{\"line\":{\"color\":\"#E5ECF6\",\"width\":0.5},\"pattern\":{\"fillmode\":\"overlay\",\"size\":10,\"solidity\":0.2}},\"type\":\"barpolar\"}],\"pie\":[{\"automargin\":true,\"type\":\"pie\"}]},\"layout\":{\"autotypenumbers\":\"strict\",\"colorway\":[\"#636efa\",\"#EF553B\",\"#00cc96\",\"#ab63fa\",\"#FFA15A\",\"#19d3f3\",\"#FF6692\",\"#B6E880\",\"#FF97FF\",\"#FECB52\"],\"font\":{\"color\":\"#2a3f5f\"},\"hovermode\":\"closest\",\"hoverlabel\":{\"align\":\"left\"},\"paper_bgcolor\":\"white\",\"plot_bgcolor\":\"#E5ECF6\",\"polar\":{\"bgcolor\":\"#E5ECF6\",\"angularaxis\":{\"gridcolor\":\"white\",\"linecolor\":\"white\",\"ticks\":\"\"},\"radialaxis\":{\"gridcolor\":\"white\",\"linecolor\":\"white\",\"ticks\":\"\"}},\"ternary\":{\"bgcolor\":\"#E5ECF6\",\"aaxis\":{\"gridcolor\":\"white\",\"linecolor\":\"white\",\"ticks\":\"\"},\"baxis\":{\"gridcolor\":\"white\",\"linecolor\":\"white\",\"ticks\":\"\"},\"caxis\":{\"gridcolor\":\"white\",\"linecolor\":\"white\",\"ticks\":\"\"}},\"coloraxis\":{\"colorbar\":{\"outlinewidth\":0,\"ticks\":\"\"}},\"colorscale\":{\"sequential\":[[0.0,\"#0d0887\"],[0.1111111111111111,\"#46039f\"],[0.2222222222222222,\"#7201a8\"],[0.3333333333333333,\"#9c179e\"],[0.4444444444444444,\"#bd3786\"],[0.5555555555555556,\"#d8576b\"],[0.6666666666666666,\"#ed7953\"],[0.7777777777777778,\"#fb9f3a\"],[0.8888888888888888,\"#fdca26\"],[1.0,\"#f0f921\"]],\"sequentialminus\":[[0.0,\"#0d0887\"],[0.1111111111111111,\"#46039f\"],[0.2222222222222222,\"#7201a8\"],[0.3333333333333333,\"#9c179e\"],[0.4444444444444444,\"#bd3786\"],[0.5555555555555556,\"#d8576b\"],[0.6666666666666666,\"#ed7953\"],[0.7777777777777778,\"#fb9f3a\"],[0.8888888888888888,\"#fdca26\"],[1.0,\"#f0f921\"]],\"diverging\":[[0,\"#8e0152\"],[0.1,\"#c51b7d\"],[0.2,\"#de77ae\"],[0.3,\"#f1b6da\"],[0.4,\"#fde0ef\"],[0.5,\"#f7f7f7\"],[0.6,\"#e6f5d0\"],[0.7,\"#b8e186\"],[0.8,\"#7fbc41\"],[0.9,\"#4d9221\"],[1,\"#276419\"]]},\"xaxis\":{\"gridcolor\":\"white\",\"linecolor\":\"white\",\"ticks\":\"\",\"title\":{\"standoff\":15},\"zerolinecolor\":\"white\",\"automargin\":true,\"zerolinewidth\":2},\"yaxis\":{\"gridcolor\":\"white\",\"linecolor\":\"white\",\"ticks\":\"\",\"title\":{\"standoff\":15},\"zerolinecolor\":\"white\",\"automargin\":true,\"zerolinewidth\":2},\"scene\":{\"xaxis\":{\"backgroundcolor\":\"#E5ECF6\",\"gridcolor\":\"white\",\"linecolor\":\"white\",\"showbackground\":true,\"ticks\":\"\",\"zerolinecolor\":\"white\",\"gridwidth\":2},\"yaxis\":{\"backgroundcolor\":\"#E5ECF6\",\"gridcolor\":\"white\",\"linecolor\":\"white\",\"showbackground\":true,\"ticks\":\"\",\"zerolinecolor\":\"white\",\"gridwidth\":2},\"zaxis\":{\"backgroundcolor\":\"#E5ECF6\",\"gridcolor\":\"white\",\"linecolor\":\"white\",\"showbackground\":true,\"ticks\":\"\",\"zerolinecolor\":\"white\",\"gridwidth\":2}},\"shapedefaults\":{\"line\":{\"color\":\"#2a3f5f\"}},\"annotationdefaults\":{\"arrowcolor\":\"#2a3f5f\",\"arrowhead\":0,\"arrowwidth\":1},\"geo\":{\"bgcolor\":\"white\",\"landcolor\":\"#E5ECF6\",\"subunitcolor\":\"white\",\"showland\":true,\"showlakes\":true,\"lakecolor\":\"white\"},\"title\":{\"x\":0.05},\"mapbox\":{\"style\":\"light\"}}},\"xaxis\":{\"anchor\":\"y\",\"domain\":[0.0,1.0],\"title\":{\"text\":\"0\"}},\"yaxis\":{\"anchor\":\"x\",\"domain\":[0.0,1.0],\"title\":{\"text\":\"1\"}},\"legend\":{\"title\":{\"text\":\"entity\"},\"tracegroupgap\":0},\"title\":{\"text\":\"PCA components = 5, n_neighbors = 2, n_cases = 62, fold_change_threshold = 0.2\"},\"width\":1200,\"height\":800},                        {\"responsive\": true}                    ).then(function(){\n",
       "                            \n",
       "var gd = document.getElementById('9c5a428a-fec8-471d-b44b-aa69800790b2');\n",
       "var x = new MutationObserver(function (mutations, observer) {{\n",
       "        var display = window.getComputedStyle(gd).display;\n",
       "        if (!display || display === 'none') {{\n",
       "            console.log([gd, 'removed!']);\n",
       "            Plotly.purge(gd);\n",
       "            observer.disconnect();\n",
       "        }}\n",
       "}});\n",
       "\n",
       "// Listen for the removal of the full notebook cells\n",
       "var notebookContainer = gd.closest('#notebook-container');\n",
       "if (notebookContainer) {{\n",
       "    x.observe(notebookContainer, {childList: true});\n",
       "}}\n",
       "\n",
       "// Listen for the clearing of the current output cell\n",
       "var outputEl = gd.closest('.output');\n",
       "if (outputEl) {{\n",
       "    x.observe(outputEl, {childList: true});\n",
       "}}\n",
       "\n",
       "                        })                };                });            </script>        </div>"
      ]
     },
     "metadata": {},
     "output_type": "display_data"
    }
   ],
   "source": [
    "\n",
    "PRINCIPAL_COMPONENTS = 5\n",
    "N_NEIGHBORS = 2\n",
    "\n",
    "\n",
    "# make targets and scale the data\n",
    "x = df.loc[:,features].values\n",
    "y_entity = df.loc[:,\"entity\"].values\n",
    "y_id = df.loc[:,\"ID\"].values\n",
    "# x = StandardScaler().fit_transform(x)\n",
    "\n",
    "\n",
    "pca_denoize = PCA(n_components=PRINCIPAL_COMPONENTS)\n",
    "denoize = pca_denoize.fit_transform(x)\n",
    "print(denoize.shape)\n",
    "\n",
    "umap_2d = UMAP(n_neighbors=N_NEIGHBORS,n_epochs=5000,random_state=1,spread=2.5,min_dist=0.5,init=\"random\")\n",
    "umap_2d.fit(denoize)\n",
    "\n",
    "projections = umap_2d.transform(denoize)\n",
    "\n",
    "fig = px.scatter(\n",
    "    projections, x=0, y=1,\n",
    "    title= f'PCA components = {PRINCIPAL_COMPONENTS}, n_neighbors = {N_NEIGHBORS}, n_cases = {df.shape[0]}, fold_change_threshold = {AMPLITUDE_THRESHOLD}' ,\n",
    "    color=y_entity.astype(str), labels={'color': 'entity'},\n",
    "    opacity=1\n",
    ")\n",
    "\n",
    "fig.update_layout(width=1200, height=800)\n",
    "\n",
    "# fig2 = px.scatter(\n",
    "#     projections, x=0, y=1,\n",
    "#     title= f'PCA components = {PRINCIPAL_COMPONENTS}, n_neighbors = {N_NEIGHBORS}, n_cases = {df.shape[0]}',\n",
    "#     color=y_id.astype(str), labels={'color': 'entity'},\n",
    "#     opacity=1\n",
    "# )\n",
    "\n",
    "# fig2.update_layout(width=1200, height=800)\n",
    "\n",
    "# fig.show()\n",
    "# fig2.show()"
   ]
  },
  {
   "cell_type": "code",
   "execution_count": null,
   "id": "75080adb-4ad3-4081-8ac9-f8aa124535db",
   "metadata": {},
   "outputs": [],
   "source": []
  }
 ],
 "metadata": {
  "kernelspec": {
   "display_name": "Python 3 (ipykernel)",
   "language": "python",
   "name": "python3"
  },
  "language_info": {
   "codemirror_mode": {
    "name": "ipython",
    "version": 3
   },
   "file_extension": ".py",
   "mimetype": "text/x-python",
   "name": "python",
   "nbconvert_exporter": "python",
   "pygments_lexer": "ipython3",
   "version": "3.11.4"
  }
 },
 "nbformat": 4,
 "nbformat_minor": 5
}
