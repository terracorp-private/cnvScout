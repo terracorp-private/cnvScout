{
 "cells": [
  {
   "cell_type": "code",
   "execution_count": 2,
   "id": "e78795a5-9c86-4c63-b27b-fc8e2e0d0c5c",
   "metadata": {
    "tags": []
   },
   "outputs": [
    {
     "data": {
      "text/html": [
       "<div>\n",
       "<style scoped>\n",
       "    .dataframe tbody tr th:only-of-type {\n",
       "        vertical-align: middle;\n",
       "    }\n",
       "\n",
       "    .dataframe tbody tr th {\n",
       "        vertical-align: top;\n",
       "    }\n",
       "\n",
       "    .dataframe thead th {\n",
       "        text-align: right;\n",
       "    }\n",
       "</style>\n",
       "<table border=\"1\" class=\"dataframe\">\n",
       "  <thead>\n",
       "    <tr style=\"text-align: right;\">\n",
       "      <th></th>\n",
       "      <th>1-0</th>\n",
       "      <th>1-100000</th>\n",
       "      <th>1-500000</th>\n",
       "      <th>1-700000</th>\n",
       "      <th>1-800000</th>\n",
       "      <th>1-900000</th>\n",
       "      <th>1-1000000</th>\n",
       "      <th>1-1100000</th>\n",
       "      <th>1-1200000</th>\n",
       "      <th>1-1300000</th>\n",
       "      <th>...</th>\n",
       "      <th>22-50500000</th>\n",
       "      <th>22-50600000</th>\n",
       "      <th>22-50700000</th>\n",
       "      <th>22-50800000</th>\n",
       "      <th>22-50900000</th>\n",
       "      <th>22-51000000</th>\n",
       "      <th>22-51100000</th>\n",
       "      <th>22-51200000</th>\n",
       "      <th>ID</th>\n",
       "      <th>entity</th>\n",
       "    </tr>\n",
       "  </thead>\n",
       "  <tbody>\n",
       "    <tr>\n",
       "      <th>0</th>\n",
       "      <td>1.0</td>\n",
       "      <td>1.0</td>\n",
       "      <td>1.0</td>\n",
       "      <td>1.0</td>\n",
       "      <td>1.0</td>\n",
       "      <td>1.0</td>\n",
       "      <td>1.0</td>\n",
       "      <td>1.0</td>\n",
       "      <td>1.0</td>\n",
       "      <td>1.0</td>\n",
       "      <td>...</td>\n",
       "      <td>1.0</td>\n",
       "      <td>1.0</td>\n",
       "      <td>1.0</td>\n",
       "      <td>1.0</td>\n",
       "      <td>1.0</td>\n",
       "      <td>1.0</td>\n",
       "      <td>1.0</td>\n",
       "      <td>1.0</td>\n",
       "      <td>266896</td>\n",
       "      <td>K27</td>\n",
       "    </tr>\n",
       "    <tr>\n",
       "      <th>1</th>\n",
       "      <td>1.0</td>\n",
       "      <td>1.0</td>\n",
       "      <td>1.0</td>\n",
       "      <td>1.0</td>\n",
       "      <td>1.0</td>\n",
       "      <td>1.0</td>\n",
       "      <td>1.0</td>\n",
       "      <td>1.0</td>\n",
       "      <td>1.0</td>\n",
       "      <td>1.0</td>\n",
       "      <td>...</td>\n",
       "      <td>1.0</td>\n",
       "      <td>1.0</td>\n",
       "      <td>1.0</td>\n",
       "      <td>1.0</td>\n",
       "      <td>1.0</td>\n",
       "      <td>1.0</td>\n",
       "      <td>1.0</td>\n",
       "      <td>1.0</td>\n",
       "      <td>334684</td>\n",
       "      <td>MEDULLO_SHH</td>\n",
       "    </tr>\n",
       "    <tr>\n",
       "      <th>2</th>\n",
       "      <td>1.0</td>\n",
       "      <td>1.0</td>\n",
       "      <td>1.0</td>\n",
       "      <td>1.0</td>\n",
       "      <td>1.0</td>\n",
       "      <td>1.0</td>\n",
       "      <td>1.0</td>\n",
       "      <td>1.0</td>\n",
       "      <td>1.0</td>\n",
       "      <td>1.0</td>\n",
       "      <td>...</td>\n",
       "      <td>1.0</td>\n",
       "      <td>1.0</td>\n",
       "      <td>1.0</td>\n",
       "      <td>1.0</td>\n",
       "      <td>1.0</td>\n",
       "      <td>1.0</td>\n",
       "      <td>1.0</td>\n",
       "      <td>1.0</td>\n",
       "      <td>334644</td>\n",
       "      <td>PITUIZYTOM</td>\n",
       "    </tr>\n",
       "    <tr>\n",
       "      <th>3</th>\n",
       "      <td>0.0</td>\n",
       "      <td>0.0</td>\n",
       "      <td>0.0</td>\n",
       "      <td>0.0</td>\n",
       "      <td>0.0</td>\n",
       "      <td>0.0</td>\n",
       "      <td>0.0</td>\n",
       "      <td>0.0</td>\n",
       "      <td>0.0</td>\n",
       "      <td>0.0</td>\n",
       "      <td>...</td>\n",
       "      <td>0.0</td>\n",
       "      <td>0.0</td>\n",
       "      <td>0.0</td>\n",
       "      <td>0.0</td>\n",
       "      <td>0.0</td>\n",
       "      <td>0.0</td>\n",
       "      <td>0.0</td>\n",
       "      <td>0.0</td>\n",
       "      <td>333386</td>\n",
       "      <td>DIFF_HOCH_GLIOM_PEDIATRISCH</td>\n",
       "    </tr>\n",
       "    <tr>\n",
       "      <th>4</th>\n",
       "      <td>1.0</td>\n",
       "      <td>1.0</td>\n",
       "      <td>1.0</td>\n",
       "      <td>1.0</td>\n",
       "      <td>1.0</td>\n",
       "      <td>1.0</td>\n",
       "      <td>1.0</td>\n",
       "      <td>1.0</td>\n",
       "      <td>1.0</td>\n",
       "      <td>1.0</td>\n",
       "      <td>...</td>\n",
       "      <td>1.0</td>\n",
       "      <td>1.0</td>\n",
       "      <td>1.0</td>\n",
       "      <td>1.0</td>\n",
       "      <td>1.0</td>\n",
       "      <td>1.0</td>\n",
       "      <td>1.0</td>\n",
       "      <td>1.0</td>\n",
       "      <td>334434</td>\n",
       "      <td>GBM</td>\n",
       "    </tr>\n",
       "  </tbody>\n",
       "</table>\n",
       "<p>5 rows × 26812 columns</p>\n",
       "</div>"
      ],
      "text/plain": [
       "   1-0  1-100000  1-500000  1-700000  1-800000  1-900000  1-1000000  \\\n",
       "0  1.0       1.0       1.0       1.0       1.0       1.0        1.0   \n",
       "1  1.0       1.0       1.0       1.0       1.0       1.0        1.0   \n",
       "2  1.0       1.0       1.0       1.0       1.0       1.0        1.0   \n",
       "3  0.0       0.0       0.0       0.0       0.0       0.0        0.0   \n",
       "4  1.0       1.0       1.0       1.0       1.0       1.0        1.0   \n",
       "\n",
       "   1-1100000  1-1200000  1-1300000  ...  22-50500000  22-50600000  \\\n",
       "0        1.0        1.0        1.0  ...          1.0          1.0   \n",
       "1        1.0        1.0        1.0  ...          1.0          1.0   \n",
       "2        1.0        1.0        1.0  ...          1.0          1.0   \n",
       "3        0.0        0.0        0.0  ...          0.0          0.0   \n",
       "4        1.0        1.0        1.0  ...          1.0          1.0   \n",
       "\n",
       "   22-50700000  22-50800000  22-50900000  22-51000000  22-51100000  \\\n",
       "0          1.0          1.0          1.0          1.0          1.0   \n",
       "1          1.0          1.0          1.0          1.0          1.0   \n",
       "2          1.0          1.0          1.0          1.0          1.0   \n",
       "3          0.0          0.0          0.0          0.0          0.0   \n",
       "4          1.0          1.0          1.0          1.0          1.0   \n",
       "\n",
       "   22-51200000      ID                       entity  \n",
       "0          1.0  266896                          K27  \n",
       "1          1.0  334684                  MEDULLO_SHH  \n",
       "2          1.0  334644                   PITUIZYTOM  \n",
       "3          0.0  333386  DIFF_HOCH_GLIOM_PEDIATRISCH  \n",
       "4          1.0  334434                          GBM  \n",
       "\n",
       "[5 rows x 26812 columns]"
      ]
     },
     "execution_count": 2,
     "metadata": {},
     "output_type": "execute_result"
    }
   ],
   "source": [
    "import pandas as pd\n",
    "import numpy as np\n",
    "\n",
    "import plotly.express as px\n",
    "from umap import UMAP\n",
    "from sklearn.preprocessing import StandardScaler\n",
    "from sklearn.decomposition import PCA\n",
    "\n",
    "AMPLITUDE_THRESHOLD = 0.2\n",
    "\n",
    "\n",
    "df = pd.read_csv(\"/home/alpha/programs/python_files/datasets/cnv_and_mut/entitiesWES.csv\")\n",
    "\n",
    "# some samples have more columns, filter them out and drop all samples from 450k. Usually theier ID begins with 9 or 3\n",
    "# df = df.dropna(axis=1)\n",
    "df = df.drop(columns=[\"Unnamed: 0\"])\n",
    "\n",
    "\n",
    "# Make it amplitude agnostic (experimental) \n",
    "# comment out the lines with AMPLITUDE_THRESHOLD\n",
    "y = df[[\"entity\",\"sample\"]]\n",
    "df = df.drop(columns=[\"entity\",\"sample\"])\n",
    "df = df.dropna(axis=1)\n",
    "\n",
    "## CUSTOM PREPROCESSING\n",
    "df = 2*((df-df.min())/(df.max()-df.min()))-1\n",
    "df = (df-df.mean())/df.std()\n",
    "df[df < -AMPLITUDE_THRESHOLD] = -1\n",
    "df[df > AMPLITUDE_THRESHOLD] = 1\n",
    "df[(df <= AMPLITUDE_THRESHOLD) & (df >= -AMPLITUDE_THRESHOLD)] = 0\n",
    "df.drop(columns=df.columns[(df == 0.0).all()])\n",
    "cols_with_zero = []\n",
    "\n",
    "\n",
    "# print(df)\n",
    "# for i in df.columns.to_list():\n",
    "#     print(i)\n",
    "#     if i.sum() == 0:\n",
    "#         df = df.drop(i)\n",
    "\n",
    "df[\"ID\"] = y[\"sample\"]\n",
    "df[\"entity\"] = y[\"entity\"]\n",
    "\n",
    "\n",
    "\n",
    "\n",
    "# make features\n",
    "features = df.columns.tolist()\n",
    "features.remove(\"entity\")\n",
    "features.remove(\"ID\")\n",
    "\n",
    "df.head()"
   ]
  },
  {
   "cell_type": "markdown",
   "id": "b68accec-2346-4833-91b8-07986eb5eeb0",
   "metadata": {},
   "source": [
    "## Make PCA and UMAP\n",
    "\n",
    "### Einstellungen, welche gut funktioniert haben\n",
    "\n",
    "- PRINCIPAL_COMPONENTS = 5 N_NEIGHBORS = 15 (standardScaler, no custom preprocessing) \n",
    "- \n"
   ]
  },
  {
   "cell_type": "code",
   "execution_count": 10,
   "id": "f0756a9e-b3a7-4521-a175-0b74999de9ff",
   "metadata": {},
   "outputs": [
    {
     "name": "stdout",
     "output_type": "stream",
     "text": [
      "(62, 5)\n"
     ]
    },
    {
     "data": {
      "application/vnd.plotly.v1+json": {
       "config": {
        "plotlyServerURL": "https://plot.ly"
       },
       "data": [
        {
         "hovertemplate": "entity=K27<br>0=%{x}<br>1=%{y}<extra></extra>",
         "legendgroup": "K27",
         "marker": {
          "color": "#636efa",
          "opacity": 1,
          "symbol": "circle"
         },
         "mode": "markers",
         "name": "K27",
         "orientation": "v",
         "showlegend": true,
         "type": "scatter",
         "x": [
          -16.144752502441406
         ],
         "xaxis": "x",
         "y": [
          35.6441764831543
         ],
         "yaxis": "y"
        },
        {
         "hovertemplate": "entity=MEDULLO_SHH<br>0=%{x}<br>1=%{y}<extra></extra>",
         "legendgroup": "MEDULLO_SHH",
         "marker": {
          "color": "#EF553B",
          "opacity": 1,
          "symbol": "circle"
         },
         "mode": "markers",
         "name": "MEDULLO_SHH",
         "orientation": "v",
         "showlegend": true,
         "type": "scatter",
         "x": [
          -16.414257049560547
         ],
         "xaxis": "x",
         "y": [
          35.335323333740234
         ],
         "yaxis": "y"
        },
        {
         "hovertemplate": "entity=PITUIZYTOM<br>0=%{x}<br>1=%{y}<extra></extra>",
         "legendgroup": "PITUIZYTOM",
         "marker": {
          "color": "#00cc96",
          "opacity": 1,
          "symbol": "circle"
         },
         "mode": "markers",
         "name": "PITUIZYTOM",
         "orientation": "v",
         "showlegend": true,
         "type": "scatter",
         "x": [
          -30.229650497436523
         ],
         "xaxis": "x",
         "y": [
          -10.012982368469238
         ],
         "yaxis": "y"
        },
        {
         "hovertemplate": "entity=DIFF_HOCH_GLIOM_PEDIATRISCH<br>0=%{x}<br>1=%{y}<extra></extra>",
         "legendgroup": "DIFF_HOCH_GLIOM_PEDIATRISCH",
         "marker": {
          "color": "#ab63fa",
          "opacity": 1,
          "symbol": "circle"
         },
         "mode": "markers",
         "name": "DIFF_HOCH_GLIOM_PEDIATRISCH",
         "orientation": "v",
         "showlegend": true,
         "type": "scatter",
         "x": [
          26.096942901611328
         ],
         "xaxis": "x",
         "y": [
          -46.855045318603516
         ],
         "yaxis": "y"
        },
        {
         "hovertemplate": "entity=GBM<br>0=%{x}<br>1=%{y}<extra></extra>",
         "legendgroup": "GBM",
         "marker": {
          "color": "#FFA15A",
          "opacity": 1,
          "symbol": "circle"
         },
         "mode": "markers",
         "name": "GBM",
         "orientation": "v",
         "showlegend": true,
         "type": "scatter",
         "visible": true,
         "x": [
          20.193479537963867,
          25.691675186157227
         ],
         "xaxis": "x",
         "y": [
          50.10849380493164,
          -45.013763427734375
         ],
         "yaxis": "y"
        },
        {
         "hovertemplate": "entity=ASTRO_HIGH<br>0=%{x}<br>1=%{y}<extra></extra>",
         "legendgroup": "ASTRO_HIGH",
         "marker": {
          "color": "#19d3f3",
          "opacity": 1,
          "symbol": "circle"
         },
         "mode": "markers",
         "name": "ASTRO_HIGH",
         "orientation": "v",
         "showlegend": true,
         "type": "scatter",
         "x": [
          20.630191802978516,
          28.53375244140625
         ],
         "xaxis": "x",
         "y": [
          49.75181198120117,
          21.93006706237793
         ],
         "yaxis": "y"
        },
        {
         "hovertemplate": "entity=MEDULLO_SHH_TP53<br>0=%{x}<br>1=%{y}<extra></extra>",
         "legendgroup": "MEDULLO_SHH_TP53",
         "marker": {
          "color": "#FF6692",
          "opacity": 1,
          "symbol": "circle"
         },
         "mode": "markers",
         "name": "MEDULLO_SHH_TP53",
         "orientation": "v",
         "showlegend": true,
         "type": "scatter",
         "x": [
          33.38318634033203,
          -16.7824649810791
         ],
         "xaxis": "x",
         "y": [
          57.12681579589844,
          36.01996612548828
         ],
         "yaxis": "y"
        },
        {
         "hovertemplate": "entity=HGAP<br>0=%{x}<br>1=%{y}<extra></extra>",
         "legendgroup": "HGAP",
         "marker": {
          "color": "#B6E880",
          "opacity": 1,
          "symbol": "circle"
         },
         "mode": "markers",
         "name": "HGAP",
         "orientation": "v",
         "showlegend": true,
         "type": "scatter",
         "x": [
          -27.90631866455078
         ],
         "xaxis": "x",
         "y": [
          -9.183955192565918
         ],
         "yaxis": "y"
        },
        {
         "hovertemplate": "entity=PILOZYT<br>0=%{x}<br>1=%{y}<extra></extra>",
         "legendgroup": "PILOZYT",
         "marker": {
          "color": "#FF97FF",
          "opacity": 1,
          "symbol": "circle"
         },
         "mode": "markers",
         "name": "PILOZYT",
         "orientation": "v",
         "showlegend": true,
         "type": "scatter",
         "x": [
          25.777904510498047,
          -28.39600372314453,
          -13.475830078125,
          32.08268737792969,
          -29.737497329711914,
          -27.586130142211914,
          24.963285446166992,
          2.6801540851593018,
          -12.040196418762207,
          118.85176849365234,
          -28.07479476928711
         ],
         "xaxis": "x",
         "y": [
          18.826080322265625,
          -10.022212028503418,
          48.753746032714844,
          58.244319915771484,
          -9.352444648742676,
          -8.742658615112305,
          -46.737056732177734,
          55.467498779296875,
          -52.956634521484375,
          -67.68719482421875,
          -11.528132438659668
         ],
         "yaxis": "y"
        },
        {
         "hovertemplate": "entity=MEDULLO_NON<br>0=%{x}<br>1=%{y}<extra></extra>",
         "legendgroup": "MEDULLO_NON",
         "marker": {
          "color": "#FECB52",
          "opacity": 1,
          "symbol": "circle"
         },
         "mode": "markers",
         "name": "MEDULLO_NON",
         "orientation": "v",
         "showlegend": true,
         "type": "scatter",
         "x": [
          10.19204330444336,
          19.993873596191406
         ],
         "xaxis": "x",
         "y": [
          -5.859459400177002,
          -14.808954238891602
         ],
         "yaxis": "y"
        },
        {
         "hovertemplate": "entity=MNG_HIGH<br>0=%{x}<br>1=%{y}<extra></extra>",
         "legendgroup": "MNG_HIGH",
         "marker": {
          "color": "#636efa",
          "opacity": 1,
          "symbol": "circle"
         },
         "mode": "markers",
         "name": "MNG_HIGH",
         "orientation": "v",
         "showlegend": true,
         "type": "scatter",
         "x": [
          -12.827853202819824
         ],
         "xaxis": "x",
         "y": [
          48.66628646850586
         ],
         "yaxis": "y"
        },
        {
         "hovertemplate": "entity=LGG<br>0=%{x}<br>1=%{y}<extra></extra>",
         "legendgroup": "LGG",
         "marker": {
          "color": "#EF553B",
          "opacity": 1,
          "symbol": "circle"
         },
         "mode": "markers",
         "name": "LGG",
         "orientation": "v",
         "showlegend": true,
         "type": "scatter",
         "x": [
          -29.479463577270508,
          25.5595703125,
          26.15544891357422,
          20.361358642578125,
          -13.000082969665527
         ],
         "xaxis": "x",
         "y": [
          -10.036349296569824,
          -46.403541564941406,
          20.33979034423828,
          48.594017028808594,
          17.08344078063965
         ],
         "yaxis": "y"
        },
        {
         "hovertemplate": "entity=nan<br>0=%{x}<br>1=%{y}<extra></extra>",
         "legendgroup": "nan",
         "marker": {
          "color": "#00cc96",
          "opacity": 1,
          "symbol": "circle"
         },
         "mode": "markers",
         "name": "nan",
         "orientation": "v",
         "showlegend": true,
         "type": "scatter",
         "x": [
          9.78542423248291,
          25.733930587768555,
          20.73961639404297,
          1.900258183479309
         ],
         "xaxis": "x",
         "y": [
          -5.455229759216309,
          19.4770450592041,
          49.07722473144531,
          56.24620056152344
         ],
         "yaxis": "y"
        },
        {
         "hovertemplate": "entity=ATRT<br>0=%{x}<br>1=%{y}<extra></extra>",
         "legendgroup": "ATRT",
         "marker": {
          "color": "#ab63fa",
          "opacity": 1,
          "symbol": "circle"
         },
         "mode": "markers",
         "name": "ATRT",
         "orientation": "v",
         "showlegend": true,
         "type": "scatter",
         "x": [
          32.79029083251953
         ],
         "xaxis": "x",
         "y": [
          58.1129264831543
         ],
         "yaxis": "y"
        },
        {
         "hovertemplate": "entity=SEGA<br>0=%{x}<br>1=%{y}<extra></extra>",
         "legendgroup": "SEGA",
         "marker": {
          "color": "#FFA15A",
          "opacity": 1,
          "symbol": "circle"
         },
         "mode": "markers",
         "name": "SEGA",
         "orientation": "v",
         "showlegend": true,
         "type": "scatter",
         "x": [
          33.383277893066406
         ],
         "xaxis": "x",
         "y": [
          57.77869415283203
         ],
         "yaxis": "y"
        },
        {
         "hovertemplate": "entity=RGNT<br>0=%{x}<br>1=%{y}<extra></extra>",
         "legendgroup": "RGNT",
         "marker": {
          "color": "#19d3f3",
          "opacity": 1,
          "symbol": "circle"
         },
         "mode": "markers",
         "name": "RGNT",
         "orientation": "v",
         "showlegend": true,
         "type": "scatter",
         "x": [
          8.882591247558594
         ],
         "xaxis": "x",
         "y": [
          26.862468719482422
         ],
         "yaxis": "y"
        },
        {
         "hovertemplate": "entity=EPENDYMOM<br>0=%{x}<br>1=%{y}<extra></extra>",
         "legendgroup": "EPENDYMOM",
         "marker": {
          "color": "#FF6692",
          "opacity": 1,
          "symbol": "circle"
         },
         "mode": "markers",
         "name": "EPENDYMOM",
         "orientation": "v",
         "showlegend": true,
         "type": "scatter",
         "x": [
          -1.829217791557312
         ],
         "xaxis": "x",
         "y": [
          -16.750587463378906
         ],
         "yaxis": "y"
        },
        {
         "hovertemplate": "entity=DIGDIA<br>0=%{x}<br>1=%{y}<extra></extra>",
         "legendgroup": "DIGDIA",
         "marker": {
          "color": "#B6E880",
          "opacity": 1,
          "symbol": "circle"
         },
         "mode": "markers",
         "name": "DIGDIA",
         "orientation": "v",
         "showlegend": true,
         "type": "scatter",
         "x": [
          -28.09654998779297,
          10.586779594421387
         ],
         "xaxis": "x",
         "y": [
          -10.949846267700195,
          -6.2569756507873535
         ],
         "yaxis": "y"
        },
        {
         "hovertemplate": "entity=LGG_NOS<br>0=%{x}<br>1=%{y}<extra></extra>",
         "legendgroup": "LGG_NOS",
         "marker": {
          "color": "#FF97FF",
          "opacity": 1,
          "symbol": "circle"
         },
         "mode": "markers",
         "name": "LGG_NOS",
         "orientation": "v",
         "showlegend": true,
         "type": "scatter",
         "x": [
          28.00008201599121,
          27.19413185119629,
          118.05073547363281,
          27.20294952392578,
          -13.019950866699219,
          -12.436274528503418,
          -1.477898120880127,
          -1.8451341390609741
         ],
         "xaxis": "x",
         "y": [
          20.0192813873291,
          20.50916290283203,
          -68.48822784423828,
          21.097999572753906,
          15.510489463806152,
          -53.352359771728516,
          -15.542572021484375,
          -16.076854705810547
         ],
         "yaxis": "y"
        },
        {
         "hovertemplate": "entity=PLNTY<br>0=%{x}<br>1=%{y}<extra></extra>",
         "legendgroup": "PLNTY",
         "marker": {
          "color": "#FECB52",
          "opacity": 1,
          "symbol": "circle"
         },
         "mode": "markers",
         "name": "PLNTY",
         "orientation": "v",
         "showlegend": true,
         "type": "scatter",
         "x": [
          25.748491287231445
         ],
         "xaxis": "x",
         "y": [
          -45.55400466918945
         ],
         "yaxis": "y"
        },
        {
         "hovertemplate": "entity=DLGNT<br>0=%{x}<br>1=%{y}<extra></extra>",
         "legendgroup": "DLGNT",
         "marker": {
          "color": "#636efa",
          "opacity": 1,
          "symbol": "circle"
         },
         "mode": "markers",
         "name": "DLGNT",
         "orientation": "v",
         "showlegend": true,
         "type": "scatter",
         "x": [
          28.096813201904297
         ],
         "xaxis": "x",
         "y": [
          20.779088973999023
         ],
         "yaxis": "y"
        },
        {
         "hovertemplate": "entity=GG<br>0=%{x}<br>1=%{y}<extra></extra>",
         "legendgroup": "GG",
         "marker": {
          "color": "#EF553B",
          "opacity": 1,
          "symbol": "circle"
         },
         "mode": "markers",
         "name": "GG",
         "orientation": "v",
         "showlegend": true,
         "type": "scatter",
         "x": [
          27.849159240722656,
          118.40038299560547,
          19.288299560546875,
          -12.910451889038086,
          -1.465096116065979
         ],
         "xaxis": "x",
         "y": [
          21.954418182373047,
          -68.13858032226562,
          -14.104341506958008,
          48.15899658203125,
          -17.2372989654541
         ],
         "yaxis": "y"
        },
        {
         "hovertemplate": "entity=MEDULLO_WNT<br>0=%{x}<br>1=%{y}<extra></extra>",
         "legendgroup": "MEDULLO_WNT",
         "marker": {
          "color": "#00cc96",
          "opacity": 1,
          "symbol": "circle"
         },
         "mode": "markers",
         "name": "MEDULLO_WNT",
         "orientation": "v",
         "showlegend": true,
         "type": "scatter",
         "x": [
          2.360002279281616
         ],
         "xaxis": "x",
         "y": [
          55.81161117553711
         ],
         "yaxis": "y"
        },
        {
         "hovertemplate": "entity=GLIOM_NOS<br>0=%{x}<br>1=%{y}<extra></extra>",
         "legendgroup": "GLIOM_NOS",
         "marker": {
          "color": "#ab63fa",
          "opacity": 1,
          "symbol": "circle"
         },
         "mode": "markers",
         "name": "GLIOM_NOS",
         "orientation": "v",
         "showlegend": true,
         "type": "scatter",
         "x": [
          -12.43805980682373
         ],
         "xaxis": "x",
         "y": [
          15.965898513793945
         ],
         "yaxis": "y"
        },
        {
         "hovertemplate": "entity=G34<br>0=%{x}<br>1=%{y}<extra></extra>",
         "legendgroup": "G34",
         "marker": {
          "color": "#FFA15A",
          "opacity": 1,
          "symbol": "circle"
         },
         "mode": "markers",
         "name": "G34",
         "orientation": "v",
         "showlegend": true,
         "type": "scatter",
         "x": [
          19.66159439086914
         ],
         "xaxis": "x",
         "y": [
          -14.475652694702148
         ],
         "yaxis": "y"
        },
        {
         "hovertemplate": "entity=ETMR<br>0=%{x}<br>1=%{y}<extra></extra>",
         "legendgroup": "ETMR",
         "marker": {
          "color": "#19d3f3",
          "opacity": 1,
          "symbol": "circle"
         },
         "mode": "markers",
         "name": "ETMR",
         "orientation": "v",
         "showlegend": true,
         "type": "scatter",
         "x": [
          -12.067221641540527
         ],
         "xaxis": "x",
         "y": [
          15.40841293334961
         ],
         "yaxis": "y"
        },
        {
         "hovertemplate": "entity=ASTRO_LOW<br>0=%{x}<br>1=%{y}<extra></extra>",
         "legendgroup": "ASTRO_LOW",
         "marker": {
          "color": "#FF6692",
          "opacity": 1,
          "symbol": "circle"
         },
         "mode": "markers",
         "name": "ASTRO_LOW",
         "orientation": "v",
         "showlegend": true,
         "type": "scatter",
         "x": [
          -12.50830364227295
         ],
         "xaxis": "x",
         "y": [
          16.705080032348633
         ],
         "yaxis": "y"
        },
        {
         "hovertemplate": "entity=DNT<br>0=%{x}<br>1=%{y}<extra></extra>",
         "legendgroup": "DNT",
         "marker": {
          "color": "#B6E880",
          "opacity": 1,
          "symbol": "circle"
         },
         "mode": "markers",
         "name": "DNT",
         "orientation": "v",
         "showlegend": true,
         "type": "scatter",
         "x": [
          -11.712166786193848
         ],
         "xaxis": "x",
         "y": [
          -52.628456115722656
         ],
         "yaxis": "y"
        },
        {
         "hovertemplate": "entity=DIFFUSES_ASTRO_MYB/MYBL1<br>0=%{x}<br>1=%{y}<extra></extra>",
         "legendgroup": "DIFFUSES_ASTRO_MYB/MYBL1",
         "marker": {
          "color": "#FF97FF",
          "opacity": 1,
          "symbol": "circle"
         },
         "mode": "markers",
         "name": "DIFFUSES_ASTRO_MYB/MYBL1",
         "orientation": "v",
         "showlegend": true,
         "type": "scatter",
         "x": [
          9.188254356384277
         ],
         "xaxis": "x",
         "y": [
          26.557092666625977
         ],
         "yaxis": "y"
        }
       ],
       "layout": {
        "height": 800,
        "legend": {
         "title": {
          "text": "entity"
         },
         "tracegroupgap": 0
        },
        "template": {
         "data": {
          "bar": [
           {
            "error_x": {
             "color": "#2a3f5f"
            },
            "error_y": {
             "color": "#2a3f5f"
            },
            "marker": {
             "line": {
              "color": "#E5ECF6",
              "width": 0.5
             },
             "pattern": {
              "fillmode": "overlay",
              "size": 10,
              "solidity": 0.2
             }
            },
            "type": "bar"
           }
          ],
          "barpolar": [
           {
            "marker": {
             "line": {
              "color": "#E5ECF6",
              "width": 0.5
             },
             "pattern": {
              "fillmode": "overlay",
              "size": 10,
              "solidity": 0.2
             }
            },
            "type": "barpolar"
           }
          ],
          "carpet": [
           {
            "aaxis": {
             "endlinecolor": "#2a3f5f",
             "gridcolor": "white",
             "linecolor": "white",
             "minorgridcolor": "white",
             "startlinecolor": "#2a3f5f"
            },
            "baxis": {
             "endlinecolor": "#2a3f5f",
             "gridcolor": "white",
             "linecolor": "white",
             "minorgridcolor": "white",
             "startlinecolor": "#2a3f5f"
            },
            "type": "carpet"
           }
          ],
          "choropleth": [
           {
            "colorbar": {
             "outlinewidth": 0,
             "ticks": ""
            },
            "type": "choropleth"
           }
          ],
          "contour": [
           {
            "colorbar": {
             "outlinewidth": 0,
             "ticks": ""
            },
            "colorscale": [
             [
              0,
              "#0d0887"
             ],
             [
              0.1111111111111111,
              "#46039f"
             ],
             [
              0.2222222222222222,
              "#7201a8"
             ],
             [
              0.3333333333333333,
              "#9c179e"
             ],
             [
              0.4444444444444444,
              "#bd3786"
             ],
             [
              0.5555555555555556,
              "#d8576b"
             ],
             [
              0.6666666666666666,
              "#ed7953"
             ],
             [
              0.7777777777777778,
              "#fb9f3a"
             ],
             [
              0.8888888888888888,
              "#fdca26"
             ],
             [
              1,
              "#f0f921"
             ]
            ],
            "type": "contour"
           }
          ],
          "contourcarpet": [
           {
            "colorbar": {
             "outlinewidth": 0,
             "ticks": ""
            },
            "type": "contourcarpet"
           }
          ],
          "heatmap": [
           {
            "colorbar": {
             "outlinewidth": 0,
             "ticks": ""
            },
            "colorscale": [
             [
              0,
              "#0d0887"
             ],
             [
              0.1111111111111111,
              "#46039f"
             ],
             [
              0.2222222222222222,
              "#7201a8"
             ],
             [
              0.3333333333333333,
              "#9c179e"
             ],
             [
              0.4444444444444444,
              "#bd3786"
             ],
             [
              0.5555555555555556,
              "#d8576b"
             ],
             [
              0.6666666666666666,
              "#ed7953"
             ],
             [
              0.7777777777777778,
              "#fb9f3a"
             ],
             [
              0.8888888888888888,
              "#fdca26"
             ],
             [
              1,
              "#f0f921"
             ]
            ],
            "type": "heatmap"
           }
          ],
          "heatmapgl": [
           {
            "colorbar": {
             "outlinewidth": 0,
             "ticks": ""
            },
            "colorscale": [
             [
              0,
              "#0d0887"
             ],
             [
              0.1111111111111111,
              "#46039f"
             ],
             [
              0.2222222222222222,
              "#7201a8"
             ],
             [
              0.3333333333333333,
              "#9c179e"
             ],
             [
              0.4444444444444444,
              "#bd3786"
             ],
             [
              0.5555555555555556,
              "#d8576b"
             ],
             [
              0.6666666666666666,
              "#ed7953"
             ],
             [
              0.7777777777777778,
              "#fb9f3a"
             ],
             [
              0.8888888888888888,
              "#fdca26"
             ],
             [
              1,
              "#f0f921"
             ]
            ],
            "type": "heatmapgl"
           }
          ],
          "histogram": [
           {
            "marker": {
             "pattern": {
              "fillmode": "overlay",
              "size": 10,
              "solidity": 0.2
             }
            },
            "type": "histogram"
           }
          ],
          "histogram2d": [
           {
            "colorbar": {
             "outlinewidth": 0,
             "ticks": ""
            },
            "colorscale": [
             [
              0,
              "#0d0887"
             ],
             [
              0.1111111111111111,
              "#46039f"
             ],
             [
              0.2222222222222222,
              "#7201a8"
             ],
             [
              0.3333333333333333,
              "#9c179e"
             ],
             [
              0.4444444444444444,
              "#bd3786"
             ],
             [
              0.5555555555555556,
              "#d8576b"
             ],
             [
              0.6666666666666666,
              "#ed7953"
             ],
             [
              0.7777777777777778,
              "#fb9f3a"
             ],
             [
              0.8888888888888888,
              "#fdca26"
             ],
             [
              1,
              "#f0f921"
             ]
            ],
            "type": "histogram2d"
           }
          ],
          "histogram2dcontour": [
           {
            "colorbar": {
             "outlinewidth": 0,
             "ticks": ""
            },
            "colorscale": [
             [
              0,
              "#0d0887"
             ],
             [
              0.1111111111111111,
              "#46039f"
             ],
             [
              0.2222222222222222,
              "#7201a8"
             ],
             [
              0.3333333333333333,
              "#9c179e"
             ],
             [
              0.4444444444444444,
              "#bd3786"
             ],
             [
              0.5555555555555556,
              "#d8576b"
             ],
             [
              0.6666666666666666,
              "#ed7953"
             ],
             [
              0.7777777777777778,
              "#fb9f3a"
             ],
             [
              0.8888888888888888,
              "#fdca26"
             ],
             [
              1,
              "#f0f921"
             ]
            ],
            "type": "histogram2dcontour"
           }
          ],
          "mesh3d": [
           {
            "colorbar": {
             "outlinewidth": 0,
             "ticks": ""
            },
            "type": "mesh3d"
           }
          ],
          "parcoords": [
           {
            "line": {
             "colorbar": {
              "outlinewidth": 0,
              "ticks": ""
             }
            },
            "type": "parcoords"
           }
          ],
          "pie": [
           {
            "automargin": true,
            "type": "pie"
           }
          ],
          "scatter": [
           {
            "fillpattern": {
             "fillmode": "overlay",
             "size": 10,
             "solidity": 0.2
            },
            "type": "scatter"
           }
          ],
          "scatter3d": [
           {
            "line": {
             "colorbar": {
              "outlinewidth": 0,
              "ticks": ""
             }
            },
            "marker": {
             "colorbar": {
              "outlinewidth": 0,
              "ticks": ""
             }
            },
            "type": "scatter3d"
           }
          ],
          "scattercarpet": [
           {
            "marker": {
             "colorbar": {
              "outlinewidth": 0,
              "ticks": ""
             }
            },
            "type": "scattercarpet"
           }
          ],
          "scattergeo": [
           {
            "marker": {
             "colorbar": {
              "outlinewidth": 0,
              "ticks": ""
             }
            },
            "type": "scattergeo"
           }
          ],
          "scattergl": [
           {
            "marker": {
             "colorbar": {
              "outlinewidth": 0,
              "ticks": ""
             }
            },
            "type": "scattergl"
           }
          ],
          "scattermapbox": [
           {
            "marker": {
             "colorbar": {
              "outlinewidth": 0,
              "ticks": ""
             }
            },
            "type": "scattermapbox"
           }
          ],
          "scatterpolar": [
           {
            "marker": {
             "colorbar": {
              "outlinewidth": 0,
              "ticks": ""
             }
            },
            "type": "scatterpolar"
           }
          ],
          "scatterpolargl": [
           {
            "marker": {
             "colorbar": {
              "outlinewidth": 0,
              "ticks": ""
             }
            },
            "type": "scatterpolargl"
           }
          ],
          "scatterternary": [
           {
            "marker": {
             "colorbar": {
              "outlinewidth": 0,
              "ticks": ""
             }
            },
            "type": "scatterternary"
           }
          ],
          "surface": [
           {
            "colorbar": {
             "outlinewidth": 0,
             "ticks": ""
            },
            "colorscale": [
             [
              0,
              "#0d0887"
             ],
             [
              0.1111111111111111,
              "#46039f"
             ],
             [
              0.2222222222222222,
              "#7201a8"
             ],
             [
              0.3333333333333333,
              "#9c179e"
             ],
             [
              0.4444444444444444,
              "#bd3786"
             ],
             [
              0.5555555555555556,
              "#d8576b"
             ],
             [
              0.6666666666666666,
              "#ed7953"
             ],
             [
              0.7777777777777778,
              "#fb9f3a"
             ],
             [
              0.8888888888888888,
              "#fdca26"
             ],
             [
              1,
              "#f0f921"
             ]
            ],
            "type": "surface"
           }
          ],
          "table": [
           {
            "cells": {
             "fill": {
              "color": "#EBF0F8"
             },
             "line": {
              "color": "white"
             }
            },
            "header": {
             "fill": {
              "color": "#C8D4E3"
             },
             "line": {
              "color": "white"
             }
            },
            "type": "table"
           }
          ]
         },
         "layout": {
          "annotationdefaults": {
           "arrowcolor": "#2a3f5f",
           "arrowhead": 0,
           "arrowwidth": 1
          },
          "autotypenumbers": "strict",
          "coloraxis": {
           "colorbar": {
            "outlinewidth": 0,
            "ticks": ""
           }
          },
          "colorscale": {
           "diverging": [
            [
             0,
             "#8e0152"
            ],
            [
             0.1,
             "#c51b7d"
            ],
            [
             0.2,
             "#de77ae"
            ],
            [
             0.3,
             "#f1b6da"
            ],
            [
             0.4,
             "#fde0ef"
            ],
            [
             0.5,
             "#f7f7f7"
            ],
            [
             0.6,
             "#e6f5d0"
            ],
            [
             0.7,
             "#b8e186"
            ],
            [
             0.8,
             "#7fbc41"
            ],
            [
             0.9,
             "#4d9221"
            ],
            [
             1,
             "#276419"
            ]
           ],
           "sequential": [
            [
             0,
             "#0d0887"
            ],
            [
             0.1111111111111111,
             "#46039f"
            ],
            [
             0.2222222222222222,
             "#7201a8"
            ],
            [
             0.3333333333333333,
             "#9c179e"
            ],
            [
             0.4444444444444444,
             "#bd3786"
            ],
            [
             0.5555555555555556,
             "#d8576b"
            ],
            [
             0.6666666666666666,
             "#ed7953"
            ],
            [
             0.7777777777777778,
             "#fb9f3a"
            ],
            [
             0.8888888888888888,
             "#fdca26"
            ],
            [
             1,
             "#f0f921"
            ]
           ],
           "sequentialminus": [
            [
             0,
             "#0d0887"
            ],
            [
             0.1111111111111111,
             "#46039f"
            ],
            [
             0.2222222222222222,
             "#7201a8"
            ],
            [
             0.3333333333333333,
             "#9c179e"
            ],
            [
             0.4444444444444444,
             "#bd3786"
            ],
            [
             0.5555555555555556,
             "#d8576b"
            ],
            [
             0.6666666666666666,
             "#ed7953"
            ],
            [
             0.7777777777777778,
             "#fb9f3a"
            ],
            [
             0.8888888888888888,
             "#fdca26"
            ],
            [
             1,
             "#f0f921"
            ]
           ]
          },
          "colorway": [
           "#636efa",
           "#EF553B",
           "#00cc96",
           "#ab63fa",
           "#FFA15A",
           "#19d3f3",
           "#FF6692",
           "#B6E880",
           "#FF97FF",
           "#FECB52"
          ],
          "font": {
           "color": "#2a3f5f"
          },
          "geo": {
           "bgcolor": "white",
           "lakecolor": "white",
           "landcolor": "#E5ECF6",
           "showlakes": true,
           "showland": true,
           "subunitcolor": "white"
          },
          "hoverlabel": {
           "align": "left"
          },
          "hovermode": "closest",
          "mapbox": {
           "style": "light"
          },
          "paper_bgcolor": "white",
          "plot_bgcolor": "#E5ECF6",
          "polar": {
           "angularaxis": {
            "gridcolor": "white",
            "linecolor": "white",
            "ticks": ""
           },
           "bgcolor": "#E5ECF6",
           "radialaxis": {
            "gridcolor": "white",
            "linecolor": "white",
            "ticks": ""
           }
          },
          "scene": {
           "xaxis": {
            "backgroundcolor": "#E5ECF6",
            "gridcolor": "white",
            "gridwidth": 2,
            "linecolor": "white",
            "showbackground": true,
            "ticks": "",
            "zerolinecolor": "white"
           },
           "yaxis": {
            "backgroundcolor": "#E5ECF6",
            "gridcolor": "white",
            "gridwidth": 2,
            "linecolor": "white",
            "showbackground": true,
            "ticks": "",
            "zerolinecolor": "white"
           },
           "zaxis": {
            "backgroundcolor": "#E5ECF6",
            "gridcolor": "white",
            "gridwidth": 2,
            "linecolor": "white",
            "showbackground": true,
            "ticks": "",
            "zerolinecolor": "white"
           }
          },
          "shapedefaults": {
           "line": {
            "color": "#2a3f5f"
           }
          },
          "ternary": {
           "aaxis": {
            "gridcolor": "white",
            "linecolor": "white",
            "ticks": ""
           },
           "baxis": {
            "gridcolor": "white",
            "linecolor": "white",
            "ticks": ""
           },
           "bgcolor": "#E5ECF6",
           "caxis": {
            "gridcolor": "white",
            "linecolor": "white",
            "ticks": ""
           }
          },
          "title": {
           "x": 0.05
          },
          "xaxis": {
           "automargin": true,
           "gridcolor": "white",
           "linecolor": "white",
           "ticks": "",
           "title": {
            "standoff": 15
           },
           "zerolinecolor": "white",
           "zerolinewidth": 2
          },
          "yaxis": {
           "automargin": true,
           "gridcolor": "white",
           "linecolor": "white",
           "ticks": "",
           "title": {
            "standoff": 15
           },
           "zerolinecolor": "white",
           "zerolinewidth": 2
          }
         }
        },
        "title": {
         "text": "PCA components = 5, n_neighbors = 2, n_cases = 62, fold_change_threshold = 0.2"
        },
        "width": 1200,
        "xaxis": {
         "anchor": "y",
         "autorange": false,
         "domain": [
          0,
          1
         ],
         "range": [
          20.651978006183526,
          32.14074984588343
         ],
         "showspikes": false,
         "title": {
          "text": "0"
         },
         "type": "linear"
        },
        "yaxis": {
         "anchor": "x",
         "autorange": false,
         "domain": [
          0,
          1
         ],
         "range": [
          13.140453647527764,
          30.17625479964535
         ],
         "showspikes": false,
         "title": {
          "text": "1"
         },
         "type": "linear"
        }
       }
      },
      "image/png": "[encoded data removed]",
      "text/html": [
       "<div>                            <div id=\"5972e5f3-2620-47f8-a918-87676488bb07\" class=\"plotly-graph-div\" style=\"height:800px; width:1200px;\"></div>            <script type=\"text/javascript\">                require([\"plotly\"], function(Plotly) {                    window.PLOTLYENV=window.PLOTLYENV || {};                                    if (document.getElementById(\"5972e5f3-2620-47f8-a918-87676488bb07\")) {                    Plotly.newPlot(                        \"5972e5f3-2620-47f8-a918-87676488bb07\",                        [{\"hovertemplate\":\"entity=K27\\u003cbr\\u003e0=%{x}\\u003cbr\\u003e1=%{y}\\u003cextra\\u003e\\u003c\\u002fextra\\u003e\",\"legendgroup\":\"K27\",\"marker\":{\"color\":\"#636efa\",\"opacity\":1,\"symbol\":\"circle\"},\"mode\":\"markers\",\"name\":\"K27\",\"orientation\":\"v\",\"showlegend\":true,\"x\":[-16.144752502441406],\"xaxis\":\"x\",\"y\":[35.6441764831543],\"yaxis\":\"y\",\"type\":\"scatter\"},{\"hovertemplate\":\"entity=MEDULLO_SHH\\u003cbr\\u003e0=%{x}\\u003cbr\\u003e1=%{y}\\u003cextra\\u003e\\u003c\\u002fextra\\u003e\",\"legendgroup\":\"MEDULLO_SHH\",\"marker\":{\"color\":\"#EF553B\",\"opacity\":1,\"symbol\":\"circle\"},\"mode\":\"markers\",\"name\":\"MEDULLO_SHH\",\"orientation\":\"v\",\"showlegend\":true,\"x\":[-16.414257049560547],\"xaxis\":\"x\",\"y\":[35.335323333740234],\"yaxis\":\"y\",\"type\":\"scatter\"},{\"hovertemplate\":\"entity=PITUIZYTOM\\u003cbr\\u003e0=%{x}\\u003cbr\\u003e1=%{y}\\u003cextra\\u003e\\u003c\\u002fextra\\u003e\",\"legendgroup\":\"PITUIZYTOM\",\"marker\":{\"color\":\"#00cc96\",\"opacity\":1,\"symbol\":\"circle\"},\"mode\":\"markers\",\"name\":\"PITUIZYTOM\",\"orientation\":\"v\",\"showlegend\":true,\"x\":[-30.229650497436523],\"xaxis\":\"x\",\"y\":[-10.012982368469238],\"yaxis\":\"y\",\"type\":\"scatter\"},{\"hovertemplate\":\"entity=DIFF_HOCH_GLIOM_PEDIATRISCH\\u003cbr\\u003e0=%{x}\\u003cbr\\u003e1=%{y}\\u003cextra\\u003e\\u003c\\u002fextra\\u003e\",\"legendgroup\":\"DIFF_HOCH_GLIOM_PEDIATRISCH\",\"marker\":{\"color\":\"#ab63fa\",\"opacity\":1,\"symbol\":\"circle\"},\"mode\":\"markers\",\"name\":\"DIFF_HOCH_GLIOM_PEDIATRISCH\",\"orientation\":\"v\",\"showlegend\":true,\"x\":[26.096942901611328],\"xaxis\":\"x\",\"y\":[-46.855045318603516],\"yaxis\":\"y\",\"type\":\"scatter\"},{\"hovertemplate\":\"entity=GBM\\u003cbr\\u003e0=%{x}\\u003cbr\\u003e1=%{y}\\u003cextra\\u003e\\u003c\\u002fextra\\u003e\",\"legendgroup\":\"GBM\",\"marker\":{\"color\":\"#FFA15A\",\"opacity\":1,\"symbol\":\"circle\"},\"mode\":\"markers\",\"name\":\"GBM\",\"orientation\":\"v\",\"showlegend\":true,\"x\":[20.193479537963867,25.691675186157227],\"xaxis\":\"x\",\"y\":[50.10849380493164,-45.013763427734375],\"yaxis\":\"y\",\"type\":\"scatter\"},{\"hovertemplate\":\"entity=ASTRO_HIGH\\u003cbr\\u003e0=%{x}\\u003cbr\\u003e1=%{y}\\u003cextra\\u003e\\u003c\\u002fextra\\u003e\",\"legendgroup\":\"ASTRO_HIGH\",\"marker\":{\"color\":\"#19d3f3\",\"opacity\":1,\"symbol\":\"circle\"},\"mode\":\"markers\",\"name\":\"ASTRO_HIGH\",\"orientation\":\"v\",\"showlegend\":true,\"x\":[20.630191802978516,28.53375244140625],\"xaxis\":\"x\",\"y\":[49.75181198120117,21.93006706237793],\"yaxis\":\"y\",\"type\":\"scatter\"},{\"hovertemplate\":\"entity=MEDULLO_SHH_TP53\\u003cbr\\u003e0=%{x}\\u003cbr\\u003e1=%{y}\\u003cextra\\u003e\\u003c\\u002fextra\\u003e\",\"legendgroup\":\"MEDULLO_SHH_TP53\",\"marker\":{\"color\":\"#FF6692\",\"opacity\":1,\"symbol\":\"circle\"},\"mode\":\"markers\",\"name\":\"MEDULLO_SHH_TP53\",\"orientation\":\"v\",\"showlegend\":true,\"x\":[33.38318634033203,-16.7824649810791],\"xaxis\":\"x\",\"y\":[57.12681579589844,36.01996612548828],\"yaxis\":\"y\",\"type\":\"scatter\"},{\"hovertemplate\":\"entity=HGAP\\u003cbr\\u003e0=%{x}\\u003cbr\\u003e1=%{y}\\u003cextra\\u003e\\u003c\\u002fextra\\u003e\",\"legendgroup\":\"HGAP\",\"marker\":{\"color\":\"#B6E880\",\"opacity\":1,\"symbol\":\"circle\"},\"mode\":\"markers\",\"name\":\"HGAP\",\"orientation\":\"v\",\"showlegend\":true,\"x\":[-27.90631866455078],\"xaxis\":\"x\",\"y\":[-9.183955192565918],\"yaxis\":\"y\",\"type\":\"scatter\"},{\"hovertemplate\":\"entity=PILOZYT\\u003cbr\\u003e0=%{x}\\u003cbr\\u003e1=%{y}\\u003cextra\\u003e\\u003c\\u002fextra\\u003e\",\"legendgroup\":\"PILOZYT\",\"marker\":{\"color\":\"#FF97FF\",\"opacity\":1,\"symbol\":\"circle\"},\"mode\":\"markers\",\"name\":\"PILOZYT\",\"orientation\":\"v\",\"showlegend\":true,\"x\":[25.777904510498047,-28.39600372314453,-13.475830078125,32.08268737792969,-29.737497329711914,-27.586130142211914,24.963285446166992,2.6801540851593018,-12.040196418762207,118.85176849365234,-28.07479476928711],\"xaxis\":\"x\",\"y\":[18.826080322265625,-10.022212028503418,48.753746032714844,58.244319915771484,-9.352444648742676,-8.742658615112305,-46.737056732177734,55.467498779296875,-52.956634521484375,-67.68719482421875,-11.528132438659668],\"yaxis\":\"y\",\"type\":\"scatter\"},{\"hovertemplate\":\"entity=MEDULLO_NON\\u003cbr\\u003e0=%{x}\\u003cbr\\u003e1=%{y}\\u003cextra\\u003e\\u003c\\u002fextra\\u003e\",\"legendgroup\":\"MEDULLO_NON\",\"marker\":{\"color\":\"#FECB52\",\"opacity\":1,\"symbol\":\"circle\"},\"mode\":\"markers\",\"name\":\"MEDULLO_NON\",\"orientation\":\"v\",\"showlegend\":true,\"x\":[10.19204330444336,19.993873596191406],\"xaxis\":\"x\",\"y\":[-5.859459400177002,-14.808954238891602],\"yaxis\":\"y\",\"type\":\"scatter\"},{\"hovertemplate\":\"entity=MNG_HIGH\\u003cbr\\u003e0=%{x}\\u003cbr\\u003e1=%{y}\\u003cextra\\u003e\\u003c\\u002fextra\\u003e\",\"legendgroup\":\"MNG_HIGH\",\"marker\":{\"color\":\"#636efa\",\"opacity\":1,\"symbol\":\"circle\"},\"mode\":\"markers\",\"name\":\"MNG_HIGH\",\"orientation\":\"v\",\"showlegend\":true,\"x\":[-12.827853202819824],\"xaxis\":\"x\",\"y\":[48.66628646850586],\"yaxis\":\"y\",\"type\":\"scatter\"},{\"hovertemplate\":\"entity=LGG\\u003cbr\\u003e0=%{x}\\u003cbr\\u003e1=%{y}\\u003cextra\\u003e\\u003c\\u002fextra\\u003e\",\"legendgroup\":\"LGG\",\"marker\":{\"color\":\"#EF553B\",\"opacity\":1,\"symbol\":\"circle\"},\"mode\":\"markers\",\"name\":\"LGG\",\"orientation\":\"v\",\"showlegend\":true,\"x\":[-29.479463577270508,25.5595703125,26.15544891357422,20.361358642578125,-13.000082969665527],\"xaxis\":\"x\",\"y\":[-10.036349296569824,-46.403541564941406,20.33979034423828,48.594017028808594,17.08344078063965],\"yaxis\":\"y\",\"type\":\"scatter\"},{\"hovertemplate\":\"entity=nan\\u003cbr\\u003e0=%{x}\\u003cbr\\u003e1=%{y}\\u003cextra\\u003e\\u003c\\u002fextra\\u003e\",\"legendgroup\":\"nan\",\"marker\":{\"color\":\"#00cc96\",\"opacity\":1,\"symbol\":\"circle\"},\"mode\":\"markers\",\"name\":\"nan\",\"orientation\":\"v\",\"showlegend\":true,\"x\":[9.78542423248291,25.733930587768555,20.73961639404297,1.900258183479309],\"xaxis\":\"x\",\"y\":[-5.455229759216309,19.4770450592041,49.07722473144531,56.24620056152344],\"yaxis\":\"y\",\"type\":\"scatter\"},{\"hovertemplate\":\"entity=ATRT\\u003cbr\\u003e0=%{x}\\u003cbr\\u003e1=%{y}\\u003cextra\\u003e\\u003c\\u002fextra\\u003e\",\"legendgroup\":\"ATRT\",\"marker\":{\"color\":\"#ab63fa\",\"opacity\":1,\"symbol\":\"circle\"},\"mode\":\"markers\",\"name\":\"ATRT\",\"orientation\":\"v\",\"showlegend\":true,\"x\":[32.79029083251953],\"xaxis\":\"x\",\"y\":[58.1129264831543],\"yaxis\":\"y\",\"type\":\"scatter\"},{\"hovertemplate\":\"entity=SEGA\\u003cbr\\u003e0=%{x}\\u003cbr\\u003e1=%{y}\\u003cextra\\u003e\\u003c\\u002fextra\\u003e\",\"legendgroup\":\"SEGA\",\"marker\":{\"color\":\"#FFA15A\",\"opacity\":1,\"symbol\":\"circle\"},\"mode\":\"markers\",\"name\":\"SEGA\",\"orientation\":\"v\",\"showlegend\":true,\"x\":[33.383277893066406],\"xaxis\":\"x\",\"y\":[57.77869415283203],\"yaxis\":\"y\",\"type\":\"scatter\"},{\"hovertemplate\":\"entity=RGNT\\u003cbr\\u003e0=%{x}\\u003cbr\\u003e1=%{y}\\u003cextra\\u003e\\u003c\\u002fextra\\u003e\",\"legendgroup\":\"RGNT\",\"marker\":{\"color\":\"#19d3f3\",\"opacity\":1,\"symbol\":\"circle\"},\"mode\":\"markers\",\"name\":\"RGNT\",\"orientation\":\"v\",\"showlegend\":true,\"x\":[8.882591247558594],\"xaxis\":\"x\",\"y\":[26.862468719482422],\"yaxis\":\"y\",\"type\":\"scatter\"},{\"hovertemplate\":\"entity=EPENDYMOM\\u003cbr\\u003e0=%{x}\\u003cbr\\u003e1=%{y}\\u003cextra\\u003e\\u003c\\u002fextra\\u003e\",\"legendgroup\":\"EPENDYMOM\",\"marker\":{\"color\":\"#FF6692\",\"opacity\":1,\"symbol\":\"circle\"},\"mode\":\"markers\",\"name\":\"EPENDYMOM\",\"orientation\":\"v\",\"showlegend\":true,\"x\":[-1.829217791557312],\"xaxis\":\"x\",\"y\":[-16.750587463378906],\"yaxis\":\"y\",\"type\":\"scatter\"},{\"hovertemplate\":\"entity=DIGDIA\\u003cbr\\u003e0=%{x}\\u003cbr\\u003e1=%{y}\\u003cextra\\u003e\\u003c\\u002fextra\\u003e\",\"legendgroup\":\"DIGDIA\",\"marker\":{\"color\":\"#B6E880\",\"opacity\":1,\"symbol\":\"circle\"},\"mode\":\"markers\",\"name\":\"DIGDIA\",\"orientation\":\"v\",\"showlegend\":true,\"x\":[-28.09654998779297,10.586779594421387],\"xaxis\":\"x\",\"y\":[-10.949846267700195,-6.2569756507873535],\"yaxis\":\"y\",\"type\":\"scatter\"},{\"hovertemplate\":\"entity=LGG_NOS\\u003cbr\\u003e0=%{x}\\u003cbr\\u003e1=%{y}\\u003cextra\\u003e\\u003c\\u002fextra\\u003e\",\"legendgroup\":\"LGG_NOS\",\"marker\":{\"color\":\"#FF97FF\",\"opacity\":1,\"symbol\":\"circle\"},\"mode\":\"markers\",\"name\":\"LGG_NOS\",\"orientation\":\"v\",\"showlegend\":true,\"x\":[28.00008201599121,27.19413185119629,118.05073547363281,27.20294952392578,-13.019950866699219,-12.436274528503418,-1.477898120880127,-1.8451341390609741],\"xaxis\":\"x\",\"y\":[20.0192813873291,20.50916290283203,-68.48822784423828,21.097999572753906,15.510489463806152,-53.352359771728516,-15.542572021484375,-16.076854705810547],\"yaxis\":\"y\",\"type\":\"scatter\"},{\"hovertemplate\":\"entity=PLNTY\\u003cbr\\u003e0=%{x}\\u003cbr\\u003e1=%{y}\\u003cextra\\u003e\\u003c\\u002fextra\\u003e\",\"legendgroup\":\"PLNTY\",\"marker\":{\"color\":\"#FECB52\",\"opacity\":1,\"symbol\":\"circle\"},\"mode\":\"markers\",\"name\":\"PLNTY\",\"orientation\":\"v\",\"showlegend\":true,\"x\":[25.748491287231445],\"xaxis\":\"x\",\"y\":[-45.55400466918945],\"yaxis\":\"y\",\"type\":\"scatter\"},{\"hovertemplate\":\"entity=DLGNT\\u003cbr\\u003e0=%{x}\\u003cbr\\u003e1=%{y}\\u003cextra\\u003e\\u003c\\u002fextra\\u003e\",\"legendgroup\":\"DLGNT\",\"marker\":{\"color\":\"#636efa\",\"opacity\":1,\"symbol\":\"circle\"},\"mode\":\"markers\",\"name\":\"DLGNT\",\"orientation\":\"v\",\"showlegend\":true,\"x\":[28.096813201904297],\"xaxis\":\"x\",\"y\":[20.779088973999023],\"yaxis\":\"y\",\"type\":\"scatter\"},{\"hovertemplate\":\"entity=GG\\u003cbr\\u003e0=%{x}\\u003cbr\\u003e1=%{y}\\u003cextra\\u003e\\u003c\\u002fextra\\u003e\",\"legendgroup\":\"GG\",\"marker\":{\"color\":\"#EF553B\",\"opacity\":1,\"symbol\":\"circle\"},\"mode\":\"markers\",\"name\":\"GG\",\"orientation\":\"v\",\"showlegend\":true,\"x\":[27.849159240722656,118.40038299560547,19.288299560546875,-12.910451889038086,-1.465096116065979],\"xaxis\":\"x\",\"y\":[21.954418182373047,-68.13858032226562,-14.104341506958008,48.15899658203125,-17.2372989654541],\"yaxis\":\"y\",\"type\":\"scatter\"},{\"hovertemplate\":\"entity=MEDULLO_WNT\\u003cbr\\u003e0=%{x}\\u003cbr\\u003e1=%{y}\\u003cextra\\u003e\\u003c\\u002fextra\\u003e\",\"legendgroup\":\"MEDULLO_WNT\",\"marker\":{\"color\":\"#00cc96\",\"opacity\":1,\"symbol\":\"circle\"},\"mode\":\"markers\",\"name\":\"MEDULLO_WNT\",\"orientation\":\"v\",\"showlegend\":true,\"x\":[2.360002279281616],\"xaxis\":\"x\",\"y\":[55.81161117553711],\"yaxis\":\"y\",\"type\":\"scatter\"},{\"hovertemplate\":\"entity=GLIOM_NOS\\u003cbr\\u003e0=%{x}\\u003cbr\\u003e1=%{y}\\u003cextra\\u003e\\u003c\\u002fextra\\u003e\",\"legendgroup\":\"GLIOM_NOS\",\"marker\":{\"color\":\"#ab63fa\",\"opacity\":1,\"symbol\":\"circle\"},\"mode\":\"markers\",\"name\":\"GLIOM_NOS\",\"orientation\":\"v\",\"showlegend\":true,\"x\":[-12.43805980682373],\"xaxis\":\"x\",\"y\":[15.965898513793945],\"yaxis\":\"y\",\"type\":\"scatter\"},{\"hovertemplate\":\"entity=G34\\u003cbr\\u003e0=%{x}\\u003cbr\\u003e1=%{y}\\u003cextra\\u003e\\u003c\\u002fextra\\u003e\",\"legendgroup\":\"G34\",\"marker\":{\"color\":\"#FFA15A\",\"opacity\":1,\"symbol\":\"circle\"},\"mode\":\"markers\",\"name\":\"G34\",\"orientation\":\"v\",\"showlegend\":true,\"x\":[19.66159439086914],\"xaxis\":\"x\",\"y\":[-14.475652694702148],\"yaxis\":\"y\",\"type\":\"scatter\"},{\"hovertemplate\":\"entity=ETMR\\u003cbr\\u003e0=%{x}\\u003cbr\\u003e1=%{y}\\u003cextra\\u003e\\u003c\\u002fextra\\u003e\",\"legendgroup\":\"ETMR\",\"marker\":{\"color\":\"#19d3f3\",\"opacity\":1,\"symbol\":\"circle\"},\"mode\":\"markers\",\"name\":\"ETMR\",\"orientation\":\"v\",\"showlegend\":true,\"x\":[-12.067221641540527],\"xaxis\":\"x\",\"y\":[15.40841293334961],\"yaxis\":\"y\",\"type\":\"scatter\"},{\"hovertemplate\":\"entity=ASTRO_LOW\\u003cbr\\u003e0=%{x}\\u003cbr\\u003e1=%{y}\\u003cextra\\u003e\\u003c\\u002fextra\\u003e\",\"legendgroup\":\"ASTRO_LOW\",\"marker\":{\"color\":\"#FF6692\",\"opacity\":1,\"symbol\":\"circle\"},\"mode\":\"markers\",\"name\":\"ASTRO_LOW\",\"orientation\":\"v\",\"showlegend\":true,\"x\":[-12.50830364227295],\"xaxis\":\"x\",\"y\":[16.705080032348633],\"yaxis\":\"y\",\"type\":\"scatter\"},{\"hovertemplate\":\"entity=DNT\\u003cbr\\u003e0=%{x}\\u003cbr\\u003e1=%{y}\\u003cextra\\u003e\\u003c\\u002fextra\\u003e\",\"legendgroup\":\"DNT\",\"marker\":{\"color\":\"#B6E880\",\"opacity\":1,\"symbol\":\"circle\"},\"mode\":\"markers\",\"name\":\"DNT\",\"orientation\":\"v\",\"showlegend\":true,\"x\":[-11.712166786193848],\"xaxis\":\"x\",\"y\":[-52.628456115722656],\"yaxis\":\"y\",\"type\":\"scatter\"},{\"hovertemplate\":\"entity=DIFFUSES_ASTRO_MYB\\u002fMYBL1\\u003cbr\\u003e0=%{x}\\u003cbr\\u003e1=%{y}\\u003cextra\\u003e\\u003c\\u002fextra\\u003e\",\"legendgroup\":\"DIFFUSES_ASTRO_MYB\\u002fMYBL1\",\"marker\":{\"color\":\"#FF97FF\",\"opacity\":1,\"symbol\":\"circle\"},\"mode\":\"markers\",\"name\":\"DIFFUSES_ASTRO_MYB\\u002fMYBL1\",\"orientation\":\"v\",\"showlegend\":true,\"x\":[9.188254356384277],\"xaxis\":\"x\",\"y\":[26.557092666625977],\"yaxis\":\"y\",\"type\":\"scatter\"}],                        {\"template\":{\"data\":{\"histogram2dcontour\":[{\"type\":\"histogram2dcontour\",\"colorbar\":{\"outlinewidth\":0,\"ticks\":\"\"},\"colorscale\":[[0.0,\"#0d0887\"],[0.1111111111111111,\"#46039f\"],[0.2222222222222222,\"#7201a8\"],[0.3333333333333333,\"#9c179e\"],[0.4444444444444444,\"#bd3786\"],[0.5555555555555556,\"#d8576b\"],[0.6666666666666666,\"#ed7953\"],[0.7777777777777778,\"#fb9f3a\"],[0.8888888888888888,\"#fdca26\"],[1.0,\"#f0f921\"]]}],\"choropleth\":[{\"type\":\"choropleth\",\"colorbar\":{\"outlinewidth\":0,\"ticks\":\"\"}}],\"histogram2d\":[{\"type\":\"histogram2d\",\"colorbar\":{\"outlinewidth\":0,\"ticks\":\"\"},\"colorscale\":[[0.0,\"#0d0887\"],[0.1111111111111111,\"#46039f\"],[0.2222222222222222,\"#7201a8\"],[0.3333333333333333,\"#9c179e\"],[0.4444444444444444,\"#bd3786\"],[0.5555555555555556,\"#d8576b\"],[0.6666666666666666,\"#ed7953\"],[0.7777777777777778,\"#fb9f3a\"],[0.8888888888888888,\"#fdca26\"],[1.0,\"#f0f921\"]]}],\"heatmap\":[{\"type\":\"heatmap\",\"colorbar\":{\"outlinewidth\":0,\"ticks\":\"\"},\"colorscale\":[[0.0,\"#0d0887\"],[0.1111111111111111,\"#46039f\"],[0.2222222222222222,\"#7201a8\"],[0.3333333333333333,\"#9c179e\"],[0.4444444444444444,\"#bd3786\"],[0.5555555555555556,\"#d8576b\"],[0.6666666666666666,\"#ed7953\"],[0.7777777777777778,\"#fb9f3a\"],[0.8888888888888888,\"#fdca26\"],[1.0,\"#f0f921\"]]}],\"heatmapgl\":[{\"type\":\"heatmapgl\",\"colorbar\":{\"outlinewidth\":0,\"ticks\":\"\"},\"colorscale\":[[0.0,\"#0d0887\"],[0.1111111111111111,\"#46039f\"],[0.2222222222222222,\"#7201a8\"],[0.3333333333333333,\"#9c179e\"],[0.4444444444444444,\"#bd3786\"],[0.5555555555555556,\"#d8576b\"],[0.6666666666666666,\"#ed7953\"],[0.7777777777777778,\"#fb9f3a\"],[0.8888888888888888,\"#fdca26\"],[1.0,\"#f0f921\"]]}],\"contourcarpet\":[{\"type\":\"contourcarpet\",\"colorbar\":{\"outlinewidth\":0,\"ticks\":\"\"}}],\"contour\":[{\"type\":\"contour\",\"colorbar\":{\"outlinewidth\":0,\"ticks\":\"\"},\"colorscale\":[[0.0,\"#0d0887\"],[0.1111111111111111,\"#46039f\"],[0.2222222222222222,\"#7201a8\"],[0.3333333333333333,\"#9c179e\"],[0.4444444444444444,\"#bd3786\"],[0.5555555555555556,\"#d8576b\"],[0.6666666666666666,\"#ed7953\"],[0.7777777777777778,\"#fb9f3a\"],[0.8888888888888888,\"#fdca26\"],[1.0,\"#f0f921\"]]}],\"surface\":[{\"type\":\"surface\",\"colorbar\":{\"outlinewidth\":0,\"ticks\":\"\"},\"colorscale\":[[0.0,\"#0d0887\"],[0.1111111111111111,\"#46039f\"],[0.2222222222222222,\"#7201a8\"],[0.3333333333333333,\"#9c179e\"],[0.4444444444444444,\"#bd3786\"],[0.5555555555555556,\"#d8576b\"],[0.6666666666666666,\"#ed7953\"],[0.7777777777777778,\"#fb9f3a\"],[0.8888888888888888,\"#fdca26\"],[1.0,\"#f0f921\"]]}],\"mesh3d\":[{\"type\":\"mesh3d\",\"colorbar\":{\"outlinewidth\":0,\"ticks\":\"\"}}],\"scatter\":[{\"fillpattern\":{\"fillmode\":\"overlay\",\"size\":10,\"solidity\":0.2},\"type\":\"scatter\"}],\"parcoords\":[{\"type\":\"parcoords\",\"line\":{\"colorbar\":{\"outlinewidth\":0,\"ticks\":\"\"}}}],\"scatterpolargl\":[{\"type\":\"scatterpolargl\",\"marker\":{\"colorbar\":{\"outlinewidth\":0,\"ticks\":\"\"}}}],\"bar\":[{\"error_x\":{\"color\":\"#2a3f5f\"},\"error_y\":{\"color\":\"#2a3f5f\"},\"marker\":{\"line\":{\"color\":\"#E5ECF6\",\"width\":0.5},\"pattern\":{\"fillmode\":\"overlay\",\"size\":10,\"solidity\":0.2}},\"type\":\"bar\"}],\"scattergeo\":[{\"type\":\"scattergeo\",\"marker\":{\"colorbar\":{\"outlinewidth\":0,\"ticks\":\"\"}}}],\"scatterpolar\":[{\"type\":\"scatterpolar\",\"marker\":{\"colorbar\":{\"outlinewidth\":0,\"ticks\":\"\"}}}],\"histogram\":[{\"marker\":{\"pattern\":{\"fillmode\":\"overlay\",\"size\":10,\"solidity\":0.2}},\"type\":\"histogram\"}],\"scattergl\":[{\"type\":\"scattergl\",\"marker\":{\"colorbar\":{\"outlinewidth\":0,\"ticks\":\"\"}}}],\"scatter3d\":[{\"type\":\"scatter3d\",\"line\":{\"colorbar\":{\"outlinewidth\":0,\"ticks\":\"\"}},\"marker\":{\"colorbar\":{\"outlinewidth\":0,\"ticks\":\"\"}}}],\"scattermapbox\":[{\"type\":\"scattermapbox\",\"marker\":{\"colorbar\":{\"outlinewidth\":0,\"ticks\":\"\"}}}],\"scatterternary\":[{\"type\":\"scatterternary\",\"marker\":{\"colorbar\":{\"outlinewidth\":0,\"ticks\":\"\"}}}],\"scattercarpet\":[{\"type\":\"scattercarpet\",\"marker\":{\"colorbar\":{\"outlinewidth\":0,\"ticks\":\"\"}}}],\"carpet\":[{\"aaxis\":{\"endlinecolor\":\"#2a3f5f\",\"gridcolor\":\"white\",\"linecolor\":\"white\",\"minorgridcolor\":\"white\",\"startlinecolor\":\"#2a3f5f\"},\"baxis\":{\"endlinecolor\":\"#2a3f5f\",\"gridcolor\":\"white\",\"linecolor\":\"white\",\"minorgridcolor\":\"white\",\"startlinecolor\":\"#2a3f5f\"},\"type\":\"carpet\"}],\"table\":[{\"cells\":{\"fill\":{\"color\":\"#EBF0F8\"},\"line\":{\"color\":\"white\"}},\"header\":{\"fill\":{\"color\":\"#C8D4E3\"},\"line\":{\"color\":\"white\"}},\"type\":\"table\"}],\"barpolar\":[{\"marker\":{\"line\":{\"color\":\"#E5ECF6\",\"width\":0.5},\"pattern\":{\"fillmode\":\"overlay\",\"size\":10,\"solidity\":0.2}},\"type\":\"barpolar\"}],\"pie\":[{\"automargin\":true,\"type\":\"pie\"}]},\"layout\":{\"autotypenumbers\":\"strict\",\"colorway\":[\"#636efa\",\"#EF553B\",\"#00cc96\",\"#ab63fa\",\"#FFA15A\",\"#19d3f3\",\"#FF6692\",\"#B6E880\",\"#FF97FF\",\"#FECB52\"],\"font\":{\"color\":\"#2a3f5f\"},\"hovermode\":\"closest\",\"hoverlabel\":{\"align\":\"left\"},\"paper_bgcolor\":\"white\",\"plot_bgcolor\":\"#E5ECF6\",\"polar\":{\"bgcolor\":\"#E5ECF6\",\"angularaxis\":{\"gridcolor\":\"white\",\"linecolor\":\"white\",\"ticks\":\"\"},\"radialaxis\":{\"gridcolor\":\"white\",\"linecolor\":\"white\",\"ticks\":\"\"}},\"ternary\":{\"bgcolor\":\"#E5ECF6\",\"aaxis\":{\"gridcolor\":\"white\",\"linecolor\":\"white\",\"ticks\":\"\"},\"baxis\":{\"gridcolor\":\"white\",\"linecolor\":\"white\",\"ticks\":\"\"},\"caxis\":{\"gridcolor\":\"white\",\"linecolor\":\"white\",\"ticks\":\"\"}},\"coloraxis\":{\"colorbar\":{\"outlinewidth\":0,\"ticks\":\"\"}},\"colorscale\":{\"sequential\":[[0.0,\"#0d0887\"],[0.1111111111111111,\"#46039f\"],[0.2222222222222222,\"#7201a8\"],[0.3333333333333333,\"#9c179e\"],[0.4444444444444444,\"#bd3786\"],[0.5555555555555556,\"#d8576b\"],[0.6666666666666666,\"#ed7953\"],[0.7777777777777778,\"#fb9f3a\"],[0.8888888888888888,\"#fdca26\"],[1.0,\"#f0f921\"]],\"sequentialminus\":[[0.0,\"#0d0887\"],[0.1111111111111111,\"#46039f\"],[0.2222222222222222,\"#7201a8\"],[0.3333333333333333,\"#9c179e\"],[0.4444444444444444,\"#bd3786\"],[0.5555555555555556,\"#d8576b\"],[0.6666666666666666,\"#ed7953\"],[0.7777777777777778,\"#fb9f3a\"],[0.8888888888888888,\"#fdca26\"],[1.0,\"#f0f921\"]],\"diverging\":[[0,\"#8e0152\"],[0.1,\"#c51b7d\"],[0.2,\"#de77ae\"],[0.3,\"#f1b6da\"],[0.4,\"#fde0ef\"],[0.5,\"#f7f7f7\"],[0.6,\"#e6f5d0\"],[0.7,\"#b8e186\"],[0.8,\"#7fbc41\"],[0.9,\"#4d9221\"],[1,\"#276419\"]]},\"xaxis\":{\"gridcolor\":\"white\",\"linecolor\":\"white\",\"ticks\":\"\",\"title\":{\"standoff\":15},\"zerolinecolor\":\"white\",\"automargin\":true,\"zerolinewidth\":2},\"yaxis\":{\"gridcolor\":\"white\",\"linecolor\":\"white\",\"ticks\":\"\",\"title\":{\"standoff\":15},\"zerolinecolor\":\"white\",\"automargin\":true,\"zerolinewidth\":2},\"scene\":{\"xaxis\":{\"backgroundcolor\":\"#E5ECF6\",\"gridcolor\":\"white\",\"linecolor\":\"white\",\"showbackground\":true,\"ticks\":\"\",\"zerolinecolor\":\"white\",\"gridwidth\":2},\"yaxis\":{\"backgroundcolor\":\"#E5ECF6\",\"gridcolor\":\"white\",\"linecolor\":\"white\",\"showbackground\":true,\"ticks\":\"\",\"zerolinecolor\":\"white\",\"gridwidth\":2},\"zaxis\":{\"backgroundcolor\":\"#E5ECF6\",\"gridcolor\":\"white\",\"linecolor\":\"white\",\"showbackground\":true,\"ticks\":\"\",\"zerolinecolor\":\"white\",\"gridwidth\":2}},\"shapedefaults\":{\"line\":{\"color\":\"#2a3f5f\"}},\"annotationdefaults\":{\"arrowcolor\":\"#2a3f5f\",\"arrowhead\":0,\"arrowwidth\":1},\"geo\":{\"bgcolor\":\"white\",\"landcolor\":\"#E5ECF6\",\"subunitcolor\":\"white\",\"showland\":true,\"showlakes\":true,\"lakecolor\":\"white\"},\"title\":{\"x\":0.05},\"mapbox\":{\"style\":\"light\"}}},\"xaxis\":{\"anchor\":\"y\",\"domain\":[0.0,1.0],\"title\":{\"text\":\"0\"}},\"yaxis\":{\"anchor\":\"x\",\"domain\":[0.0,1.0],\"title\":{\"text\":\"1\"}},\"legend\":{\"title\":{\"text\":\"entity\"},\"tracegroupgap\":0},\"title\":{\"text\":\"PCA components = 5, n_neighbors = 2, n_cases = 62, fold_change_threshold = 0.2\"},\"width\":1200,\"height\":800},                        {\"responsive\": true}                    ).then(function(){\n",
       "                            \n",
       "var gd = document.getElementById('5972e5f3-2620-47f8-a918-87676488bb07');\n",
       "var x = new MutationObserver(function (mutations, observer) {{\n",
       "        var display = window.getComputedStyle(gd).display;\n",
       "        if (!display || display === 'none') {{\n",
       "            console.log([gd, 'removed!']);\n",
       "            Plotly.purge(gd);\n",
       "            observer.disconnect();\n",
       "        }}\n",
       "}});\n",
       "\n",
       "// Listen for the removal of the full notebook cells\n",
       "var notebookContainer = gd.closest('#notebook-container');\n",
       "if (notebookContainer) {{\n",
       "    x.observe(notebookContainer, {childList: true});\n",
       "}}\n",
       "\n",
       "// Listen for the clearing of the current output cell\n",
       "var outputEl = gd.closest('.output');\n",
       "if (outputEl) {{\n",
       "    x.observe(outputEl, {childList: true});\n",
       "}}\n",
       "\n",
       "                        })                };                });            </script>        </div>"
      ]
     },
     "metadata": {},
     "output_type": "display_data"
    }
   ],
   "source": [
    "\n",
    "PRINCIPAL_COMPONENTS = 5\n",
    "N_NEIGHBORS = 2\n",
    "\n",
    "\n",
    "# make targets and scale the data\n",
    "x = df.loc[:,features].values\n",
    "y_entity = df.loc[:,\"entity\"].values\n",
    "y_id = df.loc[:,\"ID\"].values\n",
    "# x = StandardScaler().fit_transform(x)\n",
    "\n",
    "\n",
    "pca_denoize = PCA(n_components=PRINCIPAL_COMPONENTS)\n",
    "denoize = pca_denoize.fit_transform(x)\n",
    "print(denoize.shape)\n",
    "\n",
    "umap_2d = UMAP(n_neighbors=N_NEIGHBORS,n_epochs=5000,random_state=1,spread=2.5,min_dist=0.5,init=\"random\")\n",
    "umap_2d.fit(denoize)\n",
    "\n",
    "projections = umap_2d.transform(denoize)\n",
    "\n",
    "fig = px.scatter(\n",
    "    projections, x=0, y=1,\n",
    "    title= f'PCA components = {PRINCIPAL_COMPONENTS}, n_neighbors = {N_NEIGHBORS}, n_cases = {df.shape[0]}, fold_change_threshold = {AMPLITUDE_THRESHOLD}' ,\n",
    "    color=y_entity.astype(str), labels={'color': 'entity'},\n",
    "    opacity=1\n",
    ")\n",
    "\n",
    "fig.update_layout(width=1200, height=800)\n",
    "\n",
    "# fig2 = px.scatter(\n",
    "#     projections, x=0, y=1,\n",
    "#     title= f'PCA components = {PRINCIPAL_COMPONENTS}, n_neighbors = {N_NEIGHBORS}, n_cases = {df.shape[0]}',\n",
    "#     color=y_id.astype(str), labels={'color': 'entity'},\n",
    "#     opacity=1\n",
    "# )\n",
    "\n",
    "# fig2.update_layout(width=1200, height=800)\n",
    "\n",
    "# fig.show()\n",
    "# fig2.show()"
   ]
  },
  {
   "cell_type": "code",
   "execution_count": null,
   "id": "75080adb-4ad3-4081-8ac9-f8aa124535db",
   "metadata": {},
   "outputs": [],
   "source": []
  }
 ],
 "metadata": {
  "kernelspec": {
   "display_name": "Python 3 (ipykernel)",
   "language": "python",
   "name": "python3"
  },
  "language_info": {
   "codemirror_mode": {
    "name": "ipython",
    "version": 3
   },
   "file_extension": ".py",
   "mimetype": "text/x-python",
   "name": "python",
   "nbconvert_exporter": "python",
   "pygments_lexer": "ipython3",
   "version": "3.11.4"
  }
 },
 "nbformat": 4,
 "nbformat_minor": 5
}
