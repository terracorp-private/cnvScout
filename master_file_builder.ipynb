{
 "cells": [
  {
   "cell_type": "code",
   "execution_count": 11,
   "id": "4efd0a99-8a35-4b5b-8f24-6eaaaa5d9db9",
   "metadata": {},
   "outputs": [
    {
     "name": "stdin",
     "output_type": "stream",
     "text": [
      "which file type to use? wes/igv \n",
      " igv\n"
     ]
    },
    {
     "name": "stdout",
     "output_type": "stream",
     "text": [
      "                            0         1         2         3         4  \\\n",
      "ID                                                                      \n",
      "205828600042_R08C01 -0.062225 -0.179605 -0.072832 -0.277539 -0.228395   \n",
      "206600570023_R02C01 -0.015910 -0.120915 -0.050912 -0.215668 -0.035355   \n",
      "\n",
      "                            5         6         7         8         9  ...  \\\n",
      "ID                                                                     ...   \n",
      "205828600042_R08C01 -0.348957 -0.143543 -0.190212 -0.296278 -0.195869  ...   \n",
      "206600570023_R02C01 -0.171827 -0.027577 -0.055508 -0.151321 -0.121269  ...   \n",
      "\n",
      "                         1932      1933      1934      1935      1936  \\\n",
      "ID                                                                      \n",
      "205828600042_R08C01 -0.267993 -0.109602 -0.096874 -0.078842 -0.209304   \n",
      "206600570023_R02C01 -0.281075 -0.171473 -0.248548 -0.045962 -0.224506   \n",
      "\n",
      "                         1937      1938      1939      1940  entity  \n",
      "ID                                                                   \n",
      "205828600042_R08C01 -0.257033 -5.136424 -7.329515 -8.797115  pa_cnv  \n",
      "206600570023_R02C01 -0.194101 -0.120562 -0.311834 -0.502046  pa_cnv  \n",
      "\n",
      "[2 rows x 1942 columns]\n"
     ]
    },
    {
     "name": "stdin",
     "output_type": "stream",
     "text": [
      "do you what to save .cvs file? y/n \n",
      " y\n"
     ]
    }
   ],
   "source": [
    "import pandas as pd\n",
    "import numpy as np\n",
    "import glob\n",
    "import sys\n",
    "import pywt\n",
    "\n",
    "\n",
    "# Fins all cnv files based on entity name\n",
    "GLOB_PATH = \"/home/alpha/programs/python_files/datasets/cnv_and_mut/\"\n",
    "ENTITY_NAME = [\"gbm\",\"k27\",\"mng\",\"oligo\",\"pxa\",\"astroLow\",\"astroHigh\",\"pa\"]\n",
    "FILE_TYPE = input(\"which file type to use? wes/igv \\n\")\n",
    "\n",
    "if FILE_TYPE == \"wes\":\n",
    "    POSTFIX = \"_cnv/*.MAXDENS.segments.seg\"\n",
    "elif FILE_TYPE == \"igv\":\n",
    "    POSTFIX = \"_cnv/*.bins.igv\"\n",
    "\n",
    "# add all paths to a list\n",
    "ENTITY_NAME_PATH = []\n",
    "for entity in ENTITY_NAME:\n",
    "    entityPath = glob.glob(GLOB_PATH + entity + POSTFIX)\n",
    "    ENTITY_NAME_PATH.extend(entityPath)\n",
    "\n",
    "# read the files into a dataframe\n",
    "df_cnv = pd.DataFrame()\n",
    "for entity in ENTITY_NAME_PATH:\n",
    "    if FILE_TYPE == \"seg\":\n",
    "        file = pd.read_csv(entity,sep=\"\\t\",header=0,names=[\"ID\",\"chr\",\"start\",\"end\",\"mark\",\"bstat\",\"pval\",\"seg_mean\",\"seg_median\",\"alteration\"])\n",
    "        file[\"entity\"] = entity.split(\"/\")[-2]\n",
    "        file[\"chr\"] = file[\"chr\"].replace(regex=r'[a-z]',value = '')\n",
    "        file[\"chr\"] = file[\"chr\"].replace(regex=[r\"X\",\"Y\"],value=[23,24])\n",
    "        file[\"chr\"] = file[\"chr\"].astype(\"int\")\n",
    "    elif FILE_TYPE == \"igv\":\n",
    "        file = pd.read_csv(entity,sep=\"\\t\",header=0,names=[\"chr\",\"start\",\"end\",\"feature\",\"value\"])\n",
    "        file = file[[\"feature\",file.columns.tolist()[-1]]]\n",
    "        file = file.set_index(\"feature\")\n",
    "        # file[\"value\"] = 2*((file[\"value\"]-file[\"value\"].min())/(file[\"value\"].max()-file[\"value\"].min()))-1\n",
    "        # file[\"value\"] = (file[\"value\"]-file[\"value\"].mean())/file[\"value\"].std()\n",
    "        decomp_function = pd.Series(pywt.wavedec(file[\"value\"], 'db1', level=3)[0])\n",
    "        decomp_function = decomp_function.to_frame()\n",
    "        decomp_function = decomp_function.T\n",
    "        # extract the entity name from the path\n",
    "        decomp_function[\"entity\"] = entity.split(\"/\")[-2] \n",
    "        # extract the ID from the path\n",
    "        decomp_function[\"ID\"] = entity.split(\"/\")[-1].split(\".\")[0]\n",
    "        # print(decomp_function.shape,decomp_function)\n",
    "        # print(len(decomp_function))\n",
    "        # 3883\n",
    "        if decomp_function.shape == (1,1943):\n",
    "            df_cnv = pd.concat([df_cnv,decomp_function])\n",
    "\n",
    "df_cnv = df_cnv.set_index(\"ID\")   \n",
    "print(df_cnv.tail(2))\n",
    "\n",
    "answer = input(\"do you what to save .cvs file? y/n \\n\")\n",
    "if answer == \"y\":\n",
    "    df_cnv.to_csv(GLOB_PATH + \"entities_transformed.csv\")\n",
    "else:\n",
    "    print(\"exiting program\")"
   ]
  },
  {
   "cell_type": "code",
   "execution_count": 71,
   "id": "d563ab6f-384d-456e-8894-a00a55d768d1",
   "metadata": {},
   "outputs": [
    {
     "ename": "ValueError",
     "evalue": "Value of 'x' is not the name of a column in 'data_frame'. Expected one of ['ID', 'chrom', 'loc.start', 'loc.end', 'num.mark', 'bstat', 'pval', 'seg.mean', 'seg.median', 'alteration'] but received: 84",
     "output_type": "error",
     "traceback": [
      "\u001b[0;31m---------------------------------------------------------------------------\u001b[0m",
      "\u001b[0;31mValueError\u001b[0m                                Traceback (most recent call last)",
      "Cell \u001b[0;32mIn[71], line 2\u001b[0m\n\u001b[1;32m      1\u001b[0m \u001b[38;5;66;03m# plot cnv\u001b[39;00m\n\u001b[0;32m----> 2\u001b[0m fig \u001b[38;5;241m=\u001b[39m px\u001b[38;5;241m.\u001b[39mscatter(\n\u001b[1;32m      3\u001b[0m     df2, x\u001b[38;5;241m=\u001b[39mx2, y\u001b[38;5;241m=\u001b[39my2, color\u001b[38;5;241m=\u001b[39m\u001b[38;5;124m\"\u001b[39m\u001b[38;5;124mchrom\u001b[39m\u001b[38;5;124m\"\u001b[39m, color_continuous_scale\u001b[38;5;241m=\u001b[39m\u001b[38;5;124m\"\u001b[39m\u001b[38;5;124mrdylgn\u001b[39m\u001b[38;5;124m\"\u001b[39m\n\u001b[1;32m      4\u001b[0m )\n\u001b[1;32m      6\u001b[0m fig\u001b[38;5;241m.\u001b[39mupdate_traces(marker_size\u001b[38;5;241m=\u001b[39m\u001b[38;5;241m3\u001b[39m)\n\u001b[1;32m      7\u001b[0m fig\u001b[38;5;241m.\u001b[39mupdate_layout(width\u001b[38;5;241m=\u001b[39m\u001b[38;5;241m1500\u001b[39m, height\u001b[38;5;241m=\u001b[39m\u001b[38;5;241m800\u001b[39m)\n",
      "File \u001b[0;32m~/miniconda3/envs/science/lib/python3.11/site-packages/plotly/express/_chart_types.py:66\u001b[0m, in \u001b[0;36mscatter\u001b[0;34m(data_frame, x, y, color, symbol, size, hover_name, hover_data, custom_data, text, facet_row, facet_col, facet_col_wrap, facet_row_spacing, facet_col_spacing, error_x, error_x_minus, error_y, error_y_minus, animation_frame, animation_group, category_orders, labels, orientation, color_discrete_sequence, color_discrete_map, color_continuous_scale, range_color, color_continuous_midpoint, symbol_sequence, symbol_map, opacity, size_max, marginal_x, marginal_y, trendline, trendline_options, trendline_color_override, trendline_scope, log_x, log_y, range_x, range_y, render_mode, title, template, width, height)\u001b[0m\n\u001b[1;32m     12\u001b[0m \u001b[38;5;28;01mdef\u001b[39;00m \u001b[38;5;21mscatter\u001b[39m(\n\u001b[1;32m     13\u001b[0m     data_frame\u001b[38;5;241m=\u001b[39m\u001b[38;5;28;01mNone\u001b[39;00m,\n\u001b[1;32m     14\u001b[0m     x\u001b[38;5;241m=\u001b[39m\u001b[38;5;28;01mNone\u001b[39;00m,\n\u001b[0;32m   (...)\u001b[0m\n\u001b[1;32m     60\u001b[0m     height\u001b[38;5;241m=\u001b[39m\u001b[38;5;28;01mNone\u001b[39;00m,\n\u001b[1;32m     61\u001b[0m ) \u001b[38;5;241m-\u001b[39m\u001b[38;5;241m>\u001b[39m go\u001b[38;5;241m.\u001b[39mFigure:\n\u001b[1;32m     62\u001b[0m     \u001b[38;5;124;03m\"\"\"\u001b[39;00m\n\u001b[1;32m     63\u001b[0m \u001b[38;5;124;03m    In a scatter plot, each row of `data_frame` is represented by a symbol\u001b[39;00m\n\u001b[1;32m     64\u001b[0m \u001b[38;5;124;03m    mark in 2D space.\u001b[39;00m\n\u001b[1;32m     65\u001b[0m \u001b[38;5;124;03m    \"\"\"\u001b[39;00m\n\u001b[0;32m---> 66\u001b[0m     \u001b[38;5;28;01mreturn\u001b[39;00m make_figure(args\u001b[38;5;241m=\u001b[39m\u001b[38;5;28mlocals\u001b[39m(), constructor\u001b[38;5;241m=\u001b[39mgo\u001b[38;5;241m.\u001b[39mScatter)\n",
      "File \u001b[0;32m~/miniconda3/envs/science/lib/python3.11/site-packages/plotly/express/_core.py:2076\u001b[0m, in \u001b[0;36mmake_figure\u001b[0;34m(args, constructor, trace_patch, layout_patch)\u001b[0m\n\u001b[1;32m   2073\u001b[0m layout_patch \u001b[38;5;241m=\u001b[39m layout_patch \u001b[38;5;129;01mor\u001b[39;00m {}\n\u001b[1;32m   2074\u001b[0m apply_default_cascade(args)\n\u001b[0;32m-> 2076\u001b[0m args \u001b[38;5;241m=\u001b[39m build_dataframe(args, constructor)\n\u001b[1;32m   2077\u001b[0m \u001b[38;5;28;01mif\u001b[39;00m constructor \u001b[38;5;129;01min\u001b[39;00m [go\u001b[38;5;241m.\u001b[39mTreemap, go\u001b[38;5;241m.\u001b[39mSunburst, go\u001b[38;5;241m.\u001b[39mIcicle] \u001b[38;5;129;01mand\u001b[39;00m args[\u001b[38;5;124m\"\u001b[39m\u001b[38;5;124mpath\u001b[39m\u001b[38;5;124m\"\u001b[39m] \u001b[38;5;129;01mis\u001b[39;00m \u001b[38;5;129;01mnot\u001b[39;00m \u001b[38;5;28;01mNone\u001b[39;00m:\n\u001b[1;32m   2078\u001b[0m     args \u001b[38;5;241m=\u001b[39m process_dataframe_hierarchy(args)\n",
      "File \u001b[0;32m~/miniconda3/envs/science/lib/python3.11/site-packages/plotly/express/_core.py:1485\u001b[0m, in \u001b[0;36mbuild_dataframe\u001b[0;34m(args, constructor)\u001b[0m\n\u001b[1;32m   1482\u001b[0m     args[\u001b[38;5;124m\"\u001b[39m\u001b[38;5;124mcolor\u001b[39m\u001b[38;5;124m\"\u001b[39m] \u001b[38;5;241m=\u001b[39m \u001b[38;5;28;01mNone\u001b[39;00m\n\u001b[1;32m   1483\u001b[0m \u001b[38;5;66;03m# now that things have been prepped, we do the systematic rewriting of `args`\u001b[39;00m\n\u001b[0;32m-> 1485\u001b[0m df_output, wide_id_vars \u001b[38;5;241m=\u001b[39m process_args_into_dataframe(\n\u001b[1;32m   1486\u001b[0m     args, wide_mode, var_name, value_name\n\u001b[1;32m   1487\u001b[0m )\n\u001b[1;32m   1489\u001b[0m \u001b[38;5;66;03m# now that `df_output` exists and `args` contains only references, we complete\u001b[39;00m\n\u001b[1;32m   1490\u001b[0m \u001b[38;5;66;03m# the special-case and wide-mode handling by further rewriting args and/or mutating\u001b[39;00m\n\u001b[1;32m   1491\u001b[0m \u001b[38;5;66;03m# df_output\u001b[39;00m\n\u001b[1;32m   1493\u001b[0m count_name \u001b[38;5;241m=\u001b[39m _escape_col_name(df_output, \u001b[38;5;124m\"\u001b[39m\u001b[38;5;124mcount\u001b[39m\u001b[38;5;124m\"\u001b[39m, [var_name, value_name])\n",
      "File \u001b[0;32m~/miniconda3/envs/science/lib/python3.11/site-packages/plotly/express/_core.py:1210\u001b[0m, in \u001b[0;36mprocess_args_into_dataframe\u001b[0;34m(args, wide_mode, var_name, value_name)\u001b[0m\n\u001b[1;32m   1208\u001b[0m         \u001b[38;5;28;01mif\u001b[39;00m argument \u001b[38;5;241m==\u001b[39m \u001b[38;5;124m\"\u001b[39m\u001b[38;5;124mindex\u001b[39m\u001b[38;5;124m\"\u001b[39m:\n\u001b[1;32m   1209\u001b[0m             err_msg \u001b[38;5;241m+\u001b[39m\u001b[38;5;241m=\u001b[39m \u001b[38;5;124m\"\u001b[39m\u001b[38;5;130;01m\\n\u001b[39;00m\u001b[38;5;124m To use the index, pass it in directly as `df.index`.\u001b[39m\u001b[38;5;124m\"\u001b[39m\n\u001b[0;32m-> 1210\u001b[0m         \u001b[38;5;28;01mraise\u001b[39;00m \u001b[38;5;167;01mValueError\u001b[39;00m(err_msg)\n\u001b[1;32m   1211\u001b[0m \u001b[38;5;28;01melif\u001b[39;00m length \u001b[38;5;129;01mand\u001b[39;00m \u001b[38;5;28mlen\u001b[39m(df_input[argument]) \u001b[38;5;241m!=\u001b[39m length:\n\u001b[1;32m   1212\u001b[0m     \u001b[38;5;28;01mraise\u001b[39;00m \u001b[38;5;167;01mValueError\u001b[39;00m(\n\u001b[1;32m   1213\u001b[0m         \u001b[38;5;124m\"\u001b[39m\u001b[38;5;124mAll arguments should have the same length. \u001b[39m\u001b[38;5;124m\"\u001b[39m\n\u001b[1;32m   1214\u001b[0m         \u001b[38;5;124m\"\u001b[39m\u001b[38;5;124mThe length of column argument `df[\u001b[39m\u001b[38;5;132;01m%s\u001b[39;00m\u001b[38;5;124m]` is \u001b[39m\u001b[38;5;132;01m%d\u001b[39;00m\u001b[38;5;124m, whereas the \u001b[39m\u001b[38;5;124m\"\u001b[39m\n\u001b[0;32m   (...)\u001b[0m\n\u001b[1;32m   1221\u001b[0m         )\n\u001b[1;32m   1222\u001b[0m     )\n",
      "\u001b[0;31mValueError\u001b[0m: Value of 'x' is not the name of a column in 'data_frame'. Expected one of ['ID', 'chrom', 'loc.start', 'loc.end', 'num.mark', 'bstat', 'pval', 'seg.mean', 'seg.median', 'alteration'] but received: 84"
     ]
    }
   ],
   "source": [
    "# plot cnv\n",
    "fig = px.scatter(\n",
    "    df2, x=x2, y=y2, color=\"chrom\", color_continuous_scale=\"rdylgn\"\n",
    ")\n",
    "\n",
    "fig.update_traces(marker_size=3)\n",
    "fig.update_layout(width=1500, height=800)\n",
    "\n",
    "fig.show()"
   ]
  },
  {
   "cell_type": "code",
   "execution_count": null,
   "id": "7cb2307e-f86f-49bf-bde4-d2a887871f27",
   "metadata": {},
   "outputs": [],
   "source": []
  }
 ],
 "metadata": {
  "kernelspec": {
   "display_name": "Python 3 (ipykernel)",
   "language": "python",
   "name": "python3"
  },
  "language_info": {
   "codemirror_mode": {
    "name": "ipython",
    "version": 3
   },
   "file_extension": ".py",
   "mimetype": "text/x-python",
   "name": "python",
   "nbconvert_exporter": "python",
   "pygments_lexer": "ipython3",
   "version": "3.11.4"
  }
 },
 "nbformat": 4,
 "nbformat_minor": 5
}
